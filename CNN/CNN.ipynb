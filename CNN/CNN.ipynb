{
 "cells": [
  {
   "cell_type": "markdown",
   "id": "71113838",
   "metadata": {},
   "source": [
    "# CUDA LAB - Convolutional Neural Networks"
   ]
  },
  {
   "cell_type": "markdown",
   "id": "e0575349",
   "metadata": {},
   "source": [
    "# Required Libraries"
   ]
  },
  {
   "cell_type": "code",
   "execution_count": 56,
   "id": "de9fc0c3",
   "metadata": {},
   "outputs": [],
   "source": [
    "import scipy\n",
    "import torch\n",
    "import numpy as np\n",
    "import torch.nn as nn\n",
    "import torch.nn.functional as F\n",
    "from tqdm import tqdm\n",
    "import torchvision.transforms as transforms\n",
    "import torchvision.datasets as dsets\n",
    "import random as rand\n",
    "%matplotlib inline\n",
    "import matplotlib.pyplot as plt\n",
    "import seaborn as sns\n",
    "import pandas as pd\n",
    "from sklearn.metrics import confusion_matrix\n",
    "\n",
    "import time"
   ]
  },
  {
   "cell_type": "markdown",
   "id": "c927f156",
   "metadata": {},
   "source": [
    "# Required Dataset"
   ]
  },
  {
   "cell_type": "code",
   "execution_count": 2,
   "id": "b0da3965",
   "metadata": {},
   "outputs": [
    {
     "name": "stdout",
     "output_type": "stream",
     "text": [
      "Using downloaded and verified file: data\\train_32x32.mat\n",
      "Using downloaded and verified file: data\\test_32x32.mat\n",
      "Dataset SVHN\n",
      "    Number of datapoints: 73257\n",
      "    Root location: data\n",
      "    Split: train\n",
      "    StandardTransform\n",
      "Transform: ToTensor()\n",
      "Dataset SVHN\n",
      "    Number of datapoints: 26032\n",
      "    Root location: data\n",
      "    Split: test\n",
      "    StandardTransform\n",
      "Transform: ToTensor()\n"
     ]
    }
   ],
   "source": [
    "train_dataset = dsets.SVHN(root='data', split = \"train\", transform=transforms.ToTensor(), download=True)\n",
    "test_dataset = dsets.SVHN(root='data', split = \"test\", transform=transforms.ToTensor(), download=True)\n",
    "#extra_train_dataset = dsets.SVHN(root='data', split = \"extra\", transform=transforms.ToTensor(), download=True)\n",
    "\n",
    "print(train_dataset)\n",
    "print(test_dataset)\n",
    "#print(extra_train_dataset)"
   ]
  },
  {
   "cell_type": "markdown",
   "id": "5a7f22fc",
   "metadata": {},
   "source": [
    "# Observations made from the experiments below are written here"
   ]
  },
  {
   "cell_type": "markdown",
   "id": "514a2f4e",
   "metadata": {},
   "source": [
    "### 1) Using a simple CNN over the last sheet's one layer logistic regression model wasa uge improvment. Infact, the simple neural net model failed terribly for the SVHN dataset.\n",
    "### 2) A simple CNN gave a high accuracy of around 87.5 percent. The in and out channels were changed, the number of layers were changed but the original 2 conv layer model gave better results which is used below.\n",
    "### 3) In a simple CNN Without Regularzation the accuracy was same and usually more but the model fitted early and started oscillating and overfitting started on.\n",
    "### 4) As will be evident in the plots below, L1 and L2 regularization may not give better acuuracy but the plots of accuracy and loss were comparatively smoother than simple CNN.\n",
    "### 5) Elastic regularzation gave the best accuracy, sometimes over 88% and it had positives from both L1 and L2 regularization.\n",
    "### 6) Dropout took more time for running the model than a simple CNN witout dropout and accuracy of CNN without dropout was more, so more experimentation was needed to get better accuracy through dropout but this particular dropout was tested on the established model.\n",
    "### 7) Average pooling gave slightly better results.\n",
    "### 8) A combination of average and max pooling was tried and it gave accuracy closer to original CNN and more than L1 and L2 regularization.\n",
    "### 9) Batch Normalzation was tried at the end which outperformed all the models and gave accuracies more than 89.5 percent sometimes.\n",
    "### 10) Some other experiments with changing activation functions, number of convolutional layers, batch size, learning rate, and changing parameters of elastic regularzation were tried but no luck there in improving accuracy."
   ]
  },
  {
   "cell_type": "code",
   "execution_count": 156,
   "id": "dde4468b",
   "metadata": {},
   "outputs": [
    {
     "name": "stdout",
     "output_type": "stream",
     "text": [
      "Batch size = 128, Learning Rate = 0.001 and number of parameters =  122626\n",
      "\n",
      "\n",
      "Simple CNN with ReLU max accuracy is  87.62292562999386\n",
      "CNN with ReLU using L1 Regularization max accuracy is  86.45129071911494\n",
      "CNN with ReLU using L2 Regularization max accuracy is  87.50384142593731\n",
      "CNN with ReLU using Elastic Regularization max accuracy is  87.9917025199754\n",
      "CNN with ReLU using Dropout max accuracy is  84.1618008604794\n",
      "CNN with ReLU using Average Pooling max accuracy is  87.91103257529194\n",
      "CNN with ReLU using combination of Maximum and Average Pooling max accuracy is  87.52688998156115\n"
     ]
    }
   ],
   "source": [
    "print(\"Batch size = 128, Learning Rate = 0.001 and number of parameters = \",super_num[0])\n",
    "print(\"\\n\")\n",
    "for i in range(len(super_names)):\n",
    "    print(super_names[i],\"max accuracy is \",max(df_acc[i]))"
   ]
  },
  {
   "cell_type": "markdown",
   "id": "a65dd1d0",
   "metadata": {},
   "source": [
    "# Data Preprocessing"
   ]
  },
  {
   "cell_type": "code",
   "execution_count": 3,
   "id": "4b557fe1",
   "metadata": {},
   "outputs": [
    {
     "name": "stdout",
     "output_type": "stream",
     "text": [
      "(32, 32, 3, 73257)\n",
      "(73257, 3, 32, 32)\n",
      "(73257, 1)\n"
     ]
    }
   ],
   "source": [
    "train_mat = scipy.io.loadmat(\"data/train_32x32.mat\")\n",
    "test_mat = scipy.io.loadmat(\"data/test_32x32.mat\")\n",
    "\n",
    "train_imgs = train_mat['X']\n",
    "print(train_imgs.shape)\n",
    "\n",
    "train_imgs = np.transpose(train_imgs, (3,2,0,1))\n",
    "print(train_imgs.shape)\n",
    "\n",
    "train_labels = train_mat['y']\n",
    "print(train_labels.shape)"
   ]
  },
  {
   "cell_type": "code",
   "execution_count": 4,
   "id": "1f06069b",
   "metadata": {},
   "outputs": [],
   "source": [
    "X_train = torch.Tensor(train_imgs) # transform to torch tensor\n",
    "y_train = torch.Tensor(train_labels)\n",
    "y_train = y_train.squeeze(1)\n",
    "y_train=y_train-1\n",
    "y_train = y_train.to(dtype=torch.int64)\n",
    "#https://stackoverflow.com/questions/44429199/how-to-load-a-list-of-numpy-arrays-to-pytorch-dataset-loader\n",
    "train_data = torch.utils.data.TensorDataset(X_train,y_train)"
   ]
  },
  {
   "cell_type": "code",
   "execution_count": 5,
   "id": "a0b33565",
   "metadata": {},
   "outputs": [
    {
     "name": "stdout",
     "output_type": "stream",
     "text": [
      "(32, 32, 3, 26032)\n",
      "(26032, 3, 32, 32)\n",
      "(26032, 1)\n"
     ]
    }
   ],
   "source": [
    "test_imgs = test_mat['X']\n",
    "print(test_imgs.shape)\n",
    "test_imgs = np.transpose(test_imgs, (3,2,0,1))\n",
    "print(test_imgs.shape)\n",
    "test_labels = test_mat['y']\n",
    "print(test_labels.shape)\n",
    "X_test = torch.Tensor(test_imgs) # transform to torch tensor\n",
    "y_test = torch.Tensor(test_labels)\n",
    "y_test = y_test.squeeze(1)\n",
    "y_test = y_test-1\n",
    "y_test = y_test.to(dtype=torch.int64)\n",
    "#https://stackoverflow.com/questions/44429199/how-to-load-a-list-of-numpy-arrays-to-pytorch-dataset-loader\n",
    "test_data = torch.utils.data.TensorDataset(X_test,y_test)"
   ]
  },
  {
   "cell_type": "code",
   "execution_count": 6,
   "id": "3d0bb94e",
   "metadata": {},
   "outputs": [],
   "source": [
    "# Fitting data loaders for iterating\n",
    "B_SIZE = 128\n",
    "train_loader = torch.utils.data.DataLoader(dataset=train_data, \n",
    "                                           batch_size=B_SIZE, \n",
    "                                           shuffle=True) \n",
    "B_SIZE = 128\n",
    "test_loader = torch.utils.data.DataLoader(dataset=test_data, \n",
    "                                           batch_size=B_SIZE, \n",
    "                                           shuffle=False) "
   ]
  },
  {
   "cell_type": "code",
   "execution_count": 7,
   "id": "ec09739f",
   "metadata": {},
   "outputs": [
    {
     "name": "stdout",
     "output_type": "stream",
     "text": [
      "tensor([[[[105., 103.,  98.,  ...,  98., 101., 102.],\n",
      "          [103.,  99.,  97.,  ...,  99., 101., 101.],\n",
      "          [103.,  99.,  97.,  ..., 101., 101., 102.],\n",
      "          ...,\n",
      "          [102.,  86.,  59.,  ..., 101., 104., 109.],\n",
      "          [105.,  91.,  66.,  ...,  98., 101., 107.],\n",
      "          [111., 102.,  80.,  ...,  97., 101., 103.]],\n",
      "\n",
      "         [[111., 109., 107.,  ..., 100., 103., 106.],\n",
      "          [109., 108., 106.,  ..., 100., 102., 105.],\n",
      "          [112., 108., 106.,  ..., 104., 105., 106.],\n",
      "          ...,\n",
      "          [112.,  96.,  69.,  ..., 107., 111., 115.],\n",
      "          [116., 101.,  76.,  ..., 104., 107., 113.],\n",
      "          [121., 112.,  90.,  ..., 103., 107., 112.]],\n",
      "\n",
      "         [[109., 107., 104.,  ...,  99., 102., 105.],\n",
      "          [107., 105., 105.,  ..., 102., 104., 106.],\n",
      "          [109., 107., 105.,  ..., 105., 107., 109.],\n",
      "          ...,\n",
      "          [111.,  96.,  72.,  ..., 106., 109., 111.],\n",
      "          [113., 102.,  78.,  ..., 102., 105., 111.],\n",
      "          [120., 112.,  92.,  ..., 101., 105., 109.]]],\n",
      "\n",
      "\n",
      "        [[[127., 120., 108.,  ...,  74.,  73.,  74.],\n",
      "          [ 74.,  66.,  64.,  ...,  71.,  71.,  72.],\n",
      "          [ 64.,  62.,  61.,  ...,  80.,  82.,  83.],\n",
      "          ...,\n",
      "          [158., 156., 152.,  ...,  48.,  49.,  49.],\n",
      "          [158., 156., 151.,  ...,  48.,  48.,  51.],\n",
      "          [158., 153., 151.,  ...,  64.,  70.,  76.]],\n",
      "\n",
      "         [[123., 115., 100.,  ...,  68.,  70.,  70.],\n",
      "          [ 68.,  61.,  57.,  ...,  63.,  67.,  69.],\n",
      "          [ 58.,  57.,  56.,  ...,  74.,  81.,  82.],\n",
      "          ...,\n",
      "          [145., 143., 142.,  ...,  48.,  45.,  43.],\n",
      "          [145., 143., 142.,  ...,  49.,  45.,  44.],\n",
      "          [144., 142., 141.,  ...,  67.,  68.,  70.]],\n",
      "\n",
      "         [[111., 103.,  92.,  ...,  98.,  95.,  95.],\n",
      "          [ 62.,  57.,  56.,  ..., 101.,  94.,  97.],\n",
      "          [ 57.,  57.,  55.,  ..., 110., 105., 110.],\n",
      "          ...,\n",
      "          [139., 136., 133.,  ...,  96.,  91.,  89.],\n",
      "          [138., 135., 133.,  ...,  90.,  89.,  89.],\n",
      "          [140., 137., 136.,  ...,  96., 101., 105.]]],\n",
      "\n",
      "\n",
      "        [[[110., 114., 126.,  ..., 147., 131., 125.],\n",
      "          [108., 112., 125.,  ..., 149., 131., 125.],\n",
      "          [103., 108., 122.,  ..., 152., 132., 126.],\n",
      "          ...,\n",
      "          [109., 113., 123.,  ..., 119., 112., 110.],\n",
      "          [106., 110., 119.,  ..., 110., 106., 104.],\n",
      "          [104., 108., 117.,  ..., 107., 104., 102.]],\n",
      "\n",
      "         [[ 99., 104., 119.,  ..., 123., 106., 100.],\n",
      "          [ 99., 104., 119.,  ..., 124., 106., 100.],\n",
      "          [ 96., 102., 117.,  ..., 127., 107., 101.],\n",
      "          ...,\n",
      "          [102., 106., 117.,  ..., 105.,  96.,  93.],\n",
      "          [ 99., 103., 114.,  ...,  98.,  91.,  89.],\n",
      "          [ 99., 103., 113.,  ...,  95.,  89.,  87.]],\n",
      "\n",
      "         [[104., 108., 122.,  ..., 118., 102.,  96.],\n",
      "          [101., 106., 121.,  ..., 119., 102.,  96.],\n",
      "          [ 98., 104., 119.,  ..., 122., 103.,  97.],\n",
      "          ...,\n",
      "          [103., 107., 117.,  ..., 107., 100.,  98.],\n",
      "          [101., 105., 114.,  ..., 101.,  96.,  94.],\n",
      "          [101., 104., 113.,  ...,  98.,  94.,  92.]]],\n",
      "\n",
      "\n",
      "        ...,\n",
      "\n",
      "\n",
      "        [[[ 83.,  83.,  85.,  ...,  41.,  37.,  37.],\n",
      "          [ 81.,  80.,  81.,  ...,  41.,  37.,  37.],\n",
      "          [ 81.,  78.,  78.,  ...,  38.,  37.,  39.],\n",
      "          ...,\n",
      "          [ 92.,  94.,  92.,  ...,  39.,  36.,  38.],\n",
      "          [ 91.,  93.,  96.,  ...,  39.,  33.,  34.],\n",
      "          [ 93.,  95.,  98.,  ...,  39.,  34.,  32.]],\n",
      "\n",
      "         [[ 77.,  79.,  81.,  ...,  36.,  31.,  31.],\n",
      "          [ 77.,  76.,  77.,  ...,  37.,  32.,  31.],\n",
      "          [ 77.,  74.,  74.,  ...,  34.,  32.,  33.],\n",
      "          ...,\n",
      "          [ 87.,  89.,  87.,  ...,  31.,  29.,  31.],\n",
      "          [ 86.,  90.,  93.,  ...,  33.,  28.,  29.],\n",
      "          [ 88.,  92.,  95.,  ...,  33.,  29.,  30.]],\n",
      "\n",
      "         [[ 79.,  80.,  82.,  ...,  30.,  31.,  33.],\n",
      "          [ 78.,  77.,  78.,  ...,  28.,  29.,  31.],\n",
      "          [ 78.,  75.,  75.,  ...,  25.,  29.,  33.],\n",
      "          ...,\n",
      "          [ 84.,  86.,  84.,  ...,  36.,  36.,  38.],\n",
      "          [ 82.,  85.,  88.,  ...,  38.,  34.,  35.],\n",
      "          [ 82.,  87.,  90.,  ...,  38.,  35.,  33.]]],\n",
      "\n",
      "\n",
      "        [[[ 71.,  74.,  76.,  ..., 104., 103., 103.],\n",
      "          [ 60.,  62.,  66.,  ..., 106., 104., 104.],\n",
      "          [ 50.,  52.,  58.,  ..., 107., 105., 104.],\n",
      "          ...,\n",
      "          [ 92.,  92.,  93.,  ...,  65.,  54.,  46.],\n",
      "          [ 97.,  95.,  96.,  ...,  58.,  47.,  37.],\n",
      "          [ 99.,  99.,  99.,  ...,  53.,  42.,  31.]],\n",
      "\n",
      "         [[ 65.,  70.,  74.,  ..., 101., 100.,  99.],\n",
      "          [ 54.,  58.,  64.,  ..., 101.,  99.,  98.],\n",
      "          [ 44.,  49.,  55.,  ..., 101.,  99.,  98.],\n",
      "          ...,\n",
      "          [ 86.,  87.,  89.,  ...,  67.,  56.,  49.],\n",
      "          [ 90.,  91.,  92.,  ...,  60.,  48.,  41.],\n",
      "          [ 93.,  93.,  93.,  ...,  54.,  43.,  35.]],\n",
      "\n",
      "         [[ 50.,  55.,  59.,  ...,  85.,  85.,  87.],\n",
      "          [ 41.,  44.,  49.,  ...,  87.,  85.,  86.],\n",
      "          [ 32.,  35.,  41.,  ...,  87.,  86.,  86.],\n",
      "          ...,\n",
      "          [ 78.,  79.,  80.,  ...,  58.,  48.,  42.],\n",
      "          [ 80.,  79.,  80.,  ...,  51.,  41.,  34.],\n",
      "          [ 81.,  81.,  80.,  ...,  46.,  35.,  28.]]],\n",
      "\n",
      "\n",
      "        [[[168., 168., 167.,  ..., 165., 168., 169.],\n",
      "          [158., 163., 166.,  ..., 167., 168., 168.],\n",
      "          [129., 155., 170.,  ..., 168., 172., 172.],\n",
      "          ...,\n",
      "          [169., 185., 183.,  ..., 163., 163., 163.],\n",
      "          [171., 185., 181.,  ..., 165., 164., 164.],\n",
      "          [164., 173., 169.,  ..., 165., 165., 164.]],\n",
      "\n",
      "         [[170., 171., 168.,  ..., 169., 172., 173.],\n",
      "          [161., 166., 167.,  ..., 171., 173., 173.],\n",
      "          [132., 158., 173.,  ..., 172., 177., 177.],\n",
      "          ...,\n",
      "          [118., 154., 167.,  ..., 170., 170., 171.],\n",
      "          [119., 155., 166.,  ..., 170., 171., 171.],\n",
      "          [111., 140., 151.,  ..., 171., 172., 171.]],\n",
      "\n",
      "         [[181., 177., 172.,  ..., 178., 180., 181.],\n",
      "          [170., 172., 172.,  ..., 180., 179., 178.],\n",
      "          [140., 165., 177.,  ..., 182., 183., 183.],\n",
      "          ...,\n",
      "          [127., 162., 175.,  ..., 176., 176., 177.],\n",
      "          [127., 162., 172.,  ..., 176., 177., 177.],\n",
      "          [121., 148., 158.,  ..., 177., 178., 177.]]]]) tensor([2, 0, 5, 5, 2, 0, 7, 3, 3, 6, 8, 7, 6, 6, 0, 3, 0, 3, 4, 8, 6, 1, 6, 0,\n",
      "        2, 9, 1, 7, 4, 0, 7, 1, 2, 0, 2, 0, 5, 3, 4, 0, 0, 0, 1, 4, 5, 2, 7, 0,\n",
      "        7, 9, 0, 8, 5, 9, 3, 5, 6, 5, 5, 1, 1, 3, 1, 7, 3, 0, 2, 0, 0, 4, 9, 7,\n",
      "        7, 2, 0, 0, 8, 1, 0, 7, 0, 9, 9, 1, 3, 8, 0, 0, 8, 9, 7, 7, 5, 7, 0, 5,\n",
      "        8, 0, 8, 0, 7, 1, 8, 1, 0, 3, 1, 0, 2, 1, 0, 2, 0, 4, 3, 7, 2, 1, 1, 4,\n",
      "        3, 1, 3, 0, 9, 3, 9, 5])\n"
     ]
    }
   ],
   "source": [
    "dataiter = iter(train_loader)\n",
    "data = dataiter.next()\n",
    "imgs,label = data\n",
    "print(imgs,label)"
   ]
  },
  {
   "cell_type": "code",
   "execution_count": 8,
   "id": "9fa148c2",
   "metadata": {},
   "outputs": [
    {
     "name": "stdout",
     "output_type": "stream",
     "text": [
      "tensor(4)\n"
     ]
    },
    {
     "data": {
      "text/plain": [
       "<matplotlib.image.AxesImage at 0x14ac58421c0>"
      ]
     },
     "execution_count": 8,
     "metadata": {},
     "output_type": "execute_result"
    },
    {
     "data": {
      "image/png": "[encoded data removed]",
      "text/plain": [
       "<Figure size 432x288 with 1 Axes>"
      ]
     },
     "metadata": {
      "needs_background": "light"
     },
     "output_type": "display_data"
    }
   ],
   "source": [
    "idx = 8\n",
    "print(label[idx]+1)\n",
    "plt.imshow(imgs[idx][1])"
   ]
  },
  {
   "cell_type": "markdown",
   "id": "68bada92",
   "metadata": {},
   "source": [
    "# For comparison using model from last sheet"
   ]
  },
  {
   "cell_type": "code",
   "execution_count": 14,
   "id": "0b901914",
   "metadata": {},
   "outputs": [],
   "source": [
    "class LogisticRegression(nn.Module):\n",
    "    def __init__(self, input_dim, hidden_dim, output_dim):\n",
    "        super().__init__()\n",
    "        self.input_dim = input_dim\n",
    "        self.model = nn.Sequential(\n",
    "                nn.Linear(input_dim, hidden_dim),\n",
    "                nn.LeakyReLU(negative_slope=0.001, inplace=False),\n",
    "                nn.Linear(hidden_dim, output_dim)\n",
    "            )\n",
    "    def forward(self, x):\n",
    "        x_flat = x.view(-1, self.input_dim)\n",
    "        out = self.model(x_flat)\n",
    "        return out"
   ]
  },
  {
   "cell_type": "code",
   "execution_count": 18,
   "id": "25db1cb4",
   "metadata": {},
   "outputs": [
    {
     "name": "stdout",
     "output_type": "stream",
     "text": [
      "Learning Rate =  0.001 Batch Size =  128 Hidden Dim =  1536\n",
      "LogisticRegression(\n",
      "  (model): Sequential(\n",
      "    (0): Linear(in_features=3072, out_features=1536, bias=True)\n",
      "    (1): LeakyReLU(negative_slope=0.001)\n",
      "    (2): Linear(in_features=1536, out_features=10, bias=True)\n",
      "  )\n",
      ")\n"
     ]
    }
   ],
   "source": [
    "device = \"cuda\"\n",
    "model_num = 30      #change here\n",
    "\n",
    "lr = 0.001\n",
    "num_epochs = 75\n",
    "batch_size = 128\n",
    "\n",
    "in_dim = 3072\n",
    "hidden_dim = 1536\n",
    "out_dim = 10\n",
    "\n",
    "\n",
    "loss_hist30 = []\n",
    "acc_hist30 = []\n",
    "\n",
    "grad_norm30 = []\n",
    "total_norm=0\n",
    "\n",
    "print('Learning Rate = ',lr, 'Batch Size = ',batch_size, 'Hidden Dim = ', hidden_dim)\n",
    "\n",
    "model_logistic = LogisticRegression(in_dim, hidden_dim, out_dim)\n",
    "model_logistic = model_logistic.to(device)\n",
    "print(model_logistic)\n",
    "\n",
    "criterion = nn.CrossEntropyLoss().to(device)\n",
    "optimizer = torch.optim.Adam(model.parameters(),lr = lr)\n",
    "\n",
    "criterion = nn.CrossEntropyLoss().to(device)\n",
    "optimizer = torch.optim.Adam(model.parameters(),lr = lr)"
   ]
  },
  {
   "cell_type": "code",
   "execution_count": 19,
   "id": "6874ab13",
   "metadata": {},
   "outputs": [
    {
     "name": "stderr",
     "output_type": "stream",
     "text": [
      "Epoch 1 Iter 573: loss 33.40539. : 100%|████| 573/573 [00:04<00:00, 142.53it/s]\n",
      "100%|███████████████████████████████████████| 204/204 [00:00<00:00, 373.53it/s]\n",
      "Epoch 2 Iter 573: loss 22.57075. : 100%|████| 573/573 [00:04<00:00, 141.73it/s]\n",
      "100%|███████████████████████████████████████| 204/204 [00:00<00:00, 377.81it/s]\n",
      "Epoch 3 Iter 573: loss 42.02601. : 100%|████| 573/573 [00:04<00:00, 141.61it/s]\n",
      "100%|███████████████████████████████████████| 204/204 [00:00<00:00, 387.79it/s]\n",
      "Epoch 4 Iter 573: loss 32.38845. : 100%|████| 573/573 [00:04<00:00, 142.60it/s]\n",
      "100%|███████████████████████████████████████| 204/204 [00:00<00:00, 390.06it/s]\n",
      "Epoch 5 Iter 573: loss 26.85166. : 100%|████| 573/573 [00:04<00:00, 140.92it/s]\n",
      "100%|███████████████████████████████████████| 204/204 [00:00<00:00, 384.47it/s]\n",
      "Epoch 6 Iter 573: loss 32.08086. : 100%|████| 573/573 [00:04<00:00, 140.96it/s]\n",
      "100%|███████████████████████████████████████| 204/204 [00:00<00:00, 378.30it/s]\n",
      "Epoch 7 Iter 573: loss 40.87595. : 100%|████| 573/573 [00:04<00:00, 141.96it/s]\n",
      "100%|███████████████████████████████████████| 204/204 [00:00<00:00, 396.79it/s]\n",
      "Epoch 8 Iter 573: loss 32.87061. : 100%|████| 573/573 [00:04<00:00, 141.82it/s]\n",
      "100%|███████████████████████████████████████| 204/204 [00:00<00:00, 374.59it/s]\n",
      "Epoch 9 Iter 573: loss 34.44803. : 100%|████| 573/573 [00:03<00:00, 144.40it/s]\n",
      "100%|███████████████████████████████████████| 204/204 [00:00<00:00, 409.77it/s]\n",
      "Epoch 10 Iter 573: loss 31.48895. : 100%|███| 573/573 [00:03<00:00, 143.53it/s]\n",
      "100%|███████████████████████████████████████| 204/204 [00:00<00:00, 379.26it/s]\n",
      "Epoch 11 Iter 573: loss 33.90491. : 100%|███| 573/573 [00:04<00:00, 142.12it/s]\n",
      "100%|███████████████████████████████████████| 204/204 [00:00<00:00, 372.86it/s]\n",
      "Epoch 12 Iter 573: loss 32.35616. : 100%|███| 573/573 [00:04<00:00, 141.08it/s]\n",
      "100%|███████████████████████████████████████| 204/204 [00:00<00:00, 400.98it/s]\n",
      "Epoch 13 Iter 573: loss 42.81793. : 100%|███| 573/573 [00:04<00:00, 141.87it/s]\n",
      "100%|███████████████████████████████████████| 204/204 [00:00<00:00, 401.22it/s]\n",
      "Epoch 14 Iter 573: loss 34.19862. : 100%|███| 573/573 [00:04<00:00, 142.66it/s]\n",
      "100%|███████████████████████████████████████| 204/204 [00:00<00:00, 347.94it/s]\n",
      "Epoch 15 Iter 573: loss 33.33178. : 100%|███| 573/573 [00:04<00:00, 141.25it/s]\n",
      "100%|███████████████████████████████████████| 204/204 [00:00<00:00, 402.34it/s]\n",
      "Epoch 16 Iter 573: loss 32.75509. : 100%|███| 573/573 [00:03<00:00, 144.71it/s]\n",
      "100%|███████████████████████████████████████| 204/204 [00:00<00:00, 387.84it/s]\n",
      "Epoch 17 Iter 573: loss 34.93083. : 100%|███| 573/573 [00:04<00:00, 142.59it/s]\n",
      "100%|███████████████████████████████████████| 204/204 [00:00<00:00, 419.67it/s]\n",
      "Epoch 18 Iter 573: loss 40.17763. : 100%|███| 573/573 [00:03<00:00, 144.03it/s]\n",
      "100%|███████████████████████████████████████| 204/204 [00:00<00:00, 383.18it/s]\n",
      "Epoch 19 Iter 573: loss 31.55634. : 100%|███| 573/573 [00:04<00:00, 141.12it/s]\n",
      "100%|███████████████████████████████████████| 204/204 [00:00<00:00, 403.62it/s]\n",
      "Epoch 20 Iter 573: loss 31.03944. : 100%|███| 573/573 [00:04<00:00, 141.02it/s]\n",
      "100%|███████████████████████████████████████| 204/204 [00:00<00:00, 403.64it/s]\n",
      "Epoch 21 Iter 573: loss 37.51935. : 100%|███| 573/573 [00:04<00:00, 141.34it/s]\n",
      "100%|███████████████████████████████████████| 204/204 [00:00<00:00, 383.46it/s]\n",
      "Epoch 22 Iter 573: loss 33.04287. : 100%|███| 573/573 [00:03<00:00, 143.27it/s]\n",
      "100%|███████████████████████████████████████| 204/204 [00:00<00:00, 385.41it/s]\n",
      "Epoch 23 Iter 573: loss 26.55956. : 100%|███| 573/573 [00:04<00:00, 142.21it/s]\n",
      "100%|███████████████████████████████████████| 204/204 [00:00<00:00, 392.50it/s]\n",
      "Epoch 24 Iter 573: loss 32.44106. : 100%|███| 573/573 [00:04<00:00, 142.28it/s]\n",
      "100%|███████████████████████████████████████| 204/204 [00:00<00:00, 385.19it/s]\n",
      "Epoch 25 Iter 573: loss 33.00968. : 100%|███| 573/573 [00:04<00:00, 141.81it/s]\n",
      "100%|███████████████████████████████████████| 204/204 [00:00<00:00, 375.30it/s]\n",
      "Epoch 26 Iter 573: loss 31.01954. : 100%|███| 573/573 [00:04<00:00, 142.82it/s]\n",
      "100%|███████████████████████████████████████| 204/204 [00:00<00:00, 392.97it/s]\n",
      "Epoch 27 Iter 573: loss 34.67246. : 100%|███| 573/573 [00:04<00:00, 142.84it/s]\n",
      "100%|███████████████████████████████████████| 204/204 [00:00<00:00, 404.17it/s]\n",
      "Epoch 28 Iter 573: loss 25.28785. : 100%|███| 573/573 [00:04<00:00, 141.42it/s]\n",
      "100%|███████████████████████████████████████| 204/204 [00:00<00:00, 388.57it/s]\n",
      "Epoch 29 Iter 573: loss 33.81183. : 100%|███| 573/573 [00:03<00:00, 143.64it/s]\n",
      "100%|███████████████████████████████████████| 204/204 [00:00<00:00, 396.90it/s]\n",
      "Epoch 30 Iter 573: loss 30.80226. : 100%|███| 573/573 [00:04<00:00, 141.68it/s]\n",
      "100%|███████████████████████████████████████| 204/204 [00:00<00:00, 362.56it/s]\n",
      "Epoch 31 Iter 573: loss 26.09679. : 100%|███| 573/573 [00:04<00:00, 140.87it/s]\n",
      "100%|███████████████████████████████████████| 204/204 [00:00<00:00, 409.20it/s]\n",
      "Epoch 32 Iter 573: loss 30.75263. : 100%|███| 573/573 [00:03<00:00, 143.70it/s]\n",
      "100%|███████████████████████████████████████| 204/204 [00:00<00:00, 401.85it/s]\n",
      "Epoch 33 Iter 573: loss 29.23312. : 100%|███| 573/573 [00:04<00:00, 142.65it/s]\n",
      "100%|███████████████████████████████████████| 204/204 [00:00<00:00, 379.74it/s]\n",
      "Epoch 34 Iter 573: loss 30.54786. : 100%|███| 573/573 [00:03<00:00, 144.38it/s]\n",
      "100%|███████████████████████████████████████| 204/204 [00:00<00:00, 405.79it/s]\n",
      "Epoch 35 Iter 573: loss 32.29228. : 100%|███| 573/573 [00:03<00:00, 144.60it/s]\n",
      "100%|███████████████████████████████████████| 204/204 [00:00<00:00, 399.46it/s]\n",
      "Epoch 36 Iter 573: loss 35.01040. : 100%|███| 573/573 [00:04<00:00, 141.95it/s]\n",
      "100%|███████████████████████████████████████| 204/204 [00:00<00:00, 399.94it/s]\n",
      "Epoch 37 Iter 573: loss 28.15156. : 100%|███| 573/573 [00:04<00:00, 142.92it/s]\n",
      "100%|███████████████████████████████████████| 204/204 [00:00<00:00, 399.19it/s]\n",
      "Epoch 38 Iter 573: loss 27.57835. : 100%|███| 573/573 [00:04<00:00, 141.94it/s]\n",
      "100%|███████████████████████████████████████| 204/204 [00:00<00:00, 393.99it/s]\n",
      "Epoch 39 Iter 573: loss 32.11311. : 100%|███| 573/573 [00:04<00:00, 142.87it/s]\n",
      "100%|███████████████████████████████████████| 204/204 [00:00<00:00, 405.55it/s]\n",
      "Epoch 40 Iter 573: loss 40.98690. : 100%|███| 573/573 [00:04<00:00, 140.70it/s]\n",
      "100%|███████████████████████████████████████| 204/204 [00:00<00:00, 389.28it/s]\n",
      "Epoch 41 Iter 573: loss 40.37043. : 100%|███| 573/573 [00:03<00:00, 143.44it/s]\n",
      "100%|███████████████████████████████████████| 204/204 [00:00<00:00, 373.15it/s]\n",
      "Epoch 42 Iter 573: loss 37.59494. : 100%|███| 573/573 [00:03<00:00, 144.26it/s]\n",
      "100%|███████████████████████████████████████| 204/204 [00:00<00:00, 394.02it/s]\n",
      "Epoch 43 Iter 573: loss 38.39853. : 100%|███| 573/573 [00:04<00:00, 142.15it/s]\n",
      "100%|███████████████████████████████████████| 204/204 [00:00<00:00, 400.58it/s]\n",
      "Epoch 44 Iter 573: loss 32.55420. : 100%|███| 573/573 [00:04<00:00, 141.73it/s]\n",
      "100%|███████████████████████████████████████| 204/204 [00:00<00:00, 382.45it/s]\n",
      "Epoch 45 Iter 573: loss 30.80653. : 100%|███| 573/573 [00:04<00:00, 141.56it/s]\n",
      "100%|███████████████████████████████████████| 204/204 [00:00<00:00, 409.74it/s]\n",
      "Epoch 46 Iter 573: loss 30.43857. : 100%|███| 573/573 [00:04<00:00, 142.04it/s]\n",
      "100%|███████████████████████████████████████| 204/204 [00:00<00:00, 411.53it/s]\n",
      "Epoch 47 Iter 573: loss 34.28387. : 100%|███| 573/573 [00:04<00:00, 142.11it/s]\n",
      "100%|███████████████████████████████████████| 204/204 [00:00<00:00, 412.70it/s]\n",
      "Epoch 48 Iter 573: loss 26.12840. : 100%|███| 573/573 [00:04<00:00, 142.80it/s]\n",
      "100%|███████████████████████████████████████| 204/204 [00:00<00:00, 390.25it/s]\n",
      "Epoch 49 Iter 573: loss 36.83839. : 100%|███| 573/573 [00:04<00:00, 143.00it/s]\n",
      "100%|███████████████████████████████████████| 204/204 [00:00<00:00, 404.26it/s]\n",
      "Epoch 50 Iter 573: loss 33.10847. : 100%|███| 573/573 [00:04<00:00, 143.11it/s]\n",
      "100%|███████████████████████████████████████| 204/204 [00:00<00:00, 389.28it/s]\n",
      "Epoch 51 Iter 573: loss 44.16558. : 100%|███| 573/573 [00:04<00:00, 141.44it/s]\n",
      "100%|███████████████████████████████████████| 204/204 [00:00<00:00, 405.35it/s]\n",
      "Epoch 52 Iter 573: loss 32.80939. : 100%|███| 573/573 [00:03<00:00, 147.68it/s]\n",
      "100%|███████████████████████████████████████| 204/204 [00:00<00:00, 400.63it/s]\n",
      "Epoch 53 Iter 573: loss 39.62327. : 100%|███| 573/573 [00:04<00:00, 142.69it/s]\n",
      "100%|███████████████████████████████████████| 204/204 [00:00<00:00, 374.31it/s]\n",
      "Epoch 54 Iter 573: loss 35.48425. : 100%|███| 573/573 [00:04<00:00, 141.57it/s]\n",
      "100%|███████████████████████████████████████| 204/204 [00:00<00:00, 373.74it/s]\n",
      "Epoch 55 Iter 573: loss 28.89518. : 100%|███| 573/573 [00:04<00:00, 141.61it/s]\n",
      "100%|███████████████████████████████████████| 204/204 [00:00<00:00, 388.62it/s]\n",
      "Epoch 56 Iter 573: loss 30.33768. : 100%|███| 573/573 [00:04<00:00, 142.69it/s]\n",
      "100%|███████████████████████████████████████| 204/204 [00:00<00:00, 400.44it/s]\n",
      "Epoch 57 Iter 573: loss 33.85607. : 100%|███| 573/573 [00:04<00:00, 143.14it/s]\n",
      "100%|███████████████████████████████████████| 204/204 [00:00<00:00, 402.85it/s]\n",
      "Epoch 58 Iter 573: loss 37.86557. : 100%|███| 573/573 [00:03<00:00, 145.48it/s]\n",
      "100%|███████████████████████████████████████| 204/204 [00:00<00:00, 401.87it/s]\n",
      "Epoch 59 Iter 573: loss 39.99512. : 100%|███| 573/573 [00:04<00:00, 141.07it/s]\n",
      "100%|███████████████████████████████████████| 204/204 [00:00<00:00, 366.54it/s]\n",
      "Epoch 60 Iter 573: loss 29.40236. : 100%|███| 573/573 [00:04<00:00, 140.60it/s]\n",
      "100%|███████████████████████████████████████| 204/204 [00:00<00:00, 401.37it/s]\n",
      "Epoch 61 Iter 573: loss 33.70805. : 100%|███| 573/573 [00:04<00:00, 141.36it/s]\n",
      "100%|███████████████████████████████████████| 204/204 [00:00<00:00, 374.54it/s]\n",
      "Epoch 62 Iter 573: loss 33.18124. : 100%|███| 573/573 [00:03<00:00, 143.69it/s]\n",
      "100%|███████████████████████████████████████| 204/204 [00:00<00:00, 384.96it/s]\n",
      "Epoch 63 Iter 573: loss 41.66284. : 100%|███| 573/573 [00:04<00:00, 142.44it/s]\n",
      "100%|███████████████████████████████████████| 204/204 [00:00<00:00, 405.76it/s]\n",
      "Epoch 64 Iter 573: loss 33.74476. : 100%|███| 573/573 [00:03<00:00, 144.05it/s]\n",
      "100%|███████████████████████████████████████| 204/204 [00:00<00:00, 377.98it/s]\n",
      "Epoch 65 Iter 573: loss 35.68785. : 100%|███| 573/573 [00:03<00:00, 144.13it/s]\n",
      "100%|███████████████████████████████████████| 204/204 [00:00<00:00, 408.28it/s]\n",
      "Epoch 66 Iter 573: loss 31.30983. : 100%|███| 573/573 [00:03<00:00, 146.50it/s]\n",
      "100%|███████████████████████████████████████| 204/204 [00:00<00:00, 392.92it/s]\n",
      "Epoch 67 Iter 573: loss 32.48627. : 100%|███| 573/573 [00:04<00:00, 142.19it/s]\n",
      "100%|███████████████████████████████████████| 204/204 [00:00<00:00, 411.29it/s]\n",
      "Epoch 68 Iter 573: loss 39.74514. : 100%|███| 573/573 [00:03<00:00, 145.85it/s]\n",
      "100%|███████████████████████████████████████| 204/204 [00:00<00:00, 389.30it/s]\n",
      "Epoch 69 Iter 573: loss 36.84848. : 100%|███| 573/573 [00:03<00:00, 143.43it/s]\n",
      "100%|███████████████████████████████████████| 204/204 [00:00<00:00, 386.49it/s]\n",
      "Epoch 70 Iter 573: loss 37.47152. : 100%|███| 573/573 [00:03<00:00, 143.48it/s]\n",
      "100%|███████████████████████████████████████| 204/204 [00:00<00:00, 403.36it/s]\n",
      "Epoch 71 Iter 573: loss 38.02626. : 100%|███| 573/573 [00:04<00:00, 142.04it/s]\n",
      "100%|███████████████████████████████████████| 204/204 [00:00<00:00, 369.11it/s]\n",
      "Epoch 72 Iter 573: loss 36.18369. : 100%|███| 573/573 [00:03<00:00, 144.10it/s]\n",
      "100%|███████████████████████████████████████| 204/204 [00:00<00:00, 393.04it/s]\n",
      "Epoch 73 Iter 573: loss 26.94313. : 100%|███| 573/573 [00:04<00:00, 142.70it/s]\n",
      "100%|███████████████████████████████████████| 204/204 [00:00<00:00, 426.02it/s]\n",
      "Epoch 74 Iter 573: loss 30.79577. : 100%|███| 573/573 [00:03<00:00, 143.35it/s]\n",
      "100%|███████████████████████████████████████| 204/204 [00:00<00:00, 416.59it/s]\n",
      "Epoch 75 Iter 573: loss 33.47416. : 100%|███| 573/573 [00:03<00:00, 143.91it/s]\n",
      "100%|███████████████████████████████████████| 204/204 [00:00<00:00, 417.43it/s]\n"
     ]
    }
   ],
   "source": [
    "for epoch in range(num_epochs):\n",
    "    loss_list = []\n",
    "    progress_bar = tqdm(enumerate(train_loader), total=len(train_loader))\n",
    "    for i, (imgs, labels) in progress_bar:\n",
    "        \n",
    "        #everything needs to be on the same device\n",
    "        imgs = imgs.to(device)\n",
    "        labels = labels.to(device)\n",
    "        \n",
    "        # forward pass\n",
    "        pred_labels = model_logistic(imgs)\n",
    "        \n",
    "        # computing error\n",
    "        loss = criterion(pred_labels, labels)\n",
    "        loss_list.append(loss.item())\n",
    "    \n",
    "        \n",
    "        # removing accumulated gradients\n",
    "        optimizer.zero_grad()\n",
    "        loss.backward()\n",
    "        \n",
    "        \n",
    "# https://discuss.pytorch.org/t/check-the-norm-of-gradients/27961        \n",
    "        \n",
    "        total_norm=0\n",
    "        for p in model.parameters():\n",
    "            param_norm = p.grad.data.norm(2)\n",
    "            total_norm += param_norm.item() ** 2\n",
    "        total_norm = total_norm ** (1. / 2)\n",
    "        \n",
    "# https://discuss.pytorch.org/t/how-to-check-norm-of-gradients/13795/3\n",
    "\n",
    "        #for p in list(filter(lambda p: p.grad is not None, model.parameters())):\n",
    "        #    print(p.grad.data.norm(2).item())\n",
    "        \n",
    "        optimizer.step()\n",
    "    \n",
    "        if(i % 1 == 0 or i == N_ITERS-1):\n",
    "            progress_bar.set_description(f\"Epoch {epoch+1} Iter {i+1}: loss {loss.item():.5f}. \")\n",
    "            \n",
    "    loss_hist30.append(np.mean(loss_list))    #change here\n",
    "    \n",
    "    \n",
    "    \n",
    "    n_correct = 0\n",
    "\n",
    "    with torch.no_grad():\n",
    "        progress_bar = tqdm(enumerate(test_loader), total=len(test_loader))\n",
    "        for i, (imgs, labels) in progress_bar: \n",
    "            #everything needs to be on the same device\n",
    "            imgs = imgs.to(device)\n",
    "            labels = labels.to(device)\n",
    "\n",
    "            # forward pass\n",
    "            pred_labels = model(imgs)\n",
    "\n",
    "            preds = torch.argmax(pred_labels, dim=-1)\n",
    "            cur_correct = len(torch.where(preds == labels)[0])\n",
    "            n_correct = n_correct + cur_correct\n",
    "\n",
    "    accuracy = n_correct / len(test_dataset) * 100\n",
    "    #print(f\"Test accuracy: {round(accuracy,2)}%\")\n",
    "    \n",
    "    acc_hist30.append(accuracy)            #change here\n",
    "    \n",
    "    grad_norm30.append(total_norm)   "
   ]
  },
  {
   "cell_type": "code",
   "execution_count": 43,
   "id": "7df5e12d",
   "metadata": {},
   "outputs": [
    {
     "name": "stderr",
     "output_type": "stream",
     "text": [
      "100%|████████████████████████████████████████| 204/204 [00:04<00:00, 42.66it/s]\n"
     ]
    },
    {
     "name": "stdout",
     "output_type": "stream",
     "text": [
      "Test accuracy: 6.96%\n",
      "Learning Rate =  0.1 Batch Size =  128 Hidden Dim =  1536\n"
     ]
    },
    {
     "data": {
      "image/png": "[encoded data removed]",
      "text/plain": [
       "<Figure size 1080x720 with 2 Axes>"
      ]
     },
     "metadata": {
      "needs_background": "light"
     },
     "output_type": "display_data"
    }
   ],
   "source": [
    "n_correct = 0\n",
    "\n",
    "nb_classes = 10\n",
    "confusion_matrix = np.zeros((nb_classes, nb_classes))\n",
    "\n",
    "with torch.no_grad():\n",
    "    progress_bar = tqdm(enumerate(test_loader), total=len(test_loader))\n",
    "    for i, (imgs, labels) in progress_bar: \n",
    "        #everything needs to be on the same device\n",
    "        imgs = imgs.to(device)\n",
    "        labels = labels.to(device)\n",
    "        \n",
    "        # forward pass\n",
    "        pred_labels = model_logistic(imgs)\n",
    "        \n",
    "        preds = torch.argmax(pred_labels, dim=-1)\n",
    "        cur_correct = len(torch.where(preds == labels)[0])\n",
    "        n_correct = n_correct + cur_correct\n",
    "        \n",
    "        for t, p in zip(labels.view(-1), preds.view(-1)):\n",
    "            confusion_matrix[t.long(), p.long()] += 1\n",
    "\n",
    "plt.figure(figsize=(15,10))\n",
    "\n",
    "class_names = range(10)\n",
    "df_cm = pd.DataFrame(confusion_matrix, index=class_names, columns=class_names).astype(int)\n",
    "heatmap = sns.heatmap(df_cm, annot=True, fmt=\"d\", cmap=\"Greens\")\n",
    "yyl = list(range(1,11))\n",
    "\n",
    "heatmap.yaxis.set_ticklabels(yyl, rotation=0, ha='right',fontsize=15)\n",
    "heatmap.xaxis.set_ticklabels(yyl, rotation=0, ha='right',fontsize=15)\n",
    "plt.ylabel('True label')\n",
    "plt.xlabel('Predicted label')\n",
    "plt.title('Model Number 30')     #change here\n",
    "#https://stackoverflow.com/questions/53290306/confusion-matrix-and-test-accuracy-for-pytorch-transfer-learning-tutorial\n",
    "        \n",
    "        \n",
    "accuracy = n_correct / len(test_dataset) * 100\n",
    "print(f\"Test accuracy: {round(accuracy,2)}%\")\n",
    "print('Learning Rate = ',lr, 'Batch Size = ',batch_size, 'Hidden Dim = ', hidden_dim)"
   ]
  },
  {
   "cell_type": "markdown",
   "id": "83c3153c",
   "metadata": {},
   "source": [
    "# Storing Model Name, Number of paarmeters, Loss and Accuracy of each model"
   ]
  },
  {
   "cell_type": "code",
   "execution_count": 62,
   "id": "0b3182f6",
   "metadata": {},
   "outputs": [],
   "source": [
    "super_names = []\n",
    "super_num = []\n",
    "super_loss = []\n",
    "super_acc = []\n",
    "super_lr_rate = []\n",
    "\n",
    "EPOCHS = 25\n",
    "LR = 0.001"
   ]
  },
  {
   "cell_type": "markdown",
   "id": "f09cfeac",
   "metadata": {},
   "source": [
    "# CNN Model"
   ]
  },
  {
   "cell_type": "code",
   "execution_count": 150,
   "id": "f66a146f",
   "metadata": {},
   "outputs": [],
   "source": [
    "device = \"cuda\"\n",
    "class CNN(nn.Module):\n",
    "    def __init__(self):\n",
    "        super(CNN, self).__init__()\n",
    "        \n",
    "        #https://www.youtube.com/watch?v=pDdP0TFzsoQ&list=PLqnslRFeH2UrcDBWF5mfPGpqQDSta6VK4&index=14\n",
    "        self.conv_layer1 = nn.Conv2d(3, 6, 5)  #\n",
    "        self.maxpool1 = nn.MaxPool2d(2,2)\n",
    "        self.conv_layer2 = nn.Conv2d(6, 16, 5)  #\n",
    "        self.maxpool2 = nn.MaxPool2d(2,2)\n",
    "        \n",
    "        #n_size = self._get_conv_output(input_shape)\n",
    "        #self.fc1 = nn.Linear(n_size, 512)\n",
    "        \n",
    "        self.fc1 = nn.Linear(16*5*5, 256)   # this 16*5*5 must be changed \n",
    "        self.fc2 = nn.Linear(256,64)\n",
    "        self.fc3 = nn.Linear(64,10)\n",
    "        \n",
    "    def forward(self,x):\n",
    "        x = self.maxpool1(F.relu(self.conv_layer1(x)))\n",
    "        x = self.maxpool2(F.relu(self.conv_layer2(x)))\n",
    "        x = x.view(-1,16*5*5)  # this 16*5*5 must be changed \n",
    "        x = F.relu(self.fc1(x))\n",
    "        x = F.relu(self.fc2(x))\n",
    "        x = self.fc3(x)\n",
    "        return x\n",
    "    \n"
   ]
  },
  {
   "cell_type": "code",
   "execution_count": 151,
   "id": "94cbee6b",
   "metadata": {},
   "outputs": [],
   "source": [
    "@torch.no_grad()\n",
    "def eval_model(model):\n",
    "    \"\"\" Computing model accuracy \"\"\"\n",
    "    correct = 0\n",
    "    total = 0\n",
    "    loss_list = []\n",
    "    \n",
    "    for images, labels in test_loader:\n",
    "        images = images.to(device)\n",
    "        labels = labels.to(device)\n",
    "        \n",
    "        # Forward pass only to get logits/output\n",
    "        outputs = model(images)\n",
    "                 \n",
    "        loss = criterion(outputs, labels)\n",
    "        loss_list.append(loss.item())\n",
    "            \n",
    "        # Get predictions from the maximum value\n",
    "        preds = torch.argmax(outputs, dim=1)\n",
    "        correct += len( torch.where(preds==labels)[0] )\n",
    "        total += len(labels)\n",
    "                 \n",
    "    # Total correct predictions and loss\n",
    "    accuracy = correct / total * 100\n",
    "    loss = np.mean(loss_list)\n",
    "    return accuracy, loss\n",
    "\n",
    "def count_model_params(model):\n",
    "    \"\"\" Counting the number of learnable parameters in a nn.Module \"\"\"\n",
    "    num_params = sum(p.numel() for p in model.parameters() if p.requires_grad)\n",
    "    return num_params"
   ]
  },
  {
   "cell_type": "code",
   "execution_count": 152,
   "id": "75141231",
   "metadata": {},
   "outputs": [
    {
     "name": "stdout",
     "output_type": "stream",
     "text": [
      "Model has 122626 learnable parameters\n"
     ]
    }
   ],
   "source": [
    "model = CNN().to(device)   \n",
    "\n",
    "params = count_model_params(model)\n",
    "print(f\"Model has {params} learnable parameters\")\n",
    "\n",
    "#EPOCHS = 25\n",
    "LR = 0.001\n",
    "criterion = nn.CrossEntropyLoss().to(device)\n",
    "optimizer = torch.optim.Adam(params=model.parameters(), lr=LR)"
   ]
  },
  {
   "cell_type": "code",
   "execution_count": 153,
   "id": "7d0138d6",
   "metadata": {},
   "outputs": [
    {
     "name": "stderr",
     "output_type": "stream",
     "text": [
      "Epoch 1 Iter 573: loss 0.46557. : 100%|█████| 573/573 [00:03<00:00, 170.99it/s]\n",
      "Epoch 2 Iter 573: loss 0.58418. : 100%|█████| 573/573 [00:03<00:00, 175.14it/s]\n",
      "Epoch 3 Iter 573: loss 0.54238. : 100%|█████| 573/573 [00:03<00:00, 173.06it/s]\n",
      "Epoch 4 Iter 573: loss 0.31133. : 100%|█████| 573/573 [00:03<00:00, 180.33it/s]\n",
      "Epoch 5 Iter 573: loss 0.58505. : 100%|█████| 573/573 [00:03<00:00, 175.16it/s]\n",
      "Epoch 6 Iter 573: loss 0.40211. : 100%|█████| 573/573 [00:03<00:00, 180.61it/s]\n",
      "Epoch 7 Iter 573: loss 0.31546. : 100%|█████| 573/573 [00:03<00:00, 176.07it/s]\n",
      "Epoch 8 Iter 573: loss 0.15811. : 100%|█████| 573/573 [00:03<00:00, 176.23it/s]\n",
      "Epoch 9 Iter 573: loss 0.17813. : 100%|█████| 573/573 [00:03<00:00, 175.26it/s]\n",
      "Epoch 10 Iter 573: loss 0.27233. : 100%|████| 573/573 [00:03<00:00, 174.20it/s]\n",
      "Epoch 11 Iter 573: loss 0.39454. : 100%|████| 573/573 [00:03<00:00, 175.48it/s]\n",
      "Epoch 12 Iter 573: loss 0.22743. : 100%|████| 573/573 [00:03<00:00, 175.33it/s]\n",
      "Epoch 13 Iter 573: loss 0.29945. : 100%|████| 573/573 [00:03<00:00, 175.86it/s]\n",
      "Epoch 14 Iter 573: loss 0.11432. : 100%|████| 573/573 [00:03<00:00, 175.64it/s]\n",
      "Epoch 15 Iter 573: loss 0.17191. : 100%|████| 573/573 [00:03<00:00, 174.76it/s]\n",
      "Epoch 16 Iter 573: loss 0.12913. : 100%|████| 573/573 [00:03<00:00, 173.73it/s]\n",
      "Epoch 17 Iter 573: loss 0.09269. : 100%|████| 573/573 [00:03<00:00, 174.37it/s]\n",
      "Epoch 18 Iter 573: loss 0.31336. : 100%|████| 573/573 [00:03<00:00, 185.21it/s]\n",
      "Epoch 19 Iter 573: loss 0.21833. : 100%|████| 573/573 [00:03<00:00, 176.72it/s]\n",
      "Epoch 20 Iter 573: loss 0.25960. : 100%|████| 573/573 [00:03<00:00, 175.53it/s]\n",
      "Epoch 21 Iter 573: loss 0.10817. : 100%|████| 573/573 [00:03<00:00, 182.43it/s]\n",
      "Epoch 22 Iter 573: loss 0.64316. : 100%|████| 573/573 [00:03<00:00, 174.53it/s]\n",
      "Epoch 23 Iter 573: loss 0.06232. : 100%|████| 573/573 [00:03<00:00, 176.41it/s]\n",
      "Epoch 24 Iter 573: loss 0.14104. : 100%|████| 573/573 [00:03<00:00, 178.87it/s]\n",
      "Epoch 25 Iter 573: loss 0.12868. : 100%|████| 573/573 [00:03<00:00, 178.54it/s]\n"
     ]
    }
   ],
   "source": [
    "loss_hist = []\n",
    "acc_hist = []\n",
    "\n",
    "start = time.time()\n",
    "\n",
    "\n",
    "for epoch in range( EPOCHS):\n",
    "    loss_list = []\n",
    "    progress_bar = tqdm(enumerate(train_loader), total=len(train_loader))\n",
    "    for i, (images, labels) in progress_bar:\n",
    "        images = images.to(device)\n",
    "        labels = labels.to(device)\n",
    "        \n",
    "        # Clear gradients w.r.t. parameters\n",
    "        optimizer.zero_grad()\n",
    "         \n",
    "        # Forward pass to get output/logits\n",
    "        outputs = model(images)\n",
    "         \n",
    "        # Calculate Loss: softmax --> cross entropy loss\n",
    "        loss = criterion(outputs, labels)\n",
    "        loss_list.append(loss.item())\n",
    "         \n",
    "        # Getting gradients w.r.t. parameters\n",
    "        loss.backward()\n",
    "         \n",
    "        # Updating parameters\n",
    "        optimizer.step()\n",
    "        progress_bar.set_description(f\"Epoch {epoch+1} Iter {i+1}: loss {loss.item():.5f}. \")\n",
    "             \n",
    "    loss_hist.append(np.mean(loss_list))\n",
    "    accuracy, _ = eval_model(model)\n",
    "    acc_hist.append(accuracy)\n",
    "    #print(f\"Classification accuracy: {round(accuracy, 2)}%\")\n",
    "    \n",
    "end = time.time()  "
   ]
  },
  {
   "cell_type": "code",
   "execution_count": 67,
   "id": "e46577a2",
   "metadata": {},
   "outputs": [
    {
     "name": "stdout",
     "output_type": "stream",
     "text": [
      "Time in seconds = 94.36746406555176\n"
     ]
    }
   ],
   "source": [
    "time_simple_cnn= end-start\n",
    "print(\"Time in seconds =\", end - start)  "
   ]
  },
  {
   "cell_type": "code",
   "execution_count": 68,
   "id": "5042afa0",
   "metadata": {},
   "outputs": [
    {
     "name": "stdout",
     "output_type": "stream",
     "text": [
      "Classification accuracy: 86.5%\n"
     ]
    }
   ],
   "source": [
    "accuracy, _ = eval_model(model)  \n",
    "print(f\"Classification accuracy: {round(accuracy, 2)}%\")"
   ]
  },
  {
   "cell_type": "code",
   "execution_count": 69,
   "id": "88ebcef5",
   "metadata": {},
   "outputs": [],
   "source": [
    "super_names.append(\"Simple CNN with ReLU\")\n",
    "super_num.append(params)\n",
    "super_loss.append(loss_hist)\n",
    "super_acc.append(acc_hist)\n",
    "super_lr_rate.append(LR)"
   ]
  },
  {
   "cell_type": "code",
   "execution_count": 70,
   "id": "c29885e3",
   "metadata": {},
   "outputs": [
    {
     "name": "stderr",
     "output_type": "stream",
     "text": [
      "100%|████████████████████████████████████████| 204/204 [00:04<00:00, 42.75it/s]\n"
     ]
    },
    {
     "name": "stdout",
     "output_type": "stream",
     "text": [
      "Test accuracy: 86.5%\n"
     ]
    },
    {
     "data": {
      "image/png": "[encoded data removed]",
      "text/plain": [
       "<Figure size 1080x720 with 2 Axes>"
      ]
     },
     "metadata": {
      "needs_background": "light"
     },
     "output_type": "display_data"
    }
   ],
   "source": [
    "n_correct = 0\n",
    "\n",
    "nb_classes = 10\n",
    "confusion_matrix = np.zeros((nb_classes, nb_classes))\n",
    "\n",
    "with torch.no_grad():\n",
    "    progress_bar = tqdm(enumerate(test_loader), total=len(test_loader))\n",
    "    for i, (imgs, labels) in progress_bar: \n",
    "        #everything needs to be on the same device\n",
    "        imgs = imgs.to(device)\n",
    "        labels = labels.to(device)\n",
    "        \n",
    "        # forward pass\n",
    "        pred_labels = model(imgs)\n",
    "        \n",
    "        preds = torch.argmax(pred_labels, dim=-1)\n",
    "        cur_correct = len(torch.where(preds == labels)[0])\n",
    "        n_correct = n_correct + cur_correct\n",
    "        \n",
    "        for t, p in zip(labels.view(-1), preds.view(-1)):\n",
    "            confusion_matrix[t.long(), p.long()] += 1\n",
    "\n",
    "plt.figure(figsize=(15,10))\n",
    "\n",
    "class_names = range(10)\n",
    "df_cm = pd.DataFrame(confusion_matrix, index=class_names, columns=class_names).astype(int)\n",
    "heatmap = sns.heatmap(df_cm, annot=True, fmt=\"d\", cmap=\"Greens\")\n",
    "\n",
    "yyl = list(range(1,11))\n",
    "\n",
    "heatmap.yaxis.set_ticklabels(yyl, rotation=0, ha='right',fontsize=15)\n",
    "heatmap.xaxis.set_ticklabels(yyl, rotation=0, ha='right',fontsize=15)\n",
    "plt.ylabel('True label')\n",
    "plt.xlabel('Predicted label')\n",
    "plt.title('CNN Model')     #change here\n",
    "#https://stackoverflow.com/questions/53290306/confusion-matrix-and-test-accuracy-for-pytorch-transfer-learning-tutorial\n",
    "        \n",
    "        \n",
    "accuracy = n_correct / len(test_dataset) * 100\n",
    "print(f\"Test accuracy: {round(accuracy,2)}%\")"
   ]
  },
  {
   "cell_type": "markdown",
   "id": "2d769019",
   "metadata": {},
   "source": [
    "### Comparsion between CNN and A simple one layer logistic regression"
   ]
  },
  {
   "cell_type": "markdown",
   "id": "ea55a513",
   "metadata": {},
   "source": [
    "#### A huge difference of 80 percent was reported and the logistic regression was mostly classifying every image as 8 as seen in the confusion matrix. However,the CNN with 2 convolutional layers with max pooling gave an accuracy of 86 percent and did a really good job in indentifying the number \"1\"."
   ]
  },
  {
   "cell_type": "code",
   "execution_count": null,
   "id": "1b7e9ade",
   "metadata": {},
   "outputs": [],
   "source": []
  },
  {
   "cell_type": "markdown",
   "id": "68acdfc8",
   "metadata": {},
   "source": [
    "# Visualising Convolutional layers and activations"
   ]
  },
  {
   "cell_type": "code",
   "execution_count": 154,
   "id": "c20300cf",
   "metadata": {},
   "outputs": [
    {
     "data": {
      "text/plain": [
       "<matplotlib.image.AxesImage at 0x1d188d71490>"
      ]
     },
     "execution_count": 154,
     "metadata": {},
     "output_type": "execute_result"
    },
    {
     "data": {
      "image/png": "[encoded data removed]",
      "text/plain": [
       "<Figure size 432x288 with 1 Axes>"
      ]
     },
     "metadata": {
      "needs_background": "light"
     },
     "output_type": "display_data"
    }
   ],
   "source": [
    "weight = model.conv_layer1.weight.data\n",
    "weight = weight.to(\"cpu\")\n",
    "weight = weight.numpy()\n",
    "plt.imshow(weight[0][2]) "
   ]
  },
  {
   "cell_type": "code",
   "execution_count": 155,
   "id": "e79123d5",
   "metadata": {},
   "outputs": [
    {
     "data": {
      "text/plain": [
       "<matplotlib.image.AxesImage at 0x1d1884bd730>"
      ]
     },
     "execution_count": 155,
     "metadata": {},
     "output_type": "execute_result"
    },
    {
     "data": {
      "image/png": "[encoded data removed]",
      "text/plain": [
       "<Figure size 432x288 with 1 Axes>"
      ]
     },
     "metadata": {
      "needs_background": "light"
     },
     "output_type": "display_data"
    }
   ],
   "source": [
    "weight = model.conv_layer2.weight.data\n",
    "weight = weight.to(\"cpu\")\n",
    "weight = weight.numpy()\n",
    "plt.imshow(weight[0][2]) "
   ]
  },
  {
   "cell_type": "markdown",
   "id": "021715a4",
   "metadata": {},
   "source": [
    "# Next we move on to trying different regularizations namely, L1, L2 and Elastic Regularization"
   ]
  },
  {
   "cell_type": "markdown",
   "id": "28e9439c",
   "metadata": {},
   "source": [
    "# Regularization L1"
   ]
  },
  {
   "cell_type": "code",
   "execution_count": 71,
   "id": "99934733",
   "metadata": {},
   "outputs": [],
   "source": [
    "device = \"cuda\"\n",
    "class CNN(nn.Module):\n",
    "    def __init__(self):\n",
    "        super(CNN, self).__init__()\n",
    "        self.conv_layer1 = nn.Conv2d(3, 6, 5)  #\n",
    "        self.maxpool1 = nn.MaxPool2d(2,2)\n",
    "        self.conv_layer2 = nn.Conv2d(6, 16, 5)  #\n",
    "        self.maxpool2 = nn.MaxPool2d(2,2)\n",
    "        \n",
    "        #n_size = self._get_conv_output(input_shape)\n",
    "        #self.fc1 = nn.Linear(n_size, 512)\n",
    "        \n",
    "        self.fc1 = nn.Linear(16*5*5, 256)   # this 16*5*5 must be changed \n",
    "        self.fc2 = nn.Linear(256,64)\n",
    "        self.fc3 = nn.Linear(64,10)\n",
    "        \n",
    "    def forward(self,x):\n",
    "        x = self.maxpool1(F.relu(self.conv_layer1(x)))\n",
    "        x = self.maxpool2(F.relu(self.conv_layer2(x)))\n",
    "        x = x.view(-1,16*5*5)  # this 16*5*5 must be changed \n",
    "        x = F.relu(self.fc1(x))\n",
    "        x = F.relu(self.fc2(x))\n",
    "        x = self.fc3(x)\n",
    "        return x\n",
    "    \n"
   ]
  },
  {
   "cell_type": "code",
   "execution_count": 72,
   "id": "bfcd5b00",
   "metadata": {},
   "outputs": [
    {
     "name": "stdout",
     "output_type": "stream",
     "text": [
      "Model has 122626 learnable parameters\n"
     ]
    }
   ],
   "source": [
    "model = CNN().to(device)   \n",
    "\n",
    "params = count_model_params(model)\n",
    "print(f\"Model has {params} learnable parameters\")\n",
    "\n",
    "#EPOCHS = 25\n",
    "LR = 0.001\n",
    "criterion = nn.CrossEntropyLoss().to(device)\n",
    "optimizer = torch.optim.Adam(params=model.parameters(), lr=LR)"
   ]
  },
  {
   "cell_type": "code",
   "execution_count": 73,
   "id": "f20e1123",
   "metadata": {},
   "outputs": [
    {
     "name": "stderr",
     "output_type": "stream",
     "text": [
      "Epoch 1 Iter 573: loss 0.57698. : 100%|█████| 573/573 [00:03<00:00, 147.64it/s]\n",
      "Epoch 2 Iter 573: loss 0.57123. : 100%|█████| 573/573 [00:03<00:00, 171.40it/s]\n",
      "Epoch 3 Iter 573: loss 0.28065. : 100%|█████| 573/573 [00:03<00:00, 171.88it/s]\n",
      "Epoch 4 Iter 573: loss 0.34579. : 100%|█████| 573/573 [00:03<00:00, 164.81it/s]\n",
      "Epoch 5 Iter 573: loss 0.36023. : 100%|█████| 573/573 [00:03<00:00, 155.93it/s]\n",
      "Epoch 6 Iter 573: loss 0.40513. : 100%|█████| 573/573 [00:03<00:00, 155.70it/s]\n",
      "Epoch 7 Iter 573: loss 0.53654. : 100%|█████| 573/573 [00:03<00:00, 154.05it/s]\n",
      "Epoch 8 Iter 573: loss 0.49215. : 100%|█████| 573/573 [00:03<00:00, 160.43it/s]\n",
      "Epoch 9 Iter 573: loss 0.24257. : 100%|█████| 573/573 [00:03<00:00, 156.63it/s]\n",
      "Epoch 10 Iter 573: loss 0.10814. : 100%|████| 573/573 [00:03<00:00, 155.36it/s]\n",
      "Epoch 11 Iter 573: loss 0.25866. : 100%|████| 573/573 [00:03<00:00, 157.80it/s]\n",
      "Epoch 12 Iter 573: loss 0.14450. : 100%|████| 573/573 [00:03<00:00, 155.07it/s]\n",
      "Epoch 13 Iter 573: loss 0.21788. : 100%|████| 573/573 [00:03<00:00, 161.56it/s]\n",
      "Epoch 14 Iter 573: loss 0.12164. : 100%|████| 573/573 [00:03<00:00, 156.21it/s]\n",
      "Epoch 15 Iter 573: loss 0.25379. : 100%|████| 573/573 [00:03<00:00, 163.54it/s]\n",
      "Epoch 16 Iter 573: loss 0.48619. : 100%|████| 573/573 [00:03<00:00, 154.48it/s]\n",
      "Epoch 17 Iter 573: loss 0.26444. : 100%|████| 573/573 [00:03<00:00, 151.67it/s]\n",
      "Epoch 18 Iter 573: loss 0.01706. : 100%|████| 573/573 [00:03<00:00, 154.23it/s]\n",
      "Epoch 19 Iter 573: loss 0.46889. : 100%|████| 573/573 [00:03<00:00, 157.10it/s]\n",
      "Epoch 20 Iter 573: loss 0.07666. : 100%|████| 573/573 [00:03<00:00, 156.92it/s]\n",
      "Epoch 21 Iter 573: loss 0.26855. : 100%|████| 573/573 [00:03<00:00, 158.88it/s]\n",
      "Epoch 22 Iter 573: loss 0.10362. : 100%|████| 573/573 [00:03<00:00, 157.13it/s]\n",
      "Epoch 23 Iter 573: loss 0.30866. : 100%|████| 573/573 [00:03<00:00, 161.00it/s]\n",
      "Epoch 24 Iter 573: loss 0.01519. : 100%|████| 573/573 [00:03<00:00, 168.48it/s]\n",
      "Epoch 25 Iter 573: loss 0.15898. : 100%|████| 573/573 [00:03<00:00, 169.37it/s]\n"
     ]
    }
   ],
   "source": [
    "loss_hist = []\n",
    "acc_hist = []\n",
    "\n",
    "for epoch in range( EPOCHS):\n",
    "    loss_list = []\n",
    "    progress_bar = tqdm(enumerate(train_loader), total=len(train_loader))\n",
    "    for i, (images, labels) in progress_bar:\n",
    "        images = images.to(device)\n",
    "        labels = labels.to(device)\n",
    "        \n",
    "        # Clear gradients w.r.t. parameters\n",
    "        optimizer.zero_grad()\n",
    "         \n",
    "        # Forward pass to get output/logits\n",
    "        outputs = model(images)\n",
    "        \n",
    "        #https://www.programmersought.com/article/52011513926/\n",
    "        \n",
    "        lambda1 = 0.001\n",
    "        l1_norm = torch.tensor(0.).to(device)\n",
    "        for param in model.parameters():\n",
    "            l1_norm += torch.sum(abs(param))\n",
    "        loss += lambda1 * l1_norm\n",
    "        \n",
    "        # Calculate Loss: softmax --> cross entropy loss\n",
    "        loss = criterion(outputs, labels)\n",
    "        loss_list.append(loss.item())\n",
    "         \n",
    "        # Getting gradients w.r.t. parameters\n",
    "        loss.backward()\n",
    "         \n",
    "        # Updating parameters\n",
    "        optimizer.step()\n",
    "        progress_bar.set_description(f\"Epoch {epoch+1} Iter {i+1}: loss {loss.item():.5f}. \")\n",
    "             \n",
    "    loss_hist.append(np.mean(loss_list))\n",
    "    accuracy, _ = eval_model(model) \n",
    "    acc_hist.append(accuracy)\n",
    "    #print(f\"Classification accuracy: {round(accuracy, 2)}%\")"
   ]
  },
  {
   "cell_type": "code",
   "execution_count": 74,
   "id": "2e24e99f",
   "metadata": {},
   "outputs": [
    {
     "name": "stdout",
     "output_type": "stream",
     "text": [
      "Classification accuracy: 85.21%\n"
     ]
    }
   ],
   "source": [
    "accuracy, _ = eval_model(model)  \n",
    "print(f\"Classification accuracy: {round(accuracy, 2)}%\")"
   ]
  },
  {
   "cell_type": "code",
   "execution_count": 75,
   "id": "cd5f97f5",
   "metadata": {},
   "outputs": [],
   "source": [
    "super_names.append(\"CNN with ReLU using L1 Regularization\")\n",
    "super_num.append(params)\n",
    "super_loss.append(loss_hist)\n",
    "super_acc.append(acc_hist)\n",
    "super_lr_rate.append(LR)"
   ]
  },
  {
   "cell_type": "markdown",
   "id": "9a5454c6",
   "metadata": {},
   "source": [
    "# Regularization L2"
   ]
  },
  {
   "cell_type": "code",
   "execution_count": 76,
   "id": "88984733",
   "metadata": {},
   "outputs": [],
   "source": [
    "device = \"cuda\"\n",
    "class CNN(nn.Module):\n",
    "    def __init__(self):\n",
    "        super(CNN, self).__init__()\n",
    "        self.conv_layer1 = nn.Conv2d(3, 6, 5)  #\n",
    "        self.maxpool1 = nn.MaxPool2d(2,2)\n",
    "        self.conv_layer2 = nn.Conv2d(6, 16, 5)  #\n",
    "        self.maxpool2 = nn.MaxPool2d(2,2)\n",
    "        \n",
    "        #n_size = self._get_conv_output(input_shape)\n",
    "        #self.fc1 = nn.Linear(n_size, 512)\n",
    "        \n",
    "        self.fc1 = nn.Linear(16*5*5, 256)   # this 16*5*5 must be changed \n",
    "        self.fc2 = nn.Linear(256,64)\n",
    "        self.fc3 = nn.Linear(64,10)\n",
    "        \n",
    "    def forward(self,x):\n",
    "        x = self.maxpool1(F.relu(self.conv_layer1(x)))\n",
    "        x = self.maxpool2(F.relu(self.conv_layer2(x)))\n",
    "        x = x.view(-1,16*5*5)  # this 16*5*5 must be changed \n",
    "        x = F.relu(self.fc1(x))\n",
    "        x = F.relu(self.fc2(x))\n",
    "        x = self.fc3(x)\n",
    "        return x\n",
    "    \n"
   ]
  },
  {
   "cell_type": "code",
   "execution_count": 77,
   "id": "fd564c53",
   "metadata": {},
   "outputs": [
    {
     "name": "stdout",
     "output_type": "stream",
     "text": [
      "Model has 122626 learnable parameters\n"
     ]
    }
   ],
   "source": [
    "model = CNN().to(device)   \n",
    "\n",
    "params = count_model_params(model)\n",
    "print(f\"Model has {params} learnable parameters\")\n",
    "\n",
    "#EPOCHS = 25\n",
    "LR = 0.001\n",
    "criterion = nn.CrossEntropyLoss().to(device)\n",
    "optimizer = torch.optim.Adam(params=model.parameters(), lr=LR, weight_decay=0.0001)"
   ]
  },
  {
   "cell_type": "code",
   "execution_count": 78,
   "id": "fce14f7b",
   "metadata": {},
   "outputs": [
    {
     "name": "stderr",
     "output_type": "stream",
     "text": [
      "Epoch 1 Iter 573: loss 0.54899. : 100%|█████| 573/573 [00:03<00:00, 187.81it/s]\n",
      "Epoch 2 Iter 573: loss 0.38251. : 100%|█████| 573/573 [00:03<00:00, 187.87it/s]\n",
      "Epoch 3 Iter 573: loss 0.36509. : 100%|█████| 573/573 [00:03<00:00, 186.90it/s]\n",
      "Epoch 4 Iter 573: loss 0.33511. : 100%|█████| 573/573 [00:03<00:00, 188.80it/s]\n",
      "Epoch 5 Iter 573: loss 0.31573. : 100%|█████| 573/573 [00:03<00:00, 187.89it/s]\n",
      "Epoch 6 Iter 573: loss 0.17640. : 100%|█████| 573/573 [00:03<00:00, 188.04it/s]\n",
      "Epoch 7 Iter 573: loss 0.36313. : 100%|█████| 573/573 [00:03<00:00, 186.59it/s]\n",
      "Epoch 8 Iter 573: loss 0.21454. : 100%|█████| 573/573 [00:03<00:00, 187.02it/s]\n",
      "Epoch 9 Iter 573: loss 0.22613. : 100%|█████| 573/573 [00:03<00:00, 188.18it/s]\n",
      "Epoch 10 Iter 573: loss 0.36215. : 100%|████| 573/573 [00:03<00:00, 188.43it/s]\n",
      "Epoch 11 Iter 573: loss 0.23384. : 100%|████| 573/573 [00:03<00:00, 188.31it/s]\n",
      "Epoch 12 Iter 573: loss 0.13458. : 100%|████| 573/573 [00:03<00:00, 187.51it/s]\n",
      "Epoch 13 Iter 573: loss 0.20982. : 100%|████| 573/573 [00:03<00:00, 188.80it/s]\n",
      "Epoch 14 Iter 573: loss 0.17492. : 100%|████| 573/573 [00:03<00:00, 185.92it/s]\n",
      "Epoch 15 Iter 573: loss 0.23719. : 100%|████| 573/573 [00:03<00:00, 187.57it/s]\n",
      "Epoch 16 Iter 573: loss 0.15350. : 100%|████| 573/573 [00:03<00:00, 186.53it/s]\n",
      "Epoch 17 Iter 573: loss 0.11492. : 100%|████| 573/573 [00:03<00:00, 187.38it/s]\n",
      "Epoch 18 Iter 573: loss 0.09900. : 100%|████| 573/573 [00:03<00:00, 187.32it/s]\n",
      "Epoch 19 Iter 573: loss 0.14804. : 100%|████| 573/573 [00:03<00:00, 187.75it/s]\n",
      "Epoch 20 Iter 573: loss 0.03023. : 100%|████| 573/573 [00:03<00:00, 189.32it/s]\n",
      "Epoch 21 Iter 573: loss 0.16305. : 100%|████| 573/573 [00:03<00:00, 188.74it/s]\n",
      "Epoch 22 Iter 573: loss 0.09528. : 100%|████| 573/573 [00:03<00:00, 188.12it/s]\n",
      "Epoch 23 Iter 573: loss 0.09719. : 100%|████| 573/573 [00:03<00:00, 188.30it/s]\n",
      "Epoch 24 Iter 573: loss 0.25923. : 100%|████| 573/573 [00:03<00:00, 189.43it/s]\n",
      "Epoch 25 Iter 573: loss 0.10366. : 100%|████| 573/573 [00:03<00:00, 184.79it/s]\n"
     ]
    }
   ],
   "source": [
    "loss_hist = []\n",
    "acc_hist = []\n",
    "\n",
    "for epoch in range( EPOCHS):\n",
    "    loss_list = []\n",
    "    progress_bar = tqdm(enumerate(train_loader), total=len(train_loader))\n",
    "    for i, (images, labels) in progress_bar:\n",
    "        images = images.to(device)\n",
    "        labels = labels.to(device)\n",
    "        \n",
    "        # Clear gradients w.r.t. parameters\n",
    "        optimizer.zero_grad()\n",
    "         \n",
    "        # Forward pass to get output/logits\n",
    "        outputs = model(images)\n",
    "         \n",
    "        # Calculate Loss: softmax --> cross entropy loss\n",
    "        loss = criterion(outputs, labels)\n",
    "        loss_list.append(loss.item())\n",
    "         \n",
    "        # Getting gradients w.r.t. parameters\n",
    "        loss.backward()\n",
    "         \n",
    "        # Updating parameters\n",
    "        optimizer.step()\n",
    "        progress_bar.set_description(f\"Epoch {epoch+1} Iter {i+1}: loss {loss.item():.5f}. \")\n",
    "             \n",
    "    loss_hist.append(np.mean(loss_list))\n",
    "    accuracy, _ = eval_model(model)  \n",
    "    acc_hist.append(accuracy)\n",
    "    #print(f\"Classification accuracy: {round(accuracy, 2)}%\")"
   ]
  },
  {
   "cell_type": "code",
   "execution_count": 79,
   "id": "55ffbe2d",
   "metadata": {},
   "outputs": [
    {
     "name": "stdout",
     "output_type": "stream",
     "text": [
      "Classification accuracy: 87.5%\n"
     ]
    }
   ],
   "source": [
    "accuracy, _ = eval_model(model)  \n",
    "print(f\"Classification accuracy: {round(accuracy, 2)}%\")"
   ]
  },
  {
   "cell_type": "code",
   "execution_count": 80,
   "id": "9b2705cd",
   "metadata": {},
   "outputs": [],
   "source": [
    "super_names.append(\"CNN with ReLU using L2 Regularization\")\n",
    "super_num.append(params)\n",
    "super_loss.append(loss_hist)\n",
    "super_acc.append(acc_hist)\n",
    "super_lr_rate.append(LR)"
   ]
  },
  {
   "cell_type": "markdown",
   "id": "3d557a96",
   "metadata": {},
   "source": [
    "# Elastic Regularization"
   ]
  },
  {
   "cell_type": "code",
   "execution_count": 81,
   "id": "e93535e2",
   "metadata": {},
   "outputs": [],
   "source": [
    "device = \"cuda\"\n",
    "class CNN(nn.Module):\n",
    "    def __init__(self):\n",
    "        super(CNN, self).__init__()\n",
    "        self.conv_layer1 = nn.Conv2d(3, 6, 5)  #\n",
    "        self.maxpool1 = nn.MaxPool2d(2,2)\n",
    "        self.conv_layer2 = nn.Conv2d(6, 16, 5)  #\n",
    "        self.maxpool2 = nn.MaxPool2d(2,2)\n",
    "        \n",
    "        #n_size = self._get_conv_output(input_shape)\n",
    "        #self.fc1 = nn.Linear(n_size, 512)\n",
    "        \n",
    "        self.fc1 = nn.Linear(16*5*5, 256)   # this 16*5*5 must be changed \n",
    "        self.fc2 = nn.Linear(256,64)\n",
    "        self.fc3 = nn.Linear(64,10)\n",
    "        \n",
    "    def forward(self,x):\n",
    "        x = self.maxpool1(F.relu(self.conv_layer1(x)))\n",
    "        x = self.maxpool2(F.relu(self.conv_layer2(x)))\n",
    "        x = x.view(-1,16*5*5)  # this 16*5*5 must be changed \n",
    "        x = F.relu(self.fc1(x))\n",
    "        x = F.relu(self.fc2(x))\n",
    "        x = self.fc3(x)\n",
    "        return x\n",
    "    \n"
   ]
  },
  {
   "cell_type": "code",
   "execution_count": 82,
   "id": "97180950",
   "metadata": {},
   "outputs": [
    {
     "name": "stdout",
     "output_type": "stream",
     "text": [
      "Model has 122626 learnable parameters\n"
     ]
    }
   ],
   "source": [
    "model = CNN().to(device)   \n",
    "\n",
    "params = count_model_params(model)\n",
    "print(f\"Model has {params} learnable parameters\")\n",
    "\n",
    "#EPOCHS = 25\n",
    "LR = 0.001\n",
    "criterion = nn.CrossEntropyLoss().to(device)\n",
    "optimizer = torch.optim.Adam(params=model.parameters(), lr=LR)"
   ]
  },
  {
   "cell_type": "code",
   "execution_count": 83,
   "id": "f7bc3414",
   "metadata": {},
   "outputs": [
    {
     "name": "stderr",
     "output_type": "stream",
     "text": [
      "Epoch 1 Iter 573: loss 1.40246. : 100%|█████| 573/573 [00:04<00:00, 131.53it/s]\n",
      "Epoch 2 Iter 573: loss 0.48397. : 100%|█████| 573/573 [00:04<00:00, 131.50it/s]\n",
      "Epoch 3 Iter 573: loss 1.18782. : 100%|█████| 573/573 [00:04<00:00, 130.09it/s]\n",
      "Epoch 4 Iter 573: loss 0.48218. : 100%|█████| 573/573 [00:04<00:00, 118.93it/s]\n",
      "Epoch 5 Iter 573: loss 0.55869. : 100%|█████| 573/573 [00:04<00:00, 118.14it/s]\n",
      "Epoch 6 Iter 573: loss 0.61284. : 100%|█████| 573/573 [00:04<00:00, 117.83it/s]\n",
      "Epoch 7 Iter 573: loss 0.38270. : 100%|█████| 573/573 [00:04<00:00, 115.76it/s]\n",
      "Epoch 8 Iter 573: loss 0.49987. : 100%|█████| 573/573 [00:04<00:00, 115.50it/s]\n",
      "Epoch 9 Iter 573: loss 0.37630. : 100%|█████| 573/573 [00:04<00:00, 116.67it/s]\n",
      "Epoch 10 Iter 573: loss 0.25461. : 100%|████| 573/573 [00:04<00:00, 116.51it/s]\n",
      "Epoch 11 Iter 573: loss 0.49489. : 100%|████| 573/573 [00:04<00:00, 118.50it/s]\n",
      "Epoch 12 Iter 573: loss 0.27639. : 100%|████| 573/573 [00:04<00:00, 117.92it/s]\n",
      "Epoch 13 Iter 573: loss 0.26292. : 100%|████| 573/573 [00:04<00:00, 116.83it/s]\n",
      "Epoch 14 Iter 573: loss 0.56359. : 100%|████| 573/573 [00:04<00:00, 118.84it/s]\n",
      "Epoch 15 Iter 573: loss 0.37289. : 100%|████| 573/573 [00:04<00:00, 117.89it/s]\n",
      "Epoch 16 Iter 573: loss 0.54303. : 100%|████| 573/573 [00:04<00:00, 120.13it/s]\n",
      "Epoch 17 Iter 573: loss 0.46645. : 100%|████| 573/573 [00:04<00:00, 118.10it/s]\n",
      "Epoch 18 Iter 573: loss 0.45899. : 100%|████| 573/573 [00:04<00:00, 118.07it/s]\n",
      "Epoch 19 Iter 573: loss 0.30561. : 100%|████| 573/573 [00:04<00:00, 119.84it/s]\n",
      "Epoch 20 Iter 573: loss 0.47419. : 100%|████| 573/573 [00:04<00:00, 120.60it/s]\n",
      "Epoch 21 Iter 573: loss 0.37915. : 100%|████| 573/573 [00:04<00:00, 118.92it/s]\n",
      "Epoch 22 Iter 573: loss 0.47242. : 100%|████| 573/573 [00:04<00:00, 119.47it/s]\n",
      "Epoch 23 Iter 573: loss 0.52548. : 100%|████| 573/573 [00:04<00:00, 117.06it/s]\n",
      "Epoch 24 Iter 573: loss 0.48068. : 100%|████| 573/573 [00:04<00:00, 118.46it/s]\n",
      "Epoch 25 Iter 573: loss 0.87634. : 100%|████| 573/573 [00:04<00:00, 119.75it/s]\n"
     ]
    }
   ],
   "source": [
    "loss_hist = []\n",
    "acc_hist = []\n",
    "\n",
    "for epoch in range( EPOCHS):\n",
    "    loss_list = []\n",
    "    progress_bar = tqdm(enumerate(train_loader), total=len(train_loader))\n",
    "    for i, (images, labels) in progress_bar:\n",
    "        images = images.to(device)\n",
    "        labels = labels.to(device)\n",
    "        \n",
    "        # Clear gradients w.r.t. parameters\n",
    "        optimizer.zero_grad()\n",
    "         \n",
    "        # Forward pass to get output/logits\n",
    "        outputs = model(images)\n",
    "         \n",
    "        # Calculate Loss: softmax --> cross entropy loss\n",
    "        loss = criterion(outputs, labels)\n",
    "        \n",
    "        #https://www.machinecurve.com/index.php/2020/01/21/what-are-l1-l2-and-elastic-net-regularization-in-neural-networks/#elastic-net-regularization\n",
    "        \n",
    "        alpha = 0.8\n",
    "        lambdaa = 0.000001\n",
    "        # https://www.programmersought.com/article/52011513926/\n",
    "        # https://www.datacamp.com/community/tutorials/tutorial-ridge-lasso-elastic-net\n",
    "        \n",
    "        l1_norm = torch.tensor(0.).to(device)\n",
    "        for param in model.parameters():\n",
    "            l1_norm += torch.sum(abs(param))\n",
    "            \n",
    "        l2_norm = torch.tensor(0.).to(device)\n",
    "        for param in model.parameters():\n",
    "            l2_norm += torch.sum(abs(param))**2 \n",
    "            \n",
    "        loss = loss + lambdaa*(((1-alpha)*l1_norm) + (alpha*l2_norm))\n",
    "        \n",
    "        \n",
    "        loss_list.append(loss.item())\n",
    "         \n",
    "        # Getting gradients w.r.t. parameters\n",
    "        loss.backward()\n",
    "         \n",
    "        # Updating parameters\n",
    "        optimizer.step()\n",
    "        progress_bar.set_description(f\"Epoch {epoch+1} Iter {i+1}: loss {loss.item():.5f}. \")\n",
    "             \n",
    "    loss_hist.append(np.mean(loss_list))\n",
    "    accuracy, _ = eval_model(model)  \n",
    "    acc_hist.append(accuracy)\n",
    "    #print(f\"Classification accuracy: {round(accuracy, 2)}%\")"
   ]
  },
  {
   "cell_type": "code",
   "execution_count": 84,
   "id": "1dc621fc",
   "metadata": {},
   "outputs": [
    {
     "name": "stdout",
     "output_type": "stream",
     "text": [
      "Classification accuracy: 87.81%\n"
     ]
    }
   ],
   "source": [
    "accuracy, _ = eval_model(model)  \n",
    "print(f\"Classification accuracy: {round(accuracy, 2)}%\")"
   ]
  },
  {
   "cell_type": "code",
   "execution_count": 85,
   "id": "4617bf0f",
   "metadata": {},
   "outputs": [],
   "source": [
    "super_names.append(\"CNN with ReLU using Elastic Regularization\")\n",
    "super_num.append(params)\n",
    "super_loss.append(loss_hist)\n",
    "super_acc.append(acc_hist)\n",
    "super_lr_rate.append(LR)"
   ]
  },
  {
   "cell_type": "markdown",
   "id": "815e560d",
   "metadata": {},
   "source": [
    "# Dropout"
   ]
  },
  {
   "cell_type": "code",
   "execution_count": 86,
   "id": "0577eac7",
   "metadata": {},
   "outputs": [],
   "source": [
    "device = \"cuda\"\n",
    "class CNN(nn.Module):\n",
    "    def __init__(self):\n",
    "        super(CNN, self).__init__()\n",
    "        self.conv_layer1 = nn.Conv2d(3, 6, 5)  #\n",
    "        self.maxpool1 = nn.MaxPool2d(2,2)\n",
    "        self.conv_layer2 = nn.Conv2d(6, 16, 5)  #\n",
    "        self.maxpool2 = nn.MaxPool2d(2,2)\n",
    "        \n",
    "        self.dropout = nn.Dropout(0.2)\n",
    "        \n",
    "        #n_size = self._get_conv_output(input_shape)\n",
    "        #self.fc1 = nn.Linear(n_size, 512)\n",
    "        \n",
    "        self.fc1 = nn.Linear(16*5*5, 256)   # this 16*5*5 must be changed \n",
    "        self.fc2 = nn.Linear(256,64)\n",
    "        self.fc3 = nn.Linear(64,10)\n",
    "        \n",
    "    def forward(self,x):\n",
    "        x = self.maxpool1(F.relu(self.conv_layer1(x)))\n",
    "        #x = self.dropout(x)\n",
    "        x = self.maxpool2(F.relu(self.conv_layer2(x)))\n",
    "        x = self.dropout(x)\n",
    "        x = x.view(-1,16*5*5)  # this 16*5*5 must be changed \n",
    "        x = F.relu(self.fc1(x))\n",
    "        x = self.dropout(x)\n",
    "        x = F.relu(self.fc2(x))\n",
    "        x = self.fc3(x)\n",
    "        return x\n",
    "    \n"
   ]
  },
  {
   "cell_type": "code",
   "execution_count": 87,
   "id": "c87c9b93",
   "metadata": {},
   "outputs": [
    {
     "name": "stdout",
     "output_type": "stream",
     "text": [
      "Model has 122626 learnable parameters\n"
     ]
    }
   ],
   "source": [
    "model = CNN().to(device)   \n",
    "\n",
    "params = count_model_params(model)\n",
    "print(f\"Model has {params} learnable parameters\")\n",
    "\n",
    "#EPOCHS = 25\n",
    "LR = 0.001\n",
    "criterion = nn.CrossEntropyLoss().to(device)\n",
    "optimizer = torch.optim.Adam(params=model.parameters(), lr=LR)"
   ]
  },
  {
   "cell_type": "code",
   "execution_count": 88,
   "id": "4b8b6d7c",
   "metadata": {},
   "outputs": [
    {
     "name": "stderr",
     "output_type": "stream",
     "text": [
      "Epoch 1 Iter 573: loss 0.45187. : 100%|█████| 573/573 [00:03<00:00, 160.43it/s]\n",
      "Epoch 2 Iter 573: loss 0.51077. : 100%|█████| 573/573 [00:03<00:00, 161.98it/s]\n",
      "Epoch 3 Iter 573: loss 0.47140. : 100%|█████| 573/573 [00:03<00:00, 161.52it/s]\n",
      "Epoch 4 Iter 573: loss 0.35601. : 100%|█████| 573/573 [00:03<00:00, 162.57it/s]\n",
      "Epoch 5 Iter 573: loss 0.41647. : 100%|█████| 573/573 [00:03<00:00, 162.20it/s]\n",
      "Epoch 6 Iter 573: loss 0.32620. : 100%|█████| 573/573 [00:03<00:00, 166.77it/s]\n",
      "Epoch 7 Iter 573: loss 0.47523. : 100%|█████| 573/573 [00:03<00:00, 164.34it/s]\n",
      "Epoch 8 Iter 573: loss 1.10917. : 100%|█████| 573/573 [00:03<00:00, 166.13it/s]\n",
      "Epoch 9 Iter 573: loss 0.23375. : 100%|█████| 573/573 [00:03<00:00, 163.08it/s]\n",
      "Epoch 10 Iter 573: loss 0.69689. : 100%|████| 573/573 [00:03<00:00, 170.17it/s]\n",
      "Epoch 11 Iter 573: loss 0.64968. : 100%|████| 573/573 [00:03<00:00, 162.07it/s]\n",
      "Epoch 12 Iter 573: loss 0.23244. : 100%|████| 573/573 [00:03<00:00, 162.21it/s]\n",
      "Epoch 13 Iter 573: loss 0.54472. : 100%|████| 573/573 [00:03<00:00, 165.34it/s]\n",
      "Epoch 14 Iter 573: loss 0.41304. : 100%|████| 573/573 [00:03<00:00, 165.47it/s]\n",
      "Epoch 15 Iter 573: loss 0.17400. : 100%|████| 573/573 [00:03<00:00, 168.48it/s]\n",
      "Epoch 16 Iter 573: loss 0.47394. : 100%|████| 573/573 [00:03<00:00, 165.04it/s]\n",
      "Epoch 17 Iter 573: loss 0.19550. : 100%|████| 573/573 [00:03<00:00, 167.67it/s]\n",
      "Epoch 18 Iter 573: loss 0.46961. : 100%|████| 573/573 [00:03<00:00, 168.03it/s]\n",
      "Epoch 19 Iter 573: loss 0.45674. : 100%|████| 573/573 [00:03<00:00, 164.43it/s]\n",
      "Epoch 20 Iter 573: loss 0.31644. : 100%|████| 573/573 [00:03<00:00, 163.12it/s]\n",
      "Epoch 21 Iter 573: loss 0.36556. : 100%|████| 573/573 [00:03<00:00, 167.40it/s]\n",
      "Epoch 22 Iter 573: loss 0.26411. : 100%|████| 573/573 [00:03<00:00, 169.29it/s]\n",
      "Epoch 23 Iter 573: loss 0.58251. : 100%|████| 573/573 [00:03<00:00, 170.23it/s]\n",
      "Epoch 24 Iter 573: loss 0.31378. : 100%|████| 573/573 [00:03<00:00, 164.76it/s]\n",
      "Epoch 25 Iter 573: loss 0.32129. : 100%|████| 573/573 [00:03<00:00, 165.47it/s]\n"
     ]
    }
   ],
   "source": [
    "loss_hist = []\n",
    "acc_hist = []\n",
    "\n",
    "start = time.time()\n",
    "for epoch in range( EPOCHS):\n",
    "    loss_list = []\n",
    "    progress_bar = tqdm(enumerate(train_loader), total=len(train_loader))\n",
    "    for i, (images, labels) in progress_bar:\n",
    "        images = images.to(device)\n",
    "        labels = labels.to(device)\n",
    "        \n",
    "        # Clear gradients w.r.t. parameters\n",
    "        optimizer.zero_grad()\n",
    "         \n",
    "        # Forward pass to get output/logits\n",
    "        outputs = model(images)\n",
    "         \n",
    "        # Calculate Loss: softmax --> cross entropy loss\n",
    "        loss = criterion(outputs, labels)\n",
    "        loss_list.append(loss.item())\n",
    "         \n",
    "        # Getting gradients w.r.t. parameters\n",
    "        loss.backward()\n",
    "         \n",
    "        # Updating parameters\n",
    "        optimizer.step()\n",
    "        progress_bar.set_description(f\"Epoch {epoch+1} Iter {i+1}: loss {loss.item():.5f}. \")\n",
    "             \n",
    "    loss_hist.append(np.mean(loss_list))\n",
    "    accuracy, _ = eval_model(model)  \n",
    "    acc_hist.append(accuracy)\n",
    "    #print(f\"Classification accuracy: {round(accuracy, 2)}%\")\n",
    "    \n",
    "end = time.time()   "
   ]
  },
  {
   "cell_type": "code",
   "execution_count": 89,
   "id": "603958e0",
   "metadata": {},
   "outputs": [
    {
     "name": "stdout",
     "output_type": "stream",
     "text": [
      "Time in seconds = 100.3756206035614\n"
     ]
    }
   ],
   "source": [
    "time_dropout_cnn = end - start\n",
    "print(\"Time in seconds =\", end - start) "
   ]
  },
  {
   "cell_type": "code",
   "execution_count": 90,
   "id": "8b10418a",
   "metadata": {},
   "outputs": [
    {
     "name": "stdout",
     "output_type": "stream",
     "text": [
      "Classification accuracy: 83.52%\n"
     ]
    }
   ],
   "source": [
    "accuracy, _ = eval_model(model)  \n",
    "print(f\"Classification accuracy: {round(accuracy, 2)}%\")"
   ]
  },
  {
   "cell_type": "markdown",
   "id": "09017dee",
   "metadata": {},
   "source": [
    "### Time elapsed was more with dropout 100.37562 seconds as compared to cnn without dropout 94.36746 seconds"
   ]
  },
  {
   "cell_type": "code",
   "execution_count": 91,
   "id": "282daf02",
   "metadata": {},
   "outputs": [],
   "source": [
    "super_names.append(\"CNN with ReLU using Dropout\")\n",
    "super_num.append(params)\n",
    "super_loss.append(loss_hist)\n",
    "super_acc.append(acc_hist)\n",
    "super_lr_rate.append(LR)"
   ]
  },
  {
   "cell_type": "markdown",
   "id": "2db576f1",
   "metadata": {},
   "source": [
    "# Average Pooling"
   ]
  },
  {
   "cell_type": "code",
   "execution_count": 92,
   "id": "031ba451",
   "metadata": {},
   "outputs": [],
   "source": [
    "device = \"cuda\"\n",
    "class CNN(nn.Module):\n",
    "    def __init__(self):\n",
    "        super(CNN, self).__init__()\n",
    "        self.conv_layer1 = nn.Conv2d(3, 6, 5)  #\n",
    "        self.avgpool1 = nn.AvgPool2d(2,2)\n",
    "        self.conv_layer2 = nn.Conv2d(6, 16, 5)  #\n",
    "        self.avgpool2 = nn.AvgPool2d(2,2)\n",
    "        \n",
    "        #n_size = self._get_conv_output(input_shape)\n",
    "        #self.fc1 = nn.Linear(n_size, 512)\n",
    "        \n",
    "        self.fc1 = nn.Linear(16*5*5, 256)   # this 16*5*5 must be changed \n",
    "        self.fc2 = nn.Linear(256,64)\n",
    "        self.fc3 = nn.Linear(64,10)\n",
    "        \n",
    "    def forward(self,x):\n",
    "        x = self.avgpool1(F.relu(self.conv_layer1(x)))\n",
    "        x = self.avgpool2(F.relu(self.conv_layer2(x)))\n",
    "        x = x.view(-1,16*5*5)  # this 16*5*5 must be changed \n",
    "        x = F.relu(self.fc1(x))\n",
    "        x = F.relu(self.fc2(x))\n",
    "        x = self.fc3(x)\n",
    "        return x\n",
    "    \n"
   ]
  },
  {
   "cell_type": "code",
   "execution_count": 93,
   "id": "fc940790",
   "metadata": {},
   "outputs": [
    {
     "name": "stdout",
     "output_type": "stream",
     "text": [
      "Model has 122626 learnable parameters\n"
     ]
    }
   ],
   "source": [
    "model = CNN().to(device)   \n",
    "\n",
    "params = count_model_params(model)\n",
    "print(f\"Model has {params} learnable parameters\")\n",
    "\n",
    "#EPOCHS = 25\n",
    "LR = 0.001\n",
    "criterion = nn.CrossEntropyLoss().to(device)\n",
    "optimizer = torch.optim.Adam(params=model.parameters(), lr=LR)"
   ]
  },
  {
   "cell_type": "code",
   "execution_count": 94,
   "id": "fddd17f4",
   "metadata": {},
   "outputs": [
    {
     "name": "stderr",
     "output_type": "stream",
     "text": [
      "Epoch 1 Iter 573: loss 0.73179. : 100%|█████| 573/573 [00:03<00:00, 177.32it/s]\n",
      "Epoch 2 Iter 573: loss 0.75877. : 100%|█████| 573/573 [00:03<00:00, 177.48it/s]\n",
      "Epoch 3 Iter 573: loss 0.69321. : 100%|█████| 573/573 [00:03<00:00, 178.09it/s]\n",
      "Epoch 4 Iter 573: loss 0.54521. : 100%|█████| 573/573 [00:03<00:00, 177.65it/s]\n",
      "Epoch 5 Iter 573: loss 0.27904. : 100%|█████| 573/573 [00:03<00:00, 176.50it/s]\n",
      "Epoch 6 Iter 573: loss 0.29813. : 100%|█████| 573/573 [00:03<00:00, 177.89it/s]\n",
      "Epoch 7 Iter 573: loss 0.49236. : 100%|█████| 573/573 [00:03<00:00, 182.91it/s]\n",
      "Epoch 8 Iter 573: loss 0.26347. : 100%|█████| 573/573 [00:03<00:00, 184.02it/s]\n",
      "Epoch 9 Iter 573: loss 0.24336. : 100%|█████| 573/573 [00:03<00:00, 184.91it/s]\n",
      "Epoch 10 Iter 573: loss 0.27441. : 100%|████| 573/573 [00:03<00:00, 185.69it/s]\n",
      "Epoch 11 Iter 573: loss 0.12835. : 100%|████| 573/573 [00:03<00:00, 188.06it/s]\n",
      "Epoch 12 Iter 573: loss 0.29681. : 100%|████| 573/573 [00:03<00:00, 186.65it/s]\n",
      "Epoch 13 Iter 573: loss 0.14415. : 100%|████| 573/573 [00:03<00:00, 183.55it/s]\n",
      "Epoch 14 Iter 573: loss 0.34527. : 100%|████| 573/573 [00:03<00:00, 182.33it/s]\n",
      "Epoch 15 Iter 573: loss 0.28122. : 100%|████| 573/573 [00:03<00:00, 188.43it/s]\n",
      "Epoch 16 Iter 573: loss 0.07258. : 100%|████| 573/573 [00:03<00:00, 186.35it/s]\n",
      "Epoch 17 Iter 573: loss 0.10035. : 100%|████| 573/573 [00:03<00:00, 187.51it/s]\n",
      "Epoch 18 Iter 573: loss 0.09362. : 100%|████| 573/573 [00:03<00:00, 183.26it/s]\n",
      "Epoch 19 Iter 573: loss 0.11655. : 100%|████| 573/573 [00:03<00:00, 189.17it/s]\n",
      "Epoch 20 Iter 573: loss 0.00890. : 100%|████| 573/573 [00:03<00:00, 179.93it/s]\n",
      "Epoch 21 Iter 573: loss 0.03005. : 100%|████| 573/573 [00:03<00:00, 179.59it/s]\n",
      "Epoch 22 Iter 573: loss 0.09316. : 100%|████| 573/573 [00:03<00:00, 179.09it/s]\n",
      "Epoch 23 Iter 573: loss 0.11543. : 100%|████| 573/573 [00:03<00:00, 180.07it/s]\n",
      "Epoch 24 Iter 573: loss 0.03473. : 100%|████| 573/573 [00:03<00:00, 178.67it/s]\n",
      "Epoch 25 Iter 573: loss 0.11171. : 100%|████| 573/573 [00:03<00:00, 178.06it/s]\n"
     ]
    }
   ],
   "source": [
    "loss_hist = []\n",
    "acc_hist = []\n",
    "for epoch in range( EPOCHS):\n",
    "    loss_list = []\n",
    "    progress_bar = tqdm(enumerate(train_loader), total=len(train_loader))\n",
    "    for i, (images, labels) in progress_bar:\n",
    "        images = images.to(device)\n",
    "        labels = labels.to(device)\n",
    "        \n",
    "        # Clear gradients w.r.t. parameters\n",
    "        optimizer.zero_grad()\n",
    "         \n",
    "        # Forward pass to get output/logits\n",
    "        outputs = model(images)\n",
    "         \n",
    "        # Calculate Loss: softmax --> cross entropy loss\n",
    "        loss = criterion(outputs, labels)\n",
    "        loss_list.append(loss.item())\n",
    "         \n",
    "        # Getting gradients w.r.t. parameters\n",
    "        loss.backward()\n",
    "         \n",
    "        # Updating parameters\n",
    "        optimizer.step()\n",
    "        progress_bar.set_description(f\"Epoch {epoch+1} Iter {i+1}: loss {loss.item():.5f}. \")\n",
    "             \n",
    "    loss_hist.append(np.mean(loss_list))\n",
    "    accuracy, _ = eval_model(model)  \n",
    "    acc_hist.append(accuracy)\n",
    "    #print(f\"Classification accuracy: {round(accuracy, 2)}%\")"
   ]
  },
  {
   "cell_type": "code",
   "execution_count": 95,
   "id": "c901a273",
   "metadata": {},
   "outputs": [
    {
     "name": "stdout",
     "output_type": "stream",
     "text": [
      "Classification accuracy: 86.49%\n"
     ]
    }
   ],
   "source": [
    "accuracy, _ = eval_model(model)  \n",
    "print(f\"Classification accuracy: {round(accuracy, 2)}%\")"
   ]
  },
  {
   "cell_type": "code",
   "execution_count": 96,
   "id": "e907af41",
   "metadata": {},
   "outputs": [],
   "source": [
    "super_names.append(\"CNN with ReLU using Average Pooling\")\n",
    "super_num.append(params)\n",
    "super_loss.append(loss_hist)\n",
    "super_acc.append(acc_hist)\n",
    "super_lr_rate.append(LR)"
   ]
  },
  {
   "cell_type": "markdown",
   "id": "b52735dd",
   "metadata": {},
   "source": [
    "# Combination of Maximum and Average Pooling"
   ]
  },
  {
   "cell_type": "code",
   "execution_count": 97,
   "id": "25e4ad6a",
   "metadata": {},
   "outputs": [],
   "source": [
    "device = \"cuda\"\n",
    "class CNN(nn.Module):\n",
    "    def __init__(self):\n",
    "        super(CNN, self).__init__()\n",
    "        self.conv_layer1 = nn.Conv2d(3, 6, 5)  #\n",
    "        self.maxpool1 = nn.MaxPool2d(2,2)\n",
    "        self.conv_layer2 = nn.Conv2d(6, 16, 5)  #\n",
    "        self.avgpool2 = nn.AvgPool2d(2,2)\n",
    "        \n",
    "        #n_size = self._get_conv_output(input_shape)\n",
    "        #self.fc1 = nn.Linear(n_size, 512)\n",
    "        \n",
    "        self.fc1 = nn.Linear(16*5*5, 256)   # this 16*5*5 must be changed \n",
    "        self.fc2 = nn.Linear(256,64)\n",
    "        self.fc3 = nn.Linear(64,10)\n",
    "        \n",
    "    def forward(self,x):\n",
    "        x = self.maxpool1(F.relu(self.conv_layer1(x)))\n",
    "        x = self.avgpool2(F.relu(self.conv_layer2(x)))\n",
    "        x = x.view(-1,16*5*5)  # this 16*5*5 must be changed \n",
    "        x = F.relu(self.fc1(x))\n",
    "        x = F.relu(self.fc2(x))\n",
    "        x = self.fc3(x)\n",
    "        return x\n",
    "    \n"
   ]
  },
  {
   "cell_type": "code",
   "execution_count": 98,
   "id": "1fc2ef04",
   "metadata": {},
   "outputs": [
    {
     "name": "stdout",
     "output_type": "stream",
     "text": [
      "Model has 122626 learnable parameters\n"
     ]
    }
   ],
   "source": [
    "model = CNN().to(device)   \n",
    "\n",
    "params = count_model_params(model)\n",
    "print(f\"Model has {params} learnable parameters\")\n",
    "\n",
    "#EPOCHS = 25\n",
    "LR = 0.001\n",
    "criterion = nn.CrossEntropyLoss().to(device)\n",
    "optimizer = torch.optim.Adam(params=model.parameters(), lr=LR)"
   ]
  },
  {
   "cell_type": "code",
   "execution_count": 99,
   "id": "4cec5e27",
   "metadata": {},
   "outputs": [
    {
     "name": "stderr",
     "output_type": "stream",
     "text": [
      "Epoch 1 Iter 573: loss 0.77447. : 100%|█████| 573/573 [00:03<00:00, 174.47it/s]\n",
      "Epoch 2 Iter 573: loss 0.50952. : 100%|█████| 573/573 [00:03<00:00, 175.83it/s]\n",
      "Epoch 3 Iter 573: loss 0.35134. : 100%|█████| 573/573 [00:03<00:00, 176.20it/s]\n",
      "Epoch 4 Iter 573: loss 0.33731. : 100%|█████| 573/573 [00:03<00:00, 180.16it/s]\n",
      "Epoch 5 Iter 573: loss 0.22995. : 100%|█████| 573/573 [00:03<00:00, 176.02it/s]\n",
      "Epoch 6 Iter 573: loss 0.42615. : 100%|█████| 573/573 [00:03<00:00, 177.43it/s]\n",
      "Epoch 7 Iter 573: loss 0.35782. : 100%|█████| 573/573 [00:03<00:00, 178.44it/s]\n",
      "Epoch 8 Iter 573: loss 0.15048. : 100%|█████| 573/573 [00:03<00:00, 177.32it/s]\n",
      "Epoch 9 Iter 573: loss 0.21943. : 100%|█████| 573/573 [00:03<00:00, 176.10it/s]\n",
      "Epoch 10 Iter 573: loss 0.23907. : 100%|████| 573/573 [00:03<00:00, 176.18it/s]\n",
      "Epoch 11 Iter 573: loss 0.28804. : 100%|████| 573/573 [00:03<00:00, 178.34it/s]\n",
      "Epoch 12 Iter 573: loss 0.10148. : 100%|████| 573/573 [00:03<00:00, 177.49it/s]\n",
      "Epoch 13 Iter 573: loss 0.19558. : 100%|████| 573/573 [00:03<00:00, 175.00it/s]\n",
      "Epoch 14 Iter 573: loss 0.07134. : 100%|████| 573/573 [00:03<00:00, 174.92it/s]\n",
      "Epoch 15 Iter 573: loss 0.15780. : 100%|████| 573/573 [00:03<00:00, 178.34it/s]\n",
      "Epoch 16 Iter 573: loss 0.06125. : 100%|████| 573/573 [00:03<00:00, 173.52it/s]\n",
      "Epoch 17 Iter 573: loss 0.05844. : 100%|████| 573/573 [00:03<00:00, 170.43it/s]\n",
      "Epoch 18 Iter 573: loss 0.09583. : 100%|████| 573/573 [00:03<00:00, 172.52it/s]\n",
      "Epoch 19 Iter 573: loss 0.01083. : 100%|████| 573/573 [00:03<00:00, 173.15it/s]\n",
      "Epoch 20 Iter 573: loss 0.09458. : 100%|████| 573/573 [00:03<00:00, 173.99it/s]\n",
      "Epoch 21 Iter 573: loss 0.19333. : 100%|████| 573/573 [00:03<00:00, 179.37it/s]\n",
      "Epoch 22 Iter 573: loss 0.02778. : 100%|████| 573/573 [00:03<00:00, 174.42it/s]\n",
      "Epoch 23 Iter 573: loss 0.06645. : 100%|████| 573/573 [00:03<00:00, 178.17it/s]\n",
      "Epoch 24 Iter 573: loss 0.08008. : 100%|████| 573/573 [00:03<00:00, 176.07it/s]\n",
      "Epoch 25 Iter 573: loss 0.35833. : 100%|████| 573/573 [00:03<00:00, 175.69it/s]\n"
     ]
    }
   ],
   "source": [
    "loss_hist = []\n",
    "acc_hist = []\n",
    "for epoch in range( EPOCHS):\n",
    "    loss_list = []\n",
    "    progress_bar = tqdm(enumerate(train_loader), total=len(train_loader))\n",
    "    for i, (images, labels) in progress_bar:\n",
    "        images = images.to(device)\n",
    "        labels = labels.to(device)\n",
    "        \n",
    "        # Clear gradients w.r.t. parameters\n",
    "        optimizer.zero_grad()\n",
    "         \n",
    "        # Forward pass to get output/logits\n",
    "        outputs = model(images)\n",
    "         \n",
    "        # Calculate Loss: softmax --> cross entropy loss\n",
    "        loss = criterion(outputs, labels)\n",
    "        loss_list.append(loss.item())\n",
    "         \n",
    "        # Getting gradients w.r.t. parameters\n",
    "        loss.backward()\n",
    "         \n",
    "        # Updating parameters\n",
    "        optimizer.step()\n",
    "        progress_bar.set_description(f\"Epoch {epoch+1} Iter {i+1}: loss {loss.item():.5f}. \")\n",
    "             \n",
    "    loss_hist.append(np.mean(loss_list))\n",
    "    accuracy, _ = eval_model(model)  \n",
    "    acc_hist.append(accuracy)\n",
    "    #print(f\"Classification accuracy: {round(accuracy, 2)}%\")"
   ]
  },
  {
   "cell_type": "code",
   "execution_count": 100,
   "id": "c552c010",
   "metadata": {},
   "outputs": [
    {
     "name": "stdout",
     "output_type": "stream",
     "text": [
      "Classification accuracy: 86.04%\n"
     ]
    }
   ],
   "source": [
    "accuracy, _ = eval_model(model)  \n",
    "print(f\"Classification accuracy: {round(accuracy, 2)}%\")"
   ]
  },
  {
   "cell_type": "code",
   "execution_count": 101,
   "id": "56e9f4f9",
   "metadata": {},
   "outputs": [],
   "source": [
    "super_names.append(\"CNN with ReLU using combination of Maximum and Average Pooling\")\n",
    "super_num.append(params)\n",
    "super_loss.append(loss_hist)\n",
    "super_acc.append(acc_hist)\n",
    "super_lr_rate.append(LR)"
   ]
  },
  {
   "cell_type": "code",
   "execution_count": 102,
   "id": "8c5d9c49",
   "metadata": {},
   "outputs": [
    {
     "data": {
      "text/plain": [
       "7"
      ]
     },
     "execution_count": 102,
     "metadata": {},
     "output_type": "execute_result"
    }
   ],
   "source": [
    "len(super_names)"
   ]
  },
  {
   "cell_type": "code",
   "execution_count": 107,
   "id": "96f63039",
   "metadata": {},
   "outputs": [
    {
     "data": {
      "text/plain": [
       "['Simple CNN with ReLU',\n",
       " 'CNN with ReLU using L1 Regularization',\n",
       " 'CNN with ReLU using L2 Regularization',\n",
       " 'CNN with ReLU using Elastic Regularization',\n",
       " 'CNN with ReLU using Dropout',\n",
       " 'CNN with ReLU using Average Pooling',\n",
       " 'CNN with ReLU using combination of Maximum and Average Pooling']"
      ]
     },
     "execution_count": 107,
     "metadata": {},
     "output_type": "execute_result"
    }
   ],
   "source": [
    "super_names"
   ]
  },
  {
   "cell_type": "code",
   "execution_count": 119,
   "id": "226a8940",
   "metadata": {},
   "outputs": [
    {
     "name": "stdout",
     "output_type": "stream",
     "text": [
      "Losses table of above 7 models\n"
     ]
    },
    {
     "data": {
      "text/html": [
       "<div>\n",
       "<style scoped>\n",
       "    .dataframe tbody tr th:only-of-type {\n",
       "        vertical-align: middle;\n",
       "    }\n",
       "\n",
       "    .dataframe tbody tr th {\n",
       "        vertical-align: top;\n",
       "    }\n",
       "\n",
       "    .dataframe thead th {\n",
       "        text-align: right;\n",
       "    }\n",
       "</style>\n",
       "<table border=\"1\" class=\"dataframe\">\n",
       "  <thead>\n",
       "    <tr style=\"text-align: right;\">\n",
       "      <th></th>\n",
       "      <th>Epochs</th>\n",
       "      <th>0</th>\n",
       "      <th>1</th>\n",
       "      <th>2</th>\n",
       "      <th>3</th>\n",
       "      <th>4</th>\n",
       "      <th>5</th>\n",
       "      <th>6</th>\n",
       "    </tr>\n",
       "  </thead>\n",
       "  <tbody>\n",
       "    <tr>\n",
       "      <th>0</th>\n",
       "      <td>0</td>\n",
       "      <td>0.825763</td>\n",
       "      <td>1.054683</td>\n",
       "      <td>0.848644</td>\n",
       "      <td>1.499455</td>\n",
       "      <td>1.035183</td>\n",
       "      <td>0.931836</td>\n",
       "      <td>0.944988</td>\n",
       "    </tr>\n",
       "    <tr>\n",
       "      <th>1</th>\n",
       "      <td>1</td>\n",
       "      <td>0.466681</td>\n",
       "      <td>0.578294</td>\n",
       "      <td>0.492060</td>\n",
       "      <td>0.705504</td>\n",
       "      <td>0.682679</td>\n",
       "      <td>0.513890</td>\n",
       "      <td>0.529308</td>\n",
       "    </tr>\n",
       "    <tr>\n",
       "      <th>2</th>\n",
       "      <td>2</td>\n",
       "      <td>0.392568</td>\n",
       "      <td>0.485251</td>\n",
       "      <td>0.412902</td>\n",
       "      <td>0.624795</td>\n",
       "      <td>0.600483</td>\n",
       "      <td>0.434697</td>\n",
       "      <td>0.442297</td>\n",
       "    </tr>\n",
       "    <tr>\n",
       "      <th>3</th>\n",
       "      <td>3</td>\n",
       "      <td>0.345935</td>\n",
       "      <td>0.422932</td>\n",
       "      <td>0.360383</td>\n",
       "      <td>0.577130</td>\n",
       "      <td>0.553769</td>\n",
       "      <td>0.378499</td>\n",
       "      <td>0.387158</td>\n",
       "    </tr>\n",
       "    <tr>\n",
       "      <th>4</th>\n",
       "      <td>4</td>\n",
       "      <td>0.312317</td>\n",
       "      <td>0.379026</td>\n",
       "      <td>0.325776</td>\n",
       "      <td>0.550607</td>\n",
       "      <td>0.522169</td>\n",
       "      <td>0.340446</td>\n",
       "      <td>0.347970</td>\n",
       "    </tr>\n",
       "    <tr>\n",
       "      <th>5</th>\n",
       "      <td>5</td>\n",
       "      <td>0.279906</td>\n",
       "      <td>0.344319</td>\n",
       "      <td>0.293391</td>\n",
       "      <td>0.530910</td>\n",
       "      <td>0.499574</td>\n",
       "      <td>0.306326</td>\n",
       "      <td>0.313327</td>\n",
       "    </tr>\n",
       "    <tr>\n",
       "      <th>6</th>\n",
       "      <td>6</td>\n",
       "      <td>0.257727</td>\n",
       "      <td>0.311822</td>\n",
       "      <td>0.265205</td>\n",
       "      <td>0.514852</td>\n",
       "      <td>0.480847</td>\n",
       "      <td>0.275226</td>\n",
       "      <td>0.290292</td>\n",
       "    </tr>\n",
       "    <tr>\n",
       "      <th>7</th>\n",
       "      <td>7</td>\n",
       "      <td>0.237075</td>\n",
       "      <td>0.284092</td>\n",
       "      <td>0.242962</td>\n",
       "      <td>0.498089</td>\n",
       "      <td>0.463752</td>\n",
       "      <td>0.252516</td>\n",
       "      <td>0.268949</td>\n",
       "    </tr>\n",
       "    <tr>\n",
       "      <th>8</th>\n",
       "      <td>8</td>\n",
       "      <td>0.210110</td>\n",
       "      <td>0.263274</td>\n",
       "      <td>0.231038</td>\n",
       "      <td>0.498453</td>\n",
       "      <td>0.450295</td>\n",
       "      <td>0.232530</td>\n",
       "      <td>0.245037</td>\n",
       "    </tr>\n",
       "    <tr>\n",
       "      <th>9</th>\n",
       "      <td>9</td>\n",
       "      <td>0.194025</td>\n",
       "      <td>0.243776</td>\n",
       "      <td>0.207138</td>\n",
       "      <td>0.492800</td>\n",
       "      <td>0.433754</td>\n",
       "      <td>0.208562</td>\n",
       "      <td>0.228121</td>\n",
       "    </tr>\n",
       "    <tr>\n",
       "      <th>10</th>\n",
       "      <td>10</td>\n",
       "      <td>0.186879</td>\n",
       "      <td>0.224981</td>\n",
       "      <td>0.192091</td>\n",
       "      <td>0.480717</td>\n",
       "      <td>0.428504</td>\n",
       "      <td>0.185926</td>\n",
       "      <td>0.205926</td>\n",
       "    </tr>\n",
       "    <tr>\n",
       "      <th>11</th>\n",
       "      <td>11</td>\n",
       "      <td>0.162527</td>\n",
       "      <td>0.202066</td>\n",
       "      <td>0.181987</td>\n",
       "      <td>0.478646</td>\n",
       "      <td>0.414137</td>\n",
       "      <td>0.173302</td>\n",
       "      <td>0.190704</td>\n",
       "    </tr>\n",
       "    <tr>\n",
       "      <th>12</th>\n",
       "      <td>12</td>\n",
       "      <td>0.156381</td>\n",
       "      <td>0.197233</td>\n",
       "      <td>0.173852</td>\n",
       "      <td>0.473878</td>\n",
       "      <td>0.411701</td>\n",
       "      <td>0.161973</td>\n",
       "      <td>0.180246</td>\n",
       "    </tr>\n",
       "    <tr>\n",
       "      <th>13</th>\n",
       "      <td>13</td>\n",
       "      <td>0.144109</td>\n",
       "      <td>0.185147</td>\n",
       "      <td>0.158369</td>\n",
       "      <td>0.462904</td>\n",
       "      <td>0.401813</td>\n",
       "      <td>0.143919</td>\n",
       "      <td>0.162348</td>\n",
       "    </tr>\n",
       "    <tr>\n",
       "      <th>14</th>\n",
       "      <td>14</td>\n",
       "      <td>0.134060</td>\n",
       "      <td>0.170268</td>\n",
       "      <td>0.158166</td>\n",
       "      <td>0.465121</td>\n",
       "      <td>0.397805</td>\n",
       "      <td>0.133462</td>\n",
       "      <td>0.164834</td>\n",
       "    </tr>\n",
       "    <tr>\n",
       "      <th>15</th>\n",
       "      <td>15</td>\n",
       "      <td>0.126129</td>\n",
       "      <td>0.158166</td>\n",
       "      <td>0.135500</td>\n",
       "      <td>0.459431</td>\n",
       "      <td>0.386251</td>\n",
       "      <td>0.121523</td>\n",
       "      <td>0.146128</td>\n",
       "    </tr>\n",
       "    <tr>\n",
       "      <th>16</th>\n",
       "      <td>16</td>\n",
       "      <td>0.115684</td>\n",
       "      <td>0.151181</td>\n",
       "      <td>0.144799</td>\n",
       "      <td>0.458052</td>\n",
       "      <td>0.380396</td>\n",
       "      <td>0.117097</td>\n",
       "      <td>0.138363</td>\n",
       "    </tr>\n",
       "    <tr>\n",
       "      <th>17</th>\n",
       "      <td>17</td>\n",
       "      <td>0.120835</td>\n",
       "      <td>0.140952</td>\n",
       "      <td>0.131170</td>\n",
       "      <td>0.456211</td>\n",
       "      <td>0.379118</td>\n",
       "      <td>0.110392</td>\n",
       "      <td>0.128809</td>\n",
       "    </tr>\n",
       "    <tr>\n",
       "      <th>18</th>\n",
       "      <td>18</td>\n",
       "      <td>0.106873</td>\n",
       "      <td>0.140853</td>\n",
       "      <td>0.132218</td>\n",
       "      <td>0.459480</td>\n",
       "      <td>0.373867</td>\n",
       "      <td>0.108328</td>\n",
       "      <td>0.121754</td>\n",
       "    </tr>\n",
       "    <tr>\n",
       "      <th>19</th>\n",
       "      <td>19</td>\n",
       "      <td>0.107538</td>\n",
       "      <td>0.139429</td>\n",
       "      <td>0.118346</td>\n",
       "      <td>0.445193</td>\n",
       "      <td>0.369743</td>\n",
       "      <td>0.097582</td>\n",
       "      <td>0.117452</td>\n",
       "    </tr>\n",
       "    <tr>\n",
       "      <th>20</th>\n",
       "      <td>20</td>\n",
       "      <td>0.099592</td>\n",
       "      <td>0.119476</td>\n",
       "      <td>0.104997</td>\n",
       "      <td>0.448437</td>\n",
       "      <td>0.369788</td>\n",
       "      <td>0.091498</td>\n",
       "      <td>0.105226</td>\n",
       "    </tr>\n",
       "    <tr>\n",
       "      <th>21</th>\n",
       "      <td>21</td>\n",
       "      <td>0.094808</td>\n",
       "      <td>0.115655</td>\n",
       "      <td>0.111003</td>\n",
       "      <td>0.454139</td>\n",
       "      <td>0.361517</td>\n",
       "      <td>0.089652</td>\n",
       "      <td>0.108363</td>\n",
       "    </tr>\n",
       "    <tr>\n",
       "      <th>22</th>\n",
       "      <td>22</td>\n",
       "      <td>0.083781</td>\n",
       "      <td>0.117052</td>\n",
       "      <td>0.116367</td>\n",
       "      <td>0.447768</td>\n",
       "      <td>0.360050</td>\n",
       "      <td>0.081130</td>\n",
       "      <td>0.099427</td>\n",
       "    </tr>\n",
       "    <tr>\n",
       "      <th>23</th>\n",
       "      <td>23</td>\n",
       "      <td>0.088140</td>\n",
       "      <td>0.116872</td>\n",
       "      <td>0.102081</td>\n",
       "      <td>0.440341</td>\n",
       "      <td>0.350660</td>\n",
       "      <td>0.077384</td>\n",
       "      <td>0.104570</td>\n",
       "    </tr>\n",
       "    <tr>\n",
       "      <th>24</th>\n",
       "      <td>24</td>\n",
       "      <td>0.091300</td>\n",
       "      <td>0.102676</td>\n",
       "      <td>0.104794</td>\n",
       "      <td>0.437224</td>\n",
       "      <td>0.350501</td>\n",
       "      <td>0.080100</td>\n",
       "      <td>0.094242</td>\n",
       "    </tr>\n",
       "  </tbody>\n",
       "</table>\n",
       "</div>"
      ],
      "text/plain": [
       "    Epochs         0         1         2         3         4         5  \\\n",
       "0        0  0.825763  1.054683  0.848644  1.499455  1.035183  0.931836   \n",
       "1        1  0.466681  0.578294  0.492060  0.705504  0.682679  0.513890   \n",
       "2        2  0.392568  0.485251  0.412902  0.624795  0.600483  0.434697   \n",
       "3        3  0.345935  0.422932  0.360383  0.577130  0.553769  0.378499   \n",
       "4        4  0.312317  0.379026  0.325776  0.550607  0.522169  0.340446   \n",
       "5        5  0.279906  0.344319  0.293391  0.530910  0.499574  0.306326   \n",
       "6        6  0.257727  0.311822  0.265205  0.514852  0.480847  0.275226   \n",
       "7        7  0.237075  0.284092  0.242962  0.498089  0.463752  0.252516   \n",
       "8        8  0.210110  0.263274  0.231038  0.498453  0.450295  0.232530   \n",
       "9        9  0.194025  0.243776  0.207138  0.492800  0.433754  0.208562   \n",
       "10      10  0.186879  0.224981  0.192091  0.480717  0.428504  0.185926   \n",
       "11      11  0.162527  0.202066  0.181987  0.478646  0.414137  0.173302   \n",
       "12      12  0.156381  0.197233  0.173852  0.473878  0.411701  0.161973   \n",
       "13      13  0.144109  0.185147  0.158369  0.462904  0.401813  0.143919   \n",
       "14      14  0.134060  0.170268  0.158166  0.465121  0.397805  0.133462   \n",
       "15      15  0.126129  0.158166  0.135500  0.459431  0.386251  0.121523   \n",
       "16      16  0.115684  0.151181  0.144799  0.458052  0.380396  0.117097   \n",
       "17      17  0.120835  0.140952  0.131170  0.456211  0.379118  0.110392   \n",
       "18      18  0.106873  0.140853  0.132218  0.459480  0.373867  0.108328   \n",
       "19      19  0.107538  0.139429  0.118346  0.445193  0.369743  0.097582   \n",
       "20      20  0.099592  0.119476  0.104997  0.448437  0.369788  0.091498   \n",
       "21      21  0.094808  0.115655  0.111003  0.454139  0.361517  0.089652   \n",
       "22      22  0.083781  0.117052  0.116367  0.447768  0.360050  0.081130   \n",
       "23      23  0.088140  0.116872  0.102081  0.440341  0.350660  0.077384   \n",
       "24      24  0.091300  0.102676  0.104794  0.437224  0.350501  0.080100   \n",
       "\n",
       "           6  \n",
       "0   0.944988  \n",
       "1   0.529308  \n",
       "2   0.442297  \n",
       "3   0.387158  \n",
       "4   0.347970  \n",
       "5   0.313327  \n",
       "6   0.290292  \n",
       "7   0.268949  \n",
       "8   0.245037  \n",
       "9   0.228121  \n",
       "10  0.205926  \n",
       "11  0.190704  \n",
       "12  0.180246  \n",
       "13  0.162348  \n",
       "14  0.164834  \n",
       "15  0.146128  \n",
       "16  0.138363  \n",
       "17  0.128809  \n",
       "18  0.121754  \n",
       "19  0.117452  \n",
       "20  0.105226  \n",
       "21  0.108363  \n",
       "22  0.099427  \n",
       "23  0.104570  \n",
       "24  0.094242  "
      ]
     },
     "execution_count": 119,
     "metadata": {},
     "output_type": "execute_result"
    }
   ],
   "source": [
    "num = range(0,25)\n",
    "df_loss = pd.DataFrame(num,columns = ['Epochs'])\n",
    "for i in range(len(super_names)):\n",
    "    df_loss[i] = pd.DataFrame(super_loss[i], columns = ['loss'])\n",
    "df_loss.to_csv('cnn_origin_losses.csv', sep=',',index = False)\n",
    "print(\"Losses table of above 7 models\")\n",
    "df_loss"
   ]
  },
  {
   "cell_type": "code",
   "execution_count": 120,
   "id": "834df9ee",
   "metadata": {},
   "outputs": [
    {
     "name": "stdout",
     "output_type": "stream",
     "text": [
      "Accuracy table of above 7 models\n"
     ]
    },
    {
     "data": {
      "text/html": [
       "<div>\n",
       "<style scoped>\n",
       "    .dataframe tbody tr th:only-of-type {\n",
       "        vertical-align: middle;\n",
       "    }\n",
       "\n",
       "    .dataframe tbody tr th {\n",
       "        vertical-align: top;\n",
       "    }\n",
       "\n",
       "    .dataframe thead th {\n",
       "        text-align: right;\n",
       "    }\n",
       "</style>\n",
       "<table border=\"1\" class=\"dataframe\">\n",
       "  <thead>\n",
       "    <tr style=\"text-align: right;\">\n",
       "      <th></th>\n",
       "      <th>Epochs</th>\n",
       "      <th>0</th>\n",
       "      <th>1</th>\n",
       "      <th>2</th>\n",
       "      <th>3</th>\n",
       "      <th>4</th>\n",
       "      <th>5</th>\n",
       "      <th>6</th>\n",
       "    </tr>\n",
       "  </thead>\n",
       "  <tbody>\n",
       "    <tr>\n",
       "      <th>0</th>\n",
       "      <td>0</td>\n",
       "      <td>84.449908</td>\n",
       "      <td>79.029656</td>\n",
       "      <td>82.110479</td>\n",
       "      <td>77.500768</td>\n",
       "      <td>75.391825</td>\n",
       "      <td>81.680240</td>\n",
       "      <td>81.296097</td>\n",
       "    </tr>\n",
       "    <tr>\n",
       "      <th>1</th>\n",
       "      <td>1</td>\n",
       "      <td>85.099109</td>\n",
       "      <td>81.484327</td>\n",
       "      <td>83.109250</td>\n",
       "      <td>83.113092</td>\n",
       "      <td>78.007837</td>\n",
       "      <td>84.872465</td>\n",
       "      <td>83.777658</td>\n",
       "    </tr>\n",
       "    <tr>\n",
       "      <th>2</th>\n",
       "      <td>2</td>\n",
       "      <td>87.154272</td>\n",
       "      <td>83.439613</td>\n",
       "      <td>85.360326</td>\n",
       "      <td>83.996620</td>\n",
       "      <td>80.558543</td>\n",
       "      <td>84.745698</td>\n",
       "      <td>85.410264</td>\n",
       "    </tr>\n",
       "    <tr>\n",
       "      <th>3</th>\n",
       "      <td>3</td>\n",
       "      <td>87.265673</td>\n",
       "      <td>84.534419</td>\n",
       "      <td>87.058236</td>\n",
       "      <td>85.214352</td>\n",
       "      <td>80.205132</td>\n",
       "      <td>86.397511</td>\n",
       "      <td>85.652274</td>\n",
       "    </tr>\n",
       "    <tr>\n",
       "      <th>4</th>\n",
       "      <td>4</td>\n",
       "      <td>87.112016</td>\n",
       "      <td>85.951905</td>\n",
       "      <td>86.351414</td>\n",
       "      <td>85.014597</td>\n",
       "      <td>81.764751</td>\n",
       "      <td>86.508912</td>\n",
       "      <td>86.370621</td>\n",
       "    </tr>\n",
       "    <tr>\n",
       "      <th>5</th>\n",
       "      <td>5</td>\n",
       "      <td>86.739398</td>\n",
       "      <td>85.767517</td>\n",
       "      <td>87.081285</td>\n",
       "      <td>85.060695</td>\n",
       "      <td>82.371696</td>\n",
       "      <td>87.065919</td>\n",
       "      <td>86.850799</td>\n",
       "    </tr>\n",
       "    <tr>\n",
       "      <th>6</th>\n",
       "      <td>6</td>\n",
       "      <td>87.127382</td>\n",
       "      <td>85.586970</td>\n",
       "      <td>87.461586</td>\n",
       "      <td>85.863553</td>\n",
       "      <td>82.237246</td>\n",
       "      <td>87.039029</td>\n",
       "      <td>87.515366</td>\n",
       "    </tr>\n",
       "    <tr>\n",
       "      <th>7</th>\n",
       "      <td>7</td>\n",
       "      <td>87.622926</td>\n",
       "      <td>85.986478</td>\n",
       "      <td>87.311770</td>\n",
       "      <td>86.528119</td>\n",
       "      <td>83.051629</td>\n",
       "      <td>87.288722</td>\n",
       "      <td>86.996773</td>\n",
       "    </tr>\n",
       "    <tr>\n",
       "      <th>8</th>\n",
       "      <td>8</td>\n",
       "      <td>87.100492</td>\n",
       "      <td>84.907037</td>\n",
       "      <td>86.435925</td>\n",
       "      <td>86.312999</td>\n",
       "      <td>82.237246</td>\n",
       "      <td>87.911033</td>\n",
       "      <td>87.526890</td>\n",
       "    </tr>\n",
       "    <tr>\n",
       "      <th>9</th>\n",
       "      <td>9</td>\n",
       "      <td>86.850799</td>\n",
       "      <td>86.040258</td>\n",
       "      <td>87.096650</td>\n",
       "      <td>85.894284</td>\n",
       "      <td>83.139982</td>\n",
       "      <td>87.108175</td>\n",
       "      <td>86.931469</td>\n",
       "    </tr>\n",
       "    <tr>\n",
       "      <th>10</th>\n",
       "      <td>10</td>\n",
       "      <td>86.870006</td>\n",
       "      <td>85.767517</td>\n",
       "      <td>86.700983</td>\n",
       "      <td>86.992932</td>\n",
       "      <td>82.740473</td>\n",
       "      <td>87.699754</td>\n",
       "      <td>86.935310</td>\n",
       "    </tr>\n",
       "    <tr>\n",
       "      <th>11</th>\n",
       "      <td>11</td>\n",
       "      <td>87.000615</td>\n",
       "      <td>85.517824</td>\n",
       "      <td>86.097880</td>\n",
       "      <td>86.608789</td>\n",
       "      <td>82.494622</td>\n",
       "      <td>87.319453</td>\n",
       "      <td>86.942993</td>\n",
       "    </tr>\n",
       "    <tr>\n",
       "      <th>12</th>\n",
       "      <td>12</td>\n",
       "      <td>87.269514</td>\n",
       "      <td>85.898125</td>\n",
       "      <td>87.108175</td>\n",
       "      <td>87.622926</td>\n",
       "      <td>83.401199</td>\n",
       "      <td>87.039029</td>\n",
       "      <td>87.423171</td>\n",
       "    </tr>\n",
       "    <tr>\n",
       "      <th>13</th>\n",
       "      <td>13</td>\n",
       "      <td>86.996773</td>\n",
       "      <td>86.147818</td>\n",
       "      <td>87.419330</td>\n",
       "      <td>87.292563</td>\n",
       "      <td>83.527966</td>\n",
       "      <td>86.120928</td>\n",
       "      <td>87.450061</td>\n",
       "    </tr>\n",
       "    <tr>\n",
       "      <th>14</th>\n",
       "      <td>14</td>\n",
       "      <td>86.708666</td>\n",
       "      <td>85.233559</td>\n",
       "      <td>86.670252</td>\n",
       "      <td>87.158113</td>\n",
       "      <td>83.324370</td>\n",
       "      <td>87.108175</td>\n",
       "      <td>86.839275</td>\n",
       "    </tr>\n",
       "    <tr>\n",
       "      <th>15</th>\n",
       "      <td>15</td>\n",
       "      <td>86.773970</td>\n",
       "      <td>86.178549</td>\n",
       "      <td>86.942993</td>\n",
       "      <td>87.088967</td>\n",
       "      <td>83.232176</td>\n",
       "      <td>86.827750</td>\n",
       "      <td>86.708666</td>\n",
       "    </tr>\n",
       "    <tr>\n",
       "      <th>16</th>\n",
       "      <td>16</td>\n",
       "      <td>87.042870</td>\n",
       "      <td>86.451291</td>\n",
       "      <td>86.693301</td>\n",
       "      <td>86.458974</td>\n",
       "      <td>82.955593</td>\n",
       "      <td>86.985249</td>\n",
       "      <td>87.000615</td>\n",
       "    </tr>\n",
       "    <tr>\n",
       "      <th>17</th>\n",
       "      <td>17</td>\n",
       "      <td>86.382145</td>\n",
       "      <td>86.067148</td>\n",
       "      <td>86.812385</td>\n",
       "      <td>87.188844</td>\n",
       "      <td>83.842963</td>\n",
       "      <td>86.501229</td>\n",
       "      <td>86.727873</td>\n",
       "    </tr>\n",
       "    <tr>\n",
       "      <th>18</th>\n",
       "      <td>18</td>\n",
       "      <td>86.409035</td>\n",
       "      <td>84.530578</td>\n",
       "      <td>85.667640</td>\n",
       "      <td>87.634450</td>\n",
       "      <td>82.970959</td>\n",
       "      <td>86.435925</td>\n",
       "      <td>86.927628</td>\n",
       "    </tr>\n",
       "    <tr>\n",
       "      <th>19</th>\n",
       "      <td>19</td>\n",
       "      <td>86.958359</td>\n",
       "      <td>86.216964</td>\n",
       "      <td>86.585741</td>\n",
       "      <td>87.388599</td>\n",
       "      <td>82.986325</td>\n",
       "      <td>86.531961</td>\n",
       "      <td>86.727873</td>\n",
       "    </tr>\n",
       "    <tr>\n",
       "      <th>20</th>\n",
       "      <td>20</td>\n",
       "      <td>86.167025</td>\n",
       "      <td>85.368009</td>\n",
       "      <td>86.681776</td>\n",
       "      <td>87.327136</td>\n",
       "      <td>84.161801</td>\n",
       "      <td>87.219576</td>\n",
       "      <td>87.208052</td>\n",
       "    </tr>\n",
       "    <tr>\n",
       "      <th>21</th>\n",
       "      <td>21</td>\n",
       "      <td>86.662569</td>\n",
       "      <td>85.840504</td>\n",
       "      <td>86.205439</td>\n",
       "      <td>87.219576</td>\n",
       "      <td>83.531807</td>\n",
       "      <td>86.566533</td>\n",
       "      <td>86.409035</td>\n",
       "    </tr>\n",
       "    <tr>\n",
       "      <th>22</th>\n",
       "      <td>22</td>\n",
       "      <td>87.081285</td>\n",
       "      <td>85.898125</td>\n",
       "      <td>87.304087</td>\n",
       "      <td>87.538414</td>\n",
       "      <td>82.559926</td>\n",
       "      <td>85.248924</td>\n",
       "      <td>86.362938</td>\n",
       "    </tr>\n",
       "    <tr>\n",
       "      <th>23</th>\n",
       "      <td>23</td>\n",
       "      <td>86.631838</td>\n",
       "      <td>85.475569</td>\n",
       "      <td>86.977566</td>\n",
       "      <td>87.991703</td>\n",
       "      <td>83.282114</td>\n",
       "      <td>86.931469</td>\n",
       "      <td>86.297634</td>\n",
       "    </tr>\n",
       "    <tr>\n",
       "      <th>24</th>\n",
       "      <td>24</td>\n",
       "      <td>86.497388</td>\n",
       "      <td>85.214352</td>\n",
       "      <td>87.503841</td>\n",
       "      <td>87.811156</td>\n",
       "      <td>83.604794</td>\n",
       "      <td>86.493546</td>\n",
       "      <td>86.044100</td>\n",
       "    </tr>\n",
       "  </tbody>\n",
       "</table>\n",
       "</div>"
      ],
      "text/plain": [
       "    Epochs          0          1          2          3          4          5  \\\n",
       "0        0  84.449908  79.029656  82.110479  77.500768  75.391825  81.680240   \n",
       "1        1  85.099109  81.484327  83.109250  83.113092  78.007837  84.872465   \n",
       "2        2  87.154272  83.439613  85.360326  83.996620  80.558543  84.745698   \n",
       "3        3  87.265673  84.534419  87.058236  85.214352  80.205132  86.397511   \n",
       "4        4  87.112016  85.951905  86.351414  85.014597  81.764751  86.508912   \n",
       "5        5  86.739398  85.767517  87.081285  85.060695  82.371696  87.065919   \n",
       "6        6  87.127382  85.586970  87.461586  85.863553  82.237246  87.039029   \n",
       "7        7  87.622926  85.986478  87.311770  86.528119  83.051629  87.288722   \n",
       "8        8  87.100492  84.907037  86.435925  86.312999  82.237246  87.911033   \n",
       "9        9  86.850799  86.040258  87.096650  85.894284  83.139982  87.108175   \n",
       "10      10  86.870006  85.767517  86.700983  86.992932  82.740473  87.699754   \n",
       "11      11  87.000615  85.517824  86.097880  86.608789  82.494622  87.319453   \n",
       "12      12  87.269514  85.898125  87.108175  87.622926  83.401199  87.039029   \n",
       "13      13  86.996773  86.147818  87.419330  87.292563  83.527966  86.120928   \n",
       "14      14  86.708666  85.233559  86.670252  87.158113  83.324370  87.108175   \n",
       "15      15  86.773970  86.178549  86.942993  87.088967  83.232176  86.827750   \n",
       "16      16  87.042870  86.451291  86.693301  86.458974  82.955593  86.985249   \n",
       "17      17  86.382145  86.067148  86.812385  87.188844  83.842963  86.501229   \n",
       "18      18  86.409035  84.530578  85.667640  87.634450  82.970959  86.435925   \n",
       "19      19  86.958359  86.216964  86.585741  87.388599  82.986325  86.531961   \n",
       "20      20  86.167025  85.368009  86.681776  87.327136  84.161801  87.219576   \n",
       "21      21  86.662569  85.840504  86.205439  87.219576  83.531807  86.566533   \n",
       "22      22  87.081285  85.898125  87.304087  87.538414  82.559926  85.248924   \n",
       "23      23  86.631838  85.475569  86.977566  87.991703  83.282114  86.931469   \n",
       "24      24  86.497388  85.214352  87.503841  87.811156  83.604794  86.493546   \n",
       "\n",
       "            6  \n",
       "0   81.296097  \n",
       "1   83.777658  \n",
       "2   85.410264  \n",
       "3   85.652274  \n",
       "4   86.370621  \n",
       "5   86.850799  \n",
       "6   87.515366  \n",
       "7   86.996773  \n",
       "8   87.526890  \n",
       "9   86.931469  \n",
       "10  86.935310  \n",
       "11  86.942993  \n",
       "12  87.423171  \n",
       "13  87.450061  \n",
       "14  86.839275  \n",
       "15  86.708666  \n",
       "16  87.000615  \n",
       "17  86.727873  \n",
       "18  86.927628  \n",
       "19  86.727873  \n",
       "20  87.208052  \n",
       "21  86.409035  \n",
       "22  86.362938  \n",
       "23  86.297634  \n",
       "24  86.044100  "
      ]
     },
     "execution_count": 120,
     "metadata": {},
     "output_type": "execute_result"
    }
   ],
   "source": [
    "num = range(0,25)\n",
    "df_acc = pd.DataFrame(num,columns = ['Epochs'])\n",
    "for i in range(len(super_names)):\n",
    "    df_acc[i] = pd.DataFrame(super_acc[i], columns = ['accuracy'])\n",
    "df_acc.to_csv('cnn_origin_acc.csv', sep=',',index = False)  \n",
    "print(\"Accuracy table of above 7 models\")\n",
    "df_acc"
   ]
  },
  {
   "cell_type": "markdown",
   "id": "79e8bdf1",
   "metadata": {},
   "source": [
    "# Max accuracy was achieved after 10 epochs and later we observed an oscillation of the model accuracy the same number generally 86 with max accuracy close to 87.99 percent with elastic regularization."
   ]
  },
  {
   "cell_type": "code",
   "execution_count": 115,
   "id": "1bea566d",
   "metadata": {},
   "outputs": [
    {
     "name": "stdout",
     "output_type": "stream",
     "text": [
      "Batch size = 128, Learning Rate = 0.001 and number of parameters =  122626\n",
      "\n",
      "\n",
      "Simple CNN with ReLU max accuracy is  87.62292562999386\n",
      "CNN with ReLU using L1 Regularization max accuracy is  86.45129071911494\n",
      "CNN with ReLU using L2 Regularization max accuracy is  87.50384142593731\n",
      "CNN with ReLU using Elastic Regularization max accuracy is  87.9917025199754\n",
      "CNN with ReLU using Dropout max accuracy is  84.1618008604794\n",
      "CNN with ReLU using Average Pooling max accuracy is  87.91103257529194\n",
      "CNN with ReLU using combination of Maximum and Average Pooling max accuracy is  87.52688998156115\n"
     ]
    }
   ],
   "source": [
    "print(\"Batch size = 128, Learning Rate = 0.001 and number of parameters = \",super_num[0])\n",
    "print(\"\\n\")\n",
    "for i in range(len(super_names)):\n",
    "    print(super_names[i],\"max accuracy is \",max(df_acc[i]))\n"
   ]
  },
  {
   "cell_type": "markdown",
   "id": "0ab16a57",
   "metadata": {},
   "source": [
    "# Line plots of loss and accuracy of above models"
   ]
  },
  {
   "cell_type": "markdown",
   "id": "3ebbcb66",
   "metadata": {},
   "source": [
    "### The plots below look somewhat similar but the ones using regularization appear slightly smoother and tries to avoid ovefitting which is not the case with simple CNN"
   ]
  },
  {
   "cell_type": "code",
   "execution_count": 132,
   "id": "02d76738",
   "metadata": {},
   "outputs": [
    {
     "name": "stdout",
     "output_type": "stream",
     "text": [
      "Simple CNN with ReLU \n",
      "\n"
     ]
    },
    {
     "data": {
      "text/plain": [
       "[Text(0.5, 0, 'Epochs'), Text(0, 0.5, 'Loss')]"
      ]
     },
     "execution_count": 132,
     "metadata": {},
     "output_type": "execute_result"
    },
    {
     "data": {
      "text/plain": [
       "<Figure size 432x288 with 0 Axes>"
      ]
     },
     "metadata": {},
     "output_type": "display_data"
    },
    {
     "data": {
      "image/png": "[encoded data removed]",
      "text/plain": [
       "<Figure size 720x432 with 1 Axes>"
      ]
     },
     "metadata": {
      "needs_background": "light"
     },
     "output_type": "display_data"
    }
   ],
   "source": [
    "idx = 0\n",
    "print(super_names[idx])\n",
    "fig = plt.figure()\n",
    "fig = plt.figure(figsize=(10,6))\n",
    "p = sns.lineplot(data=df_loss, x=\"Epochs\", y=idx)\n",
    "p = sns.scatterplot(data=df_loss, x=\"Epochs\", y=idx)\n",
    "p.set_title(\"Learning curve\")   # change here\n",
    "p.set(xlabel='Epochs', ylabel='Loss')"
   ]
  },
  {
   "cell_type": "code",
   "execution_count": 133,
   "id": "fc78edcd",
   "metadata": {},
   "outputs": [
    {
     "name": "stdout",
     "output_type": "stream",
     "text": [
      "Simple CNN with ReLU\n"
     ]
    },
    {
     "data": {
      "text/plain": [
       "[Text(0.5, 0, 'Epochs'), Text(0, 0.5, 'Accuracy')]"
      ]
     },
     "execution_count": 133,
     "metadata": {},
     "output_type": "execute_result"
    },
    {
     "data": {
      "text/plain": [
       "<Figure size 432x288 with 0 Axes>"
      ]
     },
     "metadata": {},
     "output_type": "display_data"
    },
    {
     "data": {
      "image/png": "[encoded data removed]",
      "text/plain": [
       "<Figure size 720x432 with 1 Axes>"
      ]
     },
     "metadata": {
      "needs_background": "light"
     },
     "output_type": "display_data"
    }
   ],
   "source": [
    "idx = 0\n",
    "print(super_names[idx])\n",
    "fig = plt.figure()\n",
    "fig = plt.figure(figsize=(10,6))\n",
    "p = sns.lineplot(data=df_acc, x=\"Epochs\", y=idx)\n",
    "p = sns.scatterplot(data=df_acc, x=\"Epochs\", y=idx)\n",
    "p.set_title(\"Learning curve\")   # change here\n",
    "p.set(xlabel='Epochs', ylabel='Accuracy')"
   ]
  },
  {
   "cell_type": "code",
   "execution_count": 134,
   "id": "b53afbd6",
   "metadata": {},
   "outputs": [
    {
     "name": "stdout",
     "output_type": "stream",
     "text": [
      "CNN with ReLU using L1 Regularization\n"
     ]
    },
    {
     "data": {
      "text/plain": [
       "[Text(0.5, 0, 'Epochs'), Text(0, 0.5, 'Loss')]"
      ]
     },
     "execution_count": 134,
     "metadata": {},
     "output_type": "execute_result"
    },
    {
     "data": {
      "text/plain": [
       "<Figure size 432x288 with 0 Axes>"
      ]
     },
     "metadata": {},
     "output_type": "display_data"
    },
    {
     "data": {
      "image/png": "[encoded data removed]",
      "text/plain": [
       "<Figure size 720x432 with 1 Axes>"
      ]
     },
     "metadata": {
      "needs_background": "light"
     },
     "output_type": "display_data"
    }
   ],
   "source": [
    "idx = 1\n",
    "print(super_names[idx])\n",
    "fig = plt.figure()\n",
    "fig = plt.figure(figsize=(10,6))\n",
    "p = sns.lineplot(data=df_loss, x=\"Epochs\", y=idx)\n",
    "p = sns.scatterplot(data=df_loss, x=\"Epochs\", y=idx)\n",
    "p.set_title(\"Learning curve\")   # change here\n",
    "p.set(xlabel='Epochs', ylabel='Loss')"
   ]
  },
  {
   "cell_type": "code",
   "execution_count": 135,
   "id": "c7281c20",
   "metadata": {},
   "outputs": [
    {
     "name": "stdout",
     "output_type": "stream",
     "text": [
      "CNN with ReLU using L1 Regularization\n"
     ]
    },
    {
     "data": {
      "text/plain": [
       "[Text(0.5, 0, 'Epochs'), Text(0, 0.5, 'Accuracy')]"
      ]
     },
     "execution_count": 135,
     "metadata": {},
     "output_type": "execute_result"
    },
    {
     "data": {
      "text/plain": [
       "<Figure size 432x288 with 0 Axes>"
      ]
     },
     "metadata": {},
     "output_type": "display_data"
    },
    {
     "data": {
      "image/png": "[encoded data removed]",
      "text/plain": [
       "<Figure size 720x432 with 1 Axes>"
      ]
     },
     "metadata": {
      "needs_background": "light"
     },
     "output_type": "display_data"
    }
   ],
   "source": [
    "idx = 1\n",
    "print(super_names[idx])\n",
    "fig = plt.figure()\n",
    "fig = plt.figure(figsize=(10,6))\n",
    "p = sns.lineplot(data=df_acc, x=\"Epochs\", y=idx)\n",
    "p = sns.scatterplot(data=df_acc, x=\"Epochs\", y=idx)\n",
    "p.set_title(\"Learning curve\")   # change here\n",
    "p.set(xlabel='Epochs', ylabel='Accuracy')"
   ]
  },
  {
   "cell_type": "code",
   "execution_count": 136,
   "id": "e3657541",
   "metadata": {},
   "outputs": [
    {
     "name": "stdout",
     "output_type": "stream",
     "text": [
      "CNN with ReLU using L2 Regularization\n"
     ]
    },
    {
     "data": {
      "text/plain": [
       "[Text(0.5, 0, 'Epochs'), Text(0, 0.5, 'Loss')]"
      ]
     },
     "execution_count": 136,
     "metadata": {},
     "output_type": "execute_result"
    },
    {
     "data": {
      "text/plain": [
       "<Figure size 432x288 with 0 Axes>"
      ]
     },
     "metadata": {},
     "output_type": "display_data"
    },
    {
     "data": {
      "image/png": "[encoded data removed]",
      "text/plain": [
       "<Figure size 720x432 with 1 Axes>"
      ]
     },
     "metadata": {
      "needs_background": "light"
     },
     "output_type": "display_data"
    }
   ],
   "source": [
    "idx = 2\n",
    "print(super_names[idx])\n",
    "fig = plt.figure()\n",
    "fig = plt.figure(figsize=(10,6))\n",
    "p = sns.lineplot(data=df_loss, x=\"Epochs\", y=idx)\n",
    "p = sns.scatterplot(data=df_loss, x=\"Epochs\", y=idx)\n",
    "p.set_title(\"Learning curve\")   # change here\n",
    "p.set(xlabel='Epochs', ylabel='Loss')"
   ]
  },
  {
   "cell_type": "code",
   "execution_count": 137,
   "id": "5e39cab4",
   "metadata": {},
   "outputs": [
    {
     "name": "stdout",
     "output_type": "stream",
     "text": [
      "CNN with ReLU using L2 Regularization\n"
     ]
    },
    {
     "data": {
      "text/plain": [
       "[Text(0.5, 0, 'Epochs'), Text(0, 0.5, 'Accuracy')]"
      ]
     },
     "execution_count": 137,
     "metadata": {},
     "output_type": "execute_result"
    },
    {
     "data": {
      "text/plain": [
       "<Figure size 432x288 with 0 Axes>"
      ]
     },
     "metadata": {},
     "output_type": "display_data"
    },
    {
     "data": {
      "image/png": "[encoded data removed]",
      "text/plain": [
       "<Figure size 720x432 with 1 Axes>"
      ]
     },
     "metadata": {
      "needs_background": "light"
     },
     "output_type": "display_data"
    }
   ],
   "source": [
    "idx = 2\n",
    "print(super_names[idx])\n",
    "fig = plt.figure()\n",
    "fig = plt.figure(figsize=(10,6))\n",
    "p = sns.lineplot(data=df_acc, x=\"Epochs\", y=idx)\n",
    "p = sns.scatterplot(data=df_acc, x=\"Epochs\", y=idx)\n",
    "p.set_title(\"Learning curve\")   # change here\n",
    "p.set(xlabel='Epochs', ylabel='Accuracy')"
   ]
  },
  {
   "cell_type": "code",
   "execution_count": 138,
   "id": "a1d6a77f",
   "metadata": {},
   "outputs": [
    {
     "name": "stdout",
     "output_type": "stream",
     "text": [
      "CNN with ReLU using Elastic Regularization\n"
     ]
    },
    {
     "data": {
      "text/plain": [
       "[Text(0.5, 0, 'Epochs'), Text(0, 0.5, 'Loss')]"
      ]
     },
     "execution_count": 138,
     "metadata": {},
     "output_type": "execute_result"
    },
    {
     "data": {
      "text/plain": [
       "<Figure size 432x288 with 0 Axes>"
      ]
     },
     "metadata": {},
     "output_type": "display_data"
    },
    {
     "data": {
      "image/png": "[encoded data removed]",
      "text/plain": [
       "<Figure size 720x432 with 1 Axes>"
      ]
     },
     "metadata": {
      "needs_background": "light"
     },
     "output_type": "display_data"
    }
   ],
   "source": [
    "idx = 3\n",
    "print(super_names[idx])\n",
    "fig = plt.figure()\n",
    "fig = plt.figure(figsize=(10,6))\n",
    "p = sns.lineplot(data=df_loss, x=\"Epochs\", y=idx)\n",
    "p = sns.scatterplot(data=df_loss, x=\"Epochs\", y=idx)\n",
    "p.set_title(\"Learning curve\")   # change here\n",
    "p.set(xlabel='Epochs', ylabel='Loss')"
   ]
  },
  {
   "cell_type": "code",
   "execution_count": 139,
   "id": "d0885d73",
   "metadata": {},
   "outputs": [
    {
     "name": "stdout",
     "output_type": "stream",
     "text": [
      "CNN with ReLU using Elastic Regularization\n"
     ]
    },
    {
     "data": {
      "text/plain": [
       "[Text(0.5, 0, 'Epochs'), Text(0, 0.5, 'Accuracy')]"
      ]
     },
     "execution_count": 139,
     "metadata": {},
     "output_type": "execute_result"
    },
    {
     "data": {
      "text/plain": [
       "<Figure size 432x288 with 0 Axes>"
      ]
     },
     "metadata": {},
     "output_type": "display_data"
    },
    {
     "data": {
      "image/png": "[encoded data removed]",
      "text/plain": [
       "<Figure size 720x432 with 1 Axes>"
      ]
     },
     "metadata": {
      "needs_background": "light"
     },
     "output_type": "display_data"
    }
   ],
   "source": [
    "idx = 3\n",
    "print(super_names[idx])\n",
    "fig = plt.figure()\n",
    "fig = plt.figure(figsize=(10,6))\n",
    "p = sns.lineplot(data=df_acc, x=\"Epochs\", y=idx)\n",
    "p = sns.scatterplot(data=df_acc, x=\"Epochs\", y=idx)\n",
    "p.set_title(\"Learning curve\")   # change here\n",
    "p.set(xlabel='Epochs', ylabel='Accuracy')"
   ]
  },
  {
   "cell_type": "code",
   "execution_count": 140,
   "id": "70d9d9ba",
   "metadata": {},
   "outputs": [
    {
     "name": "stdout",
     "output_type": "stream",
     "text": [
      "CNN with ReLU using Dropout\n"
     ]
    },
    {
     "data": {
      "text/plain": [
       "[Text(0.5, 0, 'Epochs'), Text(0, 0.5, 'Loss')]"
      ]
     },
     "execution_count": 140,
     "metadata": {},
     "output_type": "execute_result"
    },
    {
     "data": {
      "text/plain": [
       "<Figure size 432x288 with 0 Axes>"
      ]
     },
     "metadata": {},
     "output_type": "display_data"
    },
    {
     "data": {
      "image/png": "[encoded data removed]",
      "text/plain": [
       "<Figure size 720x432 with 1 Axes>"
      ]
     },
     "metadata": {
      "needs_background": "light"
     },
     "output_type": "display_data"
    }
   ],
   "source": [
    "idx = 4\n",
    "print(super_names[idx])\n",
    "fig = plt.figure()\n",
    "fig = plt.figure(figsize=(10,6))\n",
    "p = sns.lineplot(data=df_loss, x=\"Epochs\", y=idx)\n",
    "p = sns.scatterplot(data=df_loss, x=\"Epochs\", y=idx)\n",
    "p.set_title(\"Learning curve\")   # change here\n",
    "p.set(xlabel='Epochs', ylabel='Loss')"
   ]
  },
  {
   "cell_type": "code",
   "execution_count": 141,
   "id": "c1ea1a70",
   "metadata": {},
   "outputs": [
    {
     "name": "stdout",
     "output_type": "stream",
     "text": [
      "CNN with ReLU using Dropout\n"
     ]
    },
    {
     "data": {
      "text/plain": [
       "[Text(0.5, 0, 'Epochs'), Text(0, 0.5, 'Accuracy')]"
      ]
     },
     "execution_count": 141,
     "metadata": {},
     "output_type": "execute_result"
    },
    {
     "data": {
      "text/plain": [
       "<Figure size 432x288 with 0 Axes>"
      ]
     },
     "metadata": {},
     "output_type": "display_data"
    },
    {
     "data": {
      "image/png": "[encoded data removed]",
      "text/plain": [
       "<Figure size 720x432 with 1 Axes>"
      ]
     },
     "metadata": {
      "needs_background": "light"
     },
     "output_type": "display_data"
    }
   ],
   "source": [
    "idx = 4\n",
    "print(super_names[idx])\n",
    "fig = plt.figure()\n",
    "fig = plt.figure(figsize=(10,6))\n",
    "p = sns.lineplot(data=df_acc, x=\"Epochs\", y=idx)\n",
    "p = sns.scatterplot(data=df_acc, x=\"Epochs\", y=idx)\n",
    "p.set_title(\"Learning curve\")   # change here\n",
    "p.set(xlabel='Epochs', ylabel='Accuracy')"
   ]
  },
  {
   "cell_type": "code",
   "execution_count": 142,
   "id": "3b6e921a",
   "metadata": {},
   "outputs": [
    {
     "name": "stdout",
     "output_type": "stream",
     "text": [
      "CNN with ReLU using Average Pooling\n"
     ]
    },
    {
     "data": {
      "text/plain": [
       "[Text(0.5, 0, 'Epochs'), Text(0, 0.5, 'Loss')]"
      ]
     },
     "execution_count": 142,
     "metadata": {},
     "output_type": "execute_result"
    },
    {
     "data": {
      "text/plain": [
       "<Figure size 432x288 with 0 Axes>"
      ]
     },
     "metadata": {},
     "output_type": "display_data"
    },
    {
     "data": {
      "image/png": "[encoded data removed]",
      "text/plain": [
       "<Figure size 720x432 with 1 Axes>"
      ]
     },
     "metadata": {
      "needs_background": "light"
     },
     "output_type": "display_data"
    }
   ],
   "source": [
    "idx = 5\n",
    "print(super_names[idx])\n",
    "fig = plt.figure()\n",
    "fig = plt.figure(figsize=(10,6))\n",
    "p = sns.lineplot(data=df_loss, x=\"Epochs\", y=idx)\n",
    "p = sns.scatterplot(data=df_loss, x=\"Epochs\", y=idx)\n",
    "p.set_title(\"Learning curve\")   # change here\n",
    "p.set(xlabel='Epochs', ylabel='Loss')"
   ]
  },
  {
   "cell_type": "code",
   "execution_count": 143,
   "id": "968ef70a",
   "metadata": {},
   "outputs": [
    {
     "name": "stdout",
     "output_type": "stream",
     "text": [
      "CNN with ReLU using Average Pooling\n"
     ]
    },
    {
     "data": {
      "text/plain": [
       "[Text(0.5, 0, 'Epochs'), Text(0, 0.5, 'Accuracy')]"
      ]
     },
     "execution_count": 143,
     "metadata": {},
     "output_type": "execute_result"
    },
    {
     "data": {
      "text/plain": [
       "<Figure size 432x288 with 0 Axes>"
      ]
     },
     "metadata": {},
     "output_type": "display_data"
    },
    {
     "data": {
      "image/png": "[encoded data removed]",
      "text/plain": [
       "<Figure size 720x432 with 1 Axes>"
      ]
     },
     "metadata": {
      "needs_background": "light"
     },
     "output_type": "display_data"
    }
   ],
   "source": [
    "idx = 5\n",
    "print(super_names[idx])\n",
    "fig = plt.figure()\n",
    "fig = plt.figure(figsize=(10,6))\n",
    "p = sns.lineplot(data=df_acc, x=\"Epochs\", y=idx)\n",
    "p = sns.scatterplot(data=df_acc, x=\"Epochs\", y=idx)\n",
    "p.set_title(\"Learning curve\")   # change here\n",
    "p.set(xlabel='Epochs', ylabel='Accuracy')"
   ]
  },
  {
   "cell_type": "code",
   "execution_count": 144,
   "id": "201741fd",
   "metadata": {},
   "outputs": [
    {
     "name": "stdout",
     "output_type": "stream",
     "text": [
      "CNN with ReLU using combination of Maximum and Average Pooling\n"
     ]
    },
    {
     "data": {
      "text/plain": [
       "[Text(0.5, 0, 'Epochs'), Text(0, 0.5, 'Loss')]"
      ]
     },
     "execution_count": 144,
     "metadata": {},
     "output_type": "execute_result"
    },
    {
     "data": {
      "text/plain": [
       "<Figure size 432x288 with 0 Axes>"
      ]
     },
     "metadata": {},
     "output_type": "display_data"
    },
    {
     "data": {
      "image/png": "[encoded data removed]",
      "text/plain": [
       "<Figure size 720x432 with 1 Axes>"
      ]
     },
     "metadata": {
      "needs_background": "light"
     },
     "output_type": "display_data"
    }
   ],
   "source": [
    "idx = 6\n",
    "print(super_names[idx])\n",
    "fig = plt.figure()\n",
    "fig = plt.figure(figsize=(10,6))\n",
    "p = sns.lineplot(data=df_loss, x=\"Epochs\", y=idx)\n",
    "p = sns.scatterplot(data=df_loss, x=\"Epochs\", y=idx)\n",
    "p.set_title(\"Learning curve\")   # change here\n",
    "p.set(xlabel='Epochs', ylabel='Loss')"
   ]
  },
  {
   "cell_type": "code",
   "execution_count": 145,
   "id": "9497563a",
   "metadata": {},
   "outputs": [
    {
     "name": "stdout",
     "output_type": "stream",
     "text": [
      "CNN with ReLU using combination of Maximum and Average Pooling\n"
     ]
    },
    {
     "data": {
      "text/plain": [
       "[Text(0.5, 0, 'Epochs'), Text(0, 0.5, 'Accuracy')]"
      ]
     },
     "execution_count": 145,
     "metadata": {},
     "output_type": "execute_result"
    },
    {
     "data": {
      "text/plain": [
       "<Figure size 432x288 with 0 Axes>"
      ]
     },
     "metadata": {},
     "output_type": "display_data"
    },
    {
     "data": {
      "image/png": "[encoded data removed]",
      "text/plain": [
       "<Figure size 720x432 with 1 Axes>"
      ]
     },
     "metadata": {
      "needs_background": "light"
     },
     "output_type": "display_data"
    }
   ],
   "source": [
    "idx = 6\n",
    "print(super_names[idx])\n",
    "fig = plt.figure()\n",
    "fig = plt.figure(figsize=(10,6))\n",
    "p = sns.lineplot(data=df_acc, x=\"Epochs\", y=idx)\n",
    "p = sns.scatterplot(data=df_acc, x=\"Epochs\", y=idx)\n",
    "p.set_title(\"Learning curve\")   # change here\n",
    "p.set(xlabel='Epochs', ylabel='Accuracy')"
   ]
  },
  {
   "cell_type": "markdown",
   "id": "e607d250",
   "metadata": {},
   "source": [
    "# Varying alpha and lambda in elastic regularization"
   ]
  },
  {
   "cell_type": "code",
   "execution_count": 45,
   "id": "efbe796c",
   "metadata": {},
   "outputs": [],
   "source": [
    "device = \"cuda\"\n",
    "class CNN(nn.Module):\n",
    "    def __init__(self):\n",
    "        super(CNN, self).__init__()\n",
    "        self.conv_layer1 = nn.Conv2d(3, 6, 5)  #\n",
    "        self.maxpool1 = nn.MaxPool2d(2,2)\n",
    "        self.conv_layer2 = nn.Conv2d(6, 16, 5)  #\n",
    "        self.maxpool2 = nn.MaxPool2d(2,2)\n",
    "        \n",
    "        #n_size = self._get_conv_output(input_shape)\n",
    "        #self.fc1 = nn.Linear(n_size, 512)\n",
    "        \n",
    "        self.fc1 = nn.Linear(16*5*5, 256)   # this 16*5*5 must be changed \n",
    "        self.fc2 = nn.Linear(256,64)\n",
    "        self.fc3 = nn.Linear(64,10)\n",
    "        \n",
    "    def forward(self,x):\n",
    "        x = self.maxpool1(F.relu(self.conv_layer1(x)))\n",
    "        x = self.maxpool2(F.relu(self.conv_layer2(x)))\n",
    "        x = x.view(-1,16*5*5)  # this 16*5*5 must be changed \n",
    "        x = F.relu(self.fc1(x))\n",
    "        x = F.relu(self.fc2(x))\n",
    "        x = self.fc3(x)\n",
    "        return x\n",
    "    \n",
    "loss_elastic = []\n",
    "acc_elastic = []"
   ]
  },
  {
   "cell_type": "code",
   "execution_count": 46,
   "id": "f445d9d4",
   "metadata": {},
   "outputs": [
    {
     "name": "stderr",
     "output_type": "stream",
     "text": [
      "Epoch 1 Iter 19: loss 4.09790. :   2%|▏       | 10/573 [00:00<00:05, 94.59it/s]"
     ]
    },
    {
     "name": "stdout",
     "output_type": "stream",
     "text": [
      "Model has 122626 learnable parameters\n"
     ]
    },
    {
     "name": "stderr",
     "output_type": "stream",
     "text": [
      "Epoch 1 Iter 573: loss 0.51119. : 100%|█████| 573/573 [00:04<00:00, 121.24it/s]\n",
      "Epoch 2 Iter 19: loss 0.87642. :   2%|▏      | 11/573 [00:00<00:05, 106.55it/s]"
     ]
    },
    {
     "name": "stdout",
     "output_type": "stream",
     "text": [
      "Classification accuracy: 80.02%\n"
     ]
    },
    {
     "name": "stderr",
     "output_type": "stream",
     "text": [
      "Epoch 2 Iter 573: loss 0.49026. : 100%|█████| 573/573 [00:04<00:00, 121.94it/s]\n",
      "Epoch 3 Iter 20: loss 0.56048. :   2%|▏      | 11/573 [00:00<00:05, 104.05it/s]"
     ]
    },
    {
     "name": "stdout",
     "output_type": "stream",
     "text": [
      "Classification accuracy: 83.04%\n"
     ]
    },
    {
     "name": "stderr",
     "output_type": "stream",
     "text": [
      "Epoch 3 Iter 573: loss 0.48822. : 100%|█████| 573/573 [00:04<00:00, 121.56it/s]\n",
      "Epoch 4 Iter 19: loss 0.75540. :   2%|▏       | 10/573 [00:00<00:05, 99.27it/s]"
     ]
    },
    {
     "name": "stdout",
     "output_type": "stream",
     "text": [
      "Classification accuracy: 84.03%\n"
     ]
    },
    {
     "name": "stderr",
     "output_type": "stream",
     "text": [
      "Epoch 4 Iter 573: loss 0.56929. : 100%|█████| 573/573 [00:04<00:00, 124.66it/s]\n",
      "Epoch 5 Iter 21: loss 0.58796. :   2%|▏      | 13/573 [00:00<00:04, 120.69it/s]"
     ]
    },
    {
     "name": "stdout",
     "output_type": "stream",
     "text": [
      "Classification accuracy: 84.77%\n"
     ]
    },
    {
     "name": "stderr",
     "output_type": "stream",
     "text": [
      "Epoch 5 Iter 573: loss 0.50984. : 100%|█████| 573/573 [00:04<00:00, 129.75it/s]\n",
      "Epoch 6 Iter 18: loss 0.43486. :   2%|▏      | 11/573 [00:00<00:05, 102.12it/s]"
     ]
    },
    {
     "name": "stdout",
     "output_type": "stream",
     "text": [
      "Classification accuracy: 85.59%\n"
     ]
    },
    {
     "name": "stderr",
     "output_type": "stream",
     "text": [
      "Epoch 6 Iter 573: loss 0.54215. : 100%|█████| 573/573 [00:04<00:00, 127.99it/s]\n",
      "Epoch 7 Iter 19: loss 0.50178. :   2%|▏      | 12/573 [00:00<00:04, 115.69it/s]"
     ]
    },
    {
     "name": "stdout",
     "output_type": "stream",
     "text": [
      "Classification accuracy: 85.64%\n"
     ]
    },
    {
     "name": "stderr",
     "output_type": "stream",
     "text": [
      "Epoch 7 Iter 573: loss 0.52170. : 100%|█████| 573/573 [00:04<00:00, 131.66it/s]\n",
      "Epoch 8 Iter 21: loss 0.65100. :   2%|▏      | 12/573 [00:00<00:05, 111.36it/s]"
     ]
    },
    {
     "name": "stdout",
     "output_type": "stream",
     "text": [
      "Classification accuracy: 86.88%\n"
     ]
    },
    {
     "name": "stderr",
     "output_type": "stream",
     "text": [
      "Epoch 8 Iter 573: loss 0.46640. : 100%|█████| 573/573 [00:04<00:00, 127.09it/s]\n",
      "Epoch 9 Iter 23: loss 0.48362. :   2%|▏      | 13/573 [00:00<00:04, 126.55it/s]"
     ]
    },
    {
     "name": "stdout",
     "output_type": "stream",
     "text": [
      "Classification accuracy: 86.9%\n"
     ]
    },
    {
     "name": "stderr",
     "output_type": "stream",
     "text": [
      "Epoch 9 Iter 573: loss 0.64338. : 100%|█████| 573/573 [00:04<00:00, 136.37it/s]\n",
      "Epoch 10 Iter 21: loss 0.63806. :   2%|      | 11/573 [00:00<00:05, 109.24it/s]"
     ]
    },
    {
     "name": "stdout",
     "output_type": "stream",
     "text": [
      "Classification accuracy: 86.12%\n"
     ]
    },
    {
     "name": "stderr",
     "output_type": "stream",
     "text": [
      "Epoch 10 Iter 573: loss 0.28037. : 100%|████| 573/573 [00:04<00:00, 135.76it/s]\n",
      "Epoch 11 Iter 21: loss 0.53503. :   2%|▏     | 12/573 [00:00<00:04, 119.13it/s]"
     ]
    },
    {
     "name": "stdout",
     "output_type": "stream",
     "text": [
      "Classification accuracy: 86.55%\n"
     ]
    },
    {
     "name": "stderr",
     "output_type": "stream",
     "text": [
      "Epoch 11 Iter 573: loss 0.22321. : 100%|████| 573/573 [00:04<00:00, 135.33it/s]\n",
      "Epoch 12 Iter 21: loss 0.46756. :   2%|▏     | 12/573 [00:00<00:05, 111.44it/s]"
     ]
    },
    {
     "name": "stdout",
     "output_type": "stream",
     "text": [
      "Classification accuracy: 87.63%\n"
     ]
    },
    {
     "name": "stderr",
     "output_type": "stream",
     "text": [
      "Epoch 12 Iter 573: loss 0.55823. : 100%|████| 573/573 [00:04<00:00, 136.06it/s]\n",
      "Epoch 13 Iter 22: loss 0.55383. :   2%|▏     | 12/573 [00:00<00:04, 116.81it/s]"
     ]
    },
    {
     "name": "stdout",
     "output_type": "stream",
     "text": [
      "Classification accuracy: 87.93%\n"
     ]
    },
    {
     "name": "stderr",
     "output_type": "stream",
     "text": [
      "Epoch 13 Iter 573: loss 0.63064. : 100%|████| 573/573 [00:04<00:00, 136.04it/s]\n",
      "Epoch 14 Iter 22: loss 0.33105. :   2%|▏     | 12/573 [00:00<00:04, 118.00it/s]"
     ]
    },
    {
     "name": "stdout",
     "output_type": "stream",
     "text": [
      "Classification accuracy: 87.13%\n"
     ]
    },
    {
     "name": "stderr",
     "output_type": "stream",
     "text": [
      "Epoch 14 Iter 573: loss 0.27026. : 100%|████| 573/573 [00:04<00:00, 134.55it/s]\n",
      "Epoch 15 Iter 23: loss 0.48886. :   2%|▏     | 13/573 [00:00<00:04, 121.82it/s]"
     ]
    },
    {
     "name": "stdout",
     "output_type": "stream",
     "text": [
      "Classification accuracy: 87.63%\n"
     ]
    },
    {
     "name": "stderr",
     "output_type": "stream",
     "text": [
      "Epoch 15 Iter 573: loss 0.34524. : 100%|████| 573/573 [00:04<00:00, 136.61it/s]\n",
      "Epoch 16 Iter 21: loss 0.36948. :   2%|▏     | 12/573 [00:00<00:04, 113.49it/s]"
     ]
    },
    {
     "name": "stdout",
     "output_type": "stream",
     "text": [
      "Classification accuracy: 85.86%\n"
     ]
    },
    {
     "name": "stderr",
     "output_type": "stream",
     "text": [
      "Epoch 16 Iter 573: loss 0.38088. : 100%|████| 573/573 [00:04<00:00, 136.25it/s]\n",
      "Epoch 17 Iter 22: loss 0.54435. :   2%|▏     | 12/573 [00:00<00:04, 114.59it/s]"
     ]
    },
    {
     "name": "stdout",
     "output_type": "stream",
     "text": [
      "Classification accuracy: 87.09%\n"
     ]
    },
    {
     "name": "stderr",
     "output_type": "stream",
     "text": [
      "Epoch 17 Iter 573: loss 0.48610. : 100%|████| 573/573 [00:04<00:00, 136.26it/s]\n",
      "Epoch 18 Iter 22: loss 0.45261. :   2%|▏     | 12/573 [00:00<00:04, 119.13it/s]"
     ]
    },
    {
     "name": "stdout",
     "output_type": "stream",
     "text": [
      "Classification accuracy: 87.25%\n"
     ]
    },
    {
     "name": "stderr",
     "output_type": "stream",
     "text": [
      "Epoch 18 Iter 573: loss 0.29591. : 100%|████| 573/573 [00:04<00:00, 132.79it/s]\n",
      "Epoch 19 Iter 20: loss 0.32130. :   2%|      | 11/573 [00:00<00:05, 109.20it/s]"
     ]
    },
    {
     "name": "stdout",
     "output_type": "stream",
     "text": [
      "Classification accuracy: 86.52%\n"
     ]
    },
    {
     "name": "stderr",
     "output_type": "stream",
     "text": [
      "Epoch 19 Iter 573: loss 0.46300. : 100%|████| 573/573 [00:04<00:00, 134.74it/s]\n",
      "Epoch 20 Iter 21: loss 0.40036. :   2%|▏     | 12/573 [00:00<00:04, 112.45it/s]"
     ]
    },
    {
     "name": "stdout",
     "output_type": "stream",
     "text": [
      "Classification accuracy: 87.9%\n"
     ]
    },
    {
     "name": "stderr",
     "output_type": "stream",
     "text": [
      "Epoch 20 Iter 573: loss 0.79542. : 100%|████| 573/573 [00:04<00:00, 134.50it/s]\n",
      "Epoch 21 Iter 22: loss 0.41525. :   2%|▏     | 12/573 [00:00<00:04, 115.73it/s]"
     ]
    },
    {
     "name": "stdout",
     "output_type": "stream",
     "text": [
      "Classification accuracy: 87.27%\n"
     ]
    },
    {
     "name": "stderr",
     "output_type": "stream",
     "text": [
      "Epoch 21 Iter 573: loss 0.28600. : 100%|████| 573/573 [00:04<00:00, 131.50it/s]\n",
      "Epoch 22 Iter 21: loss 0.58872. :   2%|▏     | 12/573 [00:00<00:05, 111.40it/s]"
     ]
    },
    {
     "name": "stdout",
     "output_type": "stream",
     "text": [
      "Classification accuracy: 87.32%\n"
     ]
    },
    {
     "name": "stderr",
     "output_type": "stream",
     "text": [
      "Epoch 22 Iter 573: loss 0.31886. : 100%|████| 573/573 [00:04<00:00, 133.55it/s]\n",
      "Epoch 23 Iter 22: loss 0.58619. :   2%|▏     | 12/573 [00:00<00:04, 119.12it/s]"
     ]
    },
    {
     "name": "stdout",
     "output_type": "stream",
     "text": [
      "Classification accuracy: 87.67%\n"
     ]
    },
    {
     "name": "stderr",
     "output_type": "stream",
     "text": [
      "Epoch 23 Iter 573: loss 0.37463. : 100%|████| 573/573 [00:04<00:00, 132.04it/s]\n",
      "Epoch 24 Iter 19: loss 0.38762. :   2%|      | 11/573 [00:00<00:05, 103.07it/s]"
     ]
    },
    {
     "name": "stdout",
     "output_type": "stream",
     "text": [
      "Classification accuracy: 87.28%\n"
     ]
    },
    {
     "name": "stderr",
     "output_type": "stream",
     "text": [
      "Epoch 24 Iter 573: loss 0.47863. : 100%|████| 573/573 [00:04<00:00, 120.93it/s]\n",
      "Epoch 25 Iter 19: loss 0.51113. :   2%|       | 10/573 [00:00<00:05, 96.36it/s]"
     ]
    },
    {
     "name": "stdout",
     "output_type": "stream",
     "text": [
      "Classification accuracy: 87.42%\n"
     ]
    },
    {
     "name": "stderr",
     "output_type": "stream",
     "text": [
      "Epoch 25 Iter 573: loss 0.16842. : 100%|████| 573/573 [00:04<00:00, 121.59it/s]\n",
      "Epoch 1 Iter 19: loss 4.42824. :   2%|▏      | 11/573 [00:00<00:05, 106.04it/s]"
     ]
    },
    {
     "name": "stdout",
     "output_type": "stream",
     "text": [
      "Classification accuracy: 87.64%\n",
      "Model has 122626 learnable parameters\n"
     ]
    },
    {
     "name": "stderr",
     "output_type": "stream",
     "text": [
      "Epoch 1 Iter 573: loss 0.50213. : 100%|█████| 573/573 [00:04<00:00, 121.63it/s]\n",
      "Epoch 2 Iter 20: loss 0.89952. :   2%|▏      | 11/573 [00:00<00:05, 107.11it/s]"
     ]
    },
    {
     "name": "stdout",
     "output_type": "stream",
     "text": [
      "Classification accuracy: 80.93%\n"
     ]
    },
    {
     "name": "stderr",
     "output_type": "stream",
     "text": [
      "Epoch 2 Iter 573: loss 0.41379. : 100%|█████| 573/573 [00:04<00:00, 122.10it/s]\n",
      "Epoch 3 Iter 18: loss 0.65779. :   2%|▏       | 10/573 [00:00<00:05, 98.30it/s]"
     ]
    },
    {
     "name": "stdout",
     "output_type": "stream",
     "text": [
      "Classification accuracy: 83.82%\n"
     ]
    },
    {
     "name": "stderr",
     "output_type": "stream",
     "text": [
      "Epoch 3 Iter 573: loss 0.31885. : 100%|█████| 573/573 [00:04<00:00, 121.86it/s]\n",
      "Epoch 4 Iter 20: loss 0.61065. :   2%|▏      | 11/573 [00:00<00:05, 104.04it/s]"
     ]
    },
    {
     "name": "stdout",
     "output_type": "stream",
     "text": [
      "Classification accuracy: 84.33%\n"
     ]
    },
    {
     "name": "stderr",
     "output_type": "stream",
     "text": [
      "Epoch 4 Iter 573: loss 0.66053. : 100%|█████| 573/573 [00:04<00:00, 121.94it/s]\n",
      "Epoch 5 Iter 19: loss 0.64356. :   2%|▏      | 11/573 [00:00<00:05, 107.11it/s]"
     ]
    },
    {
     "name": "stdout",
     "output_type": "stream",
     "text": [
      "Classification accuracy: 85.61%\n"
     ]
    },
    {
     "name": "stderr",
     "output_type": "stream",
     "text": [
      "Epoch 5 Iter 573: loss 0.61962. : 100%|█████| 573/573 [00:04<00:00, 120.62it/s]\n",
      "Epoch 6 Iter 19: loss 0.42624. :   2%|▏       | 10/573 [00:00<00:05, 99.30it/s]"
     ]
    },
    {
     "name": "stdout",
     "output_type": "stream",
     "text": [
      "Classification accuracy: 86.22%\n"
     ]
    },
    {
     "name": "stderr",
     "output_type": "stream",
     "text": [
      "Epoch 6 Iter 573: loss 0.95161. : 100%|█████| 573/573 [00:04<00:00, 123.05it/s]\n",
      "Epoch 7 Iter 19: loss 0.48416. :   2%|▏       | 10/573 [00:00<00:05, 98.30it/s]"
     ]
    },
    {
     "name": "stdout",
     "output_type": "stream",
     "text": [
      "Classification accuracy: 86.59%\n"
     ]
    },
    {
     "name": "stderr",
     "output_type": "stream",
     "text": [
      "Epoch 7 Iter 573: loss 0.29595. : 100%|█████| 573/573 [00:04<00:00, 123.33it/s]\n",
      "Epoch 8 Iter 20: loss 0.48571. :   2%|▏       | 10/573 [00:00<00:05, 99.27it/s]"
     ]
    },
    {
     "name": "stdout",
     "output_type": "stream",
     "text": [
      "Classification accuracy: 87.55%\n"
     ]
    },
    {
     "name": "stderr",
     "output_type": "stream",
     "text": [
      "Epoch 8 Iter 573: loss 0.41389. : 100%|█████| 573/573 [00:04<00:00, 119.44it/s]\n",
      "Epoch 9 Iter 19: loss 0.40022. :   2%|▏      | 11/573 [00:00<00:05, 102.12it/s]"
     ]
    },
    {
     "name": "stdout",
     "output_type": "stream",
     "text": [
      "Classification accuracy: 86.99%\n"
     ]
    },
    {
     "name": "stderr",
     "output_type": "stream",
     "text": [
      "Epoch 9 Iter 573: loss 0.52406. : 100%|█████| 573/573 [00:04<00:00, 119.64it/s]\n",
      "Epoch 10 Iter 19: loss 0.33994. :   2%|      | 11/573 [00:00<00:05, 101.18it/s]"
     ]
    },
    {
     "name": "stdout",
     "output_type": "stream",
     "text": [
      "Classification accuracy: 86.94%\n"
     ]
    },
    {
     "name": "stderr",
     "output_type": "stream",
     "text": [
      "Epoch 10 Iter 573: loss 0.63800. : 100%|████| 573/573 [00:04<00:00, 119.16it/s]\n",
      "Epoch 11 Iter 18: loss 0.41537. :   2%|       | 10/573 [00:00<00:05, 97.81it/s]"
     ]
    },
    {
     "name": "stdout",
     "output_type": "stream",
     "text": [
      "Classification accuracy: 86.32%\n"
     ]
    },
    {
     "name": "stderr",
     "output_type": "stream",
     "text": [
      "Epoch 11 Iter 573: loss 0.27625. : 100%|████| 573/573 [00:04<00:00, 118.76it/s]\n",
      "Epoch 12 Iter 20: loss 0.32585. :   2%|      | 11/573 [00:00<00:05, 105.04it/s]"
     ]
    },
    {
     "name": "stdout",
     "output_type": "stream",
     "text": [
      "Classification accuracy: 87.27%\n"
     ]
    },
    {
     "name": "stderr",
     "output_type": "stream",
     "text": [
      "Epoch 12 Iter 573: loss 0.41355. : 100%|████| 573/573 [00:04<00:00, 119.61it/s]\n",
      "Epoch 13 Iter 19: loss 0.39898. :   2%|      | 11/573 [00:00<00:05, 102.16it/s]"
     ]
    },
    {
     "name": "stdout",
     "output_type": "stream",
     "text": [
      "Classification accuracy: 87.45%\n"
     ]
    },
    {
     "name": "stderr",
     "output_type": "stream",
     "text": [
      "Epoch 13 Iter 573: loss 0.42991. : 100%|████| 573/573 [00:04<00:00, 120.05it/s]\n",
      "Epoch 14 Iter 20: loss 0.35419. :   2%|       | 10/573 [00:00<00:05, 99.30it/s]"
     ]
    },
    {
     "name": "stdout",
     "output_type": "stream",
     "text": [
      "Classification accuracy: 86.96%\n"
     ]
    },
    {
     "name": "stderr",
     "output_type": "stream",
     "text": [
      "Epoch 14 Iter 573: loss 0.68067. : 100%|████| 573/573 [00:04<00:00, 119.67it/s]\n",
      "Epoch 15 Iter 19: loss 0.35025. :   2%|       | 10/573 [00:00<00:05, 98.30it/s]"
     ]
    },
    {
     "name": "stdout",
     "output_type": "stream",
     "text": [
      "Classification accuracy: 88.2%\n"
     ]
    },
    {
     "name": "stderr",
     "output_type": "stream",
     "text": [
      "Epoch 15 Iter 573: loss 0.74127. : 100%|████| 573/573 [00:04<00:00, 119.52it/s]\n",
      "Epoch 16 Iter 18: loss 0.51807. :   2%|       | 10/573 [00:00<00:05, 94.63it/s]"
     ]
    },
    {
     "name": "stdout",
     "output_type": "stream",
     "text": [
      "Classification accuracy: 87.83%\n"
     ]
    },
    {
     "name": "stderr",
     "output_type": "stream",
     "text": [
      "Epoch 16 Iter 573: loss 0.61742. : 100%|████| 573/573 [00:04<00:00, 118.74it/s]\n",
      "Epoch 17 Iter 19: loss 0.40482. :   2%|▏     | 12/573 [00:00<00:05, 110.38it/s]"
     ]
    },
    {
     "name": "stdout",
     "output_type": "stream",
     "text": [
      "Classification accuracy: 87.86%\n"
     ]
    },
    {
     "name": "stderr",
     "output_type": "stream",
     "text": [
      "Epoch 17 Iter 573: loss 0.50127. : 100%|████| 573/573 [00:04<00:00, 119.28it/s]\n",
      "Epoch 18 Iter 19: loss 0.50318. :   2%|      | 11/573 [00:00<00:05, 100.27it/s]"
     ]
    },
    {
     "name": "stdout",
     "output_type": "stream",
     "text": [
      "Classification accuracy: 87.82%\n"
     ]
    },
    {
     "name": "stderr",
     "output_type": "stream",
     "text": [
      "Epoch 18 Iter 573: loss 0.47948. : 100%|████| 573/573 [00:04<00:00, 119.52it/s]\n",
      "Epoch 19 Iter 20: loss 0.37870. :   2%|      | 11/573 [00:00<00:05, 105.06it/s]"
     ]
    },
    {
     "name": "stdout",
     "output_type": "stream",
     "text": [
      "Classification accuracy: 87.37%\n"
     ]
    },
    {
     "name": "stderr",
     "output_type": "stream",
     "text": [
      "Epoch 19 Iter 573: loss 0.32757. : 100%|████| 573/573 [00:04<00:00, 120.08it/s]\n",
      "Epoch 20 Iter 18: loss 0.41926. :   2%|      | 11/573 [00:00<00:05, 103.08it/s]"
     ]
    },
    {
     "name": "stdout",
     "output_type": "stream",
     "text": [
      "Classification accuracy: 87.97%\n"
     ]
    },
    {
     "name": "stderr",
     "output_type": "stream",
     "text": [
      "Epoch 20 Iter 573: loss 0.21995. : 100%|████| 573/573 [00:04<00:00, 120.55it/s]\n",
      "Epoch 21 Iter 21: loss 0.36848. :   2%|      | 11/573 [00:00<00:05, 106.08it/s]"
     ]
    },
    {
     "name": "stdout",
     "output_type": "stream",
     "text": [
      "Classification accuracy: 87.92%\n"
     ]
    },
    {
     "name": "stderr",
     "output_type": "stream",
     "text": [
      "Epoch 21 Iter 573: loss 0.31700. : 100%|████| 573/573 [00:04<00:00, 123.46it/s]\n",
      "Epoch 22 Iter 18: loss 0.36994. :   2%|       | 10/573 [00:00<00:05, 97.34it/s]"
     ]
    },
    {
     "name": "stdout",
     "output_type": "stream",
     "text": [
      "Classification accuracy: 87.49%\n"
     ]
    },
    {
     "name": "stderr",
     "output_type": "stream",
     "text": [
      "Epoch 22 Iter 573: loss 0.31660. : 100%|████| 573/573 [00:04<00:00, 123.04it/s]\n",
      "Epoch 23 Iter 21: loss 0.41456. :   2%|▏     | 12/573 [00:00<00:04, 113.51it/s]"
     ]
    },
    {
     "name": "stdout",
     "output_type": "stream",
     "text": [
      "Classification accuracy: 86.84%\n"
     ]
    },
    {
     "name": "stderr",
     "output_type": "stream",
     "text": [
      "Epoch 23 Iter 573: loss 0.29867. : 100%|████| 573/573 [00:04<00:00, 137.63it/s]\n",
      "Epoch 24 Iter 22: loss 0.36743. :   2%|▏     | 13/573 [00:00<00:04, 122.93it/s]"
     ]
    },
    {
     "name": "stdout",
     "output_type": "stream",
     "text": [
      "Classification accuracy: 88.21%\n"
     ]
    },
    {
     "name": "stderr",
     "output_type": "stream",
     "text": [
      "Epoch 24 Iter 573: loss 0.42749. : 100%|████| 573/573 [00:04<00:00, 136.10it/s]\n",
      "Epoch 25 Iter 19: loss 0.41149. :   2%|      | 11/573 [00:00<00:05, 102.15it/s]"
     ]
    },
    {
     "name": "stdout",
     "output_type": "stream",
     "text": [
      "Classification accuracy: 87.74%\n"
     ]
    },
    {
     "name": "stderr",
     "output_type": "stream",
     "text": [
      "Epoch 25 Iter 573: loss 0.46559. : 100%|████| 573/573 [00:04<00:00, 121.85it/s]\n",
      "Epoch 1 Iter 19: loss 4.41028. :   2%|▏      | 11/573 [00:00<00:05, 102.12it/s]"
     ]
    },
    {
     "name": "stdout",
     "output_type": "stream",
     "text": [
      "Classification accuracy: 87.95%\n",
      "Model has 122626 learnable parameters\n"
     ]
    },
    {
     "name": "stderr",
     "output_type": "stream",
     "text": [
      "Epoch 1 Iter 573: loss 0.75915. : 100%|█████| 573/573 [00:04<00:00, 119.72it/s]\n",
      "Epoch 2 Iter 18: loss 0.76823. :   2%|▏       | 10/573 [00:00<00:05, 99.27it/s]"
     ]
    },
    {
     "name": "stdout",
     "output_type": "stream",
     "text": [
      "Classification accuracy: 79.56%\n"
     ]
    },
    {
     "name": "stderr",
     "output_type": "stream",
     "text": [
      "Epoch 2 Iter 573: loss 0.80024. : 100%|█████| 573/573 [00:04<00:00, 120.19it/s]\n",
      "Epoch 3 Iter 19: loss 0.60937. :   2%|▏      | 11/573 [00:00<00:05, 107.08it/s]"
     ]
    },
    {
     "name": "stdout",
     "output_type": "stream",
     "text": [
      "Classification accuracy: 84.13%\n"
     ]
    },
    {
     "name": "stderr",
     "output_type": "stream",
     "text": [
      "Epoch 3 Iter 573: loss 0.42020. : 100%|█████| 573/573 [00:04<00:00, 120.41it/s]\n",
      "Epoch 4 Iter 19: loss 0.46417. :   2%|▏      | 11/573 [00:00<00:05, 108.13it/s]"
     ]
    },
    {
     "name": "stdout",
     "output_type": "stream",
     "text": [
      "Classification accuracy: 84.64%\n"
     ]
    },
    {
     "name": "stderr",
     "output_type": "stream",
     "text": [
      "Epoch 4 Iter 573: loss 0.41586. : 100%|█████| 573/573 [00:04<00:00, 120.85it/s]\n",
      "Epoch 5 Iter 17: loss 0.39426. :   2%|▏       | 10/573 [00:00<00:06, 93.73it/s]"
     ]
    },
    {
     "name": "stdout",
     "output_type": "stream",
     "text": [
      "Classification accuracy: 85.34%\n"
     ]
    },
    {
     "name": "stderr",
     "output_type": "stream",
     "text": [
      "Epoch 5 Iter 573: loss 0.40635. : 100%|█████| 573/573 [00:04<00:00, 120.78it/s]\n",
      "Epoch 6 Iter 20: loss 0.59037. :   2%|▏      | 11/573 [00:00<00:05, 109.24it/s]"
     ]
    },
    {
     "name": "stdout",
     "output_type": "stream",
     "text": [
      "Classification accuracy: 85.94%\n"
     ]
    },
    {
     "name": "stderr",
     "output_type": "stream",
     "text": [
      "Epoch 6 Iter 573: loss 0.28173. : 100%|█████| 573/573 [00:04<00:00, 120.58it/s]\n",
      "Epoch 7 Iter 20: loss 0.43443. :   2%|▏      | 11/573 [00:00<00:05, 103.05it/s]"
     ]
    },
    {
     "name": "stdout",
     "output_type": "stream",
     "text": [
      "Classification accuracy: 86.89%\n"
     ]
    },
    {
     "name": "stderr",
     "output_type": "stream",
     "text": [
      "Epoch 7 Iter 573: loss 0.36251. : 100%|█████| 573/573 [00:04<00:00, 121.39it/s]\n",
      "Epoch 8 Iter 19: loss 0.40716. :   2%|▏       | 10/573 [00:00<00:05, 97.36it/s]"
     ]
    },
    {
     "name": "stdout",
     "output_type": "stream",
     "text": [
      "Classification accuracy: 86.16%\n"
     ]
    },
    {
     "name": "stderr",
     "output_type": "stream",
     "text": [
      "Epoch 8 Iter 573: loss 0.29534. : 100%|█████| 573/573 [00:04<00:00, 121.21it/s]\n",
      "Epoch 9 Iter 19: loss 0.43532. :   2%|▏      | 11/573 [00:00<00:05, 102.12it/s]"
     ]
    },
    {
     "name": "stdout",
     "output_type": "stream",
     "text": [
      "Classification accuracy: 86.11%\n"
     ]
    },
    {
     "name": "stderr",
     "output_type": "stream",
     "text": [
      "Epoch 9 Iter 573: loss 0.68601. : 100%|█████| 573/573 [00:04<00:00, 120.27it/s]\n",
      "Epoch 10 Iter 19: loss 0.43650. :   2%|       | 10/573 [00:00<00:05, 96.41it/s]"
     ]
    },
    {
     "name": "stdout",
     "output_type": "stream",
     "text": [
      "Classification accuracy: 87.24%\n"
     ]
    },
    {
     "name": "stderr",
     "output_type": "stream",
     "text": [
      "Epoch 10 Iter 573: loss 0.29715. : 100%|████| 573/573 [00:04<00:00, 121.04it/s]\n",
      "Epoch 11 Iter 19: loss 0.53862. :   2%|      | 11/573 [00:00<00:05, 103.08it/s]"
     ]
    },
    {
     "name": "stdout",
     "output_type": "stream",
     "text": [
      "Classification accuracy: 86.6%\n"
     ]
    },
    {
     "name": "stderr",
     "output_type": "stream",
     "text": [
      "Epoch 11 Iter 573: loss 0.29571. : 100%|████| 573/573 [00:04<00:00, 121.13it/s]\n",
      "Epoch 12 Iter 19: loss 0.35151. :   2%|      | 11/573 [00:00<00:05, 100.28it/s]"
     ]
    },
    {
     "name": "stdout",
     "output_type": "stream",
     "text": [
      "Classification accuracy: 86.8%\n"
     ]
    },
    {
     "name": "stderr",
     "output_type": "stream",
     "text": [
      "Epoch 12 Iter 573: loss 0.66564. : 100%|████| 573/573 [00:04<00:00, 121.12it/s]\n",
      "Epoch 13 Iter 19: loss 0.46445. :   2%|       | 10/573 [00:00<00:05, 97.35it/s]"
     ]
    },
    {
     "name": "stdout",
     "output_type": "stream",
     "text": [
      "Classification accuracy: 86.28%\n"
     ]
    },
    {
     "name": "stderr",
     "output_type": "stream",
     "text": [
      "Epoch 13 Iter 573: loss 0.72378. : 100%|████| 573/573 [00:04<00:00, 120.62it/s]\n",
      "Epoch 14 Iter 20: loss 0.49621. :   2%|      | 11/573 [00:00<00:05, 108.16it/s]"
     ]
    },
    {
     "name": "stdout",
     "output_type": "stream",
     "text": [
      "Classification accuracy: 86.89%\n"
     ]
    },
    {
     "name": "stderr",
     "output_type": "stream",
     "text": [
      "Epoch 14 Iter 573: loss 0.43004. : 100%|████| 573/573 [00:04<00:00, 120.41it/s]\n",
      "Epoch 15 Iter 19: loss 0.28068. :   2%|      | 11/573 [00:00<00:05, 101.18it/s]"
     ]
    },
    {
     "name": "stdout",
     "output_type": "stream",
     "text": [
      "Classification accuracy: 86.93%\n"
     ]
    },
    {
     "name": "stderr",
     "output_type": "stream",
     "text": [
      "Epoch 15 Iter 573: loss 0.69593. : 100%|████| 573/573 [00:04<00:00, 120.13it/s]\n",
      "Epoch 16 Iter 19: loss 0.56686. :   2%|      | 11/573 [00:00<00:05, 102.15it/s]"
     ]
    },
    {
     "name": "stdout",
     "output_type": "stream",
     "text": [
      "Classification accuracy: 85.94%\n"
     ]
    },
    {
     "name": "stderr",
     "output_type": "stream",
     "text": [
      "Epoch 16 Iter 573: loss 0.28651. : 100%|████| 573/573 [00:04<00:00, 121.07it/s]\n",
      "Epoch 17 Iter 19: loss 0.58805. :   2%|      | 11/573 [00:00<00:05, 102.12it/s]"
     ]
    },
    {
     "name": "stdout",
     "output_type": "stream",
     "text": [
      "Classification accuracy: 87.33%\n"
     ]
    },
    {
     "name": "stderr",
     "output_type": "stream",
     "text": [
      "Epoch 17 Iter 573: loss 0.41838. : 100%|████| 573/573 [00:04<00:00, 121.05it/s]\n",
      "Epoch 18 Iter 19: loss 0.45906. :   2%|      | 11/573 [00:00<00:05, 102.12it/s]"
     ]
    },
    {
     "name": "stdout",
     "output_type": "stream",
     "text": [
      "Classification accuracy: 86.79%\n"
     ]
    },
    {
     "name": "stderr",
     "output_type": "stream",
     "text": [
      "Epoch 18 Iter 573: loss 0.33050. : 100%|████| 573/573 [00:04<00:00, 120.56it/s]\n",
      "Epoch 19 Iter 18: loss 0.49336. :   2%|       | 10/573 [00:00<00:05, 98.30it/s]"
     ]
    },
    {
     "name": "stdout",
     "output_type": "stream",
     "text": [
      "Classification accuracy: 86.15%\n"
     ]
    },
    {
     "name": "stderr",
     "output_type": "stream",
     "text": [
      "Epoch 19 Iter 573: loss 0.45109. : 100%|████| 573/573 [00:04<00:00, 121.00it/s]\n",
      "Epoch 20 Iter 19: loss 0.46871. :   2%|      | 11/573 [00:00<00:05, 102.16it/s]"
     ]
    },
    {
     "name": "stdout",
     "output_type": "stream",
     "text": [
      "Classification accuracy: 87.26%\n"
     ]
    },
    {
     "name": "stderr",
     "output_type": "stream",
     "text": [
      "Epoch 20 Iter 573: loss 0.41783. : 100%|████| 573/573 [00:04<00:00, 120.88it/s]\n",
      "Epoch 21 Iter 21: loss 0.53513. :   2%|      | 11/573 [00:00<00:05, 109.23it/s]"
     ]
    },
    {
     "name": "stdout",
     "output_type": "stream",
     "text": [
      "Classification accuracy: 86.59%\n"
     ]
    },
    {
     "name": "stderr",
     "output_type": "stream",
     "text": [
      "Epoch 21 Iter 573: loss 0.43658. : 100%|████| 573/573 [00:04<00:00, 121.29it/s]\n",
      "Epoch 22 Iter 19: loss 0.52590. :   2%|      | 11/573 [00:00<00:05, 108.15it/s]"
     ]
    },
    {
     "name": "stdout",
     "output_type": "stream",
     "text": [
      "Classification accuracy: 86.78%\n"
     ]
    },
    {
     "name": "stderr",
     "output_type": "stream",
     "text": [
      "Epoch 22 Iter 573: loss 0.47197. : 100%|████| 573/573 [00:04<00:00, 121.32it/s]\n",
      "Epoch 23 Iter 20: loss 0.47832. :   2%|      | 11/573 [00:00<00:05, 107.11it/s]"
     ]
    },
    {
     "name": "stdout",
     "output_type": "stream",
     "text": [
      "Classification accuracy: 86.97%\n"
     ]
    },
    {
     "name": "stderr",
     "output_type": "stream",
     "text": [
      "Epoch 23 Iter 573: loss 0.65769. : 100%|████| 573/573 [00:04<00:00, 121.18it/s]\n",
      "Epoch 24 Iter 19: loss 0.43803. :   2%|      | 11/573 [00:00<00:05, 104.05it/s]"
     ]
    },
    {
     "name": "stdout",
     "output_type": "stream",
     "text": [
      "Classification accuracy: 87.34%\n"
     ]
    },
    {
     "name": "stderr",
     "output_type": "stream",
     "text": [
      "Epoch 24 Iter 573: loss 0.30604. : 100%|████| 573/573 [00:04<00:00, 120.25it/s]\n",
      "Epoch 25 Iter 20: loss 0.32098. :   2%|      | 11/573 [00:00<00:05, 104.08it/s]"
     ]
    },
    {
     "name": "stdout",
     "output_type": "stream",
     "text": [
      "Classification accuracy: 86.82%\n"
     ]
    },
    {
     "name": "stderr",
     "output_type": "stream",
     "text": [
      "Epoch 25 Iter 573: loss 0.30998. : 100%|████| 573/573 [00:04<00:00, 119.84it/s]\n",
      "Epoch 1 Iter 19: loss 4.24285. :   2%|▏       | 10/573 [00:00<00:05, 97.38it/s]"
     ]
    },
    {
     "name": "stdout",
     "output_type": "stream",
     "text": [
      "Classification accuracy: 87.1%\n",
      "Model has 122626 learnable parameters\n"
     ]
    },
    {
     "name": "stderr",
     "output_type": "stream",
     "text": [
      "Epoch 1 Iter 573: loss 0.57229. : 100%|█████| 573/573 [00:04<00:00, 119.85it/s]\n",
      "Epoch 2 Iter 18: loss 0.76498. :   2%|▏       | 10/573 [00:00<00:05, 99.27it/s]"
     ]
    },
    {
     "name": "stdout",
     "output_type": "stream",
     "text": [
      "Classification accuracy: 80.84%\n"
     ]
    },
    {
     "name": "stderr",
     "output_type": "stream",
     "text": [
      "Epoch 2 Iter 573: loss 0.36106. : 100%|█████| 573/573 [00:04<00:00, 121.60it/s]\n",
      "Epoch 3 Iter 20: loss 0.68619. :   2%|▏      | 11/573 [00:00<00:05, 104.05it/s]"
     ]
    },
    {
     "name": "stdout",
     "output_type": "stream",
     "text": [
      "Classification accuracy: 83.19%\n"
     ]
    },
    {
     "name": "stderr",
     "output_type": "stream",
     "text": [
      "Epoch 3 Iter 573: loss 0.36677. : 100%|█████| 573/573 [00:04<00:00, 124.07it/s]\n",
      "Epoch 4 Iter 19: loss 0.54093. :   2%|▏       | 10/573 [00:00<00:05, 99.27it/s]"
     ]
    },
    {
     "name": "stdout",
     "output_type": "stream",
     "text": [
      "Classification accuracy: 84.19%\n"
     ]
    },
    {
     "name": "stderr",
     "output_type": "stream",
     "text": [
      "Epoch 4 Iter 573: loss 0.67694. : 100%|█████| 573/573 [00:04<00:00, 122.42it/s]\n",
      "Epoch 5 Iter 20: loss 0.50931. :   2%|▏      | 11/573 [00:00<00:05, 109.20it/s]"
     ]
    },
    {
     "name": "stdout",
     "output_type": "stream",
     "text": [
      "Classification accuracy: 85.47%\n"
     ]
    },
    {
     "name": "stderr",
     "output_type": "stream",
     "text": [
      "Epoch 5 Iter 573: loss 0.54876. : 100%|█████| 573/573 [00:04<00:00, 122.58it/s]\n",
      "Epoch 6 Iter 20: loss 0.57342. :   2%|▏      | 11/573 [00:00<00:05, 103.08it/s]"
     ]
    },
    {
     "name": "stdout",
     "output_type": "stream",
     "text": [
      "Classification accuracy: 84.54%\n"
     ]
    },
    {
     "name": "stderr",
     "output_type": "stream",
     "text": [
      "Epoch 6 Iter 573: loss 0.32937. : 100%|█████| 573/573 [00:04<00:00, 121.53it/s]\n",
      "Epoch 7 Iter 20: loss 0.50550. :   2%|▏      | 11/573 [00:00<00:05, 103.07it/s]"
     ]
    },
    {
     "name": "stdout",
     "output_type": "stream",
     "text": [
      "Classification accuracy: 85.74%\n"
     ]
    },
    {
     "name": "stderr",
     "output_type": "stream",
     "text": [
      "Epoch 7 Iter 573: loss 0.34552. : 100%|█████| 573/573 [00:04<00:00, 120.61it/s]\n",
      "Epoch 8 Iter 19: loss 0.52622. :   2%|▏      | 11/573 [00:00<00:05, 103.11it/s]"
     ]
    },
    {
     "name": "stdout",
     "output_type": "stream",
     "text": [
      "Classification accuracy: 86.63%\n"
     ]
    },
    {
     "name": "stderr",
     "output_type": "stream",
     "text": [
      "Epoch 8 Iter 573: loss 0.49779. : 100%|█████| 573/573 [00:04<00:00, 120.57it/s]\n",
      "Epoch 9 Iter 17: loss 0.51276. :   2%|▏       | 10/573 [00:00<00:05, 97.35it/s]"
     ]
    },
    {
     "name": "stdout",
     "output_type": "stream",
     "text": [
      "Classification accuracy: 85.44%\n"
     ]
    },
    {
     "name": "stderr",
     "output_type": "stream",
     "text": [
      "Epoch 9 Iter 573: loss 0.39047. : 100%|█████| 573/573 [00:04<00:00, 120.67it/s]\n",
      "Epoch 10 Iter 19: loss 0.36621. :   2%|       | 10/573 [00:00<00:05, 96.44it/s]"
     ]
    },
    {
     "name": "stdout",
     "output_type": "stream",
     "text": [
      "Classification accuracy: 86.3%\n"
     ]
    },
    {
     "name": "stderr",
     "output_type": "stream",
     "text": [
      "Epoch 10 Iter 573: loss 0.27679. : 100%|████| 573/573 [00:04<00:00, 121.11it/s]\n",
      "Epoch 11 Iter 20: loss 0.41602. :   2%|      | 11/573 [00:00<00:05, 105.07it/s]"
     ]
    },
    {
     "name": "stdout",
     "output_type": "stream",
     "text": [
      "Classification accuracy: 86.57%\n"
     ]
    },
    {
     "name": "stderr",
     "output_type": "stream",
     "text": [
      "Epoch 11 Iter 573: loss 0.33902. : 100%|████| 573/573 [00:04<00:00, 121.14it/s]\n",
      "Epoch 12 Iter 19: loss 0.29142. :   2%|      | 11/573 [00:00<00:05, 107.08it/s]"
     ]
    },
    {
     "name": "stdout",
     "output_type": "stream",
     "text": [
      "Classification accuracy: 86.85%\n"
     ]
    },
    {
     "name": "stderr",
     "output_type": "stream",
     "text": [
      "Epoch 12 Iter 573: loss 0.67366. : 100%|████| 573/573 [00:04<00:00, 121.79it/s]\n",
      "Epoch 13 Iter 19: loss 0.42729. :   2%|      | 11/573 [00:00<00:05, 100.28it/s]"
     ]
    },
    {
     "name": "stdout",
     "output_type": "stream",
     "text": [
      "Classification accuracy: 86.84%\n"
     ]
    },
    {
     "name": "stderr",
     "output_type": "stream",
     "text": [
      "Epoch 13 Iter 573: loss 0.66824. : 100%|████| 573/573 [00:04<00:00, 120.51it/s]\n",
      "Epoch 14 Iter 18: loss 0.40121. :   2%|      | 11/573 [00:00<00:05, 101.18it/s]"
     ]
    },
    {
     "name": "stdout",
     "output_type": "stream",
     "text": [
      "Classification accuracy: 86.77%\n"
     ]
    },
    {
     "name": "stderr",
     "output_type": "stream",
     "text": [
      "Epoch 14 Iter 573: loss 0.47332. : 100%|████| 573/573 [00:04<00:00, 121.99it/s]\n",
      "Epoch 15 Iter 18: loss 0.39097. :   2%|      | 11/573 [00:00<00:05, 101.19it/s]"
     ]
    },
    {
     "name": "stdout",
     "output_type": "stream",
     "text": [
      "Classification accuracy: 86.58%\n"
     ]
    },
    {
     "name": "stderr",
     "output_type": "stream",
     "text": [
      "Epoch 15 Iter 573: loss 0.38171. : 100%|████| 573/573 [00:04<00:00, 120.61it/s]\n",
      "Epoch 16 Iter 19: loss 0.30956. :   2%|      | 11/573 [00:00<00:05, 102.15it/s]"
     ]
    },
    {
     "name": "stdout",
     "output_type": "stream",
     "text": [
      "Classification accuracy: 86.08%\n"
     ]
    },
    {
     "name": "stderr",
     "output_type": "stream",
     "text": [
      "Epoch 16 Iter 573: loss 0.31340. : 100%|████| 573/573 [00:04<00:00, 120.94it/s]\n",
      "Epoch 17 Iter 18: loss 0.65803. :   2%|       | 10/573 [00:00<00:05, 98.27it/s]"
     ]
    },
    {
     "name": "stdout",
     "output_type": "stream",
     "text": [
      "Classification accuracy: 86.81%\n"
     ]
    },
    {
     "name": "stderr",
     "output_type": "stream",
     "text": [
      "Epoch 17 Iter 573: loss 0.38754. : 100%|████| 573/573 [00:04<00:00, 121.74it/s]\n",
      "Epoch 18 Iter 18: loss 0.31990. :   2%|      | 11/573 [00:00<00:05, 101.22it/s]"
     ]
    },
    {
     "name": "stdout",
     "output_type": "stream",
     "text": [
      "Classification accuracy: 86.41%\n"
     ]
    },
    {
     "name": "stderr",
     "output_type": "stream",
     "text": [
      "Epoch 18 Iter 573: loss 0.49706. : 100%|████| 573/573 [00:04<00:00, 121.82it/s]\n",
      "Epoch 19 Iter 19: loss 0.38641. :   2%|      | 11/573 [00:00<00:05, 104.05it/s]"
     ]
    },
    {
     "name": "stdout",
     "output_type": "stream",
     "text": [
      "Classification accuracy: 86.78%\n"
     ]
    },
    {
     "name": "stderr",
     "output_type": "stream",
     "text": [
      "Epoch 19 Iter 573: loss 0.31378. : 100%|████| 573/573 [00:04<00:00, 120.43it/s]\n",
      "Epoch 20 Iter 19: loss 0.58839. :   2%|      | 11/573 [00:00<00:05, 107.12it/s]"
     ]
    },
    {
     "name": "stdout",
     "output_type": "stream",
     "text": [
      "Classification accuracy: 86.92%\n"
     ]
    },
    {
     "name": "stderr",
     "output_type": "stream",
     "text": [
      "Epoch 20 Iter 573: loss 0.80126. : 100%|████| 573/573 [00:04<00:00, 121.61it/s]\n",
      "Epoch 21 Iter 20: loss 0.32537. :   2%|      | 11/573 [00:00<00:05, 106.05it/s]"
     ]
    },
    {
     "name": "stdout",
     "output_type": "stream",
     "text": [
      "Classification accuracy: 87.15%\n"
     ]
    },
    {
     "name": "stderr",
     "output_type": "stream",
     "text": [
      "Epoch 21 Iter 573: loss 0.25807. : 100%|████| 573/573 [00:04<00:00, 121.88it/s]\n",
      "Epoch 22 Iter 19: loss 0.32513. :   2%|▏      | 11/573 [00:00<00:05, 98.50it/s]"
     ]
    },
    {
     "name": "stdout",
     "output_type": "stream",
     "text": [
      "Classification accuracy: 86.97%\n"
     ]
    },
    {
     "name": "stderr",
     "output_type": "stream",
     "text": [
      "Epoch 22 Iter 573: loss 0.36908. : 100%|████| 573/573 [00:04<00:00, 120.87it/s]\n",
      "Epoch 23 Iter 20: loss 0.31865. :   2%|▏     | 12/573 [00:00<00:04, 112.45it/s]"
     ]
    },
    {
     "name": "stdout",
     "output_type": "stream",
     "text": [
      "Classification accuracy: 86.88%\n"
     ]
    },
    {
     "name": "stderr",
     "output_type": "stream",
     "text": [
      "Epoch 23 Iter 573: loss 0.38651. : 100%|████| 573/573 [00:04<00:00, 122.59it/s]\n",
      "Epoch 24 Iter 20: loss 0.50198. :   2%|       | 10/573 [00:00<00:05, 98.78it/s]"
     ]
    },
    {
     "name": "stdout",
     "output_type": "stream",
     "text": [
      "Classification accuracy: 87.09%\n"
     ]
    },
    {
     "name": "stderr",
     "output_type": "stream",
     "text": [
      "Epoch 24 Iter 573: loss 0.28858. : 100%|████| 573/573 [00:04<00:00, 121.35it/s]\n",
      "Epoch 25 Iter 18: loss 0.42181. :   2%|       | 10/573 [00:00<00:05, 95.49it/s]"
     ]
    },
    {
     "name": "stdout",
     "output_type": "stream",
     "text": [
      "Classification accuracy: 87.02%\n"
     ]
    },
    {
     "name": "stderr",
     "output_type": "stream",
     "text": [
      "Epoch 25 Iter 573: loss 0.43287. : 100%|████| 573/573 [00:04<00:00, 120.87it/s]\n",
      "Epoch 1 Iter 20: loss 4.18711. :   2%|▏      | 11/573 [00:00<00:05, 103.08it/s]"
     ]
    },
    {
     "name": "stdout",
     "output_type": "stream",
     "text": [
      "Classification accuracy: 87.18%\n",
      "Model has 122626 learnable parameters\n"
     ]
    },
    {
     "name": "stderr",
     "output_type": "stream",
     "text": [
      "Epoch 1 Iter 573: loss 0.76386. : 100%|█████| 573/573 [00:04<00:00, 121.80it/s]\n",
      "Epoch 2 Iter 19: loss 0.72934. :   2%|▏       | 10/573 [00:00<00:05, 99.29it/s]"
     ]
    },
    {
     "name": "stdout",
     "output_type": "stream",
     "text": [
      "Classification accuracy: 82.15%\n"
     ]
    },
    {
     "name": "stderr",
     "output_type": "stream",
     "text": [
      "Epoch 2 Iter 573: loss 0.56270. : 100%|█████| 573/573 [00:04<00:00, 120.78it/s]\n",
      "Epoch 3 Iter 18: loss 0.68450. :   2%|▏       | 10/573 [00:00<00:05, 99.31it/s]"
     ]
    },
    {
     "name": "stdout",
     "output_type": "stream",
     "text": [
      "Classification accuracy: 83.85%\n"
     ]
    },
    {
     "name": "stderr",
     "output_type": "stream",
     "text": [
      "Epoch 3 Iter 573: loss 1.08760. : 100%|█████| 573/573 [00:04<00:00, 122.05it/s]\n",
      "Epoch 4 Iter 19: loss 0.36661. :   2%|▏       | 10/573 [00:00<00:05, 98.33it/s]"
     ]
    },
    {
     "name": "stdout",
     "output_type": "stream",
     "text": [
      "Classification accuracy: 84.74%\n"
     ]
    },
    {
     "name": "stderr",
     "output_type": "stream",
     "text": [
      "Epoch 4 Iter 573: loss 0.52499. : 100%|█████| 573/573 [00:04<00:00, 121.16it/s]\n",
      "Epoch 5 Iter 19: loss 0.40381. :   2%|▏      | 11/573 [00:00<00:05, 100.26it/s]"
     ]
    },
    {
     "name": "stdout",
     "output_type": "stream",
     "text": [
      "Classification accuracy: 85.88%\n"
     ]
    },
    {
     "name": "stderr",
     "output_type": "stream",
     "text": [
      "Epoch 5 Iter 573: loss 0.46436. : 100%|█████| 573/573 [00:04<00:00, 121.10it/s]\n",
      "Epoch 6 Iter 19: loss 0.52623. :   2%|▏      | 11/573 [00:00<00:05, 108.13it/s]"
     ]
    },
    {
     "name": "stdout",
     "output_type": "stream",
     "text": [
      "Classification accuracy: 85.31%\n"
     ]
    },
    {
     "name": "stderr",
     "output_type": "stream",
     "text": [
      "Epoch 6 Iter 573: loss 0.71257. : 100%|█████| 573/573 [00:04<00:00, 121.39it/s]\n",
      "Epoch 7 Iter 18: loss 0.84728. :   2%|▏      | 11/573 [00:00<00:05, 100.26it/s]"
     ]
    },
    {
     "name": "stdout",
     "output_type": "stream",
     "text": [
      "Classification accuracy: 85.8%\n"
     ]
    },
    {
     "name": "stderr",
     "output_type": "stream",
     "text": [
      "Epoch 7 Iter 573: loss 0.72935. : 100%|█████| 573/573 [00:04<00:00, 121.54it/s]\n",
      "Epoch 8 Iter 19: loss 0.50024. :   2%|▏      | 11/573 [00:00<00:05, 107.08it/s]"
     ]
    },
    {
     "name": "stdout",
     "output_type": "stream",
     "text": [
      "Classification accuracy: 86.68%\n"
     ]
    },
    {
     "name": "stderr",
     "output_type": "stream",
     "text": [
      "Epoch 8 Iter 573: loss 0.51155. : 100%|█████| 573/573 [00:04<00:00, 121.65it/s]\n",
      "Epoch 9 Iter 18: loss 0.60048. :   2%|▏       | 10/573 [00:00<00:05, 95.51it/s]"
     ]
    },
    {
     "name": "stdout",
     "output_type": "stream",
     "text": [
      "Classification accuracy: 87.34%\n"
     ]
    },
    {
     "name": "stderr",
     "output_type": "stream",
     "text": [
      "Epoch 9 Iter 573: loss 0.48852. : 100%|█████| 573/573 [00:04<00:00, 120.82it/s]\n",
      "Epoch 10 Iter 20: loss 0.46141. :   2%|      | 11/573 [00:00<00:05, 103.08it/s]"
     ]
    },
    {
     "name": "stdout",
     "output_type": "stream",
     "text": [
      "Classification accuracy: 86.65%\n"
     ]
    },
    {
     "name": "stderr",
     "output_type": "stream",
     "text": [
      "Epoch 10 Iter 573: loss 0.72952. : 100%|████| 573/573 [00:04<00:00, 121.57it/s]\n",
      "Epoch 11 Iter 18: loss 0.34951. :   2%|       | 10/573 [00:00<00:06, 91.99it/s]"
     ]
    },
    {
     "name": "stdout",
     "output_type": "stream",
     "text": [
      "Classification accuracy: 87.28%\n"
     ]
    },
    {
     "name": "stderr",
     "output_type": "stream",
     "text": [
      "Epoch 11 Iter 573: loss 0.45239. : 100%|████| 573/573 [00:04<00:00, 120.16it/s]\n",
      "Epoch 12 Iter 18: loss 0.44592. :   2%|       | 10/573 [00:00<00:05, 98.30it/s]"
     ]
    },
    {
     "name": "stdout",
     "output_type": "stream",
     "text": [
      "Classification accuracy: 87.37%\n"
     ]
    },
    {
     "name": "stderr",
     "output_type": "stream",
     "text": [
      "Epoch 12 Iter 573: loss 0.43046. : 100%|████| 573/573 [00:04<00:00, 121.28it/s]\n",
      "Epoch 13 Iter 17: loss 0.48245. :   2%|       | 10/573 [00:00<00:05, 97.35it/s]"
     ]
    },
    {
     "name": "stdout",
     "output_type": "stream",
     "text": [
      "Classification accuracy: 86.84%\n"
     ]
    },
    {
     "name": "stderr",
     "output_type": "stream",
     "text": [
      "Epoch 13 Iter 573: loss 0.48613. : 100%|████| 573/573 [00:04<00:00, 121.65it/s]\n",
      "Epoch 14 Iter 20: loss 0.52455. :   2%|      | 11/573 [00:00<00:05, 108.16it/s]"
     ]
    },
    {
     "name": "stdout",
     "output_type": "stream",
     "text": [
      "Classification accuracy: 87.71%\n"
     ]
    },
    {
     "name": "stderr",
     "output_type": "stream",
     "text": [
      "Epoch 14 Iter 573: loss 0.68753. : 100%|████| 573/573 [00:04<00:00, 121.43it/s]\n",
      "Epoch 15 Iter 19: loss 0.70645. :   2%|       | 10/573 [00:00<00:05, 95.49it/s]"
     ]
    },
    {
     "name": "stdout",
     "output_type": "stream",
     "text": [
      "Classification accuracy: 87.3%\n"
     ]
    },
    {
     "name": "stderr",
     "output_type": "stream",
     "text": [
      "Epoch 15 Iter 573: loss 0.36373. : 100%|████| 573/573 [00:04<00:00, 120.76it/s]\n",
      "Epoch 16 Iter 18: loss 0.57723. :   2%|       | 10/573 [00:00<00:05, 98.30it/s]"
     ]
    },
    {
     "name": "stdout",
     "output_type": "stream",
     "text": [
      "Classification accuracy: 87.98%\n"
     ]
    },
    {
     "name": "stderr",
     "output_type": "stream",
     "text": [
      "Epoch 16 Iter 573: loss 0.41947. : 100%|████| 573/573 [00:04<00:00, 122.52it/s]\n",
      "Epoch 17 Iter 20: loss 0.35660. :   2%|      | 11/573 [00:00<00:05, 105.04it/s]"
     ]
    },
    {
     "name": "stdout",
     "output_type": "stream",
     "text": [
      "Classification accuracy: 87.29%\n"
     ]
    },
    {
     "name": "stderr",
     "output_type": "stream",
     "text": [
      "Epoch 17 Iter 573: loss 0.46032. : 100%|████| 573/573 [00:04<00:00, 120.86it/s]\n",
      "Epoch 18 Iter 20: loss 0.52530. :   2%|      | 11/573 [00:00<00:05, 102.12it/s]"
     ]
    },
    {
     "name": "stdout",
     "output_type": "stream",
     "text": [
      "Classification accuracy: 88.26%\n"
     ]
    },
    {
     "name": "stderr",
     "output_type": "stream",
     "text": [
      "Epoch 18 Iter 573: loss 0.68820. : 100%|████| 573/573 [00:04<00:00, 121.10it/s]\n",
      "Epoch 19 Iter 18: loss 0.38875. :   2%|       | 10/573 [00:00<00:05, 99.27it/s]"
     ]
    },
    {
     "name": "stdout",
     "output_type": "stream",
     "text": [
      "Classification accuracy: 86.6%\n"
     ]
    },
    {
     "name": "stderr",
     "output_type": "stream",
     "text": [
      "Epoch 19 Iter 573: loss 0.39493. : 100%|████| 573/573 [00:04<00:00, 120.71it/s]\n",
      "Epoch 20 Iter 19: loss 0.45529. :   2%|      | 11/573 [00:00<00:05, 101.19it/s]"
     ]
    },
    {
     "name": "stdout",
     "output_type": "stream",
     "text": [
      "Classification accuracy: 87.68%\n"
     ]
    },
    {
     "name": "stderr",
     "output_type": "stream",
     "text": [
      "Epoch 20 Iter 573: loss 0.52269. : 100%|████| 573/573 [00:04<00:00, 120.68it/s]\n",
      "Epoch 21 Iter 18: loss 0.34311. :   2%|      | 11/573 [00:00<00:05, 101.18it/s]"
     ]
    },
    {
     "name": "stdout",
     "output_type": "stream",
     "text": [
      "Classification accuracy: 87.42%\n"
     ]
    },
    {
     "name": "stderr",
     "output_type": "stream",
     "text": [
      "Epoch 21 Iter 573: loss 0.40468. : 100%|████| 573/573 [00:04<00:00, 121.68it/s]\n",
      "Epoch 22 Iter 19: loss 0.58308. :   2%|      | 11/573 [00:00<00:05, 105.04it/s]"
     ]
    },
    {
     "name": "stdout",
     "output_type": "stream",
     "text": [
      "Classification accuracy: 88.0%\n"
     ]
    },
    {
     "name": "stderr",
     "output_type": "stream",
     "text": [
      "Epoch 22 Iter 573: loss 0.22736. : 100%|████| 573/573 [00:04<00:00, 120.44it/s]\n",
      "Epoch 23 Iter 19: loss 0.46681. :   2%|      | 11/573 [00:00<00:05, 103.08it/s]"
     ]
    },
    {
     "name": "stdout",
     "output_type": "stream",
     "text": [
      "Classification accuracy: 87.62%\n"
     ]
    },
    {
     "name": "stderr",
     "output_type": "stream",
     "text": [
      "Epoch 23 Iter 573: loss 0.41758. : 100%|████| 573/573 [00:04<00:00, 120.26it/s]\n",
      "Epoch 24 Iter 18: loss 0.34415. :   2%|       | 10/573 [00:00<00:05, 99.27it/s]"
     ]
    },
    {
     "name": "stdout",
     "output_type": "stream",
     "text": [
      "Classification accuracy: 87.93%\n"
     ]
    },
    {
     "name": "stderr",
     "output_type": "stream",
     "text": [
      "Epoch 24 Iter 573: loss 0.39147. : 100%|████| 573/573 [00:04<00:00, 121.51it/s]\n",
      "Epoch 25 Iter 20: loss 0.33364. :   2%|      | 11/573 [00:00<00:05, 109.20it/s]"
     ]
    },
    {
     "name": "stdout",
     "output_type": "stream",
     "text": [
      "Classification accuracy: 87.88%\n"
     ]
    },
    {
     "name": "stderr",
     "output_type": "stream",
     "text": [
      "Epoch 25 Iter 573: loss 0.37495. : 100%|████| 573/573 [00:04<00:00, 115.92it/s]\n",
      "Epoch 1 Iter 17: loss 5.10587. :   2%|▏       | 10/573 [00:00<00:05, 96.41it/s]"
     ]
    },
    {
     "name": "stdout",
     "output_type": "stream",
     "text": [
      "Classification accuracy: 87.34%\n",
      "Model has 122626 learnable parameters\n"
     ]
    },
    {
     "name": "stderr",
     "output_type": "stream",
     "text": [
      "Epoch 1 Iter 573: loss 1.18947. : 100%|█████| 573/573 [00:05<00:00, 114.53it/s]\n",
      "Epoch 2 Iter 18: loss 0.72378. :   2%|▏       | 10/573 [00:00<00:05, 97.38it/s]"
     ]
    },
    {
     "name": "stdout",
     "output_type": "stream",
     "text": [
      "Classification accuracy: 79.61%\n"
     ]
    },
    {
     "name": "stderr",
     "output_type": "stream",
     "text": [
      "Epoch 2 Iter 573: loss 0.76953. : 100%|█████| 573/573 [00:04<00:00, 118.92it/s]\n",
      "Epoch 3 Iter 18: loss 0.60247. :   2%|▏       | 10/573 [00:00<00:05, 97.37it/s]"
     ]
    },
    {
     "name": "stdout",
     "output_type": "stream",
     "text": [
      "Classification accuracy: 80.84%\n"
     ]
    },
    {
     "name": "stderr",
     "output_type": "stream",
     "text": [
      "Epoch 3 Iter 573: loss 0.40500. : 100%|█████| 573/573 [00:04<00:00, 116.87it/s]\n",
      "Epoch 4 Iter 18: loss 0.64677. :   2%|▏       | 10/573 [00:00<00:05, 94.59it/s]"
     ]
    },
    {
     "name": "stdout",
     "output_type": "stream",
     "text": [
      "Classification accuracy: 82.56%\n"
     ]
    },
    {
     "name": "stderr",
     "output_type": "stream",
     "text": [
      "Epoch 4 Iter 573: loss 0.42585. : 100%|█████| 573/573 [00:04<00:00, 118.87it/s]\n",
      "Epoch 5 Iter 20: loss 0.49142. :   2%|▏      | 11/573 [00:00<00:05, 100.26it/s]"
     ]
    },
    {
     "name": "stdout",
     "output_type": "stream",
     "text": [
      "Classification accuracy: 84.61%\n"
     ]
    },
    {
     "name": "stderr",
     "output_type": "stream",
     "text": [
      "Epoch 5 Iter 573: loss 0.37819. : 100%|█████| 573/573 [00:04<00:00, 117.93it/s]\n",
      "Epoch 6 Iter 18: loss 0.54010. :   2%|▏       | 10/573 [00:00<00:06, 92.01it/s]"
     ]
    },
    {
     "name": "stdout",
     "output_type": "stream",
     "text": [
      "Classification accuracy: 84.23%\n"
     ]
    },
    {
     "name": "stderr",
     "output_type": "stream",
     "text": [
      "Epoch 6 Iter 573: loss 0.65729. : 100%|█████| 573/573 [00:04<00:00, 121.68it/s]\n",
      "Epoch 7 Iter 21: loss 0.52740. :   2%|▏      | 11/573 [00:00<00:05, 104.05it/s]"
     ]
    },
    {
     "name": "stdout",
     "output_type": "stream",
     "text": [
      "Classification accuracy: 85.13%\n"
     ]
    },
    {
     "name": "stderr",
     "output_type": "stream",
     "text": [
      "Epoch 7 Iter 573: loss 0.74205. : 100%|█████| 573/573 [00:04<00:00, 123.57it/s]\n",
      "Epoch 8 Iter 19: loss 0.44742. :   2%|▏       | 10/573 [00:00<00:05, 96.44it/s]"
     ]
    },
    {
     "name": "stdout",
     "output_type": "stream",
     "text": [
      "Classification accuracy: 84.18%\n"
     ]
    },
    {
     "name": "stderr",
     "output_type": "stream",
     "text": [
      "Epoch 8 Iter 573: loss 0.48679. : 100%|█████| 573/573 [00:04<00:00, 121.61it/s]\n",
      "Epoch 9 Iter 19: loss 0.45428. :   2%|▏      | 11/573 [00:00<00:05, 108.13it/s]"
     ]
    },
    {
     "name": "stdout",
     "output_type": "stream",
     "text": [
      "Classification accuracy: 84.99%\n"
     ]
    },
    {
     "name": "stderr",
     "output_type": "stream",
     "text": [
      "Epoch 9 Iter 573: loss 0.54290. : 100%|█████| 573/573 [00:04<00:00, 122.66it/s]\n",
      "Epoch 10 Iter 18: loss 0.45195. :   2%|      | 11/573 [00:00<00:05, 101.18it/s]"
     ]
    },
    {
     "name": "stdout",
     "output_type": "stream",
     "text": [
      "Classification accuracy: 85.47%\n"
     ]
    },
    {
     "name": "stderr",
     "output_type": "stream",
     "text": [
      "Epoch 10 Iter 573: loss 0.54053. : 100%|████| 573/573 [00:04<00:00, 122.39it/s]\n",
      "Epoch 11 Iter 20: loss 0.45776. :   2%|      | 11/573 [00:00<00:05, 100.30it/s]"
     ]
    },
    {
     "name": "stdout",
     "output_type": "stream",
     "text": [
      "Classification accuracy: 85.13%\n"
     ]
    },
    {
     "name": "stderr",
     "output_type": "stream",
     "text": [
      "Epoch 11 Iter 573: loss 0.43442. : 100%|████| 573/573 [00:04<00:00, 122.75it/s]\n",
      "Epoch 12 Iter 19: loss 0.67208. :   2%|      | 11/573 [00:00<00:05, 107.08it/s]"
     ]
    },
    {
     "name": "stdout",
     "output_type": "stream",
     "text": [
      "Classification accuracy: 86.21%\n"
     ]
    },
    {
     "name": "stderr",
     "output_type": "stream",
     "text": [
      "Epoch 12 Iter 573: loss 0.59106. : 100%|████| 573/573 [00:04<00:00, 123.89it/s]\n",
      "Epoch 13 Iter 19: loss 0.57676. :   2%|       | 10/573 [00:00<00:05, 99.30it/s]"
     ]
    },
    {
     "name": "stdout",
     "output_type": "stream",
     "text": [
      "Classification accuracy: 85.49%\n"
     ]
    },
    {
     "name": "stderr",
     "output_type": "stream",
     "text": [
      "Epoch 13 Iter 573: loss 0.21252. : 100%|████| 573/573 [00:04<00:00, 122.90it/s]\n",
      "Epoch 14 Iter 21: loss 0.61028. :   2%|      | 11/573 [00:00<00:05, 108.16it/s]"
     ]
    },
    {
     "name": "stdout",
     "output_type": "stream",
     "text": [
      "Classification accuracy: 86.06%\n"
     ]
    },
    {
     "name": "stderr",
     "output_type": "stream",
     "text": [
      "Epoch 14 Iter 573: loss 0.46001. : 100%|████| 573/573 [00:04<00:00, 123.85it/s]\n",
      "Epoch 15 Iter 19: loss 0.49898. :   2%|      | 11/573 [00:00<00:05, 102.15it/s]"
     ]
    },
    {
     "name": "stdout",
     "output_type": "stream",
     "text": [
      "Classification accuracy: 86.79%\n"
     ]
    },
    {
     "name": "stderr",
     "output_type": "stream",
     "text": [
      "Epoch 15 Iter 573: loss 0.53450. : 100%|████| 573/573 [00:04<00:00, 121.74it/s]\n",
      "Epoch 16 Iter 20: loss 0.37076. :   2%|      | 11/573 [00:00<00:05, 106.60it/s]"
     ]
    },
    {
     "name": "stdout",
     "output_type": "stream",
     "text": [
      "Classification accuracy: 86.02%\n"
     ]
    },
    {
     "name": "stderr",
     "output_type": "stream",
     "text": [
      "Epoch 16 Iter 573: loss 0.31804. : 100%|████| 573/573 [00:04<00:00, 123.81it/s]\n",
      "Epoch 17 Iter 19: loss 0.49181. :   2%|      | 11/573 [00:00<00:05, 103.07it/s]"
     ]
    },
    {
     "name": "stdout",
     "output_type": "stream",
     "text": [
      "Classification accuracy: 86.2%\n"
     ]
    },
    {
     "name": "stderr",
     "output_type": "stream",
     "text": [
      "Epoch 17 Iter 573: loss 0.55620. : 100%|████| 573/573 [00:04<00:00, 122.98it/s]\n",
      "Epoch 18 Iter 19: loss 0.36315. :   2%|      | 11/573 [00:00<00:05, 100.27it/s]"
     ]
    },
    {
     "name": "stdout",
     "output_type": "stream",
     "text": [
      "Classification accuracy: 86.19%\n"
     ]
    },
    {
     "name": "stderr",
     "output_type": "stream",
     "text": [
      "Epoch 18 Iter 573: loss 0.65087. : 100%|████| 573/573 [00:04<00:00, 122.57it/s]\n",
      "Epoch 19 Iter 20: loss 0.45783. :   2%|      | 11/573 [00:00<00:05, 107.08it/s]"
     ]
    },
    {
     "name": "stdout",
     "output_type": "stream",
     "text": [
      "Classification accuracy: 86.97%\n"
     ]
    },
    {
     "name": "stderr",
     "output_type": "stream",
     "text": [
      "Epoch 19 Iter 573: loss 0.37272. : 100%|████| 573/573 [00:04<00:00, 121.63it/s]\n",
      "Epoch 20 Iter 19: loss 0.49431. :   2%|      | 11/573 [00:00<00:05, 106.08it/s]"
     ]
    },
    {
     "name": "stdout",
     "output_type": "stream",
     "text": [
      "Classification accuracy: 86.19%\n"
     ]
    },
    {
     "name": "stderr",
     "output_type": "stream",
     "text": [
      "Epoch 20 Iter 573: loss 0.35349. : 100%|████| 573/573 [00:04<00:00, 122.85it/s]\n",
      "Epoch 21 Iter 21: loss 0.47985. :   2%|      | 11/573 [00:00<00:05, 107.11it/s]"
     ]
    },
    {
     "name": "stdout",
     "output_type": "stream",
     "text": [
      "Classification accuracy: 86.69%\n"
     ]
    },
    {
     "name": "stderr",
     "output_type": "stream",
     "text": [
      "Epoch 21 Iter 573: loss 0.76244. : 100%|████| 573/573 [00:04<00:00, 122.39it/s]\n",
      "Epoch 22 Iter 20: loss 0.52277. :   2%|      | 11/573 [00:00<00:05, 104.05it/s]"
     ]
    },
    {
     "name": "stdout",
     "output_type": "stream",
     "text": [
      "Classification accuracy: 85.91%\n"
     ]
    },
    {
     "name": "stderr",
     "output_type": "stream",
     "text": [
      "Epoch 22 Iter 573: loss 0.58538. : 100%|████| 573/573 [00:04<00:00, 123.03it/s]\n",
      "Epoch 23 Iter 20: loss 0.49320. :   2%|      | 11/573 [00:00<00:05, 101.18it/s]"
     ]
    },
    {
     "name": "stdout",
     "output_type": "stream",
     "text": [
      "Classification accuracy: 86.23%\n"
     ]
    },
    {
     "name": "stderr",
     "output_type": "stream",
     "text": [
      "Epoch 23 Iter 573: loss 0.40249. : 100%|████| 573/573 [00:04<00:00, 122.98it/s]\n",
      "Epoch 24 Iter 21: loss 0.47268. :   2%|      | 11/573 [00:00<00:05, 103.07it/s]"
     ]
    },
    {
     "name": "stdout",
     "output_type": "stream",
     "text": [
      "Classification accuracy: 85.93%\n"
     ]
    },
    {
     "name": "stderr",
     "output_type": "stream",
     "text": [
      "Epoch 24 Iter 573: loss 0.44506. : 100%|████| 573/573 [00:04<00:00, 124.02it/s]\n",
      "Epoch 25 Iter 20: loss 0.40273. :   2%|      | 11/573 [00:00<00:05, 106.05it/s]"
     ]
    },
    {
     "name": "stdout",
     "output_type": "stream",
     "text": [
      "Classification accuracy: 86.21%\n"
     ]
    },
    {
     "name": "stderr",
     "output_type": "stream",
     "text": [
      "Epoch 25 Iter 573: loss 0.32720. : 100%|████| 573/573 [00:04<00:00, 123.58it/s]\n",
      "Epoch 1 Iter 18: loss 4.24498. :   2%|▏       | 10/573 [00:00<00:05, 98.31it/s]"
     ]
    },
    {
     "name": "stdout",
     "output_type": "stream",
     "text": [
      "Classification accuracy: 86.14%\n",
      "Model has 122626 learnable parameters\n"
     ]
    },
    {
     "name": "stderr",
     "output_type": "stream",
     "text": [
      "Epoch 1 Iter 573: loss 0.47088. : 100%|█████| 573/573 [00:04<00:00, 122.58it/s]\n",
      "Epoch 2 Iter 19: loss 0.65617. :   2%|▏       | 10/573 [00:00<00:05, 97.37it/s]"
     ]
    },
    {
     "name": "stdout",
     "output_type": "stream",
     "text": [
      "Classification accuracy: 81.33%\n"
     ]
    },
    {
     "name": "stderr",
     "output_type": "stream",
     "text": [
      "Epoch 2 Iter 573: loss 0.69715. : 100%|█████| 573/573 [00:04<00:00, 122.22it/s]\n",
      "Epoch 3 Iter 19: loss 0.51167. :   2%|▏      | 11/573 [00:00<00:05, 106.08it/s]"
     ]
    },
    {
     "name": "stdout",
     "output_type": "stream",
     "text": [
      "Classification accuracy: 83.79%\n"
     ]
    },
    {
     "name": "stderr",
     "output_type": "stream",
     "text": [
      "Epoch 3 Iter 573: loss 0.72570. : 100%|█████| 573/573 [00:04<00:00, 122.81it/s]\n",
      "Epoch 4 Iter 20: loss 0.45090. :   2%|▏      | 11/573 [00:00<00:05, 104.05it/s]"
     ]
    },
    {
     "name": "stdout",
     "output_type": "stream",
     "text": [
      "Classification accuracy: 83.8%\n"
     ]
    },
    {
     "name": "stderr",
     "output_type": "stream",
     "text": [
      "Epoch 4 Iter 573: loss 0.49462. : 100%|█████| 573/573 [00:04<00:00, 122.09it/s]\n",
      "Epoch 5 Iter 19: loss 0.56336. :   2%|▏      | 11/573 [00:00<00:05, 107.11it/s]"
     ]
    },
    {
     "name": "stdout",
     "output_type": "stream",
     "text": [
      "Classification accuracy: 85.72%\n"
     ]
    },
    {
     "name": "stderr",
     "output_type": "stream",
     "text": [
      "Epoch 5 Iter 573: loss 0.51747. : 100%|█████| 573/573 [00:04<00:00, 124.56it/s]\n",
      "Epoch 6 Iter 20: loss 0.48997. :   2%|▏      | 12/573 [00:00<00:05, 110.42it/s]"
     ]
    },
    {
     "name": "stdout",
     "output_type": "stream",
     "text": [
      "Classification accuracy: 85.3%\n"
     ]
    },
    {
     "name": "stderr",
     "output_type": "stream",
     "text": [
      "Epoch 6 Iter 573: loss 0.23767. : 100%|█████| 573/573 [00:04<00:00, 124.07it/s]\n",
      "Epoch 7 Iter 20: loss 0.47647. :   2%|▏      | 11/573 [00:00<00:05, 106.05it/s]"
     ]
    },
    {
     "name": "stdout",
     "output_type": "stream",
     "text": [
      "Classification accuracy: 86.12%\n"
     ]
    },
    {
     "name": "stderr",
     "output_type": "stream",
     "text": [
      "Epoch 7 Iter 573: loss 0.25880. : 100%|█████| 573/573 [00:04<00:00, 123.50it/s]\n",
      "Epoch 8 Iter 18: loss 0.50772. :   2%|▏      | 11/573 [00:00<00:05, 102.12it/s]"
     ]
    },
    {
     "name": "stdout",
     "output_type": "stream",
     "text": [
      "Classification accuracy: 85.44%\n"
     ]
    },
    {
     "name": "stderr",
     "output_type": "stream",
     "text": [
      "Epoch 8 Iter 573: loss 0.25641. : 100%|█████| 573/573 [00:04<00:00, 122.47it/s]\n",
      "Epoch 9 Iter 19: loss 0.37644. :   2%|▏      | 11/573 [00:00<00:05, 101.18it/s]"
     ]
    },
    {
     "name": "stdout",
     "output_type": "stream",
     "text": [
      "Classification accuracy: 86.34%\n"
     ]
    },
    {
     "name": "stderr",
     "output_type": "stream",
     "text": [
      "Epoch 9 Iter 573: loss 0.23253. : 100%|█████| 573/573 [00:04<00:00, 123.08it/s]\n",
      "Epoch 10 Iter 19: loss 0.37148. :   2%|▏      | 11/573 [00:00<00:05, 99.36it/s]"
     ]
    },
    {
     "name": "stdout",
     "output_type": "stream",
     "text": [
      "Classification accuracy: 85.93%\n"
     ]
    },
    {
     "name": "stderr",
     "output_type": "stream",
     "text": [
      "Epoch 10 Iter 573: loss 0.62864. : 100%|████| 573/573 [00:04<00:00, 122.50it/s]\n",
      "Epoch 11 Iter 19: loss 0.54029. :   2%|      | 11/573 [00:00<00:05, 102.12it/s]"
     ]
    },
    {
     "name": "stdout",
     "output_type": "stream",
     "text": [
      "Classification accuracy: 85.85%\n"
     ]
    },
    {
     "name": "stderr",
     "output_type": "stream",
     "text": [
      "Epoch 11 Iter 573: loss 0.65105. : 100%|████| 573/573 [00:04<00:00, 122.81it/s]\n",
      "Epoch 12 Iter 19: loss 0.45525. :   2%|      | 11/573 [00:00<00:05, 105.04it/s]"
     ]
    },
    {
     "name": "stdout",
     "output_type": "stream",
     "text": [
      "Classification accuracy: 86.41%\n"
     ]
    },
    {
     "name": "stderr",
     "output_type": "stream",
     "text": [
      "Epoch 12 Iter 573: loss 0.49546. : 100%|████| 573/573 [00:04<00:00, 124.06it/s]\n",
      "Epoch 13 Iter 21: loss 0.51267. :   2%|▏     | 12/573 [00:00<00:05, 110.42it/s]"
     ]
    },
    {
     "name": "stdout",
     "output_type": "stream",
     "text": [
      "Classification accuracy: 86.53%\n"
     ]
    },
    {
     "name": "stderr",
     "output_type": "stream",
     "text": [
      "Epoch 13 Iter 573: loss 0.30527. : 100%|████| 573/573 [00:04<00:00, 122.50it/s]\n",
      "Epoch 14 Iter 20: loss 0.59471. :   2%|▏     | 12/573 [00:00<00:04, 112.48it/s]"
     ]
    },
    {
     "name": "stdout",
     "output_type": "stream",
     "text": [
      "Classification accuracy: 86.46%\n"
     ]
    },
    {
     "name": "stderr",
     "output_type": "stream",
     "text": [
      "Epoch 14 Iter 573: loss 0.45780. : 100%|████| 573/573 [00:04<00:00, 121.72it/s]\n",
      "Epoch 15 Iter 19: loss 0.40551. :   2%|       | 10/573 [00:00<00:05, 99.30it/s]"
     ]
    },
    {
     "name": "stdout",
     "output_type": "stream",
     "text": [
      "Classification accuracy: 86.84%\n"
     ]
    },
    {
     "name": "stderr",
     "output_type": "stream",
     "text": [
      "Epoch 15 Iter 573: loss 0.37545. : 100%|████| 573/573 [00:04<00:00, 121.11it/s]\n",
      "Epoch 16 Iter 19: loss 0.34877. :   2%|      | 11/573 [00:00<00:05, 103.11it/s]"
     ]
    },
    {
     "name": "stdout",
     "output_type": "stream",
     "text": [
      "Classification accuracy: 86.95%\n"
     ]
    },
    {
     "name": "stderr",
     "output_type": "stream",
     "text": [
      "Epoch 16 Iter 573: loss 0.45616. : 100%|████| 573/573 [00:04<00:00, 122.74it/s]\n",
      "Epoch 17 Iter 19: loss 0.58330. :   2%|      | 11/573 [00:00<00:05, 108.13it/s]"
     ]
    },
    {
     "name": "stdout",
     "output_type": "stream",
     "text": [
      "Classification accuracy: 86.44%\n"
     ]
    },
    {
     "name": "stderr",
     "output_type": "stream",
     "text": [
      "Epoch 17 Iter 573: loss 0.47844. : 100%|████| 573/573 [00:04<00:00, 117.64it/s]\n",
      "Epoch 18 Iter 18: loss 0.37600. :   2%|       | 10/573 [00:00<00:05, 95.52it/s]"
     ]
    },
    {
     "name": "stdout",
     "output_type": "stream",
     "text": [
      "Classification accuracy: 85.91%\n"
     ]
    },
    {
     "name": "stderr",
     "output_type": "stream",
     "text": [
      "Epoch 18 Iter 573: loss 0.67837. : 100%|████| 573/573 [00:04<00:00, 118.97it/s]\n",
      "Epoch 19 Iter 18: loss 0.45168. :   2%|       | 10/573 [00:00<00:05, 95.35it/s]"
     ]
    },
    {
     "name": "stdout",
     "output_type": "stream",
     "text": [
      "Classification accuracy: 87.1%\n"
     ]
    },
    {
     "name": "stderr",
     "output_type": "stream",
     "text": [
      "Epoch 19 Iter 573: loss 0.50111. : 100%|████| 573/573 [00:04<00:00, 121.64it/s]\n",
      "Epoch 20 Iter 19: loss 0.48390. :   2%|       | 10/573 [00:00<00:05, 98.30it/s]"
     ]
    },
    {
     "name": "stdout",
     "output_type": "stream",
     "text": [
      "Classification accuracy: 86.82%\n"
     ]
    },
    {
     "name": "stderr",
     "output_type": "stream",
     "text": [
      "Epoch 20 Iter 573: loss 0.34291. : 100%|████| 573/573 [00:04<00:00, 121.68it/s]\n",
      "Epoch 21 Iter 19: loss 0.33064. :   2%|       | 10/573 [00:00<00:05, 97.34it/s]"
     ]
    },
    {
     "name": "stdout",
     "output_type": "stream",
     "text": [
      "Classification accuracy: 86.82%\n"
     ]
    },
    {
     "name": "stderr",
     "output_type": "stream",
     "text": [
      "Epoch 21 Iter 573: loss 0.31535. : 100%|████| 573/573 [00:04<00:00, 120.95it/s]\n",
      "Epoch 22 Iter 20: loss 0.48603. :   2%|▏     | 12/573 [00:00<00:05, 109.41it/s]"
     ]
    },
    {
     "name": "stdout",
     "output_type": "stream",
     "text": [
      "Classification accuracy: 86.2%\n"
     ]
    },
    {
     "name": "stderr",
     "output_type": "stream",
     "text": [
      "Epoch 22 Iter 573: loss 0.50661. : 100%|████| 573/573 [00:04<00:00, 121.97it/s]\n",
      "Epoch 23 Iter 18: loss 0.36685. :   2%|▏      | 11/573 [00:00<00:05, 99.36it/s]"
     ]
    },
    {
     "name": "stdout",
     "output_type": "stream",
     "text": [
      "Classification accuracy: 86.74%\n"
     ]
    },
    {
     "name": "stderr",
     "output_type": "stream",
     "text": [
      "Epoch 23 Iter 573: loss 0.23519. : 100%|████| 573/573 [00:04<00:00, 121.72it/s]\n",
      "Epoch 24 Iter 18: loss 0.37972. :   2%|      | 11/573 [00:00<00:05, 102.12it/s]"
     ]
    },
    {
     "name": "stdout",
     "output_type": "stream",
     "text": [
      "Classification accuracy: 87.77%\n"
     ]
    },
    {
     "name": "stderr",
     "output_type": "stream",
     "text": [
      "Epoch 24 Iter 573: loss 0.30843. : 100%|████| 573/573 [00:04<00:00, 121.82it/s]\n",
      "Epoch 25 Iter 20: loss 0.36026. :   2%|      | 11/573 [00:00<00:05, 104.05it/s]"
     ]
    },
    {
     "name": "stdout",
     "output_type": "stream",
     "text": [
      "Classification accuracy: 88.05%\n"
     ]
    },
    {
     "name": "stderr",
     "output_type": "stream",
     "text": [
      "Epoch 25 Iter 573: loss 0.41564. : 100%|████| 573/573 [00:04<00:00, 121.09it/s]\n",
      "Epoch 1 Iter 20: loss 4.21434. :   2%|▏      | 11/573 [00:00<00:05, 105.07it/s]"
     ]
    },
    {
     "name": "stdout",
     "output_type": "stream",
     "text": [
      "Classification accuracy: 87.57%\n",
      "Model has 122626 learnable parameters\n"
     ]
    },
    {
     "name": "stderr",
     "output_type": "stream",
     "text": [
      "Epoch 1 Iter 573: loss 1.00655. : 100%|█████| 573/573 [00:04<00:00, 120.44it/s]\n",
      "Epoch 2 Iter 19: loss 0.59501. :   2%|▏      | 11/573 [00:00<00:05, 107.08it/s]"
     ]
    },
    {
     "name": "stdout",
     "output_type": "stream",
     "text": [
      "Classification accuracy: 79.07%\n"
     ]
    },
    {
     "name": "stderr",
     "output_type": "stream",
     "text": [
      "Epoch 2 Iter 573: loss 0.66688. : 100%|█████| 573/573 [00:04<00:00, 120.22it/s]\n",
      "Epoch 3 Iter 19: loss 0.64243. :   2%|▏      | 11/573 [00:00<00:05, 103.07it/s]"
     ]
    },
    {
     "name": "stdout",
     "output_type": "stream",
     "text": [
      "Classification accuracy: 82.11%\n"
     ]
    },
    {
     "name": "stderr",
     "output_type": "stream",
     "text": [
      "Epoch 3 Iter 573: loss 0.78317. : 100%|█████| 573/573 [00:04<00:00, 121.49it/s]\n",
      "Epoch 4 Iter 19: loss 0.76192. :   2%|▏      | 11/573 [00:00<00:05, 107.08it/s]"
     ]
    },
    {
     "name": "stdout",
     "output_type": "stream",
     "text": [
      "Classification accuracy: 84.86%\n"
     ]
    },
    {
     "name": "stderr",
     "output_type": "stream",
     "text": [
      "Epoch 4 Iter 573: loss 0.58354. : 100%|█████| 573/573 [00:04<00:00, 121.67it/s]\n",
      "Epoch 5 Iter 19: loss 0.51643. :   2%|▏      | 11/573 [00:00<00:05, 100.29it/s]"
     ]
    },
    {
     "name": "stdout",
     "output_type": "stream",
     "text": [
      "Classification accuracy: 84.15%\n"
     ]
    },
    {
     "name": "stderr",
     "output_type": "stream",
     "text": [
      "Epoch 5 Iter 573: loss 0.54756. : 100%|█████| 573/573 [00:04<00:00, 121.53it/s]\n",
      "Epoch 6 Iter 20: loss 0.52336. :   2%|▏      | 11/573 [00:00<00:05, 104.08it/s]"
     ]
    },
    {
     "name": "stdout",
     "output_type": "stream",
     "text": [
      "Classification accuracy: 84.47%\n"
     ]
    },
    {
     "name": "stderr",
     "output_type": "stream",
     "text": [
      "Epoch 6 Iter 573: loss 0.35921. : 100%|█████| 573/573 [00:04<00:00, 121.03it/s]\n",
      "Epoch 7 Iter 18: loss 0.55399. :   2%|▏      | 11/573 [00:00<00:05, 105.04it/s]"
     ]
    },
    {
     "name": "stdout",
     "output_type": "stream",
     "text": [
      "Classification accuracy: 85.7%\n"
     ]
    },
    {
     "name": "stderr",
     "output_type": "stream",
     "text": [
      "Epoch 7 Iter 573: loss 0.61652. : 100%|█████| 573/573 [00:04<00:00, 121.44it/s]\n",
      "Epoch 8 Iter 18: loss 0.43385. :   2%|▏      | 11/573 [00:00<00:05, 104.05it/s]"
     ]
    },
    {
     "name": "stdout",
     "output_type": "stream",
     "text": [
      "Classification accuracy: 85.22%\n"
     ]
    },
    {
     "name": "stderr",
     "output_type": "stream",
     "text": [
      "Epoch 8 Iter 573: loss 0.43233. : 100%|█████| 573/573 [00:04<00:00, 120.73it/s]\n",
      "Epoch 9 Iter 21: loss 0.34121. :   2%|▏      | 11/573 [00:00<00:05, 108.13it/s]"
     ]
    },
    {
     "name": "stdout",
     "output_type": "stream",
     "text": [
      "Classification accuracy: 85.92%\n"
     ]
    },
    {
     "name": "stderr",
     "output_type": "stream",
     "text": [
      "Epoch 9 Iter 573: loss 0.26273. : 100%|█████| 573/573 [00:04<00:00, 122.99it/s]\n",
      "Epoch 10 Iter 20: loss 0.37861. :   2%|      | 11/573 [00:00<00:05, 104.05it/s]"
     ]
    },
    {
     "name": "stdout",
     "output_type": "stream",
     "text": [
      "Classification accuracy: 85.9%\n"
     ]
    },
    {
     "name": "stderr",
     "output_type": "stream",
     "text": [
      "Epoch 10 Iter 573: loss 0.33486. : 100%|████| 573/573 [00:04<00:00, 122.93it/s]\n",
      "Epoch 11 Iter 19: loss 0.41705. :   2%|       | 10/573 [00:00<00:05, 98.33it/s]"
     ]
    },
    {
     "name": "stdout",
     "output_type": "stream",
     "text": [
      "Classification accuracy: 86.17%\n"
     ]
    },
    {
     "name": "stderr",
     "output_type": "stream",
     "text": [
      "Epoch 11 Iter 573: loss 0.59115. : 100%|████| 573/573 [00:04<00:00, 121.80it/s]\n",
      "Epoch 12 Iter 19: loss 0.40142. :   2%|      | 11/573 [00:00<00:05, 105.04it/s]"
     ]
    },
    {
     "name": "stdout",
     "output_type": "stream",
     "text": [
      "Classification accuracy: 86.66%\n"
     ]
    },
    {
     "name": "stderr",
     "output_type": "stream",
     "text": [
      "Epoch 12 Iter 573: loss 0.34379. : 100%|████| 573/573 [00:04<00:00, 121.27it/s]\n",
      "Epoch 13 Iter 19: loss 0.42379. :   2%|       | 10/573 [00:00<00:05, 99.27it/s]"
     ]
    },
    {
     "name": "stdout",
     "output_type": "stream",
     "text": [
      "Classification accuracy: 83.96%\n"
     ]
    },
    {
     "name": "stderr",
     "output_type": "stream",
     "text": [
      "Epoch 13 Iter 573: loss 0.56939. : 100%|████| 573/573 [00:04<00:00, 122.44it/s]\n",
      "Epoch 14 Iter 19: loss 0.68021. :   2%|      | 11/573 [00:00<00:05, 100.29it/s]"
     ]
    },
    {
     "name": "stdout",
     "output_type": "stream",
     "text": [
      "Classification accuracy: 85.89%\n"
     ]
    },
    {
     "name": "stderr",
     "output_type": "stream",
     "text": [
      "Epoch 14 Iter 573: loss 0.41769. : 100%|████| 573/573 [00:04<00:00, 122.57it/s]\n",
      "Epoch 15 Iter 18: loss 0.50074. :   2%|      | 11/573 [00:00<00:05, 102.12it/s]"
     ]
    },
    {
     "name": "stdout",
     "output_type": "stream",
     "text": [
      "Classification accuracy: 85.85%\n"
     ]
    },
    {
     "name": "stderr",
     "output_type": "stream",
     "text": [
      "Epoch 15 Iter 573: loss 0.48999. : 100%|████| 573/573 [00:04<00:00, 122.55it/s]\n",
      "Epoch 16 Iter 20: loss 0.51649. :   2%|      | 11/573 [00:00<00:05, 106.05it/s]"
     ]
    },
    {
     "name": "stdout",
     "output_type": "stream",
     "text": [
      "Classification accuracy: 86.99%\n"
     ]
    },
    {
     "name": "stderr",
     "output_type": "stream",
     "text": [
      "Epoch 16 Iter 573: loss 0.52065. : 100%|████| 573/573 [00:04<00:00, 122.11it/s]\n",
      "Epoch 17 Iter 19: loss 0.56088. :   2%|      | 11/573 [00:00<00:05, 101.19it/s]"
     ]
    },
    {
     "name": "stdout",
     "output_type": "stream",
     "text": [
      "Classification accuracy: 86.64%\n"
     ]
    },
    {
     "name": "stderr",
     "output_type": "stream",
     "text": [
      "Epoch 17 Iter 573: loss 0.44557. : 100%|████| 573/573 [00:04<00:00, 122.44it/s]\n",
      "Epoch 18 Iter 19: loss 0.54955. :   2%|      | 11/573 [00:00<00:05, 100.27it/s]"
     ]
    },
    {
     "name": "stdout",
     "output_type": "stream",
     "text": [
      "Classification accuracy: 86.64%\n"
     ]
    },
    {
     "name": "stderr",
     "output_type": "stream",
     "text": [
      "Epoch 18 Iter 573: loss 0.34233. : 100%|████| 573/573 [00:04<00:00, 121.71it/s]\n",
      "Epoch 19 Iter 20: loss 0.43210. :   2%|      | 11/573 [00:00<00:05, 104.06it/s]"
     ]
    },
    {
     "name": "stdout",
     "output_type": "stream",
     "text": [
      "Classification accuracy: 86.73%\n"
     ]
    },
    {
     "name": "stderr",
     "output_type": "stream",
     "text": [
      "Epoch 19 Iter 573: loss 0.31331. : 100%|████| 573/573 [00:04<00:00, 122.04it/s]\n",
      "Epoch 20 Iter 19: loss 0.42860. :   2%|      | 11/573 [00:00<00:05, 100.25it/s]"
     ]
    },
    {
     "name": "stdout",
     "output_type": "stream",
     "text": [
      "Classification accuracy: 87.35%\n"
     ]
    },
    {
     "name": "stderr",
     "output_type": "stream",
     "text": [
      "Epoch 20 Iter 573: loss 0.26011. : 100%|████| 573/573 [00:04<00:00, 122.19it/s]\n",
      "Epoch 21 Iter 19: loss 0.34655. :   2%|       | 10/573 [00:00<00:05, 99.27it/s]"
     ]
    },
    {
     "name": "stdout",
     "output_type": "stream",
     "text": [
      "Classification accuracy: 86.32%\n"
     ]
    },
    {
     "name": "stderr",
     "output_type": "stream",
     "text": [
      "Epoch 21 Iter 573: loss 0.29128. : 100%|████| 573/573 [00:04<00:00, 121.98it/s]\n",
      "Epoch 22 Iter 19: loss 0.38363. :   2%|      | 11/573 [00:00<00:05, 103.08it/s]"
     ]
    },
    {
     "name": "stdout",
     "output_type": "stream",
     "text": [
      "Classification accuracy: 85.74%\n"
     ]
    },
    {
     "name": "stderr",
     "output_type": "stream",
     "text": [
      "Epoch 22 Iter 573: loss 0.35314. : 100%|████| 573/573 [00:04<00:00, 122.90it/s]\n",
      "Epoch 23 Iter 18: loss 0.50571. :   2%|       | 10/573 [00:00<00:05, 96.41it/s]"
     ]
    },
    {
     "name": "stdout",
     "output_type": "stream",
     "text": [
      "Classification accuracy: 86.99%\n"
     ]
    },
    {
     "name": "stderr",
     "output_type": "stream",
     "text": [
      "Epoch 23 Iter 573: loss 0.41552. : 100%|████| 573/573 [00:04<00:00, 122.74it/s]\n",
      "Epoch 24 Iter 19: loss 0.42331. :   2%|      | 11/573 [00:00<00:05, 108.16it/s]"
     ]
    },
    {
     "name": "stdout",
     "output_type": "stream",
     "text": [
      "Classification accuracy: 86.64%\n"
     ]
    },
    {
     "name": "stderr",
     "output_type": "stream",
     "text": [
      "Epoch 24 Iter 573: loss 0.52700. : 100%|████| 573/573 [00:04<00:00, 120.58it/s]\n",
      "Epoch 25 Iter 18: loss 0.45839. :   2%|       | 10/573 [00:00<00:05, 97.37it/s]"
     ]
    },
    {
     "name": "stdout",
     "output_type": "stream",
     "text": [
      "Classification accuracy: 86.02%\n"
     ]
    },
    {
     "name": "stderr",
     "output_type": "stream",
     "text": [
      "Epoch 25 Iter 573: loss 0.43920. : 100%|████| 573/573 [00:04<00:00, 122.19it/s]\n",
      "Epoch 1 Iter 19: loss 4.57594. :   2%|▏      | 11/573 [00:00<00:05, 103.08it/s]"
     ]
    },
    {
     "name": "stdout",
     "output_type": "stream",
     "text": [
      "Classification accuracy: 86.33%\n",
      "Model has 122626 learnable parameters\n"
     ]
    },
    {
     "name": "stderr",
     "output_type": "stream",
     "text": [
      "Epoch 1 Iter 573: loss 0.60787. : 100%|█████| 573/573 [00:04<00:00, 123.27it/s]\n",
      "Epoch 2 Iter 19: loss 0.81537. :   2%|▏       | 10/573 [00:00<00:05, 98.30it/s]"
     ]
    },
    {
     "name": "stdout",
     "output_type": "stream",
     "text": [
      "Classification accuracy: 79.18%\n"
     ]
    },
    {
     "name": "stderr",
     "output_type": "stream",
     "text": [
      "Epoch 2 Iter 573: loss 0.68534. : 100%|█████| 573/573 [00:04<00:00, 122.74it/s]\n",
      "Epoch 3 Iter 19: loss 0.78664. :   2%|▏       | 10/573 [00:00<00:05, 99.27it/s]"
     ]
    },
    {
     "name": "stdout",
     "output_type": "stream",
     "text": [
      "Classification accuracy: 81.6%\n"
     ]
    },
    {
     "name": "stderr",
     "output_type": "stream",
     "text": [
      "Epoch 3 Iter 573: loss 0.55513. : 100%|█████| 573/573 [00:04<00:00, 123.10it/s]\n",
      "Epoch 4 Iter 20: loss 0.58391. :   2%|▏      | 11/573 [00:00<00:05, 104.05it/s]"
     ]
    },
    {
     "name": "stdout",
     "output_type": "stream",
     "text": [
      "Classification accuracy: 79.49%\n"
     ]
    },
    {
     "name": "stderr",
     "output_type": "stream",
     "text": [
      "Epoch 4 Iter 573: loss 0.73651. : 100%|█████| 573/573 [00:04<00:00, 121.59it/s]\n",
      "Epoch 5 Iter 19: loss 0.55910. :   2%|▏      | 11/573 [00:00<00:05, 102.12it/s]"
     ]
    },
    {
     "name": "stdout",
     "output_type": "stream",
     "text": [
      "Classification accuracy: 82.91%\n"
     ]
    },
    {
     "name": "stderr",
     "output_type": "stream",
     "text": [
      "Epoch 5 Iter 573: loss 0.33628. : 100%|█████| 573/573 [00:04<00:00, 122.58it/s]\n",
      "Epoch 6 Iter 18: loss 0.54421. :   2%|▏       | 10/573 [00:00<00:05, 97.34it/s]"
     ]
    },
    {
     "name": "stdout",
     "output_type": "stream",
     "text": [
      "Classification accuracy: 83.4%\n"
     ]
    },
    {
     "name": "stderr",
     "output_type": "stream",
     "text": [
      "Epoch 6 Iter 573: loss 0.42684. : 100%|█████| 573/573 [00:04<00:00, 122.06it/s]\n",
      "Epoch 7 Iter 19: loss 0.63554. :   2%|▏      | 11/573 [00:00<00:05, 102.16it/s]"
     ]
    },
    {
     "name": "stdout",
     "output_type": "stream",
     "text": [
      "Classification accuracy: 84.04%\n"
     ]
    },
    {
     "name": "stderr",
     "output_type": "stream",
     "text": [
      "Epoch 7 Iter 573: loss 0.45392. : 100%|█████| 573/573 [00:04<00:00, 120.81it/s]\n",
      "Epoch 8 Iter 20: loss 0.45545. :   2%|▏      | 11/573 [00:00<00:05, 103.08it/s]"
     ]
    },
    {
     "name": "stdout",
     "output_type": "stream",
     "text": [
      "Classification accuracy: 84.2%\n"
     ]
    },
    {
     "name": "stderr",
     "output_type": "stream",
     "text": [
      "Epoch 8 Iter 573: loss 0.50970. : 100%|█████| 573/573 [00:04<00:00, 123.64it/s]\n",
      "Epoch 9 Iter 20: loss 0.45256. :   2%|▏      | 12/573 [00:00<00:04, 112.44it/s]"
     ]
    },
    {
     "name": "stdout",
     "output_type": "stream",
     "text": [
      "Classification accuracy: 83.2%\n"
     ]
    },
    {
     "name": "stderr",
     "output_type": "stream",
     "text": [
      "Epoch 9 Iter 573: loss 0.30296. : 100%|█████| 573/573 [00:04<00:00, 121.97it/s]\n",
      "Epoch 10 Iter 19: loss 0.47104. :   2%|      | 11/573 [00:00<00:05, 104.09it/s]"
     ]
    },
    {
     "name": "stdout",
     "output_type": "stream",
     "text": [
      "Classification accuracy: 83.87%\n"
     ]
    },
    {
     "name": "stderr",
     "output_type": "stream",
     "text": [
      "Epoch 10 Iter 573: loss 0.64925. : 100%|████| 573/573 [00:04<00:00, 119.43it/s]\n",
      "Epoch 11 Iter 20: loss 0.34227. :   2%|       | 10/573 [00:00<00:05, 99.27it/s]"
     ]
    },
    {
     "name": "stdout",
     "output_type": "stream",
     "text": [
      "Classification accuracy: 85.49%\n"
     ]
    },
    {
     "name": "stderr",
     "output_type": "stream",
     "text": [
      "Epoch 11 Iter 573: loss 0.93314. : 100%|████| 573/573 [00:04<00:00, 121.14it/s]\n",
      "Epoch 12 Iter 20: loss 0.42574. :   2%|      | 11/573 [00:00<00:05, 109.20it/s]"
     ]
    },
    {
     "name": "stdout",
     "output_type": "stream",
     "text": [
      "Classification accuracy: 85.59%\n"
     ]
    },
    {
     "name": "stderr",
     "output_type": "stream",
     "text": [
      "Epoch 12 Iter 573: loss 0.53979. : 100%|████| 573/573 [00:04<00:00, 120.04it/s]\n",
      "Epoch 13 Iter 19: loss 0.57290. :   2%|▏     | 12/573 [00:00<00:04, 114.62it/s]"
     ]
    },
    {
     "name": "stdout",
     "output_type": "stream",
     "text": [
      "Classification accuracy: 85.71%\n"
     ]
    },
    {
     "name": "stderr",
     "output_type": "stream",
     "text": [
      "Epoch 13 Iter 573: loss 0.93747. : 100%|████| 573/573 [00:04<00:00, 120.34it/s]\n",
      "Epoch 14 Iter 19: loss 0.67708. :   2%|▏     | 12/573 [00:00<00:05, 111.43it/s]"
     ]
    },
    {
     "name": "stdout",
     "output_type": "stream",
     "text": [
      "Classification accuracy: 84.78%\n"
     ]
    },
    {
     "name": "stderr",
     "output_type": "stream",
     "text": [
      "Epoch 14 Iter 573: loss 0.39133. : 100%|████| 573/573 [00:04<00:00, 121.85it/s]\n",
      "Epoch 15 Iter 18: loss 0.34880. :   2%|      | 11/573 [00:00<00:05, 102.12it/s]"
     ]
    },
    {
     "name": "stdout",
     "output_type": "stream",
     "text": [
      "Classification accuracy: 86.36%\n"
     ]
    },
    {
     "name": "stderr",
     "output_type": "stream",
     "text": [
      "Epoch 15 Iter 573: loss 0.62536. : 100%|████| 573/573 [00:04<00:00, 121.70it/s]\n",
      "Epoch 16 Iter 20: loss 0.45920. :   2%|       | 10/573 [00:00<00:05, 99.27it/s]"
     ]
    },
    {
     "name": "stdout",
     "output_type": "stream",
     "text": [
      "Classification accuracy: 85.74%\n"
     ]
    },
    {
     "name": "stderr",
     "output_type": "stream",
     "text": [
      "Epoch 16 Iter 573: loss 0.37761. : 100%|████| 573/573 [00:04<00:00, 122.05it/s]\n",
      "Epoch 17 Iter 19: loss 0.37035. :   2%|      | 11/573 [00:00<00:05, 104.08it/s]"
     ]
    },
    {
     "name": "stdout",
     "output_type": "stream",
     "text": [
      "Classification accuracy: 86.2%\n"
     ]
    },
    {
     "name": "stderr",
     "output_type": "stream",
     "text": [
      "Epoch 17 Iter 573: loss 0.54298. : 100%|████| 573/573 [00:04<00:00, 117.59it/s]\n",
      "Epoch 18 Iter 19: loss 0.50438. :   2%|       | 10/573 [00:00<00:05, 99.24it/s]"
     ]
    },
    {
     "name": "stdout",
     "output_type": "stream",
     "text": [
      "Classification accuracy: 85.38%\n"
     ]
    },
    {
     "name": "stderr",
     "output_type": "stream",
     "text": [
      "Epoch 18 Iter 573: loss 0.31451. : 100%|████| 573/573 [00:04<00:00, 122.50it/s]\n",
      "Epoch 19 Iter 19: loss 0.37489. :   2%|       | 10/573 [00:00<00:05, 98.30it/s]"
     ]
    },
    {
     "name": "stdout",
     "output_type": "stream",
     "text": [
      "Classification accuracy: 86.58%\n"
     ]
    },
    {
     "name": "stderr",
     "output_type": "stream",
     "text": [
      "Epoch 19 Iter 573: loss 0.54250. : 100%|████| 573/573 [00:04<00:00, 122.42it/s]\n",
      "Epoch 20 Iter 19: loss 0.44452. :   2%|      | 11/573 [00:00<00:05, 103.11it/s]"
     ]
    },
    {
     "name": "stdout",
     "output_type": "stream",
     "text": [
      "Classification accuracy: 83.83%\n"
     ]
    },
    {
     "name": "stderr",
     "output_type": "stream",
     "text": [
      "Epoch 20 Iter 573: loss 0.60392. : 100%|████| 573/573 [00:04<00:00, 122.39it/s]\n",
      "Epoch 21 Iter 18: loss 0.47863. :   2%|       | 10/573 [00:00<00:05, 98.33it/s]"
     ]
    },
    {
     "name": "stdout",
     "output_type": "stream",
     "text": [
      "Classification accuracy: 86.13%\n"
     ]
    },
    {
     "name": "stderr",
     "output_type": "stream",
     "text": [
      "Epoch 21 Iter 573: loss 0.51620. : 100%|████| 573/573 [00:04<00:00, 122.40it/s]\n",
      "Epoch 22 Iter 20: loss 0.56018. :   2%|      | 11/573 [00:00<00:05, 101.21it/s]"
     ]
    },
    {
     "name": "stdout",
     "output_type": "stream",
     "text": [
      "Classification accuracy: 86.62%\n"
     ]
    },
    {
     "name": "stderr",
     "output_type": "stream",
     "text": [
      "Epoch 22 Iter 573: loss 0.62283. : 100%|████| 573/573 [00:04<00:00, 121.26it/s]\n",
      "Epoch 23 Iter 19: loss 0.36492. :   2%|      | 11/573 [00:00<00:05, 100.27it/s]"
     ]
    },
    {
     "name": "stdout",
     "output_type": "stream",
     "text": [
      "Classification accuracy: 86.18%\n"
     ]
    },
    {
     "name": "stderr",
     "output_type": "stream",
     "text": [
      "Epoch 23 Iter 573: loss 0.40204. : 100%|████| 573/573 [00:04<00:00, 121.16it/s]\n",
      "Epoch 24 Iter 19: loss 0.29245. :   2%|       | 10/573 [00:00<00:05, 97.34it/s]"
     ]
    },
    {
     "name": "stdout",
     "output_type": "stream",
     "text": [
      "Classification accuracy: 86.21%\n"
     ]
    },
    {
     "name": "stderr",
     "output_type": "stream",
     "text": [
      "Epoch 24 Iter 573: loss 0.44569. : 100%|████| 573/573 [00:04<00:00, 118.88it/s]\n",
      "Epoch 25 Iter 18: loss 0.34020. :   2%|       | 10/573 [00:00<00:05, 94.59it/s]"
     ]
    },
    {
     "name": "stdout",
     "output_type": "stream",
     "text": [
      "Classification accuracy: 86.26%\n"
     ]
    },
    {
     "name": "stderr",
     "output_type": "stream",
     "text": [
      "Epoch 25 Iter 573: loss 0.38910. : 100%|████| 573/573 [00:04<00:00, 121.07it/s]\n",
      "Epoch 1 Iter 19: loss 4.98497. :   2%|▏       | 10/573 [00:00<00:05, 98.29it/s]"
     ]
    },
    {
     "name": "stdout",
     "output_type": "stream",
     "text": [
      "Classification accuracy: 86.06%\n",
      "Model has 122626 learnable parameters\n"
     ]
    },
    {
     "name": "stderr",
     "output_type": "stream",
     "text": [
      "Epoch 1 Iter 573: loss 1.00831. : 100%|█████| 573/573 [00:04<00:00, 121.81it/s]\n",
      "Epoch 2 Iter 20: loss 0.93414. :   2%|▏      | 11/573 [00:00<00:05, 102.12it/s]"
     ]
    },
    {
     "name": "stdout",
     "output_type": "stream",
     "text": [
      "Classification accuracy: 77.76%\n"
     ]
    },
    {
     "name": "stderr",
     "output_type": "stream",
     "text": [
      "Epoch 2 Iter 573: loss 0.49867. : 100%|█████| 573/573 [00:04<00:00, 120.84it/s]\n",
      "Epoch 3 Iter 18: loss 0.72030. :   2%|▏       | 10/573 [00:00<00:05, 94.39it/s]"
     ]
    },
    {
     "name": "stdout",
     "output_type": "stream",
     "text": [
      "Classification accuracy: 80.45%\n"
     ]
    },
    {
     "name": "stderr",
     "output_type": "stream",
     "text": [
      "Epoch 3 Iter 573: loss 0.92249. : 100%|█████| 573/573 [00:04<00:00, 119.68it/s]\n",
      "Epoch 4 Iter 18: loss 0.77858. :   2%|▏      | 11/573 [00:00<00:05, 103.08it/s]"
     ]
    },
    {
     "name": "stdout",
     "output_type": "stream",
     "text": [
      "Classification accuracy: 82.92%\n"
     ]
    },
    {
     "name": "stderr",
     "output_type": "stream",
     "text": [
      "Epoch 4 Iter 573: loss 0.66278. : 100%|█████| 573/573 [00:04<00:00, 120.33it/s]\n",
      "Epoch 5 Iter 18: loss 0.52839. :   2%|▏      | 11/573 [00:00<00:05, 102.12it/s]"
     ]
    },
    {
     "name": "stdout",
     "output_type": "stream",
     "text": [
      "Classification accuracy: 83.7%\n"
     ]
    },
    {
     "name": "stderr",
     "output_type": "stream",
     "text": [
      "Epoch 5 Iter 573: loss 0.92128. : 100%|█████| 573/573 [00:04<00:00, 121.80it/s]\n",
      "Epoch 6 Iter 18: loss 0.45924. :   2%|▏       | 10/573 [00:00<00:05, 96.41it/s]"
     ]
    },
    {
     "name": "stdout",
     "output_type": "stream",
     "text": [
      "Classification accuracy: 83.43%\n"
     ]
    },
    {
     "name": "stderr",
     "output_type": "stream",
     "text": [
      "Epoch 6 Iter 573: loss 0.95137. : 100%|█████| 573/573 [00:04<00:00, 123.25it/s]\n",
      "Epoch 7 Iter 19: loss 0.47315. :   2%|▏       | 10/573 [00:00<00:05, 94.59it/s]"
     ]
    },
    {
     "name": "stdout",
     "output_type": "stream",
     "text": [
      "Classification accuracy: 84.12%\n"
     ]
    },
    {
     "name": "stderr",
     "output_type": "stream",
     "text": [
      "Epoch 7 Iter 573: loss 0.70709. : 100%|█████| 573/573 [00:04<00:00, 120.84it/s]\n",
      "Epoch 8 Iter 20: loss 0.58536. :   2%|▏      | 12/573 [00:00<00:05, 110.38it/s]"
     ]
    },
    {
     "name": "stdout",
     "output_type": "stream",
     "text": [
      "Classification accuracy: 84.6%\n"
     ]
    },
    {
     "name": "stderr",
     "output_type": "stream",
     "text": [
      "Epoch 8 Iter 573: loss 0.69427. : 100%|█████| 573/573 [00:04<00:00, 121.36it/s]\n",
      "Epoch 9 Iter 19: loss 0.66522. :   2%|▏      | 11/573 [00:00<00:05, 103.08it/s]"
     ]
    },
    {
     "name": "stdout",
     "output_type": "stream",
     "text": [
      "Classification accuracy: 85.28%\n"
     ]
    },
    {
     "name": "stderr",
     "output_type": "stream",
     "text": [
      "Epoch 9 Iter 573: loss 0.38601. : 100%|█████| 573/573 [00:04<00:00, 120.62it/s]\n",
      "Epoch 10 Iter 18: loss 0.45770. :   2%|      | 11/573 [00:00<00:05, 100.27it/s]"
     ]
    },
    {
     "name": "stdout",
     "output_type": "stream",
     "text": [
      "Classification accuracy: 84.22%\n"
     ]
    },
    {
     "name": "stderr",
     "output_type": "stream",
     "text": [
      "Epoch 10 Iter 573: loss 0.78130. : 100%|████| 573/573 [00:04<00:00, 121.50it/s]\n",
      "Epoch 11 Iter 20: loss 0.45059. :   2%|      | 11/573 [00:00<00:05, 105.07it/s]"
     ]
    },
    {
     "name": "stdout",
     "output_type": "stream",
     "text": [
      "Classification accuracy: 84.37%\n"
     ]
    },
    {
     "name": "stderr",
     "output_type": "stream",
     "text": [
      "Epoch 11 Iter 573: loss 0.47171. : 100%|████| 573/573 [00:04<00:00, 120.58it/s]\n",
      "Epoch 12 Iter 19: loss 0.46016. :   2%|      | 11/573 [00:00<00:05, 101.22it/s]"
     ]
    },
    {
     "name": "stdout",
     "output_type": "stream",
     "text": [
      "Classification accuracy: 84.89%\n"
     ]
    },
    {
     "name": "stderr",
     "output_type": "stream",
     "text": [
      "Epoch 12 Iter 573: loss 0.56255. : 100%|████| 573/573 [00:04<00:00, 121.41it/s]\n",
      "Epoch 13 Iter 19: loss 0.56820. :   2%|       | 10/573 [00:00<00:05, 97.38it/s]"
     ]
    },
    {
     "name": "stdout",
     "output_type": "stream",
     "text": [
      "Classification accuracy: 85.16%\n"
     ]
    },
    {
     "name": "stderr",
     "output_type": "stream",
     "text": [
      "Epoch 13 Iter 573: loss 0.36290. : 100%|████| 573/573 [00:04<00:00, 120.74it/s]\n",
      "Epoch 14 Iter 19: loss 0.41669. :   2%|      | 11/573 [00:00<00:05, 106.05it/s]"
     ]
    },
    {
     "name": "stdout",
     "output_type": "stream",
     "text": [
      "Classification accuracy: 84.96%\n"
     ]
    },
    {
     "name": "stderr",
     "output_type": "stream",
     "text": [
      "Epoch 14 Iter 573: loss 0.51530. : 100%|████| 573/573 [00:04<00:00, 120.75it/s]\n",
      "Epoch 15 Iter 19: loss 0.57609. :   2%|      | 11/573 [00:00<00:05, 109.20it/s]"
     ]
    },
    {
     "name": "stdout",
     "output_type": "stream",
     "text": [
      "Classification accuracy: 85.44%\n"
     ]
    },
    {
     "name": "stderr",
     "output_type": "stream",
     "text": [
      "Epoch 15 Iter 573: loss 0.36070. : 100%|████| 573/573 [00:04<00:00, 122.91it/s]\n",
      "Epoch 16 Iter 18: loss 0.62777. :   2%|       | 10/573 [00:00<00:05, 99.30it/s]"
     ]
    },
    {
     "name": "stdout",
     "output_type": "stream",
     "text": [
      "Classification accuracy: 85.46%\n"
     ]
    },
    {
     "name": "stderr",
     "output_type": "stream",
     "text": [
      "Epoch 16 Iter 573: loss 0.35922. : 100%|████| 573/573 [00:04<00:00, 122.31it/s]\n",
      "Epoch 17 Iter 20: loss 0.61260. :   2%|      | 11/573 [00:00<00:05, 106.96it/s]"
     ]
    },
    {
     "name": "stdout",
     "output_type": "stream",
     "text": [
      "Classification accuracy: 85.44%\n"
     ]
    },
    {
     "name": "stderr",
     "output_type": "stream",
     "text": [
      "Epoch 17 Iter 573: loss 0.46826. : 100%|████| 573/573 [00:04<00:00, 122.67it/s]\n",
      "Epoch 18 Iter 19: loss 0.41525. :   2%|      | 11/573 [00:00<00:05, 109.86it/s]"
     ]
    },
    {
     "name": "stdout",
     "output_type": "stream",
     "text": [
      "Classification accuracy: 84.78%\n"
     ]
    },
    {
     "name": "stderr",
     "output_type": "stream",
     "text": [
      "Epoch 18 Iter 573: loss 0.24883. : 100%|████| 573/573 [00:04<00:00, 122.79it/s]\n",
      "Epoch 19 Iter 19: loss 0.40450. :   2%|      | 11/573 [00:00<00:05, 107.11it/s]"
     ]
    },
    {
     "name": "stdout",
     "output_type": "stream",
     "text": [
      "Classification accuracy: 85.34%\n"
     ]
    },
    {
     "name": "stderr",
     "output_type": "stream",
     "text": [
      "Epoch 19 Iter 573: loss 0.52579. : 100%|████| 573/573 [00:04<00:00, 122.26it/s]\n",
      "Epoch 20 Iter 21: loss 0.55290. :   2%|      | 11/573 [00:00<00:05, 108.13it/s]"
     ]
    },
    {
     "name": "stdout",
     "output_type": "stream",
     "text": [
      "Classification accuracy: 85.18%\n"
     ]
    },
    {
     "name": "stderr",
     "output_type": "stream",
     "text": [
      "Epoch 20 Iter 573: loss 0.43867. : 100%|████| 573/573 [00:04<00:00, 121.10it/s]\n",
      "Epoch 21 Iter 18: loss 0.52324. :   2%|      | 11/573 [00:00<00:05, 100.30it/s]"
     ]
    },
    {
     "name": "stdout",
     "output_type": "stream",
     "text": [
      "Classification accuracy: 84.15%\n"
     ]
    },
    {
     "name": "stderr",
     "output_type": "stream",
     "text": [
      "Epoch 21 Iter 573: loss 0.63089. : 100%|████| 573/573 [00:04<00:00, 122.93it/s]\n",
      "Epoch 22 Iter 19: loss 0.44521. :   2%|       | 10/573 [00:00<00:05, 99.30it/s]"
     ]
    },
    {
     "name": "stdout",
     "output_type": "stream",
     "text": [
      "Classification accuracy: 85.61%\n"
     ]
    },
    {
     "name": "stderr",
     "output_type": "stream",
     "text": [
      "Epoch 22 Iter 573: loss 0.36781. : 100%|████| 573/573 [00:04<00:00, 122.95it/s]\n",
      "Epoch 23 Iter 19: loss 0.46803. :   2%|       | 10/573 [00:00<00:05, 98.30it/s]"
     ]
    },
    {
     "name": "stdout",
     "output_type": "stream",
     "text": [
      "Classification accuracy: 85.26%\n"
     ]
    },
    {
     "name": "stderr",
     "output_type": "stream",
     "text": [
      "Epoch 23 Iter 573: loss 0.32706. : 100%|████| 573/573 [00:04<00:00, 122.06it/s]\n",
      "Epoch 24 Iter 19: loss 0.42261. :   2%|       | 10/573 [00:00<00:05, 97.38it/s]"
     ]
    },
    {
     "name": "stdout",
     "output_type": "stream",
     "text": [
      "Classification accuracy: 84.36%\n"
     ]
    },
    {
     "name": "stderr",
     "output_type": "stream",
     "text": [
      "Epoch 24 Iter 573: loss 0.32205. : 100%|████| 573/573 [00:04<00:00, 120.95it/s]\n",
      "Epoch 25 Iter 19: loss 0.46024. :   2%|      | 11/573 [00:00<00:05, 108.13it/s]"
     ]
    },
    {
     "name": "stdout",
     "output_type": "stream",
     "text": [
      "Classification accuracy: 85.61%\n"
     ]
    },
    {
     "name": "stderr",
     "output_type": "stream",
     "text": [
      "Epoch 25 Iter 573: loss 0.38241. : 100%|████| 573/573 [00:04<00:00, 123.25it/s]\n",
      "Epoch 1 Iter 18: loss 4.66771. :   2%|▏      | 11/573 [00:00<00:05, 105.04it/s]"
     ]
    },
    {
     "name": "stdout",
     "output_type": "stream",
     "text": [
      "Classification accuracy: 85.6%\n",
      "Model has 122626 learnable parameters\n"
     ]
    },
    {
     "name": "stderr",
     "output_type": "stream",
     "text": [
      "Epoch 1 Iter 573: loss 0.70926. : 100%|█████| 573/573 [00:04<00:00, 122.30it/s]\n",
      "Epoch 2 Iter 20: loss 0.87052. :   2%|▏      | 12/573 [00:00<00:04, 113.51it/s]"
     ]
    },
    {
     "name": "stdout",
     "output_type": "stream",
     "text": [
      "Classification accuracy: 80.73%\n"
     ]
    },
    {
     "name": "stderr",
     "output_type": "stream",
     "text": [
      "Epoch 2 Iter 573: loss 0.49712. : 100%|█████| 573/573 [00:04<00:00, 122.16it/s]\n",
      "Epoch 3 Iter 18: loss 0.49386. :   2%|▏        | 9/573 [00:00<00:06, 88.47it/s]"
     ]
    },
    {
     "name": "stdout",
     "output_type": "stream",
     "text": [
      "Classification accuracy: 83.35%\n"
     ]
    },
    {
     "name": "stderr",
     "output_type": "stream",
     "text": [
      "Epoch 3 Iter 573: loss 0.34457. : 100%|█████| 573/573 [00:04<00:00, 121.82it/s]\n",
      "Epoch 4 Iter 19: loss 0.49796. :   2%|▏       | 10/573 [00:00<00:05, 98.30it/s]"
     ]
    },
    {
     "name": "stdout",
     "output_type": "stream",
     "text": [
      "Classification accuracy: 82.4%\n"
     ]
    },
    {
     "name": "stderr",
     "output_type": "stream",
     "text": [
      "Epoch 4 Iter 573: loss 0.65607. : 100%|█████| 573/573 [00:04<00:00, 123.05it/s]\n",
      "Epoch 5 Iter 19: loss 0.54406. :   2%|▏      | 11/573 [00:00<00:05, 106.09it/s]"
     ]
    },
    {
     "name": "stdout",
     "output_type": "stream",
     "text": [
      "Classification accuracy: 84.38%\n"
     ]
    },
    {
     "name": "stderr",
     "output_type": "stream",
     "text": [
      "Epoch 5 Iter 573: loss 0.36942. : 100%|█████| 573/573 [00:04<00:00, 120.99it/s]\n",
      "Epoch 6 Iter 19: loss 0.64267. :   2%|▏      | 11/573 [00:00<00:05, 107.08it/s]"
     ]
    },
    {
     "name": "stdout",
     "output_type": "stream",
     "text": [
      "Classification accuracy: 86.2%\n"
     ]
    },
    {
     "name": "stderr",
     "output_type": "stream",
     "text": [
      "Epoch 6 Iter 573: loss 0.46358. : 100%|█████| 573/573 [00:04<00:00, 123.30it/s]\n",
      "Epoch 7 Iter 19: loss 0.43028. :   2%|▏      | 11/573 [00:00<00:05, 102.16it/s]"
     ]
    },
    {
     "name": "stdout",
     "output_type": "stream",
     "text": [
      "Classification accuracy: 85.32%\n"
     ]
    },
    {
     "name": "stderr",
     "output_type": "stream",
     "text": [
      "Epoch 7 Iter 573: loss 0.42753. : 100%|█████| 573/573 [00:04<00:00, 121.78it/s]\n",
      "Epoch 8 Iter 19: loss 0.28999. :   2%|▏      | 11/573 [00:00<00:05, 100.26it/s]"
     ]
    },
    {
     "name": "stdout",
     "output_type": "stream",
     "text": [
      "Classification accuracy: 85.7%\n"
     ]
    },
    {
     "name": "stderr",
     "output_type": "stream",
     "text": [
      "Epoch 8 Iter 573: loss 0.61884. : 100%|█████| 573/573 [00:04<00:00, 121.92it/s]\n",
      "Epoch 9 Iter 20: loss 0.51251. :   2%|▏      | 11/573 [00:00<00:05, 109.23it/s]"
     ]
    },
    {
     "name": "stdout",
     "output_type": "stream",
     "text": [
      "Classification accuracy: 85.81%\n"
     ]
    },
    {
     "name": "stderr",
     "output_type": "stream",
     "text": [
      "Epoch 9 Iter 573: loss 0.87078. : 100%|█████| 573/573 [00:04<00:00, 122.24it/s]\n",
      "Epoch 10 Iter 19: loss 0.50849. :   2%|      | 11/573 [00:00<00:05, 105.07it/s]"
     ]
    },
    {
     "name": "stdout",
     "output_type": "stream",
     "text": [
      "Classification accuracy: 86.87%\n"
     ]
    },
    {
     "name": "stderr",
     "output_type": "stream",
     "text": [
      "Epoch 10 Iter 573: loss 1.11918. : 100%|████| 573/573 [00:04<00:00, 122.31it/s]\n",
      "Epoch 11 Iter 19: loss 0.65370. :   2%|      | 11/573 [00:00<00:05, 105.04it/s]"
     ]
    },
    {
     "name": "stdout",
     "output_type": "stream",
     "text": [
      "Classification accuracy: 85.94%\n"
     ]
    },
    {
     "name": "stderr",
     "output_type": "stream",
     "text": [
      "Epoch 11 Iter 573: loss 0.26373. : 100%|████| 573/573 [00:04<00:00, 123.03it/s]\n",
      "Epoch 12 Iter 20: loss 0.42659. :   2%|      | 11/573 [00:00<00:05, 107.11it/s]"
     ]
    },
    {
     "name": "stdout",
     "output_type": "stream",
     "text": [
      "Classification accuracy: 87.65%\n"
     ]
    },
    {
     "name": "stderr",
     "output_type": "stream",
     "text": [
      "Epoch 12 Iter 573: loss 0.50694. : 100%|████| 573/573 [00:04<00:00, 122.69it/s]\n",
      "Epoch 13 Iter 18: loss 0.42072. :   2%|       | 10/573 [00:00<00:05, 96.42it/s]"
     ]
    },
    {
     "name": "stdout",
     "output_type": "stream",
     "text": [
      "Classification accuracy: 86.71%\n"
     ]
    },
    {
     "name": "stderr",
     "output_type": "stream",
     "text": [
      "Epoch 13 Iter 573: loss 0.39060. : 100%|████| 573/573 [00:04<00:00, 121.50it/s]\n",
      "Epoch 14 Iter 19: loss 0.29622. :   2%|       | 10/573 [00:00<00:05, 94.61it/s]"
     ]
    },
    {
     "name": "stdout",
     "output_type": "stream",
     "text": [
      "Classification accuracy: 87.33%\n"
     ]
    },
    {
     "name": "stderr",
     "output_type": "stream",
     "text": [
      "Epoch 14 Iter 573: loss 0.29993. : 100%|████| 573/573 [00:04<00:00, 120.19it/s]\n",
      "Epoch 15 Iter 21: loss 0.44182. :   2%|▏     | 12/573 [00:00<00:05, 110.41it/s]"
     ]
    },
    {
     "name": "stdout",
     "output_type": "stream",
     "text": [
      "Classification accuracy: 87.32%\n"
     ]
    },
    {
     "name": "stderr",
     "output_type": "stream",
     "text": [
      "Epoch 15 Iter 573: loss 0.46231. : 100%|████| 573/573 [00:04<00:00, 121.66it/s]\n",
      "Epoch 16 Iter 19: loss 0.59318. :   2%|      | 11/573 [00:00<00:05, 101.19it/s]"
     ]
    },
    {
     "name": "stdout",
     "output_type": "stream",
     "text": [
      "Classification accuracy: 86.56%\n"
     ]
    },
    {
     "name": "stderr",
     "output_type": "stream",
     "text": [
      "Epoch 16 Iter 573: loss 0.53701. : 100%|████| 573/573 [00:04<00:00, 121.44it/s]\n",
      "Epoch 17 Iter 18: loss 0.33504. :   2%|      | 11/573 [00:00<00:05, 100.26it/s]"
     ]
    },
    {
     "name": "stdout",
     "output_type": "stream",
     "text": [
      "Classification accuracy: 86.93%\n"
     ]
    },
    {
     "name": "stderr",
     "output_type": "stream",
     "text": [
      "Epoch 17 Iter 573: loss 0.55520. : 100%|████| 573/573 [00:04<00:00, 120.54it/s]\n",
      "Epoch 18 Iter 19: loss 0.40192. :   2%|      | 11/573 [00:00<00:05, 106.05it/s]"
     ]
    },
    {
     "name": "stdout",
     "output_type": "stream",
     "text": [
      "Classification accuracy: 87.8%\n"
     ]
    },
    {
     "name": "stderr",
     "output_type": "stream",
     "text": [
      "Epoch 18 Iter 573: loss 0.46654. : 100%|████| 573/573 [00:04<00:00, 120.80it/s]\n",
      "Epoch 19 Iter 20: loss 0.54729. :   2%|      | 11/573 [00:00<00:05, 109.20it/s]"
     ]
    },
    {
     "name": "stdout",
     "output_type": "stream",
     "text": [
      "Classification accuracy: 87.32%\n"
     ]
    },
    {
     "name": "stderr",
     "output_type": "stream",
     "text": [
      "Epoch 19 Iter 573: loss 0.56661. : 100%|████| 573/573 [00:04<00:00, 120.59it/s]\n",
      "Epoch 20 Iter 18: loss 0.32995. :   2%|       | 10/573 [00:00<00:05, 96.41it/s]"
     ]
    },
    {
     "name": "stdout",
     "output_type": "stream",
     "text": [
      "Classification accuracy: 88.13%\n"
     ]
    },
    {
     "name": "stderr",
     "output_type": "stream",
     "text": [
      "Epoch 20 Iter 573: loss 0.43565. : 100%|████| 573/573 [00:04<00:00, 120.70it/s]\n",
      "Epoch 21 Iter 19: loss 0.47849. :   2%|      | 11/573 [00:00<00:05, 108.15it/s]"
     ]
    },
    {
     "name": "stdout",
     "output_type": "stream",
     "text": [
      "Classification accuracy: 86.97%\n"
     ]
    },
    {
     "name": "stderr",
     "output_type": "stream",
     "text": [
      "Epoch 21 Iter 573: loss 0.31687. : 100%|████| 573/573 [00:04<00:00, 121.25it/s]\n",
      "Epoch 22 Iter 18: loss 0.42419. :   2%|       | 10/573 [00:00<00:05, 98.30it/s]"
     ]
    },
    {
     "name": "stdout",
     "output_type": "stream",
     "text": [
      "Classification accuracy: 87.34%\n"
     ]
    },
    {
     "name": "stderr",
     "output_type": "stream",
     "text": [
      "Epoch 22 Iter 573: loss 0.45449. : 100%|████| 573/573 [00:04<00:00, 122.34it/s]\n",
      "Epoch 23 Iter 20: loss 0.41956. :   2%|       | 10/573 [00:00<00:05, 98.33it/s]"
     ]
    },
    {
     "name": "stdout",
     "output_type": "stream",
     "text": [
      "Classification accuracy: 87.33%\n"
     ]
    },
    {
     "name": "stderr",
     "output_type": "stream",
     "text": [
      "Epoch 23 Iter 573: loss 0.36103. : 100%|████| 573/573 [00:04<00:00, 122.03it/s]\n",
      "Epoch 24 Iter 19: loss 0.39051. :   2%|       | 10/573 [00:00<00:05, 97.34it/s]"
     ]
    },
    {
     "name": "stdout",
     "output_type": "stream",
     "text": [
      "Classification accuracy: 88.07%\n"
     ]
    },
    {
     "name": "stderr",
     "output_type": "stream",
     "text": [
      "Epoch 24 Iter 573: loss 0.62943. : 100%|████| 573/573 [00:04<00:00, 120.18it/s]\n",
      "Epoch 25 Iter 19: loss 0.35843. :   2%|      | 11/573 [00:00<00:05, 104.05it/s]"
     ]
    },
    {
     "name": "stdout",
     "output_type": "stream",
     "text": [
      "Classification accuracy: 87.33%\n"
     ]
    },
    {
     "name": "stderr",
     "output_type": "stream",
     "text": [
      "Epoch 25 Iter 573: loss 0.40426. : 100%|████| 573/573 [00:04<00:00, 122.61it/s]\n",
      "Epoch 1 Iter 18: loss 4.91672. :   2%|▏       | 10/573 [00:00<00:05, 99.32it/s]"
     ]
    },
    {
     "name": "stdout",
     "output_type": "stream",
     "text": [
      "Classification accuracy: 87.38%\n",
      "Model has 122626 learnable parameters\n"
     ]
    },
    {
     "name": "stderr",
     "output_type": "stream",
     "text": [
      "Epoch 1 Iter 573: loss 0.82922. : 100%|█████| 573/573 [00:04<00:00, 121.62it/s]\n",
      "Epoch 2 Iter 19: loss 0.82016. :   2%|▏       | 10/573 [00:00<00:05, 94.59it/s]"
     ]
    },
    {
     "name": "stdout",
     "output_type": "stream",
     "text": [
      "Classification accuracy: 77.15%\n"
     ]
    },
    {
     "name": "stderr",
     "output_type": "stream",
     "text": [
      "Epoch 2 Iter 573: loss 0.96155. : 100%|█████| 573/573 [00:04<00:00, 123.34it/s]\n",
      "Epoch 3 Iter 19: loss 0.71612. :   2%|▏       | 10/573 [00:00<00:06, 93.71it/s]"
     ]
    },
    {
     "name": "stdout",
     "output_type": "stream",
     "text": [
      "Classification accuracy: 82.11%\n"
     ]
    },
    {
     "name": "stderr",
     "output_type": "stream",
     "text": [
      "Epoch 3 Iter 573: loss 0.42311. : 100%|█████| 573/573 [00:04<00:00, 122.37it/s]\n",
      "Epoch 4 Iter 19: loss 0.53473. :   2%|▏      | 11/573 [00:00<00:05, 100.29it/s]"
     ]
    },
    {
     "name": "stdout",
     "output_type": "stream",
     "text": [
      "Classification accuracy: 81.27%\n"
     ]
    },
    {
     "name": "stderr",
     "output_type": "stream",
     "text": [
      "Epoch 4 Iter 573: loss 0.73395. : 100%|█████| 573/573 [00:04<00:00, 122.15it/s]\n",
      "Epoch 5 Iter 18: loss 0.57212. :   2%|▏      | 11/573 [00:00<00:05, 103.08it/s]"
     ]
    },
    {
     "name": "stdout",
     "output_type": "stream",
     "text": [
      "Classification accuracy: 83.37%\n"
     ]
    },
    {
     "name": "stderr",
     "output_type": "stream",
     "text": [
      "Epoch 5 Iter 573: loss 0.57084. : 100%|█████| 573/573 [00:04<00:00, 119.98it/s]\n",
      "Epoch 6 Iter 19: loss 0.67304. :   2%|▏       | 10/573 [00:00<00:05, 97.34it/s]"
     ]
    },
    {
     "name": "stdout",
     "output_type": "stream",
     "text": [
      "Classification accuracy: 84.5%\n"
     ]
    },
    {
     "name": "stderr",
     "output_type": "stream",
     "text": [
      "Epoch 6 Iter 573: loss 0.58467. : 100%|█████| 573/573 [00:04<00:00, 122.60it/s]\n",
      "Epoch 7 Iter 19: loss 0.53964. :   2%|▏      | 11/573 [00:00<00:05, 102.15it/s]"
     ]
    },
    {
     "name": "stdout",
     "output_type": "stream",
     "text": [
      "Classification accuracy: 84.41%\n"
     ]
    },
    {
     "name": "stderr",
     "output_type": "stream",
     "text": [
      "Epoch 7 Iter 573: loss 0.43003. : 100%|█████| 573/573 [00:04<00:00, 122.07it/s]\n",
      "Epoch 8 Iter 18: loss 0.51057. :   2%|▏       | 10/573 [00:00<00:05, 99.27it/s]"
     ]
    },
    {
     "name": "stdout",
     "output_type": "stream",
     "text": [
      "Classification accuracy: 85.36%\n"
     ]
    },
    {
     "name": "stderr",
     "output_type": "stream",
     "text": [
      "Epoch 8 Iter 573: loss 0.48477. : 100%|█████| 573/573 [00:04<00:00, 122.71it/s]\n",
      "Epoch 9 Iter 18: loss 0.44389. :   2%|▏       | 10/573 [00:00<00:05, 96.41it/s]"
     ]
    },
    {
     "name": "stdout",
     "output_type": "stream",
     "text": [
      "Classification accuracy: 85.66%\n"
     ]
    },
    {
     "name": "stderr",
     "output_type": "stream",
     "text": [
      "Epoch 9 Iter 573: loss 0.39428. : 100%|█████| 573/573 [00:04<00:00, 122.52it/s]\n",
      "Epoch 10 Iter 18: loss 0.40650. :   2%|       | 10/573 [00:00<00:05, 97.36it/s]"
     ]
    },
    {
     "name": "stdout",
     "output_type": "stream",
     "text": [
      "Classification accuracy: 86.11%\n"
     ]
    },
    {
     "name": "stderr",
     "output_type": "stream",
     "text": [
      "Epoch 10 Iter 573: loss 0.42920. : 100%|████| 573/573 [00:04<00:00, 121.78it/s]\n",
      "Epoch 11 Iter 19: loss 0.49848. :   2%|      | 11/573 [00:00<00:05, 101.21it/s]"
     ]
    },
    {
     "name": "stdout",
     "output_type": "stream",
     "text": [
      "Classification accuracy: 85.34%\n"
     ]
    },
    {
     "name": "stderr",
     "output_type": "stream",
     "text": [
      "Epoch 11 Iter 573: loss 0.38307. : 100%|████| 573/573 [00:04<00:00, 121.36it/s]\n",
      "Epoch 12 Iter 19: loss 0.42420. :   2%|       | 10/573 [00:00<00:05, 99.74it/s]"
     ]
    },
    {
     "name": "stdout",
     "output_type": "stream",
     "text": [
      "Classification accuracy: 86.86%\n"
     ]
    },
    {
     "name": "stderr",
     "output_type": "stream",
     "text": [
      "Epoch 12 Iter 573: loss 0.62700. : 100%|████| 573/573 [00:04<00:00, 121.97it/s]\n",
      "Epoch 13 Iter 19: loss 0.46612. :   2%|       | 10/573 [00:00<00:05, 95.48it/s]"
     ]
    },
    {
     "name": "stdout",
     "output_type": "stream",
     "text": [
      "Classification accuracy: 86.21%\n"
     ]
    },
    {
     "name": "stderr",
     "output_type": "stream",
     "text": [
      "Epoch 13 Iter 573: loss 0.55132. : 100%|████| 573/573 [00:04<00:00, 121.44it/s]\n",
      "Epoch 14 Iter 19: loss 0.59875. :   2%|      | 11/573 [00:00<00:05, 102.15it/s]"
     ]
    },
    {
     "name": "stdout",
     "output_type": "stream",
     "text": [
      "Classification accuracy: 85.82%\n"
     ]
    },
    {
     "name": "stderr",
     "output_type": "stream",
     "text": [
      "Epoch 14 Iter 573: loss 0.46291. : 100%|████| 573/573 [00:04<00:00, 121.88it/s]\n",
      "Epoch 15 Iter 21: loss 0.31615. :   2%|      | 11/573 [00:00<00:05, 107.08it/s]"
     ]
    },
    {
     "name": "stdout",
     "output_type": "stream",
     "text": [
      "Classification accuracy: 85.82%\n"
     ]
    },
    {
     "name": "stderr",
     "output_type": "stream",
     "text": [
      "Epoch 15 Iter 573: loss 0.84293. : 100%|████| 573/573 [00:04<00:00, 122.91it/s]\n",
      "Epoch 16 Iter 21: loss 0.54580. :   2%|      | 11/573 [00:00<00:05, 108.13it/s]"
     ]
    },
    {
     "name": "stdout",
     "output_type": "stream",
     "text": [
      "Classification accuracy: 86.12%\n"
     ]
    },
    {
     "name": "stderr",
     "output_type": "stream",
     "text": [
      "Epoch 16 Iter 573: loss 0.59048. : 100%|████| 573/573 [00:04<00:00, 122.84it/s]\n",
      "Epoch 17 Iter 18: loss 0.33399. :   2%|      | 11/573 [00:00<00:05, 100.27it/s]"
     ]
    },
    {
     "name": "stdout",
     "output_type": "stream",
     "text": [
      "Classification accuracy: 86.38%\n"
     ]
    },
    {
     "name": "stderr",
     "output_type": "stream",
     "text": [
      "Epoch 17 Iter 573: loss 0.54301. : 100%|████| 573/573 [00:04<00:00, 121.41it/s]\n",
      "Epoch 18 Iter 17: loss 0.45234. :   2%|       | 10/573 [00:00<00:06, 92.02it/s]"
     ]
    },
    {
     "name": "stdout",
     "output_type": "stream",
     "text": [
      "Classification accuracy: 86.17%\n"
     ]
    },
    {
     "name": "stderr",
     "output_type": "stream",
     "text": [
      "Epoch 18 Iter 573: loss 0.54815. : 100%|████| 573/573 [00:04<00:00, 121.74it/s]\n",
      "Epoch 19 Iter 19: loss 0.59928. :   2%|      | 11/573 [00:00<00:05, 105.04it/s]"
     ]
    },
    {
     "name": "stdout",
     "output_type": "stream",
     "text": [
      "Classification accuracy: 87.13%\n"
     ]
    },
    {
     "name": "stderr",
     "output_type": "stream",
     "text": [
      "Epoch 19 Iter 573: loss 0.63202. : 100%|████| 573/573 [00:04<00:00, 122.21it/s]\n",
      "Epoch 20 Iter 19: loss 0.41383. :   2%|      | 11/573 [00:00<00:05, 108.13it/s]"
     ]
    },
    {
     "name": "stdout",
     "output_type": "stream",
     "text": [
      "Classification accuracy: 87.11%\n"
     ]
    },
    {
     "name": "stderr",
     "output_type": "stream",
     "text": [
      "Epoch 20 Iter 573: loss 0.73424. : 100%|████| 573/573 [00:04<00:00, 122.32it/s]\n",
      "Epoch 21 Iter 19: loss 0.36368. :   2%|      | 11/573 [00:00<00:05, 103.08it/s]"
     ]
    },
    {
     "name": "stdout",
     "output_type": "stream",
     "text": [
      "Classification accuracy: 86.7%\n"
     ]
    },
    {
     "name": "stderr",
     "output_type": "stream",
     "text": [
      "Epoch 21 Iter 573: loss 0.74691. : 100%|████| 573/573 [00:04<00:00, 120.78it/s]\n",
      "Epoch 22 Iter 21: loss 0.34944. :   2%|      | 11/573 [00:00<00:05, 107.13it/s]"
     ]
    },
    {
     "name": "stdout",
     "output_type": "stream",
     "text": [
      "Classification accuracy: 86.84%\n"
     ]
    },
    {
     "name": "stderr",
     "output_type": "stream",
     "text": [
      "Epoch 22 Iter 573: loss 0.30789. : 100%|████| 573/573 [00:04<00:00, 114.86it/s]\n",
      "Epoch 23 Iter 19: loss 0.27628. :   2%|       | 10/573 [00:00<00:05, 98.30it/s]"
     ]
    },
    {
     "name": "stdout",
     "output_type": "stream",
     "text": [
      "Classification accuracy: 87.12%\n"
     ]
    },
    {
     "name": "stderr",
     "output_type": "stream",
     "text": [
      "Epoch 23 Iter 573: loss 0.37448. : 100%|████| 573/573 [00:04<00:00, 116.74it/s]\n",
      "Epoch 24 Iter 19: loss 0.34010. :   2%|       | 10/573 [00:00<00:05, 98.33it/s]"
     ]
    },
    {
     "name": "stdout",
     "output_type": "stream",
     "text": [
      "Classification accuracy: 86.87%\n"
     ]
    },
    {
     "name": "stderr",
     "output_type": "stream",
     "text": [
      "Epoch 24 Iter 573: loss 0.69794. : 100%|████| 573/573 [00:04<00:00, 122.40it/s]\n",
      "Epoch 25 Iter 19: loss 0.36903. :   2%|      | 11/573 [00:00<00:05, 101.18it/s]"
     ]
    },
    {
     "name": "stdout",
     "output_type": "stream",
     "text": [
      "Classification accuracy: 87.23%\n"
     ]
    },
    {
     "name": "stderr",
     "output_type": "stream",
     "text": [
      "Epoch 25 Iter 573: loss 0.46073. : 100%|████| 573/573 [00:04<00:00, 121.42it/s]\n",
      "Epoch 1 Iter 19: loss 4.50274. :   2%|▏      | 11/573 [00:00<00:05, 103.07it/s]"
     ]
    },
    {
     "name": "stdout",
     "output_type": "stream",
     "text": [
      "Classification accuracy: 86.51%\n",
      "Model has 122626 learnable parameters\n"
     ]
    },
    {
     "name": "stderr",
     "output_type": "stream",
     "text": [
      "Epoch 1 Iter 573: loss 1.10807. : 100%|█████| 573/573 [00:04<00:00, 121.17it/s]\n",
      "Epoch 2 Iter 19: loss 0.84435. :   2%|▏      | 11/573 [00:00<00:05, 104.08it/s]"
     ]
    },
    {
     "name": "stdout",
     "output_type": "stream",
     "text": [
      "Classification accuracy: 79.84%\n"
     ]
    },
    {
     "name": "stderr",
     "output_type": "stream",
     "text": [
      "Epoch 2 Iter 573: loss 0.55294. : 100%|█████| 573/573 [00:04<00:00, 122.31it/s]\n",
      "Epoch 3 Iter 20: loss 0.65912. :   2%|▏      | 11/573 [00:00<00:05, 101.18it/s]"
     ]
    },
    {
     "name": "stdout",
     "output_type": "stream",
     "text": [
      "Classification accuracy: 83.5%\n"
     ]
    },
    {
     "name": "stderr",
     "output_type": "stream",
     "text": [
      "Epoch 3 Iter 573: loss 0.64021. : 100%|█████| 573/573 [00:04<00:00, 121.24it/s]\n",
      "Epoch 4 Iter 19: loss 0.54104. :   2%|▏       | 11/573 [00:00<00:05, 99.39it/s]"
     ]
    },
    {
     "name": "stdout",
     "output_type": "stream",
     "text": [
      "Classification accuracy: 84.16%\n"
     ]
    },
    {
     "name": "stderr",
     "output_type": "stream",
     "text": [
      "Epoch 4 Iter 573: loss 0.48942. : 100%|█████| 573/573 [00:04<00:00, 121.30it/s]\n",
      "Epoch 5 Iter 19: loss 0.60450. :   2%|▏      | 11/573 [00:00<00:05, 102.12it/s]"
     ]
    },
    {
     "name": "stdout",
     "output_type": "stream",
     "text": [
      "Classification accuracy: 85.71%\n"
     ]
    },
    {
     "name": "stderr",
     "output_type": "stream",
     "text": [
      "Epoch 5 Iter 573: loss 0.46147. : 100%|█████| 573/573 [00:04<00:00, 122.13it/s]\n",
      "Epoch 6 Iter 20: loss 0.46981. :   2%|▏       | 10/573 [00:00<00:05, 97.40it/s]"
     ]
    },
    {
     "name": "stdout",
     "output_type": "stream",
     "text": [
      "Classification accuracy: 84.81%\n"
     ]
    },
    {
     "name": "stderr",
     "output_type": "stream",
     "text": [
      "Epoch 6 Iter 573: loss 0.36613. : 100%|█████| 573/573 [00:04<00:00, 122.42it/s]\n",
      "Epoch 7 Iter 19: loss 0.43390. :   2%|▏      | 11/573 [00:00<00:05, 108.17it/s]"
     ]
    },
    {
     "name": "stdout",
     "output_type": "stream",
     "text": [
      "Classification accuracy: 86.06%\n"
     ]
    },
    {
     "name": "stderr",
     "output_type": "stream",
     "text": [
      "Epoch 7 Iter 573: loss 0.86453. : 100%|█████| 573/573 [00:04<00:00, 117.92it/s]\n",
      "Epoch 8 Iter 20: loss 0.62694. :   2%|▏       | 10/573 [00:00<00:05, 97.37it/s]"
     ]
    },
    {
     "name": "stdout",
     "output_type": "stream",
     "text": [
      "Classification accuracy: 85.47%\n"
     ]
    },
    {
     "name": "stderr",
     "output_type": "stream",
     "text": [
      "Epoch 8 Iter 573: loss 0.56981. : 100%|█████| 573/573 [00:04<00:00, 122.81it/s]\n",
      "Epoch 9 Iter 20: loss 0.32522. :   2%|▏      | 11/573 [00:00<00:05, 102.12it/s]"
     ]
    },
    {
     "name": "stdout",
     "output_type": "stream",
     "text": [
      "Classification accuracy: 86.39%\n"
     ]
    },
    {
     "name": "stderr",
     "output_type": "stream",
     "text": [
      "Epoch 9 Iter 573: loss 0.60406. : 100%|█████| 573/573 [00:04<00:00, 121.17it/s]\n",
      "Epoch 10 Iter 20: loss 0.54130. :   2%|      | 11/573 [00:00<00:05, 104.08it/s]"
     ]
    },
    {
     "name": "stdout",
     "output_type": "stream",
     "text": [
      "Classification accuracy: 86.25%\n"
     ]
    },
    {
     "name": "stderr",
     "output_type": "stream",
     "text": [
      "Epoch 10 Iter 573: loss 0.51411. : 100%|████| 573/573 [00:04<00:00, 121.92it/s]\n",
      "Epoch 11 Iter 18: loss 0.47147. :   2%|      | 11/573 [00:00<00:05, 101.18it/s]"
     ]
    },
    {
     "name": "stdout",
     "output_type": "stream",
     "text": [
      "Classification accuracy: 86.39%\n"
     ]
    },
    {
     "name": "stderr",
     "output_type": "stream",
     "text": [
      "Epoch 11 Iter 573: loss 0.33057. : 100%|████| 573/573 [00:04<00:00, 120.58it/s]\n",
      "Epoch 12 Iter 19: loss 0.43990. :   2%|       | 10/573 [00:00<00:05, 97.34it/s]"
     ]
    },
    {
     "name": "stdout",
     "output_type": "stream",
     "text": [
      "Classification accuracy: 87.18%\n"
     ]
    },
    {
     "name": "stderr",
     "output_type": "stream",
     "text": [
      "Epoch 12 Iter 573: loss 0.30955. : 100%|████| 573/573 [00:04<00:00, 122.10it/s]\n",
      "Epoch 13 Iter 18: loss 0.50650. :   2%|       | 10/573 [00:00<00:05, 94.59it/s]"
     ]
    },
    {
     "name": "stdout",
     "output_type": "stream",
     "text": [
      "Classification accuracy: 86.87%\n"
     ]
    },
    {
     "name": "stderr",
     "output_type": "stream",
     "text": [
      "Epoch 13 Iter 573: loss 0.46789. : 100%|████| 573/573 [00:04<00:00, 123.76it/s]\n",
      "Epoch 14 Iter 20: loss 0.56172. :   2%|      | 11/573 [00:00<00:05, 106.05it/s]"
     ]
    },
    {
     "name": "stdout",
     "output_type": "stream",
     "text": [
      "Classification accuracy: 86.79%\n"
     ]
    },
    {
     "name": "stderr",
     "output_type": "stream",
     "text": [
      "Epoch 14 Iter 573: loss 0.24500. : 100%|████| 573/573 [00:04<00:00, 122.30it/s]\n",
      "Epoch 15 Iter 20: loss 0.49125. :   2%|      | 11/573 [00:00<00:05, 103.10it/s]"
     ]
    },
    {
     "name": "stdout",
     "output_type": "stream",
     "text": [
      "Classification accuracy: 86.47%\n"
     ]
    },
    {
     "name": "stderr",
     "output_type": "stream",
     "text": [
      "Epoch 15 Iter 573: loss 0.44789. : 100%|████| 573/573 [00:04<00:00, 120.72it/s]\n",
      "Epoch 16 Iter 19: loss 0.67204. :   2%|      | 11/573 [00:00<00:05, 101.22it/s]"
     ]
    },
    {
     "name": "stdout",
     "output_type": "stream",
     "text": [
      "Classification accuracy: 86.61%\n"
     ]
    },
    {
     "name": "stderr",
     "output_type": "stream",
     "text": [
      "Epoch 16 Iter 573: loss 0.46657. : 100%|████| 573/573 [00:04<00:00, 120.94it/s]\n",
      "Epoch 17 Iter 19: loss 0.37136. :   2%|      | 11/573 [00:00<00:05, 104.05it/s]"
     ]
    },
    {
     "name": "stdout",
     "output_type": "stream",
     "text": [
      "Classification accuracy: 86.59%\n"
     ]
    },
    {
     "name": "stderr",
     "output_type": "stream",
     "text": [
      "Epoch 17 Iter 573: loss 0.64846. : 100%|████| 573/573 [00:04<00:00, 120.83it/s]\n",
      "Epoch 18 Iter 21: loss 0.39617. :   2%|▏     | 12/573 [00:00<00:05, 109.41it/s]"
     ]
    },
    {
     "name": "stdout",
     "output_type": "stream",
     "text": [
      "Classification accuracy: 86.56%\n"
     ]
    },
    {
     "name": "stderr",
     "output_type": "stream",
     "text": [
      "Epoch 18 Iter 573: loss 0.38415. : 100%|████| 573/573 [00:04<00:00, 120.90it/s]\n",
      "Epoch 19 Iter 19: loss 0.42995. :   2%|      | 11/573 [00:00<00:05, 103.11it/s]"
     ]
    },
    {
     "name": "stdout",
     "output_type": "stream",
     "text": [
      "Classification accuracy: 86.64%\n"
     ]
    },
    {
     "name": "stderr",
     "output_type": "stream",
     "text": [
      "Epoch 19 Iter 573: loss 0.40072. : 100%|████| 573/573 [00:04<00:00, 121.00it/s]\n",
      "Epoch 20 Iter 19: loss 0.32816. :   2%|      | 11/573 [00:00<00:05, 103.11it/s]"
     ]
    },
    {
     "name": "stdout",
     "output_type": "stream",
     "text": [
      "Classification accuracy: 86.28%\n"
     ]
    },
    {
     "name": "stderr",
     "output_type": "stream",
     "text": [
      "Epoch 20 Iter 573: loss 0.49555. : 100%|████| 573/573 [00:04<00:00, 120.44it/s]\n",
      "Epoch 21 Iter 18: loss 0.47316. :   2%|      | 11/573 [00:00<00:05, 101.22it/s]"
     ]
    },
    {
     "name": "stdout",
     "output_type": "stream",
     "text": [
      "Classification accuracy: 86.26%\n"
     ]
    },
    {
     "name": "stderr",
     "output_type": "stream",
     "text": [
      "Epoch 21 Iter 573: loss 0.67015. : 100%|████| 573/573 [00:04<00:00, 120.96it/s]\n",
      "Epoch 22 Iter 19: loss 0.41643. :   2%|       | 10/573 [00:00<00:05, 96.44it/s]"
     ]
    },
    {
     "name": "stdout",
     "output_type": "stream",
     "text": [
      "Classification accuracy: 87.1%\n"
     ]
    },
    {
     "name": "stderr",
     "output_type": "stream",
     "text": [
      "Epoch 22 Iter 573: loss 0.50734. : 100%|████| 573/573 [00:04<00:00, 122.54it/s]\n",
      "Epoch 23 Iter 18: loss 0.39578. :   2%|       | 10/573 [00:00<00:05, 98.33it/s]"
     ]
    },
    {
     "name": "stdout",
     "output_type": "stream",
     "text": [
      "Classification accuracy: 87.2%\n"
     ]
    },
    {
     "name": "stderr",
     "output_type": "stream",
     "text": [
      "Epoch 23 Iter 573: loss 0.58503. : 100%|████| 573/573 [00:04<00:00, 120.54it/s]\n",
      "Epoch 24 Iter 19: loss 0.38292. :   2%|      | 11/573 [00:00<00:05, 105.04it/s]"
     ]
    },
    {
     "name": "stdout",
     "output_type": "stream",
     "text": [
      "Classification accuracy: 85.59%\n"
     ]
    },
    {
     "name": "stderr",
     "output_type": "stream",
     "text": [
      "Epoch 24 Iter 573: loss 0.28129. : 100%|████| 573/573 [00:04<00:00, 120.36it/s]\n",
      "Epoch 25 Iter 20: loss 0.42073. :   2%|▏     | 12/573 [00:00<00:04, 112.45it/s]"
     ]
    },
    {
     "name": "stdout",
     "output_type": "stream",
     "text": [
      "Classification accuracy: 86.69%\n"
     ]
    },
    {
     "name": "stderr",
     "output_type": "stream",
     "text": [
      "Epoch 25 Iter 573: loss 0.37881. : 100%|████| 573/573 [00:04<00:00, 122.09it/s]\n",
      "Epoch 1 Iter 21: loss 4.47314. :   2%|▏      | 11/573 [00:00<00:05, 105.04it/s]"
     ]
    },
    {
     "name": "stdout",
     "output_type": "stream",
     "text": [
      "Classification accuracy: 86.52%\n",
      "Model has 122626 learnable parameters\n"
     ]
    },
    {
     "name": "stderr",
     "output_type": "stream",
     "text": [
      "Epoch 1 Iter 573: loss 0.67763. : 100%|█████| 573/573 [00:04<00:00, 121.32it/s]\n",
      "Epoch 2 Iter 18: loss 0.70775. :   2%|▏       | 10/573 [00:00<00:05, 98.33it/s]"
     ]
    },
    {
     "name": "stdout",
     "output_type": "stream",
     "text": [
      "Classification accuracy: 80.61%\n"
     ]
    },
    {
     "name": "stderr",
     "output_type": "stream",
     "text": [
      "Epoch 2 Iter 573: loss 0.67868. : 100%|█████| 573/573 [00:04<00:00, 121.33it/s]\n",
      "Epoch 3 Iter 21: loss 0.57122. :   2%|▏      | 11/573 [00:00<00:05, 109.20it/s]"
     ]
    },
    {
     "name": "stdout",
     "output_type": "stream",
     "text": [
      "Classification accuracy: 83.75%\n"
     ]
    },
    {
     "name": "stderr",
     "output_type": "stream",
     "text": [
      "Epoch 3 Iter 573: loss 0.65079. : 100%|█████| 573/573 [00:04<00:00, 121.10it/s]\n",
      "Epoch 4 Iter 20: loss 0.71593. :   2%|▏      | 11/573 [00:00<00:05, 104.08it/s]"
     ]
    },
    {
     "name": "stdout",
     "output_type": "stream",
     "text": [
      "Classification accuracy: 85.15%\n"
     ]
    },
    {
     "name": "stderr",
     "output_type": "stream",
     "text": [
      "Epoch 4 Iter 573: loss 0.48037. : 100%|█████| 573/573 [00:04<00:00, 121.93it/s]\n",
      "Epoch 5 Iter 19: loss 0.48745. :   2%|▏       | 10/573 [00:00<00:05, 95.52it/s]"
     ]
    },
    {
     "name": "stdout",
     "output_type": "stream",
     "text": [
      "Classification accuracy: 85.44%\n"
     ]
    },
    {
     "name": "stderr",
     "output_type": "stream",
     "text": [
      "Epoch 5 Iter 573: loss 0.35107. : 100%|█████| 573/573 [00:04<00:00, 120.93it/s]\n",
      "Epoch 6 Iter 20: loss 0.43792. :   2%|▏      | 11/573 [00:00<00:05, 103.10it/s]"
     ]
    },
    {
     "name": "stdout",
     "output_type": "stream",
     "text": [
      "Classification accuracy: 85.66%\n"
     ]
    },
    {
     "name": "stderr",
     "output_type": "stream",
     "text": [
      "Epoch 6 Iter 573: loss 0.66834. : 100%|█████| 573/573 [00:04<00:00, 121.95it/s]\n",
      "Epoch 7 Iter 21: loss 0.48506. :   2%|▏      | 11/573 [00:00<00:05, 107.11it/s]"
     ]
    },
    {
     "name": "stdout",
     "output_type": "stream",
     "text": [
      "Classification accuracy: 85.6%\n"
     ]
    },
    {
     "name": "stderr",
     "output_type": "stream",
     "text": [
      "Epoch 7 Iter 573: loss 0.39083. : 100%|█████| 573/573 [00:04<00:00, 121.68it/s]\n",
      "Epoch 8 Iter 18: loss 0.37753. :   2%|▏       | 10/573 [00:00<00:05, 99.27it/s]"
     ]
    },
    {
     "name": "stdout",
     "output_type": "stream",
     "text": [
      "Classification accuracy: 86.14%\n"
     ]
    },
    {
     "name": "stderr",
     "output_type": "stream",
     "text": [
      "Epoch 8 Iter 573: loss 0.49937. : 100%|█████| 573/573 [00:04<00:00, 122.16it/s]\n",
      "Epoch 9 Iter 21: loss 0.46258. :   2%|▏      | 11/573 [00:00<00:05, 105.07it/s]"
     ]
    },
    {
     "name": "stdout",
     "output_type": "stream",
     "text": [
      "Classification accuracy: 86.0%\n"
     ]
    },
    {
     "name": "stderr",
     "output_type": "stream",
     "text": [
      "Epoch 9 Iter 573: loss 0.52020. : 100%|█████| 573/573 [00:04<00:00, 122.51it/s]\n",
      "Epoch 10 Iter 20: loss 0.31323. :   2%|      | 11/573 [00:00<00:05, 104.08it/s]"
     ]
    },
    {
     "name": "stdout",
     "output_type": "stream",
     "text": [
      "Classification accuracy: 86.87%\n"
     ]
    },
    {
     "name": "stderr",
     "output_type": "stream",
     "text": [
      "Epoch 10 Iter 573: loss 0.37435. : 100%|████| 573/573 [00:04<00:00, 123.14it/s]\n",
      "Epoch 11 Iter 20: loss 0.39958. :   2%|      | 11/573 [00:00<00:05, 101.21it/s]"
     ]
    },
    {
     "name": "stdout",
     "output_type": "stream",
     "text": [
      "Classification accuracy: 86.71%\n"
     ]
    },
    {
     "name": "stderr",
     "output_type": "stream",
     "text": [
      "Epoch 11 Iter 573: loss 0.56249. : 100%|████| 573/573 [00:04<00:00, 122.18it/s]\n",
      "Epoch 12 Iter 20: loss 0.47288. :   2%|      | 11/573 [00:00<00:05, 105.07it/s]"
     ]
    },
    {
     "name": "stdout",
     "output_type": "stream",
     "text": [
      "Classification accuracy: 87.34%\n"
     ]
    },
    {
     "name": "stderr",
     "output_type": "stream",
     "text": [
      "Epoch 12 Iter 573: loss 0.37674. : 100%|████| 573/573 [00:04<00:00, 121.85it/s]\n",
      "Epoch 13 Iter 19: loss 0.60134. :   2%|      | 11/573 [00:00<00:05, 103.08it/s]"
     ]
    },
    {
     "name": "stdout",
     "output_type": "stream",
     "text": [
      "Classification accuracy: 87.19%\n"
     ]
    },
    {
     "name": "stderr",
     "output_type": "stream",
     "text": [
      "Epoch 13 Iter 573: loss 0.20479. : 100%|████| 573/573 [00:04<00:00, 122.37it/s]\n",
      "Epoch 14 Iter 19: loss 0.46649. :   2%|      | 11/573 [00:00<00:05, 101.18it/s]"
     ]
    },
    {
     "name": "stdout",
     "output_type": "stream",
     "text": [
      "Classification accuracy: 87.08%\n"
     ]
    },
    {
     "name": "stderr",
     "output_type": "stream",
     "text": [
      "Epoch 14 Iter 573: loss 0.71490. : 100%|████| 573/573 [00:04<00:00, 122.00it/s]\n",
      "Epoch 15 Iter 20: loss 0.53929. :   2%|       | 10/573 [00:00<00:05, 96.44it/s]"
     ]
    },
    {
     "name": "stdout",
     "output_type": "stream",
     "text": [
      "Classification accuracy: 87.03%\n"
     ]
    },
    {
     "name": "stderr",
     "output_type": "stream",
     "text": [
      "Epoch 15 Iter 573: loss 0.37053. : 100%|████| 573/573 [00:04<00:00, 122.93it/s]\n",
      "Epoch 16 Iter 20: loss 0.59032. :   2%|      | 11/573 [00:00<00:05, 100.29it/s]"
     ]
    },
    {
     "name": "stdout",
     "output_type": "stream",
     "text": [
      "Classification accuracy: 87.88%\n"
     ]
    },
    {
     "name": "stderr",
     "output_type": "stream",
     "text": [
      "Epoch 16 Iter 573: loss 0.24207. : 100%|████| 573/573 [00:04<00:00, 122.80it/s]\n",
      "Epoch 17 Iter 19: loss 0.49700. :   2%|      | 11/573 [00:00<00:05, 103.11it/s]"
     ]
    },
    {
     "name": "stdout",
     "output_type": "stream",
     "text": [
      "Classification accuracy: 87.65%\n"
     ]
    },
    {
     "name": "stderr",
     "output_type": "stream",
     "text": [
      "Epoch 17 Iter 573: loss 0.23424. : 100%|████| 573/573 [00:04<00:00, 122.45it/s]\n",
      "Epoch 18 Iter 19: loss 0.34644. :   2%|       | 10/573 [00:00<00:05, 98.33it/s]"
     ]
    },
    {
     "name": "stdout",
     "output_type": "stream",
     "text": [
      "Classification accuracy: 87.64%\n"
     ]
    },
    {
     "name": "stderr",
     "output_type": "stream",
     "text": [
      "Epoch 18 Iter 573: loss 0.48322. : 100%|████| 573/573 [00:04<00:00, 122.01it/s]\n",
      "Epoch 19 Iter 20: loss 0.48850. :   2%|      | 11/573 [00:00<00:05, 106.08it/s]"
     ]
    },
    {
     "name": "stdout",
     "output_type": "stream",
     "text": [
      "Classification accuracy: 87.09%\n"
     ]
    },
    {
     "name": "stderr",
     "output_type": "stream",
     "text": [
      "Epoch 19 Iter 573: loss 0.37486. : 100%|████| 573/573 [00:04<00:00, 121.84it/s]\n",
      "Epoch 20 Iter 20: loss 0.48637. :   2%|      | 11/573 [00:00<00:05, 109.23it/s]"
     ]
    },
    {
     "name": "stdout",
     "output_type": "stream",
     "text": [
      "Classification accuracy: 87.23%\n"
     ]
    },
    {
     "name": "stderr",
     "output_type": "stream",
     "text": [
      "Epoch 20 Iter 573: loss 0.30982. : 100%|████| 573/573 [00:04<00:00, 123.61it/s]\n",
      "Epoch 21 Iter 19: loss 0.43622. :   2%|      | 11/573 [00:00<00:05, 104.08it/s]"
     ]
    },
    {
     "name": "stdout",
     "output_type": "stream",
     "text": [
      "Classification accuracy: 87.8%\n"
     ]
    },
    {
     "name": "stderr",
     "output_type": "stream",
     "text": [
      "Epoch 21 Iter 573: loss 0.62931. : 100%|████| 573/573 [00:04<00:00, 122.20it/s]\n",
      "Epoch 22 Iter 19: loss 0.40186. :   2%|      | 11/573 [00:00<00:05, 106.05it/s]"
     ]
    },
    {
     "name": "stdout",
     "output_type": "stream",
     "text": [
      "Classification accuracy: 87.17%\n"
     ]
    },
    {
     "name": "stderr",
     "output_type": "stream",
     "text": [
      "Epoch 22 Iter 573: loss 0.49056. : 100%|████| 573/573 [00:04<00:00, 122.58it/s]\n",
      "Epoch 23 Iter 20: loss 0.35462. :   2%|      | 11/573 [00:00<00:05, 102.16it/s]"
     ]
    },
    {
     "name": "stdout",
     "output_type": "stream",
     "text": [
      "Classification accuracy: 87.42%\n"
     ]
    },
    {
     "name": "stderr",
     "output_type": "stream",
     "text": [
      "Epoch 23 Iter 573: loss 0.40003. : 100%|████| 573/573 [00:04<00:00, 122.62it/s]\n",
      "Epoch 24 Iter 21: loss 0.35007. :   2%|      | 11/573 [00:00<00:05, 103.08it/s]"
     ]
    },
    {
     "name": "stdout",
     "output_type": "stream",
     "text": [
      "Classification accuracy: 86.19%\n"
     ]
    },
    {
     "name": "stderr",
     "output_type": "stream",
     "text": [
      "Epoch 24 Iter 573: loss 0.33558. : 100%|████| 573/573 [00:04<00:00, 123.36it/s]\n",
      "Epoch 25 Iter 20: loss 0.38084. :   2%|      | 11/573 [00:00<00:05, 100.29it/s]"
     ]
    },
    {
     "name": "stdout",
     "output_type": "stream",
     "text": [
      "Classification accuracy: 87.9%\n"
     ]
    },
    {
     "name": "stderr",
     "output_type": "stream",
     "text": [
      "Epoch 25 Iter 573: loss 0.57162. : 100%|████| 573/573 [00:04<00:00, 123.25it/s]\n",
      "Epoch 1 Iter 19: loss 3.87613. :   2%|▏      | 11/573 [00:00<00:05, 101.19it/s]"
     ]
    },
    {
     "name": "stdout",
     "output_type": "stream",
     "text": [
      "Classification accuracy: 87.84%\n",
      "Model has 122626 learnable parameters\n"
     ]
    },
    {
     "name": "stderr",
     "output_type": "stream",
     "text": [
      "Epoch 1 Iter 573: loss 0.90186. : 100%|█████| 573/573 [00:04<00:00, 122.48it/s]\n",
      "Epoch 2 Iter 20: loss 0.75155. :   2%|▏      | 11/573 [00:00<00:05, 103.11it/s]"
     ]
    },
    {
     "name": "stdout",
     "output_type": "stream",
     "text": [
      "Classification accuracy: 73.95%\n"
     ]
    },
    {
     "name": "stderr",
     "output_type": "stream",
     "text": [
      "Epoch 2 Iter 573: loss 0.53496. : 100%|█████| 573/573 [00:04<00:00, 122.31it/s]\n",
      "Epoch 3 Iter 19: loss 0.58475. :   2%|▏       | 10/573 [00:00<00:05, 99.31it/s]"
     ]
    },
    {
     "name": "stdout",
     "output_type": "stream",
     "text": [
      "Classification accuracy: 80.74%\n"
     ]
    },
    {
     "name": "stderr",
     "output_type": "stream",
     "text": [
      "Epoch 3 Iter 573: loss 0.65056. : 100%|█████| 573/573 [00:04<00:00, 122.75it/s]\n",
      "Epoch 4 Iter 19: loss 0.48861. :   2%|▏      | 11/573 [00:00<00:05, 104.05it/s]"
     ]
    },
    {
     "name": "stdout",
     "output_type": "stream",
     "text": [
      "Classification accuracy: 82.73%\n"
     ]
    },
    {
     "name": "stderr",
     "output_type": "stream",
     "text": [
      "Epoch 4 Iter 573: loss 0.79395. : 100%|█████| 573/573 [00:04<00:00, 122.72it/s]\n",
      "Epoch 5 Iter 19: loss 0.57361. :   2%|▏       | 10/573 [00:00<00:05, 99.27it/s]"
     ]
    },
    {
     "name": "stdout",
     "output_type": "stream",
     "text": [
      "Classification accuracy: 83.77%\n"
     ]
    },
    {
     "name": "stderr",
     "output_type": "stream",
     "text": [
      "Epoch 5 Iter 573: loss 0.24141. : 100%|█████| 573/573 [00:04<00:00, 123.18it/s]\n",
      "Epoch 6 Iter 19: loss 0.53292. :   2%|▏      | 11/573 [00:00<00:05, 103.11it/s]"
     ]
    },
    {
     "name": "stdout",
     "output_type": "stream",
     "text": [
      "Classification accuracy: 84.62%\n"
     ]
    },
    {
     "name": "stderr",
     "output_type": "stream",
     "text": [
      "Epoch 6 Iter 573: loss 0.48273. : 100%|█████| 573/573 [00:04<00:00, 122.72it/s]\n",
      "Epoch 7 Iter 19: loss 0.42600. :   2%|▏      | 11/573 [00:00<00:05, 104.10it/s]"
     ]
    },
    {
     "name": "stdout",
     "output_type": "stream",
     "text": [
      "Classification accuracy: 84.71%\n"
     ]
    },
    {
     "name": "stderr",
     "output_type": "stream",
     "text": [
      "Epoch 7 Iter 573: loss 0.45218. : 100%|█████| 573/573 [00:04<00:00, 122.35it/s]\n",
      "Epoch 8 Iter 21: loss 0.64643. :   2%|▏      | 11/573 [00:00<00:05, 107.08it/s]"
     ]
    },
    {
     "name": "stdout",
     "output_type": "stream",
     "text": [
      "Classification accuracy: 83.5%\n"
     ]
    },
    {
     "name": "stderr",
     "output_type": "stream",
     "text": [
      "Epoch 8 Iter 573: loss 0.77174. : 100%|█████| 573/573 [00:04<00:00, 122.32it/s]\n",
      "Epoch 9 Iter 18: loss 0.52987. :   2%|▏      | 11/573 [00:00<00:05, 102.15it/s]"
     ]
    },
    {
     "name": "stdout",
     "output_type": "stream",
     "text": [
      "Classification accuracy: 84.0%\n"
     ]
    },
    {
     "name": "stderr",
     "output_type": "stream",
     "text": [
      "Epoch 9 Iter 573: loss 0.45668. : 100%|█████| 573/573 [00:04<00:00, 121.70it/s]\n",
      "Epoch 10 Iter 20: loss 0.56015. :   2%|      | 11/573 [00:00<00:05, 104.05it/s]"
     ]
    },
    {
     "name": "stdout",
     "output_type": "stream",
     "text": [
      "Classification accuracy: 84.86%\n"
     ]
    },
    {
     "name": "stderr",
     "output_type": "stream",
     "text": [
      "Epoch 10 Iter 573: loss 0.58476. : 100%|████| 573/573 [00:04<00:00, 122.58it/s]\n",
      "Epoch 11 Iter 20: loss 0.53192. :   2%|      | 11/573 [00:00<00:05, 103.08it/s]"
     ]
    },
    {
     "name": "stdout",
     "output_type": "stream",
     "text": [
      "Classification accuracy: 83.86%\n"
     ]
    },
    {
     "name": "stderr",
     "output_type": "stream",
     "text": [
      "Epoch 11 Iter 573: loss 0.40638. : 100%|████| 573/573 [00:04<00:00, 122.40it/s]\n",
      "Epoch 12 Iter 19: loss 0.44746. :   2%|       | 10/573 [00:00<00:05, 98.30it/s]"
     ]
    },
    {
     "name": "stdout",
     "output_type": "stream",
     "text": [
      "Classification accuracy: 85.14%\n"
     ]
    },
    {
     "name": "stderr",
     "output_type": "stream",
     "text": [
      "Epoch 12 Iter 573: loss 0.70672. : 100%|████| 573/573 [00:04<00:00, 122.51it/s]\n",
      "Epoch 13 Iter 20: loss 0.36835. :   2%|      | 11/573 [00:00<00:05, 101.18it/s]"
     ]
    },
    {
     "name": "stdout",
     "output_type": "stream",
     "text": [
      "Classification accuracy: 85.57%\n"
     ]
    },
    {
     "name": "stderr",
     "output_type": "stream",
     "text": [
      "Epoch 13 Iter 573: loss 0.53498. : 100%|████| 573/573 [00:04<00:00, 122.66it/s]\n",
      "Epoch 14 Iter 20: loss 0.49629. :   2%|      | 11/573 [00:00<00:05, 102.12it/s]"
     ]
    },
    {
     "name": "stdout",
     "output_type": "stream",
     "text": [
      "Classification accuracy: 85.63%\n"
     ]
    },
    {
     "name": "stderr",
     "output_type": "stream",
     "text": [
      "Epoch 14 Iter 573: loss 0.44233. : 100%|████| 573/573 [00:04<00:00, 123.16it/s]\n",
      "Epoch 15 Iter 20: loss 0.46343. :   2%|       | 10/573 [00:00<00:05, 98.30it/s]"
     ]
    },
    {
     "name": "stdout",
     "output_type": "stream",
     "text": [
      "Classification accuracy: 85.44%\n"
     ]
    },
    {
     "name": "stderr",
     "output_type": "stream",
     "text": [
      "Epoch 15 Iter 573: loss 0.32700. : 100%|████| 573/573 [00:04<00:00, 122.82it/s]\n",
      "Epoch 16 Iter 20: loss 0.53110. :   2%|      | 11/573 [00:00<00:05, 100.31it/s]"
     ]
    },
    {
     "name": "stdout",
     "output_type": "stream",
     "text": [
      "Classification accuracy: 84.34%\n"
     ]
    },
    {
     "name": "stderr",
     "output_type": "stream",
     "text": [
      "Epoch 16 Iter 573: loss 0.79445. : 100%|████| 573/573 [00:04<00:00, 123.13it/s]\n",
      "Epoch 17 Iter 19: loss 0.42490. :   2%|       | 10/573 [00:00<00:05, 99.27it/s]"
     ]
    },
    {
     "name": "stdout",
     "output_type": "stream",
     "text": [
      "Classification accuracy: 85.42%\n"
     ]
    },
    {
     "name": "stderr",
     "output_type": "stream",
     "text": [
      "Epoch 17 Iter 573: loss 0.32075. : 100%|████| 573/573 [00:04<00:00, 122.58it/s]\n",
      "Epoch 18 Iter 19: loss 0.34514. :   2%|       | 10/573 [00:00<00:05, 99.27it/s]"
     ]
    },
    {
     "name": "stdout",
     "output_type": "stream",
     "text": [
      "Classification accuracy: 85.66%\n"
     ]
    },
    {
     "name": "stderr",
     "output_type": "stream",
     "text": [
      "Epoch 18 Iter 573: loss 0.67789. : 100%|████| 573/573 [00:04<00:00, 123.43it/s]\n",
      "Epoch 19 Iter 19: loss 0.50865. :   2%|      | 11/573 [00:00<00:05, 104.08it/s]"
     ]
    },
    {
     "name": "stdout",
     "output_type": "stream",
     "text": [
      "Classification accuracy: 85.47%\n"
     ]
    },
    {
     "name": "stderr",
     "output_type": "stream",
     "text": [
      "Epoch 19 Iter 573: loss 0.48122. : 100%|████| 573/573 [00:04<00:00, 122.94it/s]\n",
      "Epoch 20 Iter 19: loss 0.30211. :   2%|      | 11/573 [00:00<00:05, 102.15it/s]"
     ]
    },
    {
     "name": "stdout",
     "output_type": "stream",
     "text": [
      "Classification accuracy: 85.01%\n"
     ]
    },
    {
     "name": "stderr",
     "output_type": "stream",
     "text": [
      "Epoch 20 Iter 573: loss 0.31504. : 100%|████| 573/573 [00:04<00:00, 122.62it/s]\n",
      "Epoch 21 Iter 20: loss 0.47483. :   2%|      | 11/573 [00:00<00:05, 101.19it/s]"
     ]
    },
    {
     "name": "stdout",
     "output_type": "stream",
     "text": [
      "Classification accuracy: 85.81%\n"
     ]
    },
    {
     "name": "stderr",
     "output_type": "stream",
     "text": [
      "Epoch 21 Iter 573: loss 0.20460. : 100%|████| 573/573 [00:04<00:00, 123.49it/s]\n",
      "Epoch 22 Iter 19: loss 0.70971. :   2%|      | 11/573 [00:00<00:05, 102.12it/s]"
     ]
    },
    {
     "name": "stdout",
     "output_type": "stream",
     "text": [
      "Classification accuracy: 85.52%\n"
     ]
    },
    {
     "name": "stderr",
     "output_type": "stream",
     "text": [
      "Epoch 22 Iter 573: loss 0.58325. : 100%|████| 573/573 [00:04<00:00, 122.59it/s]\n",
      "Epoch 23 Iter 19: loss 0.45101. :   2%|      | 11/573 [00:00<00:05, 100.30it/s]"
     ]
    },
    {
     "name": "stdout",
     "output_type": "stream",
     "text": [
      "Classification accuracy: 85.71%\n"
     ]
    },
    {
     "name": "stderr",
     "output_type": "stream",
     "text": [
      "Epoch 23 Iter 573: loss 0.38877. : 100%|████| 573/573 [00:04<00:00, 121.88it/s]\n",
      "Epoch 24 Iter 18: loss 0.46263. :   2%|       | 10/573 [00:00<00:05, 96.44it/s]"
     ]
    },
    {
     "name": "stdout",
     "output_type": "stream",
     "text": [
      "Classification accuracy: 84.89%\n"
     ]
    },
    {
     "name": "stderr",
     "output_type": "stream",
     "text": [
      "Epoch 24 Iter 573: loss 0.88477. : 100%|████| 573/573 [00:04<00:00, 122.27it/s]\n",
      "Epoch 25 Iter 19: loss 0.38334. :   2%|      | 11/573 [00:00<00:05, 103.11it/s]"
     ]
    },
    {
     "name": "stdout",
     "output_type": "stream",
     "text": [
      "Classification accuracy: 85.56%\n"
     ]
    },
    {
     "name": "stderr",
     "output_type": "stream",
     "text": [
      "Epoch 25 Iter 573: loss 0.51601. : 100%|████| 573/573 [00:04<00:00, 122.50it/s]\n",
      "Epoch 1 Iter 19: loss 3.63509. :   2%|▏       | 10/573 [00:00<00:05, 97.38it/s]"
     ]
    },
    {
     "name": "stdout",
     "output_type": "stream",
     "text": [
      "Classification accuracy: 86.19%\n",
      "Model has 122626 learnable parameters\n"
     ]
    },
    {
     "name": "stderr",
     "output_type": "stream",
     "text": [
      "Epoch 1 Iter 573: loss 0.72448. : 100%|█████| 573/573 [00:04<00:00, 122.79it/s]\n",
      "Epoch 2 Iter 18: loss 0.62696. :   2%|▏      | 11/573 [00:00<00:05, 107.11it/s]"
     ]
    },
    {
     "name": "stdout",
     "output_type": "stream",
     "text": [
      "Classification accuracy: 82.15%\n"
     ]
    },
    {
     "name": "stderr",
     "output_type": "stream",
     "text": [
      "Epoch 2 Iter 573: loss 0.53178. : 100%|█████| 573/573 [00:04<00:00, 122.68it/s]\n",
      "Epoch 3 Iter 20: loss 0.54496. :   2%|▏      | 11/573 [00:00<00:05, 102.12it/s]"
     ]
    },
    {
     "name": "stdout",
     "output_type": "stream",
     "text": [
      "Classification accuracy: 84.98%\n"
     ]
    },
    {
     "name": "stderr",
     "output_type": "stream",
     "text": [
      "Epoch 3 Iter 573: loss 0.35715. : 100%|█████| 573/573 [00:04<00:00, 122.18it/s]\n",
      "Epoch 4 Iter 20: loss 0.66752. :   2%|▏      | 11/573 [00:00<00:05, 106.05it/s]"
     ]
    },
    {
     "name": "stdout",
     "output_type": "stream",
     "text": [
      "Classification accuracy: 85.08%\n"
     ]
    },
    {
     "name": "stderr",
     "output_type": "stream",
     "text": [
      "Epoch 4 Iter 573: loss 0.46412. : 100%|█████| 573/573 [00:04<00:00, 121.45it/s]\n",
      "Epoch 5 Iter 18: loss 0.63353. :   2%|▏       | 10/573 [00:00<00:05, 98.33it/s]"
     ]
    },
    {
     "name": "stdout",
     "output_type": "stream",
     "text": [
      "Classification accuracy: 84.82%\n"
     ]
    },
    {
     "name": "stderr",
     "output_type": "stream",
     "text": [
      "Epoch 5 Iter 573: loss 0.43025. : 100%|█████| 573/573 [00:04<00:00, 121.99it/s]\n",
      "Epoch 6 Iter 20: loss 0.46894. :   2%|▏      | 11/573 [00:00<00:05, 107.08it/s]"
     ]
    },
    {
     "name": "stdout",
     "output_type": "stream",
     "text": [
      "Classification accuracy: 85.2%\n"
     ]
    },
    {
     "name": "stderr",
     "output_type": "stream",
     "text": [
      "Epoch 6 Iter 573: loss 0.31786. : 100%|█████| 573/573 [00:04<00:00, 123.69it/s]\n",
      "Epoch 7 Iter 20: loss 0.58713. :   2%|▏      | 11/573 [00:00<00:05, 106.05it/s]"
     ]
    },
    {
     "name": "stdout",
     "output_type": "stream",
     "text": [
      "Classification accuracy: 85.88%\n"
     ]
    },
    {
     "name": "stderr",
     "output_type": "stream",
     "text": [
      "Epoch 7 Iter 573: loss 0.69969. : 100%|█████| 573/573 [00:04<00:00, 122.86it/s]\n",
      "Epoch 8 Iter 18: loss 0.51206. :   2%|▏      | 11/573 [00:00<00:05, 101.19it/s]"
     ]
    },
    {
     "name": "stdout",
     "output_type": "stream",
     "text": [
      "Classification accuracy: 86.34%\n"
     ]
    },
    {
     "name": "stderr",
     "output_type": "stream",
     "text": [
      "Epoch 8 Iter 573: loss 0.53783. : 100%|█████| 573/573 [00:04<00:00, 122.11it/s]\n",
      "Epoch 9 Iter 20: loss 0.43284. :   2%|▏      | 11/573 [00:00<00:05, 106.08it/s]"
     ]
    },
    {
     "name": "stdout",
     "output_type": "stream",
     "text": [
      "Classification accuracy: 86.46%\n"
     ]
    },
    {
     "name": "stderr",
     "output_type": "stream",
     "text": [
      "Epoch 9 Iter 573: loss 0.31342. : 100%|█████| 573/573 [00:04<00:00, 122.88it/s]\n",
      "Epoch 10 Iter 20: loss 0.71973. :   2%|      | 11/573 [00:00<00:05, 106.08it/s]"
     ]
    },
    {
     "name": "stdout",
     "output_type": "stream",
     "text": [
      "Classification accuracy: 85.72%\n"
     ]
    },
    {
     "name": "stderr",
     "output_type": "stream",
     "text": [
      "Epoch 10 Iter 573: loss 0.32452. : 100%|████| 573/573 [00:04<00:00, 121.59it/s]\n",
      "Epoch 11 Iter 19: loss 0.35234. :   2%|      | 11/573 [00:00<00:05, 106.08it/s]"
     ]
    },
    {
     "name": "stdout",
     "output_type": "stream",
     "text": [
      "Classification accuracy: 85.48%\n"
     ]
    },
    {
     "name": "stderr",
     "output_type": "stream",
     "text": [
      "Epoch 11 Iter 573: loss 0.45229. : 100%|████| 573/573 [00:04<00:00, 122.21it/s]\n",
      "Epoch 12 Iter 20: loss 0.57039. :   2%|▏     | 12/573 [00:00<00:05, 110.38it/s]"
     ]
    },
    {
     "name": "stdout",
     "output_type": "stream",
     "text": [
      "Classification accuracy: 86.56%\n"
     ]
    },
    {
     "name": "stderr",
     "output_type": "stream",
     "text": [
      "Epoch 12 Iter 573: loss 0.24514. : 100%|████| 573/573 [00:04<00:00, 122.86it/s]\n",
      "Epoch 13 Iter 19: loss 0.50056. :   2%|      | 11/573 [00:00<00:05, 101.19it/s]"
     ]
    },
    {
     "name": "stdout",
     "output_type": "stream",
     "text": [
      "Classification accuracy: 83.9%\n"
     ]
    },
    {
     "name": "stderr",
     "output_type": "stream",
     "text": [
      "Epoch 13 Iter 573: loss 0.72975. : 100%|████| 573/573 [00:04<00:00, 123.08it/s]\n",
      "Epoch 14 Iter 19: loss 0.37817. :   2%|      | 11/573 [00:00<00:05, 104.07it/s]"
     ]
    },
    {
     "name": "stdout",
     "output_type": "stream",
     "text": [
      "Classification accuracy: 86.87%\n"
     ]
    },
    {
     "name": "stderr",
     "output_type": "stream",
     "text": [
      "Epoch 14 Iter 573: loss 0.76893. : 100%|████| 573/573 [00:04<00:00, 121.38it/s]\n",
      "Epoch 15 Iter 19: loss 0.49456. :   2%|      | 11/573 [00:00<00:05, 105.07it/s]"
     ]
    },
    {
     "name": "stdout",
     "output_type": "stream",
     "text": [
      "Classification accuracy: 86.34%\n"
     ]
    },
    {
     "name": "stderr",
     "output_type": "stream",
     "text": [
      "Epoch 15 Iter 573: loss 0.32524. : 100%|████| 573/573 [00:04<00:00, 120.64it/s]\n",
      "Epoch 16 Iter 20: loss 0.44177. :   2%|      | 11/573 [00:00<00:05, 104.05it/s]"
     ]
    },
    {
     "name": "stdout",
     "output_type": "stream",
     "text": [
      "Classification accuracy: 87.43%\n"
     ]
    },
    {
     "name": "stderr",
     "output_type": "stream",
     "text": [
      "Epoch 16 Iter 573: loss 0.51440. : 100%|████| 573/573 [00:04<00:00, 121.33it/s]\n",
      "Epoch 17 Iter 19: loss 0.47180. :   2%|▏     | 12/573 [00:00<00:05, 111.44it/s]"
     ]
    },
    {
     "name": "stdout",
     "output_type": "stream",
     "text": [
      "Classification accuracy: 87.28%\n"
     ]
    },
    {
     "name": "stderr",
     "output_type": "stream",
     "text": [
      "Epoch 17 Iter 573: loss 0.30846. : 100%|████| 573/573 [00:04<00:00, 121.21it/s]\n",
      "Epoch 18 Iter 19: loss 0.36499. :   2%|      | 11/573 [00:00<00:05, 103.11it/s]"
     ]
    },
    {
     "name": "stdout",
     "output_type": "stream",
     "text": [
      "Classification accuracy: 86.11%\n"
     ]
    },
    {
     "name": "stderr",
     "output_type": "stream",
     "text": [
      "Epoch 18 Iter 573: loss 0.52364. : 100%|████| 573/573 [00:04<00:00, 121.91it/s]\n",
      "Epoch 19 Iter 16: loss 0.35795. :   2%|      | 11/573 [00:00<00:05, 105.04it/s]"
     ]
    },
    {
     "name": "stdout",
     "output_type": "stream",
     "text": [
      "Classification accuracy: 85.78%\n"
     ]
    },
    {
     "name": "stderr",
     "output_type": "stream",
     "text": [
      "Epoch 19 Iter 573: loss 0.35790. : 100%|████| 573/573 [00:04<00:00, 120.06it/s]\n",
      "Epoch 20 Iter 19: loss 0.37025. :   2%|      | 11/573 [00:00<00:05, 106.05it/s]"
     ]
    },
    {
     "name": "stdout",
     "output_type": "stream",
     "text": [
      "Classification accuracy: 86.79%\n"
     ]
    },
    {
     "name": "stderr",
     "output_type": "stream",
     "text": [
      "Epoch 20 Iter 573: loss 0.34823. : 100%|████| 573/573 [00:04<00:00, 121.44it/s]\n",
      "Epoch 21 Iter 18: loss 0.27436. :   2%|▏      | 11/573 [00:00<00:05, 99.36it/s]"
     ]
    },
    {
     "name": "stdout",
     "output_type": "stream",
     "text": [
      "Classification accuracy: 87.13%\n"
     ]
    },
    {
     "name": "stderr",
     "output_type": "stream",
     "text": [
      "Epoch 21 Iter 573: loss 0.39232. : 100%|████| 573/573 [00:04<00:00, 120.88it/s]\n",
      "Epoch 22 Iter 18: loss 0.45439. :   2%|▏      | 11/573 [00:00<00:05, 99.36it/s]"
     ]
    },
    {
     "name": "stdout",
     "output_type": "stream",
     "text": [
      "Classification accuracy: 86.09%\n"
     ]
    },
    {
     "name": "stderr",
     "output_type": "stream",
     "text": [
      "Epoch 22 Iter 573: loss 0.42495. : 100%|████| 573/573 [00:04<00:00, 120.45it/s]\n",
      "Epoch 23 Iter 19: loss 0.45950. :   2%|      | 11/573 [00:00<00:05, 102.12it/s]"
     ]
    },
    {
     "name": "stdout",
     "output_type": "stream",
     "text": [
      "Classification accuracy: 86.99%\n"
     ]
    },
    {
     "name": "stderr",
     "output_type": "stream",
     "text": [
      "Epoch 23 Iter 573: loss 0.40853. : 100%|████| 573/573 [00:04<00:00, 122.55it/s]\n",
      "Epoch 24 Iter 20: loss 0.31251. :   2%|      | 11/573 [00:00<00:05, 103.11it/s]"
     ]
    },
    {
     "name": "stdout",
     "output_type": "stream",
     "text": [
      "Classification accuracy: 86.86%\n"
     ]
    },
    {
     "name": "stderr",
     "output_type": "stream",
     "text": [
      "Epoch 24 Iter 573: loss 0.59764. : 100%|████| 573/573 [00:04<00:00, 124.40it/s]\n",
      "Epoch 25 Iter 18: loss 0.43134. :   2%|       | 10/573 [00:00<00:05, 97.69it/s]"
     ]
    },
    {
     "name": "stdout",
     "output_type": "stream",
     "text": [
      "Classification accuracy: 87.17%\n"
     ]
    },
    {
     "name": "stderr",
     "output_type": "stream",
     "text": [
      "Epoch 25 Iter 573: loss 0.42633. : 100%|████| 573/573 [00:04<00:00, 121.45it/s]\n",
      "Epoch 1 Iter 20: loss 4.47556. :   2%|▏      | 11/573 [00:00<00:05, 101.23it/s]"
     ]
    },
    {
     "name": "stdout",
     "output_type": "stream",
     "text": [
      "Classification accuracy: 86.55%\n",
      "Model has 122626 learnable parameters\n"
     ]
    },
    {
     "name": "stderr",
     "output_type": "stream",
     "text": [
      "Epoch 1 Iter 573: loss 0.83705. : 100%|█████| 573/573 [00:04<00:00, 121.39it/s]\n",
      "Epoch 2 Iter 20: loss 0.85726. :   2%|▏      | 11/573 [00:00<00:05, 104.08it/s]"
     ]
    },
    {
     "name": "stdout",
     "output_type": "stream",
     "text": [
      "Classification accuracy: 80.16%\n"
     ]
    },
    {
     "name": "stderr",
     "output_type": "stream",
     "text": [
      "Epoch 2 Iter 573: loss 0.73929. : 100%|█████| 573/573 [00:04<00:00, 122.34it/s]\n",
      "Epoch 3 Iter 20: loss 0.56576. :   2%|▏      | 11/573 [00:00<00:05, 106.05it/s]"
     ]
    },
    {
     "name": "stdout",
     "output_type": "stream",
     "text": [
      "Classification accuracy: 83.4%\n"
     ]
    },
    {
     "name": "stderr",
     "output_type": "stream",
     "text": [
      "Epoch 3 Iter 573: loss 0.59382. : 100%|█████| 573/573 [00:04<00:00, 123.48it/s]\n",
      "Epoch 4 Iter 20: loss 0.49518. :   2%|▏      | 11/573 [00:00<00:05, 105.04it/s]"
     ]
    },
    {
     "name": "stdout",
     "output_type": "stream",
     "text": [
      "Classification accuracy: 83.88%\n"
     ]
    },
    {
     "name": "stderr",
     "output_type": "stream",
     "text": [
      "Epoch 4 Iter 573: loss 0.32688. : 100%|█████| 573/573 [00:04<00:00, 123.40it/s]\n",
      "Epoch 5 Iter 19: loss 0.52941. :   2%|▏      | 11/573 [00:00<00:05, 103.07it/s]"
     ]
    },
    {
     "name": "stdout",
     "output_type": "stream",
     "text": [
      "Classification accuracy: 83.18%\n"
     ]
    },
    {
     "name": "stderr",
     "output_type": "stream",
     "text": [
      "Epoch 5 Iter 573: loss 0.45388. : 100%|█████| 573/573 [00:04<00:00, 123.03it/s]\n",
      "Epoch 6 Iter 20: loss 0.48167. :   2%|▏      | 11/573 [00:00<00:05, 104.07it/s]"
     ]
    },
    {
     "name": "stdout",
     "output_type": "stream",
     "text": [
      "Classification accuracy: 83.85%\n"
     ]
    },
    {
     "name": "stderr",
     "output_type": "stream",
     "text": [
      "Epoch 6 Iter 573: loss 0.57157. : 100%|█████| 573/573 [00:04<00:00, 122.93it/s]\n",
      "Epoch 7 Iter 20: loss 0.43367. :   2%|▏      | 11/573 [00:00<00:05, 102.12it/s]"
     ]
    },
    {
     "name": "stdout",
     "output_type": "stream",
     "text": [
      "Classification accuracy: 85.31%\n"
     ]
    },
    {
     "name": "stderr",
     "output_type": "stream",
     "text": [
      "Epoch 7 Iter 573: loss 0.59838. : 100%|█████| 573/573 [00:04<00:00, 122.70it/s]\n",
      "Epoch 8 Iter 18: loss 0.46971. :   2%|▏       | 10/573 [00:00<00:05, 98.31it/s]"
     ]
    },
    {
     "name": "stdout",
     "output_type": "stream",
     "text": [
      "Classification accuracy: 85.04%\n"
     ]
    },
    {
     "name": "stderr",
     "output_type": "stream",
     "text": [
      "Epoch 8 Iter 573: loss 0.32907. : 100%|█████| 573/573 [00:04<00:00, 121.60it/s]\n",
      "Epoch 9 Iter 18: loss 0.47999. :   2%|▏       | 10/573 [00:00<00:05, 97.37it/s]"
     ]
    },
    {
     "name": "stdout",
     "output_type": "stream",
     "text": [
      "Classification accuracy: 85.49%\n"
     ]
    },
    {
     "name": "stderr",
     "output_type": "stream",
     "text": [
      "Epoch 9 Iter 573: loss 0.58092. : 100%|█████| 573/573 [00:04<00:00, 122.84it/s]\n",
      "Epoch 10 Iter 20: loss 0.58284. :   2%|      | 11/573 [00:00<00:05, 106.05it/s]"
     ]
    },
    {
     "name": "stdout",
     "output_type": "stream",
     "text": [
      "Classification accuracy: 85.61%\n"
     ]
    },
    {
     "name": "stderr",
     "output_type": "stream",
     "text": [
      "Epoch 10 Iter 573: loss 0.19817. : 100%|████| 573/573 [00:04<00:00, 122.51it/s]\n",
      "Epoch 11 Iter 18: loss 0.40841. :   2%|       | 10/573 [00:00<00:05, 96.44it/s]"
     ]
    },
    {
     "name": "stdout",
     "output_type": "stream",
     "text": [
      "Classification accuracy: 86.26%\n"
     ]
    },
    {
     "name": "stderr",
     "output_type": "stream",
     "text": [
      "Epoch 11 Iter 573: loss 0.28469. : 100%|████| 573/573 [00:04<00:00, 122.64it/s]\n",
      "Epoch 12 Iter 19: loss 0.57813. :   2%|      | 11/573 [00:00<00:05, 103.08it/s]"
     ]
    },
    {
     "name": "stdout",
     "output_type": "stream",
     "text": [
      "Classification accuracy: 85.84%\n"
     ]
    },
    {
     "name": "stderr",
     "output_type": "stream",
     "text": [
      "Epoch 12 Iter 573: loss 0.56572. : 100%|████| 573/573 [00:04<00:00, 123.04it/s]\n",
      "Epoch 13 Iter 19: loss 0.34675. :   2%|      | 11/573 [00:00<00:05, 103.05it/s]"
     ]
    },
    {
     "name": "stdout",
     "output_type": "stream",
     "text": [
      "Classification accuracy: 85.99%\n"
     ]
    },
    {
     "name": "stderr",
     "output_type": "stream",
     "text": [
      "Epoch 13 Iter 573: loss 0.26229. : 100%|████| 573/573 [00:04<00:00, 122.96it/s]\n",
      "Epoch 14 Iter 19: loss 0.43825. :   2%|      | 11/573 [00:00<00:05, 102.12it/s]"
     ]
    },
    {
     "name": "stdout",
     "output_type": "stream",
     "text": [
      "Classification accuracy: 86.36%\n"
     ]
    },
    {
     "name": "stderr",
     "output_type": "stream",
     "text": [
      "Epoch 14 Iter 573: loss 0.43779. : 100%|████| 573/573 [00:04<00:00, 124.06it/s]\n",
      "Epoch 15 Iter 18: loss 0.39651. :   2%|       | 10/573 [00:00<00:05, 96.41it/s]"
     ]
    },
    {
     "name": "stdout",
     "output_type": "stream",
     "text": [
      "Classification accuracy: 85.99%\n"
     ]
    },
    {
     "name": "stderr",
     "output_type": "stream",
     "text": [
      "Epoch 15 Iter 573: loss 0.57951. : 100%|████| 573/573 [00:04<00:00, 122.27it/s]\n",
      "Epoch 16 Iter 20: loss 0.34502. :   2%|      | 11/573 [00:00<00:05, 103.12it/s]"
     ]
    },
    {
     "name": "stdout",
     "output_type": "stream",
     "text": [
      "Classification accuracy: 85.8%\n"
     ]
    },
    {
     "name": "stderr",
     "output_type": "stream",
     "text": [
      "Epoch 16 Iter 573: loss 0.44027. : 100%|████| 573/573 [00:04<00:00, 122.11it/s]\n",
      "Epoch 17 Iter 20: loss 0.39852. :   2%|      | 11/573 [00:00<00:05, 107.08it/s]"
     ]
    },
    {
     "name": "stdout",
     "output_type": "stream",
     "text": [
      "Classification accuracy: 86.0%\n"
     ]
    },
    {
     "name": "stderr",
     "output_type": "stream",
     "text": [
      "Epoch 17 Iter 573: loss 0.89713. : 100%|████| 573/573 [00:04<00:00, 124.38it/s]\n",
      "Epoch 18 Iter 18: loss 0.45587. :   2%|       | 10/573 [00:00<00:05, 98.30it/s]"
     ]
    },
    {
     "name": "stdout",
     "output_type": "stream",
     "text": [
      "Classification accuracy: 86.12%\n"
     ]
    },
    {
     "name": "stderr",
     "output_type": "stream",
     "text": [
      "Epoch 18 Iter 573: loss 0.28139. : 100%|████| 573/573 [00:04<00:00, 123.40it/s]\n",
      "Epoch 19 Iter 19: loss 0.43892. :   2%|       | 10/573 [00:00<00:05, 97.37it/s]"
     ]
    },
    {
     "name": "stdout",
     "output_type": "stream",
     "text": [
      "Classification accuracy: 86.16%\n"
     ]
    },
    {
     "name": "stderr",
     "output_type": "stream",
     "text": [
      "Epoch 19 Iter 573: loss 0.48687. : 100%|████| 573/573 [00:04<00:00, 122.69it/s]\n",
      "Epoch 20 Iter 19: loss 0.55245. :   2%|       | 10/573 [00:00<00:05, 98.28it/s]"
     ]
    },
    {
     "name": "stdout",
     "output_type": "stream",
     "text": [
      "Classification accuracy: 86.0%\n"
     ]
    },
    {
     "name": "stderr",
     "output_type": "stream",
     "text": [
      "Epoch 20 Iter 573: loss 0.67347. : 100%|████| 573/573 [00:04<00:00, 122.32it/s]\n",
      "Epoch 21 Iter 20: loss 0.53722. :   2%|       | 10/573 [00:00<00:05, 99.27it/s]"
     ]
    },
    {
     "name": "stdout",
     "output_type": "stream",
     "text": [
      "Classification accuracy: 86.45%\n"
     ]
    },
    {
     "name": "stderr",
     "output_type": "stream",
     "text": [
      "Epoch 21 Iter 573: loss 0.77175. : 100%|████| 573/573 [00:04<00:00, 123.19it/s]\n",
      "Epoch 22 Iter 21: loss 0.35959. :   2%|      | 11/573 [00:00<00:05, 107.08it/s]"
     ]
    },
    {
     "name": "stdout",
     "output_type": "stream",
     "text": [
      "Classification accuracy: 86.75%\n"
     ]
    },
    {
     "name": "stderr",
     "output_type": "stream",
     "text": [
      "Epoch 22 Iter 573: loss 0.31792. : 100%|████| 573/573 [00:04<00:00, 122.79it/s]\n",
      "Epoch 23 Iter 20: loss 0.39312. :   2%|      | 11/573 [00:00<00:05, 104.08it/s]"
     ]
    },
    {
     "name": "stdout",
     "output_type": "stream",
     "text": [
      "Classification accuracy: 86.05%\n"
     ]
    },
    {
     "name": "stderr",
     "output_type": "stream",
     "text": [
      "Epoch 23 Iter 573: loss 0.33152. : 100%|████| 573/573 [00:04<00:00, 122.94it/s]\n",
      "Epoch 24 Iter 20: loss 0.40263. :   2%|      | 11/573 [00:00<00:05, 106.06it/s]"
     ]
    },
    {
     "name": "stdout",
     "output_type": "stream",
     "text": [
      "Classification accuracy: 86.52%\n"
     ]
    },
    {
     "name": "stderr",
     "output_type": "stream",
     "text": [
      "Epoch 24 Iter 573: loss 0.61840. : 100%|████| 573/573 [00:04<00:00, 123.13it/s]\n",
      "Epoch 25 Iter 19: loss 0.68680. :   2%|      | 11/573 [00:00<00:05, 104.05it/s]"
     ]
    },
    {
     "name": "stdout",
     "output_type": "stream",
     "text": [
      "Classification accuracy: 86.28%\n"
     ]
    },
    {
     "name": "stderr",
     "output_type": "stream",
     "text": [
      "Epoch 25 Iter 573: loss 0.65915. : 100%|████| 573/573 [00:04<00:00, 122.93it/s]\n",
      "Epoch 1 Iter 19: loss 4.18088. :   2%|▏      | 11/573 [00:00<00:05, 104.05it/s]"
     ]
    },
    {
     "name": "stdout",
     "output_type": "stream",
     "text": [
      "Classification accuracy: 86.51%\n",
      "Model has 122626 learnable parameters\n"
     ]
    },
    {
     "name": "stderr",
     "output_type": "stream",
     "text": [
      "Epoch 1 Iter 573: loss 1.10782. : 100%|█████| 573/573 [00:04<00:00, 122.28it/s]\n",
      "Epoch 2 Iter 20: loss 0.96336. :   2%|▏      | 11/573 [00:00<00:05, 105.08it/s]"
     ]
    },
    {
     "name": "stdout",
     "output_type": "stream",
     "text": [
      "Classification accuracy: 81.76%\n"
     ]
    },
    {
     "name": "stderr",
     "output_type": "stream",
     "text": [
      "Epoch 2 Iter 573: loss 0.91026. : 100%|█████| 573/573 [00:04<00:00, 123.16it/s]\n",
      "Epoch 3 Iter 21: loss 0.69071. :   2%|▏      | 11/573 [00:00<00:05, 108.13it/s]"
     ]
    },
    {
     "name": "stdout",
     "output_type": "stream",
     "text": [
      "Classification accuracy: 81.97%\n"
     ]
    },
    {
     "name": "stderr",
     "output_type": "stream",
     "text": [
      "Epoch 3 Iter 573: loss 0.61226. : 100%|█████| 573/573 [00:04<00:00, 122.93it/s]\n",
      "Epoch 4 Iter 21: loss 0.55115. :   2%|▏      | 11/573 [00:00<00:05, 107.11it/s]"
     ]
    },
    {
     "name": "stdout",
     "output_type": "stream",
     "text": [
      "Classification accuracy: 85.27%\n"
     ]
    },
    {
     "name": "stderr",
     "output_type": "stream",
     "text": [
      "Epoch 4 Iter 573: loss 0.34358. : 100%|█████| 573/573 [00:04<00:00, 122.44it/s]\n",
      "Epoch 5 Iter 19: loss 0.52329. :   2%|▏      | 11/573 [00:00<00:05, 105.07it/s]"
     ]
    },
    {
     "name": "stdout",
     "output_type": "stream",
     "text": [
      "Classification accuracy: 84.73%\n"
     ]
    },
    {
     "name": "stderr",
     "output_type": "stream",
     "text": [
      "Epoch 5 Iter 573: loss 0.70886. : 100%|█████| 573/573 [00:04<00:00, 122.05it/s]\n",
      "Epoch 6 Iter 21: loss 0.52046. :   2%|▏      | 12/573 [00:00<00:05, 110.41it/s]"
     ]
    },
    {
     "name": "stdout",
     "output_type": "stream",
     "text": [
      "Classification accuracy: 85.07%\n"
     ]
    },
    {
     "name": "stderr",
     "output_type": "stream",
     "text": [
      "Epoch 6 Iter 573: loss 0.43672. : 100%|█████| 573/573 [00:04<00:00, 121.93it/s]\n",
      "Epoch 7 Iter 18: loss 0.57362. :   2%|▏       | 10/573 [00:00<00:05, 96.44it/s]"
     ]
    },
    {
     "name": "stdout",
     "output_type": "stream",
     "text": [
      "Classification accuracy: 84.78%\n"
     ]
    },
    {
     "name": "stderr",
     "output_type": "stream",
     "text": [
      "Epoch 7 Iter 573: loss 0.43325. : 100%|█████| 573/573 [00:04<00:00, 118.13it/s]\n",
      "Epoch 8 Iter 20: loss 0.50868. :   2%|▏      | 11/573 [00:00<00:05, 103.07it/s]"
     ]
    },
    {
     "name": "stdout",
     "output_type": "stream",
     "text": [
      "Classification accuracy: 86.08%\n"
     ]
    },
    {
     "name": "stderr",
     "output_type": "stream",
     "text": [
      "Epoch 8 Iter 573: loss 0.39237. : 100%|█████| 573/573 [00:04<00:00, 123.99it/s]\n",
      "Epoch 9 Iter 21: loss 0.47372. :   2%|▏      | 11/573 [00:00<00:05, 105.95it/s]"
     ]
    },
    {
     "name": "stdout",
     "output_type": "stream",
     "text": [
      "Classification accuracy: 86.55%\n"
     ]
    },
    {
     "name": "stderr",
     "output_type": "stream",
     "text": [
      "Epoch 9 Iter 573: loss 0.73945. : 100%|█████| 573/573 [00:04<00:00, 123.01it/s]\n",
      "Epoch 10 Iter 19: loss 0.47938. :   2%|      | 11/573 [00:00<00:05, 104.08it/s]"
     ]
    },
    {
     "name": "stdout",
     "output_type": "stream",
     "text": [
      "Classification accuracy: 86.95%\n"
     ]
    },
    {
     "name": "stderr",
     "output_type": "stream",
     "text": [
      "Epoch 10 Iter 573: loss 0.45741. : 100%|████| 573/573 [00:04<00:00, 123.46it/s]\n",
      "Epoch 11 Iter 20: loss 0.43605. :   2%|      | 11/573 [00:00<00:05, 105.07it/s]"
     ]
    },
    {
     "name": "stdout",
     "output_type": "stream",
     "text": [
      "Classification accuracy: 86.0%\n"
     ]
    },
    {
     "name": "stderr",
     "output_type": "stream",
     "text": [
      "Epoch 11 Iter 573: loss 0.40467. : 100%|████| 573/573 [00:04<00:00, 123.93it/s]\n",
      "Epoch 12 Iter 20: loss 0.49212. :   2%|      | 11/573 [00:00<00:05, 105.07it/s]"
     ]
    },
    {
     "name": "stdout",
     "output_type": "stream",
     "text": [
      "Classification accuracy: 86.43%\n"
     ]
    },
    {
     "name": "stderr",
     "output_type": "stream",
     "text": [
      "Epoch 12 Iter 573: loss 0.26318. : 100%|████| 573/573 [00:04<00:00, 124.56it/s]\n",
      "Epoch 13 Iter 18: loss 0.41400. :   2%|       | 10/573 [00:00<00:05, 98.30it/s]"
     ]
    },
    {
     "name": "stdout",
     "output_type": "stream",
     "text": [
      "Classification accuracy: 87.27%\n"
     ]
    },
    {
     "name": "stderr",
     "output_type": "stream",
     "text": [
      "Epoch 13 Iter 573: loss 0.54068. : 100%|████| 573/573 [00:04<00:00, 120.58it/s]\n",
      "Epoch 14 Iter 19: loss 0.34413. :   2%|      | 11/573 [00:00<00:05, 104.08it/s]"
     ]
    },
    {
     "name": "stdout",
     "output_type": "stream",
     "text": [
      "Classification accuracy: 86.28%\n"
     ]
    },
    {
     "name": "stderr",
     "output_type": "stream",
     "text": [
      "Epoch 14 Iter 573: loss 0.49427. : 100%|████| 573/573 [00:04<00:00, 123.27it/s]\n",
      "Epoch 15 Iter 19: loss 0.37796. :   2%|      | 11/573 [00:00<00:05, 103.08it/s]"
     ]
    },
    {
     "name": "stdout",
     "output_type": "stream",
     "text": [
      "Classification accuracy: 86.97%\n"
     ]
    },
    {
     "name": "stderr",
     "output_type": "stream",
     "text": [
      "Epoch 15 Iter 573: loss 0.29411. : 100%|████| 573/573 [00:04<00:00, 122.69it/s]\n",
      "Epoch 16 Iter 18: loss 0.50815. :   2%|       | 10/573 [00:00<00:05, 99.27it/s]"
     ]
    },
    {
     "name": "stdout",
     "output_type": "stream",
     "text": [
      "Classification accuracy: 87.48%\n"
     ]
    },
    {
     "name": "stderr",
     "output_type": "stream",
     "text": [
      "Epoch 16 Iter 573: loss 0.59789. : 100%|████| 573/573 [00:04<00:00, 123.01it/s]\n",
      "Epoch 17 Iter 19: loss 0.60128. :   2%|      | 11/573 [00:00<00:05, 102.12it/s]"
     ]
    },
    {
     "name": "stdout",
     "output_type": "stream",
     "text": [
      "Classification accuracy: 87.75%\n"
     ]
    },
    {
     "name": "stderr",
     "output_type": "stream",
     "text": [
      "Epoch 17 Iter 573: loss 0.51659. : 100%|████| 573/573 [00:04<00:00, 123.01it/s]\n",
      "Epoch 18 Iter 19: loss 0.54237. :   2%|      | 11/573 [00:00<00:05, 101.18it/s]"
     ]
    },
    {
     "name": "stdout",
     "output_type": "stream",
     "text": [
      "Classification accuracy: 87.71%\n"
     ]
    },
    {
     "name": "stderr",
     "output_type": "stream",
     "text": [
      "Epoch 18 Iter 573: loss 0.37456. : 100%|████| 573/573 [00:04<00:00, 124.11it/s]\n",
      "Epoch 19 Iter 19: loss 0.52344. :   2%|       | 10/573 [00:00<00:05, 98.30it/s]"
     ]
    },
    {
     "name": "stdout",
     "output_type": "stream",
     "text": [
      "Classification accuracy: 86.88%\n"
     ]
    },
    {
     "name": "stderr",
     "output_type": "stream",
     "text": [
      "Epoch 19 Iter 573: loss 0.37813. : 100%|████| 573/573 [00:04<00:00, 122.92it/s]\n",
      "Epoch 20 Iter 19: loss 0.53191. :   2%|      | 11/573 [00:00<00:05, 101.22it/s]"
     ]
    },
    {
     "name": "stdout",
     "output_type": "stream",
     "text": [
      "Classification accuracy: 87.88%\n"
     ]
    },
    {
     "name": "stderr",
     "output_type": "stream",
     "text": [
      "Epoch 20 Iter 573: loss 0.52002. : 100%|████| 573/573 [00:04<00:00, 122.99it/s]\n",
      "Epoch 21 Iter 20: loss 0.44139. :   2%|      | 11/573 [00:00<00:05, 105.08it/s]"
     ]
    },
    {
     "name": "stdout",
     "output_type": "stream",
     "text": [
      "Classification accuracy: 87.68%\n"
     ]
    },
    {
     "name": "stderr",
     "output_type": "stream",
     "text": [
      "Epoch 21 Iter 573: loss 0.45297. : 100%|████| 573/573 [00:04<00:00, 122.66it/s]\n",
      "Epoch 22 Iter 19: loss 0.39209. :   2%|      | 11/573 [00:00<00:05, 107.08it/s]"
     ]
    },
    {
     "name": "stdout",
     "output_type": "stream",
     "text": [
      "Classification accuracy: 87.37%\n"
     ]
    },
    {
     "name": "stderr",
     "output_type": "stream",
     "text": [
      "Epoch 22 Iter 573: loss 0.38111. : 100%|████| 573/573 [00:04<00:00, 123.10it/s]\n",
      "Epoch 23 Iter 20: loss 0.30635. :   2%|      | 11/573 [00:00<00:05, 103.11it/s]"
     ]
    },
    {
     "name": "stdout",
     "output_type": "stream",
     "text": [
      "Classification accuracy: 87.8%\n"
     ]
    },
    {
     "name": "stderr",
     "output_type": "stream",
     "text": [
      "Epoch 23 Iter 573: loss 0.34493. : 100%|████| 573/573 [00:04<00:00, 123.01it/s]\n",
      "Epoch 24 Iter 20: loss 0.44830. :   2%|      | 11/573 [00:00<00:05, 106.05it/s]"
     ]
    },
    {
     "name": "stdout",
     "output_type": "stream",
     "text": [
      "Classification accuracy: 87.2%\n"
     ]
    },
    {
     "name": "stderr",
     "output_type": "stream",
     "text": [
      "Epoch 24 Iter 573: loss 0.28629. : 100%|████| 573/573 [00:04<00:00, 122.77it/s]\n",
      "Epoch 25 Iter 18: loss 0.48157. :   2%|      | 11/573 [00:00<00:05, 102.12it/s]"
     ]
    },
    {
     "name": "stdout",
     "output_type": "stream",
     "text": [
      "Classification accuracy: 87.94%\n"
     ]
    },
    {
     "name": "stderr",
     "output_type": "stream",
     "text": [
      "Epoch 25 Iter 573: loss 0.38664. : 100%|████| 573/573 [00:04<00:00, 124.44it/s]\n"
     ]
    },
    {
     "name": "stdout",
     "output_type": "stream",
     "text": [
      "Classification accuracy: 87.37%\n"
     ]
    }
   ],
   "source": [
    "alpha_list = [0.1,0.2,0.3,0.4,0.5,0.6,0.7,0.8,0.9]\n",
    "lambda_list = [0.0001,0.00001]\n",
    "\n",
    "for alphs in alpha_list:\n",
    "    for lambds in lambda_list:\n",
    "        model = CNN().to(device)   \n",
    "\n",
    "        params = count_model_params(model)\n",
    "        print(f\"Model has {params} learnable parameters\")\n",
    "\n",
    "        EPOCHS = 25\n",
    "        LR = 0.001\n",
    "        criterion = nn.CrossEntropyLoss().to(device)\n",
    "        optimizer = torch.optim.Adam(params=model.parameters(), lr=LR)\n",
    "\n",
    "\n",
    "\n",
    "        loss_hist = []\n",
    "        acc_hist = []\n",
    "\n",
    "        for epoch in range( EPOCHS):\n",
    "            loss_list = []\n",
    "            progress_bar = tqdm(enumerate(train_loader), total=len(train_loader))\n",
    "            for i, (images, labels) in progress_bar:\n",
    "                images = images.to(device)\n",
    "                labels = labels.to(device)\n",
    "\n",
    "                # Clear gradients w.r.t. parameters\n",
    "                optimizer.zero_grad()\n",
    "\n",
    "                # Forward pass to get output/logits\n",
    "                outputs = model(images)\n",
    "\n",
    "                # Calculate Loss: softmax --> cross entropy loss\n",
    "                loss = criterion(outputs, labels)\n",
    "\n",
    "                #https://www.machinecurve.com/index.php/2020/01/21/what-are-l1-l2-and-elastic-net-regularization-in-neural-networks/#elastic-net-regularization\n",
    "\n",
    "                #alpha = 0.8\n",
    "                #lambdaa = 0.000001\n",
    "                # https://www.programmersought.com/article/52011513926/\n",
    "                # https://www.datacamp.com/community/tutorials/tutorial-ridge-lasso-elastic-net\n",
    "\n",
    "                l1_norm = torch.tensor(0.).to(device)\n",
    "                for param in model.parameters():\n",
    "                    l1_norm += torch.sum(abs(param))\n",
    "\n",
    "                l2_norm = torch.tensor(0.).to(device)\n",
    "                for param in model.parameters():\n",
    "                    l2_norm += torch.sum(abs(param))**2 \n",
    "\n",
    "                loss = loss + lambdaa*(((1-alpha)*l1_norm) + (alpha*l2_norm))\n",
    "\n",
    "\n",
    "                loss_list.append(loss.item())\n",
    "\n",
    "                # Getting gradients w.r.t. parameters\n",
    "                loss.backward()\n",
    "\n",
    "                # Updating parameters\n",
    "                optimizer.step()\n",
    "                progress_bar.set_description(f\"Epoch {epoch+1} Iter {i+1}: loss {loss.item():.5f}. \")\n",
    "\n",
    "            loss_hist.append(np.mean(loss_list))\n",
    "            accuracy, _ = eval_model(model)  \n",
    "            acc_hist.append(accuracy)\n",
    "            print(f\"Classification accuracy: {round(accuracy, 2)}%\")\n",
    "\n",
    "        loss_elastic.append(loss_hist)\n",
    "        acc_elastic.append(acc_hist)\n",
    "        "
   ]
  },
  {
   "cell_type": "code",
   "execution_count": 148,
   "id": "f932f5f0",
   "metadata": {},
   "outputs": [
    {
     "data": {
      "text/html": [
       "<div>\n",
       "<style scoped>\n",
       "    .dataframe tbody tr th:only-of-type {\n",
       "        vertical-align: middle;\n",
       "    }\n",
       "\n",
       "    .dataframe tbody tr th {\n",
       "        vertical-align: top;\n",
       "    }\n",
       "\n",
       "    .dataframe thead th {\n",
       "        text-align: right;\n",
       "    }\n",
       "</style>\n",
       "<table border=\"1\" class=\"dataframe\">\n",
       "  <thead>\n",
       "    <tr style=\"text-align: right;\">\n",
       "      <th></th>\n",
       "      <th>Epochs</th>\n",
       "      <th>0</th>\n",
       "      <th>1</th>\n",
       "      <th>2</th>\n",
       "      <th>3</th>\n",
       "      <th>4</th>\n",
       "      <th>5</th>\n",
       "      <th>6</th>\n",
       "      <th>7</th>\n",
       "      <th>8</th>\n",
       "      <th>9</th>\n",
       "      <th>10</th>\n",
       "      <th>11</th>\n",
       "      <th>12</th>\n",
       "      <th>13</th>\n",
       "      <th>14</th>\n",
       "      <th>15</th>\n",
       "      <th>16</th>\n",
       "      <th>17</th>\n",
       "    </tr>\n",
       "  </thead>\n",
       "  <tbody>\n",
       "    <tr>\n",
       "      <th>0</th>\n",
       "      <td>0</td>\n",
       "      <td>1.259282</td>\n",
       "      <td>1.417131</td>\n",
       "      <td>1.399451</td>\n",
       "      <td>1.297830</td>\n",
       "      <td>1.293309</td>\n",
       "      <td>1.567759</td>\n",
       "      <td>1.283683</td>\n",
       "      <td>1.384274</td>\n",
       "      <td>1.409549</td>\n",
       "      <td>1.831212</td>\n",
       "      <td>1.437495</td>\n",
       "      <td>1.502171</td>\n",
       "      <td>1.367654</td>\n",
       "      <td>1.501268</td>\n",
       "      <td>1.294316</td>\n",
       "      <td>1.204946</td>\n",
       "      <td>1.435238</td>\n",
       "      <td>1.369433</td>\n",
       "    </tr>\n",
       "    <tr>\n",
       "      <th>1</th>\n",
       "      <td>1</td>\n",
       "      <td>0.677271</td>\n",
       "      <td>0.683598</td>\n",
       "      <td>0.698919</td>\n",
       "      <td>0.662164</td>\n",
       "      <td>0.681521</td>\n",
       "      <td>0.742327</td>\n",
       "      <td>0.691789</td>\n",
       "      <td>0.706274</td>\n",
       "      <td>0.738238</td>\n",
       "      <td>0.781574</td>\n",
       "      <td>0.676074</td>\n",
       "      <td>0.736602</td>\n",
       "      <td>0.696275</td>\n",
       "      <td>0.714475</td>\n",
       "      <td>0.733723</td>\n",
       "      <td>0.687883</td>\n",
       "      <td>0.677698</td>\n",
       "      <td>0.708513</td>\n",
       "    </tr>\n",
       "    <tr>\n",
       "      <th>2</th>\n",
       "      <td>2</td>\n",
       "      <td>0.600664</td>\n",
       "      <td>0.598581</td>\n",
       "      <td>0.612829</td>\n",
       "      <td>0.583976</td>\n",
       "      <td>0.607949</td>\n",
       "      <td>0.626756</td>\n",
       "      <td>0.613805</td>\n",
       "      <td>0.626300</td>\n",
       "      <td>0.641917</td>\n",
       "      <td>0.671814</td>\n",
       "      <td>0.592501</td>\n",
       "      <td>0.655056</td>\n",
       "      <td>0.615355</td>\n",
       "      <td>0.621101</td>\n",
       "      <td>0.649174</td>\n",
       "      <td>0.617489</td>\n",
       "      <td>0.608472</td>\n",
       "      <td>0.617685</td>\n",
       "    </tr>\n",
       "    <tr>\n",
       "      <th>3</th>\n",
       "      <td>3</td>\n",
       "      <td>0.562249</td>\n",
       "      <td>0.548345</td>\n",
       "      <td>0.570020</td>\n",
       "      <td>0.549942</td>\n",
       "      <td>0.561861</td>\n",
       "      <td>0.588807</td>\n",
       "      <td>0.575886</td>\n",
       "      <td>0.577525</td>\n",
       "      <td>0.604389</td>\n",
       "      <td>0.613557</td>\n",
       "      <td>0.553700</td>\n",
       "      <td>0.610434</td>\n",
       "      <td>0.569993</td>\n",
       "      <td>0.575632</td>\n",
       "      <td>0.603531</td>\n",
       "      <td>0.575822</td>\n",
       "      <td>0.574755</td>\n",
       "      <td>0.576808</td>\n",
       "    </tr>\n",
       "    <tr>\n",
       "      <th>4</th>\n",
       "      <td>4</td>\n",
       "      <td>0.537405</td>\n",
       "      <td>0.525163</td>\n",
       "      <td>0.542077</td>\n",
       "      <td>0.517043</td>\n",
       "      <td>0.530670</td>\n",
       "      <td>0.557454</td>\n",
       "      <td>0.545220</td>\n",
       "      <td>0.550795</td>\n",
       "      <td>0.578679</td>\n",
       "      <td>0.585212</td>\n",
       "      <td>0.525100</td>\n",
       "      <td>0.577457</td>\n",
       "      <td>0.539664</td>\n",
       "      <td>0.545916</td>\n",
       "      <td>0.571745</td>\n",
       "      <td>0.556280</td>\n",
       "      <td>0.548900</td>\n",
       "      <td>0.548862</td>\n",
       "    </tr>\n",
       "  </tbody>\n",
       "</table>\n",
       "</div>"
      ],
      "text/plain": [
       "   Epochs         0         1         2         3         4         5  \\\n",
       "0       0  1.259282  1.417131  1.399451  1.297830  1.293309  1.567759   \n",
       "1       1  0.677271  0.683598  0.698919  0.662164  0.681521  0.742327   \n",
       "2       2  0.600664  0.598581  0.612829  0.583976  0.607949  0.626756   \n",
       "3       3  0.562249  0.548345  0.570020  0.549942  0.561861  0.588807   \n",
       "4       4  0.537405  0.525163  0.542077  0.517043  0.530670  0.557454   \n",
       "\n",
       "          6         7         8         9        10        11        12  \\\n",
       "0  1.283683  1.384274  1.409549  1.831212  1.437495  1.502171  1.367654   \n",
       "1  0.691789  0.706274  0.738238  0.781574  0.676074  0.736602  0.696275   \n",
       "2  0.613805  0.626300  0.641917  0.671814  0.592501  0.655056  0.615355   \n",
       "3  0.575886  0.577525  0.604389  0.613557  0.553700  0.610434  0.569993   \n",
       "4  0.545220  0.550795  0.578679  0.585212  0.525100  0.577457  0.539664   \n",
       "\n",
       "         13        14        15        16        17  \n",
       "0  1.501268  1.294316  1.204946  1.435238  1.369433  \n",
       "1  0.714475  0.733723  0.687883  0.677698  0.708513  \n",
       "2  0.621101  0.649174  0.617489  0.608472  0.617685  \n",
       "3  0.575632  0.603531  0.575822  0.574755  0.576808  \n",
       "4  0.545916  0.571745  0.556280  0.548900  0.548862  "
      ]
     },
     "execution_count": 148,
     "metadata": {},
     "output_type": "execute_result"
    }
   ],
   "source": [
    "num = range(0,25)\n",
    "df_loss = pd.DataFrame(num,columns = ['Epochs'])\n",
    "df_acc = pd.DataFrame(num,columns = ['Epochs'])\n",
    "for i in range(18):\n",
    "    df_loss[i] = pd.DataFrame(loss_elastic[i], columns = ['loss'])\n",
    "    df_acc[i] = pd.DataFrame(acc_elastic[i], columns = ['accuracy'])\n",
    "df_loss.to_csv('cnn_elastic_losses.csv', sep=',',index = False)    \n",
    "df_loss.head()"
   ]
  },
  {
   "cell_type": "code",
   "execution_count": 149,
   "id": "1ddb957f",
   "metadata": {},
   "outputs": [
    {
     "data": {
      "text/html": [
       "<div>\n",
       "<style scoped>\n",
       "    .dataframe tbody tr th:only-of-type {\n",
       "        vertical-align: middle;\n",
       "    }\n",
       "\n",
       "    .dataframe tbody tr th {\n",
       "        vertical-align: top;\n",
       "    }\n",
       "\n",
       "    .dataframe thead th {\n",
       "        text-align: right;\n",
       "    }\n",
       "</style>\n",
       "<table border=\"1\" class=\"dataframe\">\n",
       "  <thead>\n",
       "    <tr style=\"text-align: right;\">\n",
       "      <th></th>\n",
       "      <th>Epochs</th>\n",
       "      <th>0</th>\n",
       "      <th>1</th>\n",
       "      <th>2</th>\n",
       "      <th>3</th>\n",
       "      <th>4</th>\n",
       "      <th>5</th>\n",
       "      <th>6</th>\n",
       "      <th>7</th>\n",
       "      <th>8</th>\n",
       "      <th>9</th>\n",
       "      <th>10</th>\n",
       "      <th>11</th>\n",
       "      <th>12</th>\n",
       "      <th>13</th>\n",
       "      <th>14</th>\n",
       "      <th>15</th>\n",
       "      <th>16</th>\n",
       "      <th>17</th>\n",
       "    </tr>\n",
       "  </thead>\n",
       "  <tbody>\n",
       "    <tr>\n",
       "      <th>0</th>\n",
       "      <td>0</td>\n",
       "      <td>80.020744</td>\n",
       "      <td>80.931162</td>\n",
       "      <td>79.563614</td>\n",
       "      <td>80.835126</td>\n",
       "      <td>82.152735</td>\n",
       "      <td>79.609711</td>\n",
       "      <td>81.330670</td>\n",
       "      <td>79.068070</td>\n",
       "      <td>79.175630</td>\n",
       "      <td>77.758144</td>\n",
       "      <td>80.727566</td>\n",
       "      <td>77.147357</td>\n",
       "      <td>79.844038</td>\n",
       "      <td>80.608482</td>\n",
       "      <td>73.951291</td>\n",
       "      <td>82.152735</td>\n",
       "      <td>80.162876</td>\n",
       "      <td>81.757068</td>\n",
       "    </tr>\n",
       "    <tr>\n",
       "      <th>1</th>\n",
       "      <td>1</td>\n",
       "      <td>83.036263</td>\n",
       "      <td>83.823755</td>\n",
       "      <td>84.131069</td>\n",
       "      <td>83.186079</td>\n",
       "      <td>83.846804</td>\n",
       "      <td>80.842809</td>\n",
       "      <td>83.789183</td>\n",
       "      <td>82.110479</td>\n",
       "      <td>81.599570</td>\n",
       "      <td>80.450983</td>\n",
       "      <td>83.351260</td>\n",
       "      <td>82.106638</td>\n",
       "      <td>83.497234</td>\n",
       "      <td>83.754610</td>\n",
       "      <td>80.735249</td>\n",
       "      <td>84.980025</td>\n",
       "      <td>83.397357</td>\n",
       "      <td>81.968347</td>\n",
       "    </tr>\n",
       "    <tr>\n",
       "      <th>2</th>\n",
       "      <td>2</td>\n",
       "      <td>84.027351</td>\n",
       "      <td>84.334665</td>\n",
       "      <td>84.638138</td>\n",
       "      <td>84.188691</td>\n",
       "      <td>84.738015</td>\n",
       "      <td>82.559926</td>\n",
       "      <td>83.800707</td>\n",
       "      <td>84.864782</td>\n",
       "      <td>79.490627</td>\n",
       "      <td>82.924862</td>\n",
       "      <td>82.398586</td>\n",
       "      <td>81.269207</td>\n",
       "      <td>84.161801</td>\n",
       "      <td>85.145206</td>\n",
       "      <td>82.732790</td>\n",
       "      <td>85.076060</td>\n",
       "      <td>83.881377</td>\n",
       "      <td>85.271973</td>\n",
       "    </tr>\n",
       "    <tr>\n",
       "      <th>3</th>\n",
       "      <td>3</td>\n",
       "      <td>84.772588</td>\n",
       "      <td>85.613860</td>\n",
       "      <td>85.341119</td>\n",
       "      <td>85.467886</td>\n",
       "      <td>85.882760</td>\n",
       "      <td>84.611248</td>\n",
       "      <td>85.721420</td>\n",
       "      <td>84.150277</td>\n",
       "      <td>82.913337</td>\n",
       "      <td>83.704671</td>\n",
       "      <td>84.380762</td>\n",
       "      <td>83.366626</td>\n",
       "      <td>85.713737</td>\n",
       "      <td>85.444837</td>\n",
       "      <td>83.766134</td>\n",
       "      <td>84.818685</td>\n",
       "      <td>83.182237</td>\n",
       "      <td>84.734173</td>\n",
       "    </tr>\n",
       "    <tr>\n",
       "      <th>4</th>\n",
       "      <td>4</td>\n",
       "      <td>85.586970</td>\n",
       "      <td>86.216964</td>\n",
       "      <td>85.940381</td>\n",
       "      <td>84.542102</td>\n",
       "      <td>85.306546</td>\n",
       "      <td>84.230947</td>\n",
       "      <td>85.298863</td>\n",
       "      <td>84.469115</td>\n",
       "      <td>83.401199</td>\n",
       "      <td>83.428089</td>\n",
       "      <td>86.201598</td>\n",
       "      <td>84.503688</td>\n",
       "      <td>84.814843</td>\n",
       "      <td>85.659957</td>\n",
       "      <td>84.618931</td>\n",
       "      <td>85.195144</td>\n",
       "      <td>83.846804</td>\n",
       "      <td>85.068377</td>\n",
       "    </tr>\n",
       "  </tbody>\n",
       "</table>\n",
       "</div>"
      ],
      "text/plain": [
       "   Epochs          0          1          2          3          4          5  \\\n",
       "0       0  80.020744  80.931162  79.563614  80.835126  82.152735  79.609711   \n",
       "1       1  83.036263  83.823755  84.131069  83.186079  83.846804  80.842809   \n",
       "2       2  84.027351  84.334665  84.638138  84.188691  84.738015  82.559926   \n",
       "3       3  84.772588  85.613860  85.341119  85.467886  85.882760  84.611248   \n",
       "4       4  85.586970  86.216964  85.940381  84.542102  85.306546  84.230947   \n",
       "\n",
       "           6          7          8          9         10         11  \\\n",
       "0  81.330670  79.068070  79.175630  77.758144  80.727566  77.147357   \n",
       "1  83.789183  82.110479  81.599570  80.450983  83.351260  82.106638   \n",
       "2  83.800707  84.864782  79.490627  82.924862  82.398586  81.269207   \n",
       "3  85.721420  84.150277  82.913337  83.704671  84.380762  83.366626   \n",
       "4  85.298863  84.469115  83.401199  83.428089  86.201598  84.503688   \n",
       "\n",
       "          12         13         14         15         16         17  \n",
       "0  79.844038  80.608482  73.951291  82.152735  80.162876  81.757068  \n",
       "1  83.497234  83.754610  80.735249  84.980025  83.397357  81.968347  \n",
       "2  84.161801  85.145206  82.732790  85.076060  83.881377  85.271973  \n",
       "3  85.713737  85.444837  83.766134  84.818685  83.182237  84.734173  \n",
       "4  84.814843  85.659957  84.618931  85.195144  83.846804  85.068377  "
      ]
     },
     "execution_count": 149,
     "metadata": {},
     "output_type": "execute_result"
    }
   ],
   "source": [
    "df_acc.to_csv('cnn_elastic_acc.csv', sep=',',index = False)    \n",
    "df_acc.head()"
   ]
  },
  {
   "cell_type": "code",
   "execution_count": 133,
   "id": "dd983549",
   "metadata": {},
   "outputs": [
    {
     "name": "stdout",
     "output_type": "stream",
     "text": [
      "<class 'pandas.core.frame.DataFrame'>\n"
     ]
    },
    {
     "data": {
      "text/html": [
       "<div>\n",
       "<style scoped>\n",
       "    .dataframe tbody tr th:only-of-type {\n",
       "        vertical-align: middle;\n",
       "    }\n",
       "\n",
       "    .dataframe tbody tr th {\n",
       "        vertical-align: top;\n",
       "    }\n",
       "\n",
       "    .dataframe thead th {\n",
       "        text-align: right;\n",
       "    }\n",
       "</style>\n",
       "<table border=\"1\" class=\"dataframe\">\n",
       "  <thead>\n",
       "    <tr style=\"text-align: right;\">\n",
       "      <th></th>\n",
       "      <th>Alpha Value</th>\n",
       "      <th>Lambda Value</th>\n",
       "    </tr>\n",
       "  </thead>\n",
       "  <tbody>\n",
       "    <tr>\n",
       "      <th>0</th>\n",
       "      <td>0.1</td>\n",
       "      <td>0.00010</td>\n",
       "    </tr>\n",
       "    <tr>\n",
       "      <th>1</th>\n",
       "      <td>0.1</td>\n",
       "      <td>0.00001</td>\n",
       "    </tr>\n",
       "    <tr>\n",
       "      <th>2</th>\n",
       "      <td>0.2</td>\n",
       "      <td>0.00010</td>\n",
       "    </tr>\n",
       "    <tr>\n",
       "      <th>3</th>\n",
       "      <td>0.2</td>\n",
       "      <td>0.00001</td>\n",
       "    </tr>\n",
       "    <tr>\n",
       "      <th>4</th>\n",
       "      <td>0.3</td>\n",
       "      <td>0.00010</td>\n",
       "    </tr>\n",
       "  </tbody>\n",
       "</table>\n",
       "</div>"
      ],
      "text/plain": [
       "   Alpha Value  Lambda Value\n",
       "0          0.1       0.00010\n",
       "1          0.1       0.00001\n",
       "2          0.2       0.00010\n",
       "3          0.2       0.00001\n",
       "4          0.3       0.00010"
      ]
     },
     "execution_count": 133,
     "metadata": {},
     "output_type": "execute_result"
    }
   ],
   "source": [
    "alpha_list = [0.1,0.2,0.3,0.4,0.5,0.6,0.7,0.8,0.9]\n",
    "lambda_list = [0.0001,0.00001]\n",
    "model_params = []\n",
    "for alphs in alpha_list:\n",
    "    for lambds in lambda_list:\n",
    "        model_try = []\n",
    "        model_try.append(alphs)\n",
    "        model_try.append(lambds)\n",
    "                \n",
    "        model_params.append(model_try)\n",
    "        \n",
    "        \n",
    "cols=['Alpha Value','Lambda Value']\n",
    "\n",
    "df_model = pd.DataFrame(model_params[0])\n",
    "df_model = df_model.T\n",
    "df_model.columns = cols\n",
    "df_model.head()\n",
    "print(type(df_model))\n",
    "\n",
    "\n",
    "for i in range(17):\n",
    "    temp_df = pd.DataFrame(model_params[i+1])\n",
    "    temp_df = temp_df.T\n",
    "    temp_df.columns = cols\n",
    "    df_model = pd.concat([df_model,temp_df],ignore_index =True)        \n",
    "    \n",
    "df_model.head()    "
   ]
  },
  {
   "cell_type": "markdown",
   "id": "62517810",
   "metadata": {},
   "source": [
    "# Varying Batch Sizes and Learning Rate"
   ]
  },
  {
   "cell_type": "code",
   "execution_count": 47,
   "id": "9228a83b",
   "metadata": {},
   "outputs": [],
   "source": [
    "device = \"cuda\"\n",
    "class CNN(nn.Module):\n",
    "    def __init__(self):\n",
    "        super(CNN, self).__init__()\n",
    "        self.conv_layer1 = nn.Conv2d(3, 6, 5)  #\n",
    "        self.maxpool1 = nn.MaxPool2d(2,2)\n",
    "        self.conv_layer2 = nn.Conv2d(6, 16, 5)  #\n",
    "        self.maxpool2 = nn.MaxPool2d(2,2)\n",
    "        \n",
    "        #n_size = self._get_conv_output(input_shape)\n",
    "        #self.fc1 = nn.Linear(n_size, 512)\n",
    "        \n",
    "        self.fc1 = nn.Linear(16*5*5, 256)   # this 16*5*5 must be changed \n",
    "        self.fc2 = nn.Linear(256,64)\n",
    "        self.fc3 = nn.Linear(64,10)\n",
    "        \n",
    "    def forward(self,x):\n",
    "        x = self.maxpool1(F.relu(self.conv_layer1(x)))\n",
    "        x = self.maxpool2(F.relu(self.conv_layer2(x)))\n",
    "        x = x.view(-1,16*5*5)  # this 16*5*5 must be changed \n",
    "        x = F.relu(self.fc1(x))\n",
    "        x = F.relu(self.fc2(x))\n",
    "        x = self.fc3(x)\n",
    "        return x\n",
    "    \n",
    "loss_batch_rate = []\n",
    "acc_batch_rate = []"
   ]
  },
  {
   "cell_type": "code",
   "execution_count": 48,
   "id": "a995f147",
   "metadata": {},
   "outputs": [
    {
     "name": "stderr",
     "output_type": "stream",
     "text": [
      "Epoch 1 Iter 33: loss 2.15313. :   2%|      | 18/1145 [00:00<00:06, 176.94it/s]"
     ]
    },
    {
     "name": "stdout",
     "output_type": "stream",
     "text": [
      "Batch size of  64  with Learning Rate of  0.001  !\n",
      "Model has 122626 learnable parameters\n"
     ]
    },
    {
     "name": "stderr",
     "output_type": "stream",
     "text": [
      "Epoch 1 Iter 1145: loss 0.31292. : 100%|██| 1145/1145 [00:04<00:00, 230.89it/s]\n",
      "Epoch 2 Iter 34: loss 0.29693. :   2%|      | 20/1145 [00:00<00:05, 190.98it/s]"
     ]
    },
    {
     "name": "stdout",
     "output_type": "stream",
     "text": [
      "Classification accuracy: 81.83%\n"
     ]
    },
    {
     "name": "stderr",
     "output_type": "stream",
     "text": [
      "Epoch 2 Iter 1145: loss 0.37698. : 100%|██| 1145/1145 [00:04<00:00, 230.90it/s]\n",
      "Epoch 3 Iter 35: loss 0.41534. :   2%|      | 20/1145 [00:00<00:05, 194.75it/s]"
     ]
    },
    {
     "name": "stdout",
     "output_type": "stream",
     "text": [
      "Classification accuracy: 84.05%\n"
     ]
    },
    {
     "name": "stderr",
     "output_type": "stream",
     "text": [
      "Epoch 3 Iter 1145: loss 0.31225. : 100%|██| 1145/1145 [00:05<00:00, 215.61it/s]\n",
      "Epoch 4 Iter 37: loss 0.34487. :   2%|      | 20/1145 [00:00<00:05, 198.61it/s]"
     ]
    },
    {
     "name": "stdout",
     "output_type": "stream",
     "text": [
      "Classification accuracy: 86.68%\n"
     ]
    },
    {
     "name": "stderr",
     "output_type": "stream",
     "text": [
      "Epoch 4 Iter 1145: loss 0.60793. : 100%|██| 1145/1145 [00:05<00:00, 219.98it/s]\n",
      "Epoch 5 Iter 38: loss 0.38306. :   2%|      | 20/1145 [00:00<00:05, 198.53it/s]"
     ]
    },
    {
     "name": "stdout",
     "output_type": "stream",
     "text": [
      "Classification accuracy: 87.48%\n"
     ]
    },
    {
     "name": "stderr",
     "output_type": "stream",
     "text": [
      "Epoch 5 Iter 1145: loss 0.16575. : 100%|██| 1145/1145 [00:04<00:00, 229.15it/s]\n",
      "Epoch 6 Iter 38: loss 0.33182. :   2%|      | 20/1145 [00:00<00:05, 198.61it/s]"
     ]
    },
    {
     "name": "stdout",
     "output_type": "stream",
     "text": [
      "Classification accuracy: 86.76%\n"
     ]
    },
    {
     "name": "stderr",
     "output_type": "stream",
     "text": [
      "Epoch 6 Iter 1145: loss 0.29267. : 100%|██| 1145/1145 [00:04<00:00, 231.04it/s]\n",
      "Epoch 7 Iter 36: loss 0.20651. :   2%|      | 20/1145 [00:00<00:05, 196.54it/s]"
     ]
    },
    {
     "name": "stdout",
     "output_type": "stream",
     "text": [
      "Classification accuracy: 86.55%\n"
     ]
    },
    {
     "name": "stderr",
     "output_type": "stream",
     "text": [
      "Epoch 7 Iter 1145: loss 0.14408. : 100%|██| 1145/1145 [00:04<00:00, 229.28it/s]\n",
      "Epoch 8 Iter 38: loss 0.22546. :   2%|      | 21/1145 [00:00<00:05, 202.53it/s]"
     ]
    },
    {
     "name": "stdout",
     "output_type": "stream",
     "text": [
      "Classification accuracy: 87.03%\n"
     ]
    },
    {
     "name": "stderr",
     "output_type": "stream",
     "text": [
      "Epoch 8 Iter 1145: loss 0.42469. : 100%|██| 1145/1145 [00:04<00:00, 231.25it/s]\n",
      "Epoch 9 Iter 38: loss 0.16580. :   2%|      | 20/1145 [00:00<00:05, 191.05it/s]"
     ]
    },
    {
     "name": "stdout",
     "output_type": "stream",
     "text": [
      "Classification accuracy: 86.69%\n"
     ]
    },
    {
     "name": "stderr",
     "output_type": "stream",
     "text": [
      "Epoch 9 Iter 1145: loss 0.07742. : 100%|██| 1145/1145 [00:05<00:00, 214.93it/s]\n",
      "Epoch 10 Iter 36: loss 0.13078. :   2%|     | 20/1145 [00:00<00:05, 189.12it/s]"
     ]
    },
    {
     "name": "stdout",
     "output_type": "stream",
     "text": [
      "Classification accuracy: 87.19%\n"
     ]
    },
    {
     "name": "stderr",
     "output_type": "stream",
     "text": [
      "Epoch 10 Iter 1145: loss 0.10666. : 100%|█| 1145/1145 [00:04<00:00, 230.15it/s]\n",
      "Epoch 11 Iter 34: loss 0.18825. :   2%|     | 19/1145 [00:00<00:06, 183.18it/s]"
     ]
    },
    {
     "name": "stdout",
     "output_type": "stream",
     "text": [
      "Classification accuracy: 87.9%\n"
     ]
    },
    {
     "name": "stderr",
     "output_type": "stream",
     "text": [
      "Epoch 11 Iter 1145: loss 0.54628. : 100%|█| 1145/1145 [00:04<00:00, 231.04it/s]\n",
      "Epoch 12 Iter 35: loss 0.11866. :   2%|     | 20/1145 [00:00<00:05, 198.54it/s]"
     ]
    },
    {
     "name": "stdout",
     "output_type": "stream",
     "text": [
      "Classification accuracy: 86.58%\n"
     ]
    },
    {
     "name": "stderr",
     "output_type": "stream",
     "text": [
      "Epoch 12 Iter 1145: loss 0.26125. : 100%|█| 1145/1145 [00:04<00:00, 232.67it/s]\n",
      "Epoch 13 Iter 37: loss 0.22415. :   2%|     | 19/1145 [00:00<00:05, 188.69it/s]"
     ]
    },
    {
     "name": "stdout",
     "output_type": "stream",
     "text": [
      "Classification accuracy: 87.35%\n"
     ]
    },
    {
     "name": "stderr",
     "output_type": "stream",
     "text": [
      "Epoch 13 Iter 1145: loss 0.06026. : 100%|█| 1145/1145 [00:04<00:00, 231.74it/s]\n",
      "Epoch 14 Iter 34: loss 0.12452. :   2%|     | 20/1145 [00:00<00:05, 192.88it/s]"
     ]
    },
    {
     "name": "stdout",
     "output_type": "stream",
     "text": [
      "Classification accuracy: 86.99%\n"
     ]
    },
    {
     "name": "stderr",
     "output_type": "stream",
     "text": [
      "Epoch 14 Iter 1145: loss 0.20813. : 100%|█| 1145/1145 [00:04<00:00, 231.30it/s]\n",
      "Epoch 15 Iter 36: loss 0.15641. :   2%|     | 21/1145 [00:00<00:05, 203.43it/s]"
     ]
    },
    {
     "name": "stdout",
     "output_type": "stream",
     "text": [
      "Classification accuracy: 87.34%\n"
     ]
    },
    {
     "name": "stderr",
     "output_type": "stream",
     "text": [
      "Epoch 15 Iter 1145: loss 0.11526. : 100%|█| 1145/1145 [00:05<00:00, 219.34it/s]\n",
      "Epoch 16 Iter 34: loss 0.34885. :   2%|     | 19/1145 [00:00<00:06, 185.01it/s]"
     ]
    },
    {
     "name": "stdout",
     "output_type": "stream",
     "text": [
      "Classification accuracy: 87.85%\n"
     ]
    },
    {
     "name": "stderr",
     "output_type": "stream",
     "text": [
      "Epoch 16 Iter 1145: loss 0.06620. : 100%|█| 1145/1145 [00:04<00:00, 229.07it/s]\n",
      "Epoch 17 Iter 34: loss 0.22265. :   2%|     | 19/1145 [00:00<00:05, 188.70it/s]"
     ]
    },
    {
     "name": "stdout",
     "output_type": "stream",
     "text": [
      "Classification accuracy: 85.78%\n"
     ]
    },
    {
     "name": "stderr",
     "output_type": "stream",
     "text": [
      "Epoch 17 Iter 1145: loss 0.24637. : 100%|█| 1145/1145 [00:04<00:00, 231.51it/s]\n",
      "Epoch 18 Iter 37: loss 0.13727. :   2%|     | 19/1145 [00:00<00:05, 188.68it/s]"
     ]
    },
    {
     "name": "stdout",
     "output_type": "stream",
     "text": [
      "Classification accuracy: 87.28%\n"
     ]
    },
    {
     "name": "stderr",
     "output_type": "stream",
     "text": [
      "Epoch 18 Iter 1145: loss 0.17025. : 100%|█| 1145/1145 [00:04<00:00, 231.36it/s]\n",
      "Epoch 19 Iter 35: loss 0.15705. :   2%|     | 20/1145 [00:00<00:05, 196.60it/s]"
     ]
    },
    {
     "name": "stdout",
     "output_type": "stream",
     "text": [
      "Classification accuracy: 87.52%\n"
     ]
    },
    {
     "name": "stderr",
     "output_type": "stream",
     "text": [
      "Epoch 19 Iter 1145: loss 0.42799. : 100%|█| 1145/1145 [00:04<00:00, 232.24it/s]\n",
      "Epoch 20 Iter 33: loss 0.11984. :   2%|     | 19/1145 [00:00<00:06, 181.49it/s]"
     ]
    },
    {
     "name": "stdout",
     "output_type": "stream",
     "text": [
      "Classification accuracy: 86.97%\n"
     ]
    },
    {
     "name": "stderr",
     "output_type": "stream",
     "text": [
      "Epoch 20 Iter 1145: loss 0.13013. : 100%|█| 1145/1145 [00:04<00:00, 230.32it/s]\n",
      "Epoch 21 Iter 36: loss 0.08279. :   2%|     | 21/1145 [00:00<00:05, 200.53it/s]"
     ]
    },
    {
     "name": "stdout",
     "output_type": "stream",
     "text": [
      "Classification accuracy: 86.08%\n"
     ]
    },
    {
     "name": "stderr",
     "output_type": "stream",
     "text": [
      "Epoch 21 Iter 1145: loss 0.08412. : 100%|█| 1145/1145 [00:04<00:00, 231.58it/s]\n",
      "Epoch 22 Iter 39: loss 0.13984. :   2%|     | 22/1145 [00:00<00:05, 212.16it/s]"
     ]
    },
    {
     "name": "stdout",
     "output_type": "stream",
     "text": [
      "Classification accuracy: 85.97%\n"
     ]
    },
    {
     "name": "stderr",
     "output_type": "stream",
     "text": [
      "Epoch 22 Iter 1145: loss 0.18825. : 100%|█| 1145/1145 [00:04<00:00, 231.65it/s]\n",
      "Epoch 23 Iter 37: loss 0.07772. :   2%|     | 20/1145 [00:00<00:05, 191.04it/s]"
     ]
    },
    {
     "name": "stdout",
     "output_type": "stream",
     "text": [
      "Classification accuracy: 86.56%\n"
     ]
    },
    {
     "name": "stderr",
     "output_type": "stream",
     "text": [
      "Epoch 23 Iter 1145: loss 0.10538. : 100%|█| 1145/1145 [00:04<00:00, 233.54it/s]\n",
      "Epoch 24 Iter 38: loss 0.05384. :   2%|     | 21/1145 [00:00<00:05, 200.59it/s]"
     ]
    },
    {
     "name": "stdout",
     "output_type": "stream",
     "text": [
      "Classification accuracy: 87.28%\n"
     ]
    },
    {
     "name": "stderr",
     "output_type": "stream",
     "text": [
      "Epoch 24 Iter 1145: loss 0.07018. : 100%|█| 1145/1145 [00:04<00:00, 232.03it/s]\n",
      "Epoch 25 Iter 38: loss 0.00727. :   2%|     | 20/1145 [00:00<00:05, 198.61it/s]"
     ]
    },
    {
     "name": "stdout",
     "output_type": "stream",
     "text": [
      "Classification accuracy: 86.8%\n"
     ]
    },
    {
     "name": "stderr",
     "output_type": "stream",
     "text": [
      "Epoch 25 Iter 1145: loss 0.15104. : 100%|█| 1145/1145 [00:04<00:00, 232.18it/s]\n",
      "Epoch 1 Iter 32: loss 2.24847. :   2%|      | 18/1145 [00:00<00:06, 173.60it/s]"
     ]
    },
    {
     "name": "stdout",
     "output_type": "stream",
     "text": [
      "Classification accuracy: 85.53%\n",
      "Batch size of  64  with Learning Rate of  0.0003  !\n",
      "Model has 122626 learnable parameters\n"
     ]
    },
    {
     "name": "stderr",
     "output_type": "stream",
     "text": [
      "Epoch 1 Iter 1145: loss 0.68652. : 100%|██| 1145/1145 [00:04<00:00, 232.36it/s]\n",
      "Epoch 2 Iter 34: loss 0.36004. :   2%|      | 20/1145 [00:00<00:05, 194.75it/s]"
     ]
    },
    {
     "name": "stdout",
     "output_type": "stream",
     "text": [
      "Classification accuracy: 81.27%\n"
     ]
    },
    {
     "name": "stderr",
     "output_type": "stream",
     "text": [
      "Epoch 2 Iter 1145: loss 0.47739. : 100%|██| 1145/1145 [00:04<00:00, 230.38it/s]\n",
      "Epoch 3 Iter 34: loss 0.38400. :   2%|      | 20/1145 [00:00<00:05, 189.24it/s]"
     ]
    },
    {
     "name": "stdout",
     "output_type": "stream",
     "text": [
      "Classification accuracy: 83.52%\n"
     ]
    },
    {
     "name": "stderr",
     "output_type": "stream",
     "text": [
      "Epoch 3 Iter 1145: loss 0.43300. : 100%|██| 1145/1145 [00:04<00:00, 236.97it/s]\n",
      "Epoch 4 Iter 36: loss 0.33711. :   2%|      | 20/1145 [00:00<00:05, 196.66it/s]"
     ]
    },
    {
     "name": "stdout",
     "output_type": "stream",
     "text": [
      "Classification accuracy: 85.59%\n"
     ]
    },
    {
     "name": "stderr",
     "output_type": "stream",
     "text": [
      "Epoch 4 Iter 1145: loss 0.62362. : 100%|██| 1145/1145 [00:05<00:00, 218.02it/s]\n",
      "Epoch 5 Iter 34: loss 0.40185. :   2%|      | 20/1145 [00:00<00:05, 192.82it/s]"
     ]
    },
    {
     "name": "stdout",
     "output_type": "stream",
     "text": [
      "Classification accuracy: 85.6%\n"
     ]
    },
    {
     "name": "stderr",
     "output_type": "stream",
     "text": [
      "Epoch 5 Iter 1145: loss 0.19175. : 100%|██| 1145/1145 [00:04<00:00, 232.23it/s]\n",
      "Epoch 6 Iter 34: loss 0.29179. :   2%|      | 19/1145 [00:00<00:06, 181.48it/s]"
     ]
    },
    {
     "name": "stdout",
     "output_type": "stream",
     "text": [
      "Classification accuracy: 85.71%\n"
     ]
    },
    {
     "name": "stderr",
     "output_type": "stream",
     "text": [
      "Epoch 6 Iter 1145: loss 0.38007. : 100%|██| 1145/1145 [00:04<00:00, 232.78it/s]\n",
      "Epoch 7 Iter 36: loss 0.32722. :   2%|      | 19/1145 [00:00<00:06, 186.77it/s]"
     ]
    },
    {
     "name": "stdout",
     "output_type": "stream",
     "text": [
      "Classification accuracy: 87.02%\n"
     ]
    },
    {
     "name": "stderr",
     "output_type": "stream",
     "text": [
      "Epoch 7 Iter 1145: loss 0.27321. : 100%|██| 1145/1145 [00:04<00:00, 233.36it/s]\n",
      "Epoch 8 Iter 36: loss 0.34891. :   2%|      | 19/1145 [00:00<00:06, 181.43it/s]"
     ]
    },
    {
     "name": "stdout",
     "output_type": "stream",
     "text": [
      "Classification accuracy: 87.16%\n"
     ]
    },
    {
     "name": "stderr",
     "output_type": "stream",
     "text": [
      "Epoch 8 Iter 1145: loss 0.39782. : 100%|██| 1145/1145 [00:04<00:00, 231.59it/s]\n",
      "Epoch 9 Iter 38: loss 0.18559. :   2%|      | 20/1145 [00:00<00:05, 189.18it/s]"
     ]
    },
    {
     "name": "stdout",
     "output_type": "stream",
     "text": [
      "Classification accuracy: 87.41%\n"
     ]
    },
    {
     "name": "stderr",
     "output_type": "stream",
     "text": [
      "Epoch 9 Iter 1145: loss 0.25033. : 100%|██| 1145/1145 [00:04<00:00, 230.71it/s]\n",
      "Epoch 10 Iter 35: loss 0.27557. :   2%|     | 18/1145 [00:00<00:06, 178.69it/s]"
     ]
    },
    {
     "name": "stdout",
     "output_type": "stream",
     "text": [
      "Classification accuracy: 87.35%\n"
     ]
    },
    {
     "name": "stderr",
     "output_type": "stream",
     "text": [
      "Epoch 10 Iter 1145: loss 0.27057. : 100%|█| 1145/1145 [00:04<00:00, 229.91it/s]\n",
      "Epoch 11 Iter 36: loss 0.26982. :   2%|     | 21/1145 [00:00<00:05, 202.52it/s]"
     ]
    },
    {
     "name": "stdout",
     "output_type": "stream",
     "text": [
      "Classification accuracy: 87.81%\n"
     ]
    },
    {
     "name": "stderr",
     "output_type": "stream",
     "text": [
      "Epoch 11 Iter 1145: loss 0.20279. : 100%|█| 1145/1145 [00:04<00:00, 230.43it/s]\n",
      "Epoch 12 Iter 39: loss 0.07886. :   2%|     | 20/1145 [00:00<00:05, 198.61it/s]"
     ]
    },
    {
     "name": "stdout",
     "output_type": "stream",
     "text": [
      "Classification accuracy: 87.83%\n"
     ]
    },
    {
     "name": "stderr",
     "output_type": "stream",
     "text": [
      "Epoch 12 Iter 1145: loss 0.08426. : 100%|█| 1145/1145 [00:04<00:00, 231.76it/s]\n",
      "Epoch 13 Iter 35: loss 0.06928. :   2%|     | 19/1145 [00:00<00:06, 183.24it/s]"
     ]
    },
    {
     "name": "stdout",
     "output_type": "stream",
     "text": [
      "Classification accuracy: 87.59%\n"
     ]
    },
    {
     "name": "stderr",
     "output_type": "stream",
     "text": [
      "Epoch 13 Iter 1145: loss 0.13538. : 100%|█| 1145/1145 [00:04<00:00, 231.77it/s]\n",
      "Epoch 14 Iter 36: loss 0.04750. :   2%|     | 20/1145 [00:00<00:05, 192.87it/s]"
     ]
    },
    {
     "name": "stdout",
     "output_type": "stream",
     "text": [
      "Classification accuracy: 87.81%\n"
     ]
    },
    {
     "name": "stderr",
     "output_type": "stream",
     "text": [
      "Epoch 14 Iter 1145: loss 0.30133. : 100%|█| 1145/1145 [00:04<00:00, 233.79it/s]\n",
      "Epoch 15 Iter 37: loss 0.04729. :   2%|     | 19/1145 [00:00<00:05, 188.62it/s]"
     ]
    },
    {
     "name": "stdout",
     "output_type": "stream",
     "text": [
      "Classification accuracy: 88.05%\n"
     ]
    },
    {
     "name": "stderr",
     "output_type": "stream",
     "text": [
      "Epoch 15 Iter 1145: loss 0.06325. : 100%|█| 1145/1145 [00:05<00:00, 224.00it/s]\n",
      "Epoch 16 Iter 37: loss 0.11778. :   2%|     | 20/1145 [00:00<00:05, 194.77it/s]"
     ]
    },
    {
     "name": "stdout",
     "output_type": "stream",
     "text": [
      "Classification accuracy: 87.91%\n"
     ]
    },
    {
     "name": "stderr",
     "output_type": "stream",
     "text": [
      "Epoch 16 Iter 1145: loss 0.30148. : 100%|█| 1145/1145 [00:04<00:00, 232.30it/s]\n",
      "Epoch 17 Iter 35: loss 0.10028. :   2%|     | 21/1145 [00:00<00:05, 200.53it/s]"
     ]
    },
    {
     "name": "stdout",
     "output_type": "stream",
     "text": [
      "Classification accuracy: 87.37%\n"
     ]
    },
    {
     "name": "stderr",
     "output_type": "stream",
     "text": [
      "Epoch 17 Iter 1145: loss 0.31981. : 100%|█| 1145/1145 [00:04<00:00, 232.13it/s]\n",
      "Epoch 18 Iter 37: loss 0.05971. :   2%|     | 20/1145 [00:00<00:05, 196.60it/s]"
     ]
    },
    {
     "name": "stdout",
     "output_type": "stream",
     "text": [
      "Classification accuracy: 87.21%\n"
     ]
    },
    {
     "name": "stderr",
     "output_type": "stream",
     "text": [
      "Epoch 18 Iter 1145: loss 0.08853. : 100%|█| 1145/1145 [00:04<00:00, 232.06it/s]\n",
      "Epoch 19 Iter 36: loss 0.26748. :   2%|     | 20/1145 [00:00<00:05, 198.61it/s]"
     ]
    },
    {
     "name": "stdout",
     "output_type": "stream",
     "text": [
      "Classification accuracy: 87.76%\n"
     ]
    },
    {
     "name": "stderr",
     "output_type": "stream",
     "text": [
      "Epoch 19 Iter 1145: loss 0.22631. : 100%|█| 1145/1145 [00:04<00:00, 231.12it/s]\n",
      "Epoch 20 Iter 34: loss 0.03682. :   2%|     | 18/1145 [00:00<00:06, 173.58it/s]"
     ]
    },
    {
     "name": "stdout",
     "output_type": "stream",
     "text": [
      "Classification accuracy: 87.17%\n"
     ]
    },
    {
     "name": "stderr",
     "output_type": "stream",
     "text": [
      "Epoch 20 Iter 1145: loss 0.19049. : 100%|█| 1145/1145 [00:04<00:00, 232.12it/s]\n",
      "Epoch 21 Iter 35: loss 0.05852. :   2%|     | 19/1145 [00:00<00:05, 188.61it/s]"
     ]
    },
    {
     "name": "stdout",
     "output_type": "stream",
     "text": [
      "Classification accuracy: 87.29%\n"
     ]
    },
    {
     "name": "stderr",
     "output_type": "stream",
     "text": [
      "Epoch 21 Iter 1145: loss 0.05764. : 100%|█| 1145/1145 [00:04<00:00, 230.43it/s]\n",
      "Epoch 22 Iter 35: loss 0.01696. :   2%|     | 19/1145 [00:00<00:05, 188.62it/s]"
     ]
    },
    {
     "name": "stdout",
     "output_type": "stream",
     "text": [
      "Classification accuracy: 87.56%\n"
     ]
    },
    {
     "name": "stderr",
     "output_type": "stream",
     "text": [
      "Epoch 22 Iter 1145: loss 0.25511. : 100%|█| 1145/1145 [00:04<00:00, 230.92it/s]\n",
      "Epoch 23 Iter 35: loss 0.10621. :   2%|     | 19/1145 [00:00<00:05, 189.60it/s]"
     ]
    },
    {
     "name": "stdout",
     "output_type": "stream",
     "text": [
      "Classification accuracy: 87.48%\n"
     ]
    },
    {
     "name": "stderr",
     "output_type": "stream",
     "text": [
      "Epoch 23 Iter 1145: loss 0.04772. : 100%|█| 1145/1145 [00:04<00:00, 231.37it/s]\n",
      "Epoch 24 Iter 37: loss 0.08257. :   2%|     | 19/1145 [00:00<00:06, 181.50it/s]"
     ]
    },
    {
     "name": "stdout",
     "output_type": "stream",
     "text": [
      "Classification accuracy: 87.66%\n"
     ]
    },
    {
     "name": "stderr",
     "output_type": "stream",
     "text": [
      "Epoch 24 Iter 1145: loss 0.02580. : 100%|█| 1145/1145 [00:04<00:00, 229.59it/s]\n",
      "Epoch 25 Iter 37: loss 0.06778. :   2%|     | 21/1145 [00:00<00:05, 200.53it/s]"
     ]
    },
    {
     "name": "stdout",
     "output_type": "stream",
     "text": [
      "Classification accuracy: 87.52%\n"
     ]
    },
    {
     "name": "stderr",
     "output_type": "stream",
     "text": [
      "Epoch 25 Iter 1145: loss 0.21986. : 100%|█| 1145/1145 [00:05<00:00, 228.69it/s]\n",
      "Epoch 1 Iter 36: loss 2.22879. :   2%|      | 20/1145 [00:00<00:05, 199.61it/s]"
     ]
    },
    {
     "name": "stdout",
     "output_type": "stream",
     "text": [
      "Classification accuracy: 86.92%\n",
      "Batch size of  64  with Learning Rate of  0.0005  !\n",
      "Model has 122626 learnable parameters\n"
     ]
    },
    {
     "name": "stderr",
     "output_type": "stream",
     "text": [
      "Epoch 1 Iter 1145: loss 0.14804. : 100%|██| 1145/1145 [00:04<00:00, 230.50it/s]\n",
      "Epoch 2 Iter 36: loss 0.63351. :   2%|      | 20/1145 [00:00<00:05, 196.66it/s]"
     ]
    },
    {
     "name": "stdout",
     "output_type": "stream",
     "text": [
      "Classification accuracy: 83.45%\n"
     ]
    },
    {
     "name": "stderr",
     "output_type": "stream",
     "text": [
      "Epoch 2 Iter 1145: loss 0.33357. : 100%|██| 1145/1145 [00:04<00:00, 231.96it/s]\n",
      "Epoch 3 Iter 37: loss 0.55028. :   2%|      | 19/1145 [00:00<00:05, 188.70it/s]"
     ]
    },
    {
     "name": "stdout",
     "output_type": "stream",
     "text": [
      "Classification accuracy: 86.51%\n"
     ]
    },
    {
     "name": "stderr",
     "output_type": "stream",
     "text": [
      "Epoch 3 Iter 1145: loss 0.38946. : 100%|██| 1145/1145 [00:04<00:00, 230.95it/s]\n",
      "Epoch 4 Iter 36: loss 0.42769. :   2%|      | 19/1145 [00:00<00:06, 185.00it/s]"
     ]
    },
    {
     "name": "stdout",
     "output_type": "stream",
     "text": [
      "Classification accuracy: 86.34%\n"
     ]
    },
    {
     "name": "stderr",
     "output_type": "stream",
     "text": [
      "Epoch 4 Iter 1145: loss 0.37906. : 100%|██| 1145/1145 [00:04<00:00, 231.78it/s]\n",
      "Epoch 5 Iter 39: loss 0.19596. :   2%|      | 21/1145 [00:00<00:05, 204.49it/s]"
     ]
    },
    {
     "name": "stdout",
     "output_type": "stream",
     "text": [
      "Classification accuracy: 87.59%\n"
     ]
    },
    {
     "name": "stderr",
     "output_type": "stream",
     "text": [
      "Epoch 5 Iter 1145: loss 0.48472. : 100%|██| 1145/1145 [00:04<00:00, 232.38it/s]\n",
      "Epoch 6 Iter 36: loss 0.17238. :   2%|      | 19/1145 [00:00<00:06, 183.24it/s]"
     ]
    },
    {
     "name": "stdout",
     "output_type": "stream",
     "text": [
      "Classification accuracy: 87.52%\n"
     ]
    },
    {
     "name": "stderr",
     "output_type": "stream",
     "text": [
      "Epoch 6 Iter 1145: loss 0.45569. : 100%|██| 1145/1145 [00:04<00:00, 231.69it/s]\n",
      "Epoch 7 Iter 38: loss 0.07726. :   2%|      | 21/1145 [00:00<00:05, 204.49it/s]"
     ]
    },
    {
     "name": "stdout",
     "output_type": "stream",
     "text": [
      "Classification accuracy: 87.08%\n"
     ]
    },
    {
     "name": "stderr",
     "output_type": "stream",
     "text": [
      "Epoch 7 Iter 1145: loss 0.27830. : 100%|██| 1145/1145 [00:04<00:00, 230.68it/s]\n",
      "Epoch 8 Iter 36: loss 0.10632. :   2%|      | 20/1145 [00:00<00:05, 194.69it/s]"
     ]
    },
    {
     "name": "stdout",
     "output_type": "stream",
     "text": [
      "Classification accuracy: 88.42%\n"
     ]
    },
    {
     "name": "stderr",
     "output_type": "stream",
     "text": [
      "Epoch 8 Iter 1145: loss 0.22558. : 100%|██| 1145/1145 [00:04<00:00, 231.69it/s]\n",
      "Epoch 9 Iter 36: loss 0.18187. :   2%|      | 20/1145 [00:00<00:05, 194.63it/s]"
     ]
    },
    {
     "name": "stdout",
     "output_type": "stream",
     "text": [
      "Classification accuracy: 87.95%\n"
     ]
    },
    {
     "name": "stderr",
     "output_type": "stream",
     "text": [
      "Epoch 9 Iter 1145: loss 0.13778. : 100%|██| 1145/1145 [00:04<00:00, 232.00it/s]\n",
      "Epoch 10 Iter 33: loss 0.15332. :   2%|     | 19/1145 [00:00<00:06, 181.43it/s]"
     ]
    },
    {
     "name": "stdout",
     "output_type": "stream",
     "text": [
      "Classification accuracy: 87.94%\n"
     ]
    },
    {
     "name": "stderr",
     "output_type": "stream",
     "text": [
      "Epoch 10 Iter 1145: loss 0.03309. : 100%|█| 1145/1145 [00:05<00:00, 222.79it/s]\n",
      "Epoch 11 Iter 34: loss 0.07234. :   2%|     | 19/1145 [00:00<00:06, 183.18it/s]"
     ]
    },
    {
     "name": "stdout",
     "output_type": "stream",
     "text": [
      "Classification accuracy: 87.49%\n"
     ]
    },
    {
     "name": "stderr",
     "output_type": "stream",
     "text": [
      "Epoch 11 Iter 1145: loss 0.28105. : 100%|█| 1145/1145 [00:04<00:00, 230.21it/s]\n",
      "Epoch 12 Iter 38: loss 0.26101. :   2%|     | 20/1145 [00:00<00:05, 198.55it/s]"
     ]
    },
    {
     "name": "stdout",
     "output_type": "stream",
     "text": [
      "Classification accuracy: 88.07%\n"
     ]
    },
    {
     "name": "stderr",
     "output_type": "stream",
     "text": [
      "Epoch 12 Iter 1145: loss 0.32625. : 100%|█| 1145/1145 [00:05<00:00, 221.10it/s]\n",
      "Epoch 13 Iter 37: loss 0.12812. :   2%|     | 19/1145 [00:00<00:05, 188.62it/s]"
     ]
    },
    {
     "name": "stdout",
     "output_type": "stream",
     "text": [
      "Classification accuracy: 88.16%\n"
     ]
    },
    {
     "name": "stderr",
     "output_type": "stream",
     "text": [
      "Epoch 13 Iter 1145: loss 0.18472. : 100%|█| 1145/1145 [00:04<00:00, 230.48it/s]\n",
      "Epoch 14 Iter 37: loss 0.14376. :   2%|     | 21/1145 [00:00<00:05, 202.45it/s]"
     ]
    },
    {
     "name": "stdout",
     "output_type": "stream",
     "text": [
      "Classification accuracy: 87.68%\n"
     ]
    },
    {
     "name": "stderr",
     "output_type": "stream",
     "text": [
      "Epoch 14 Iter 1145: loss 0.06136. : 100%|█| 1145/1145 [00:05<00:00, 221.96it/s]\n",
      "Epoch 15 Iter 38: loss 0.14892. :   2%|     | 19/1145 [00:00<00:06, 183.18it/s]"
     ]
    },
    {
     "name": "stdout",
     "output_type": "stream",
     "text": [
      "Classification accuracy: 87.62%\n"
     ]
    },
    {
     "name": "stderr",
     "output_type": "stream",
     "text": [
      "Epoch 15 Iter 1145: loss 0.10646. : 100%|█| 1145/1145 [00:04<00:00, 229.81it/s]\n",
      "Epoch 16 Iter 35: loss 0.18478. :   2%|     | 19/1145 [00:00<00:06, 186.77it/s]"
     ]
    },
    {
     "name": "stdout",
     "output_type": "stream",
     "text": [
      "Classification accuracy: 88.24%\n"
     ]
    },
    {
     "name": "stderr",
     "output_type": "stream",
     "text": [
      "Epoch 16 Iter 1145: loss 0.07359. : 100%|█| 1145/1145 [00:04<00:00, 231.10it/s]\n",
      "Epoch 17 Iter 37: loss 0.06620. :   2%|     | 20/1145 [00:00<00:05, 196.66it/s]"
     ]
    },
    {
     "name": "stdout",
     "output_type": "stream",
     "text": [
      "Classification accuracy: 88.23%\n"
     ]
    },
    {
     "name": "stderr",
     "output_type": "stream",
     "text": [
      "Epoch 17 Iter 1145: loss 0.00539. : 100%|█| 1145/1145 [00:04<00:00, 231.53it/s]\n",
      "Epoch 18 Iter 35: loss 0.07017. :   2%|     | 20/1145 [00:00<00:05, 190.99it/s]"
     ]
    },
    {
     "name": "stdout",
     "output_type": "stream",
     "text": [
      "Classification accuracy: 87.56%\n"
     ]
    },
    {
     "name": "stderr",
     "output_type": "stream",
     "text": [
      "Epoch 18 Iter 1145: loss 0.12655. : 100%|█| 1145/1145 [00:05<00:00, 218.04it/s]\n",
      "Epoch 19 Iter 35: loss 0.02470. :   2%|     | 19/1145 [00:00<00:06, 183.17it/s]"
     ]
    },
    {
     "name": "stdout",
     "output_type": "stream",
     "text": [
      "Classification accuracy: 87.3%\n"
     ]
    },
    {
     "name": "stderr",
     "output_type": "stream",
     "text": [
      "Epoch 19 Iter 1145: loss 0.02938. : 100%|█| 1145/1145 [00:04<00:00, 230.00it/s]\n",
      "Epoch 20 Iter 38: loss 0.08895. :   2%|     | 20/1145 [00:00<00:05, 192.88it/s]"
     ]
    },
    {
     "name": "stdout",
     "output_type": "stream",
     "text": [
      "Classification accuracy: 88.03%\n"
     ]
    },
    {
     "name": "stderr",
     "output_type": "stream",
     "text": [
      "Epoch 20 Iter 1145: loss 0.19128. : 100%|█| 1145/1145 [00:04<00:00, 232.40it/s]\n",
      "Epoch 21 Iter 37: loss 0.17173. :   2%|     | 20/1145 [00:00<00:05, 191.05it/s]"
     ]
    },
    {
     "name": "stdout",
     "output_type": "stream",
     "text": [
      "Classification accuracy: 87.64%\n"
     ]
    },
    {
     "name": "stderr",
     "output_type": "stream",
     "text": [
      "Epoch 21 Iter 1145: loss 0.21046. : 100%|█| 1145/1145 [00:04<00:00, 237.36it/s]\n",
      "Epoch 22 Iter 34: loss 0.03287. :   2%|     | 19/1145 [00:00<00:06, 183.23it/s]"
     ]
    },
    {
     "name": "stdout",
     "output_type": "stream",
     "text": [
      "Classification accuracy: 87.19%\n"
     ]
    },
    {
     "name": "stderr",
     "output_type": "stream",
     "text": [
      "Epoch 22 Iter 1145: loss 0.07276. : 100%|█| 1145/1145 [00:04<00:00, 232.37it/s]\n",
      "Epoch 23 Iter 37: loss 0.05581. :   2%|     | 19/1145 [00:00<00:05, 188.62it/s]"
     ]
    },
    {
     "name": "stdout",
     "output_type": "stream",
     "text": [
      "Classification accuracy: 87.58%\n"
     ]
    },
    {
     "name": "stderr",
     "output_type": "stream",
     "text": [
      "Epoch 23 Iter 1145: loss 0.07941. : 100%|█| 1145/1145 [00:04<00:00, 230.25it/s]\n",
      "Epoch 24 Iter 36: loss 0.07775. :   2%|     | 19/1145 [00:00<00:06, 186.77it/s]"
     ]
    },
    {
     "name": "stdout",
     "output_type": "stream",
     "text": [
      "Classification accuracy: 87.53%\n"
     ]
    },
    {
     "name": "stderr",
     "output_type": "stream",
     "text": [
      "Epoch 24 Iter 1145: loss 0.08911. : 100%|█| 1145/1145 [00:04<00:00, 230.55it/s]\n",
      "Epoch 25 Iter 38: loss 0.01826. :   2%|     | 20/1145 [00:00<00:05, 196.59it/s]"
     ]
    },
    {
     "name": "stdout",
     "output_type": "stream",
     "text": [
      "Classification accuracy: 87.69%\n"
     ]
    },
    {
     "name": "stderr",
     "output_type": "stream",
     "text": [
      "Epoch 25 Iter 1145: loss 0.07879. : 100%|█| 1145/1145 [00:05<00:00, 225.52it/s]\n",
      "Epoch 1 Iter 36: loss 2.22703. :   2%|      | 20/1145 [00:00<00:05, 198.55it/s]"
     ]
    },
    {
     "name": "stdout",
     "output_type": "stream",
     "text": [
      "Classification accuracy: 88.03%\n",
      "Batch size of  64  with Learning Rate of  0.0001  !\n",
      "Model has 122626 learnable parameters\n"
     ]
    },
    {
     "name": "stderr",
     "output_type": "stream",
     "text": [
      "Epoch 1 Iter 1145: loss 0.50651. : 100%|██| 1145/1145 [00:04<00:00, 230.66it/s]\n",
      "Epoch 2 Iter 37: loss 0.41967. :   2%|      | 20/1145 [00:00<00:05, 190.98it/s]"
     ]
    },
    {
     "name": "stdout",
     "output_type": "stream",
     "text": [
      "Classification accuracy: 78.65%\n"
     ]
    },
    {
     "name": "stderr",
     "output_type": "stream",
     "text": [
      "Epoch 2 Iter 1145: loss 0.46560. : 100%|██| 1145/1145 [00:04<00:00, 230.11it/s]\n",
      "Epoch 3 Iter 37: loss 0.61187. :   2%|      | 20/1145 [00:00<00:05, 194.69it/s]"
     ]
    },
    {
     "name": "stdout",
     "output_type": "stream",
     "text": [
      "Classification accuracy: 82.39%\n"
     ]
    },
    {
     "name": "stderr",
     "output_type": "stream",
     "text": [
      "Epoch 3 Iter 1145: loss 0.31822. : 100%|██| 1145/1145 [00:04<00:00, 230.98it/s]\n",
      "Epoch 4 Iter 38: loss 0.27800. :   2%|      | 20/1145 [00:00<00:05, 190.98it/s]"
     ]
    },
    {
     "name": "stdout",
     "output_type": "stream",
     "text": [
      "Classification accuracy: 83.29%\n"
     ]
    },
    {
     "name": "stderr",
     "output_type": "stream",
     "text": [
      "Epoch 4 Iter 1145: loss 0.47360. : 100%|██| 1145/1145 [00:04<00:00, 230.76it/s]\n",
      "Epoch 5 Iter 38: loss 0.31861. :   2%|      | 20/1145 [00:00<00:05, 191.04it/s]"
     ]
    },
    {
     "name": "stdout",
     "output_type": "stream",
     "text": [
      "Classification accuracy: 84.65%\n"
     ]
    },
    {
     "name": "stderr",
     "output_type": "stream",
     "text": [
      "Epoch 5 Iter 1145: loss 0.58437. : 100%|██| 1145/1145 [00:04<00:00, 230.15it/s]\n",
      "Epoch 6 Iter 37: loss 0.25829. :   2%|      | 20/1145 [00:00<00:06, 187.44it/s]"
     ]
    },
    {
     "name": "stdout",
     "output_type": "stream",
     "text": [
      "Classification accuracy: 85.24%\n"
     ]
    },
    {
     "name": "stderr",
     "output_type": "stream",
     "text": [
      "Epoch 6 Iter 1145: loss 0.26708. : 100%|██| 1145/1145 [00:04<00:00, 231.45it/s]\n",
      "Epoch 7 Iter 35: loss 0.62317. :   2%|      | 20/1145 [00:00<00:05, 190.98it/s]"
     ]
    },
    {
     "name": "stdout",
     "output_type": "stream",
     "text": [
      "Classification accuracy: 85.26%\n"
     ]
    },
    {
     "name": "stderr",
     "output_type": "stream",
     "text": [
      "Epoch 7 Iter 1145: loss 0.13340. : 100%|██| 1145/1145 [00:05<00:00, 228.02it/s]\n",
      "Epoch 8 Iter 34: loss 0.35524. :   2%|      | 19/1145 [00:00<00:06, 186.83it/s]"
     ]
    },
    {
     "name": "stdout",
     "output_type": "stream",
     "text": [
      "Classification accuracy: 86.42%\n"
     ]
    },
    {
     "name": "stderr",
     "output_type": "stream",
     "text": [
      "Epoch 8 Iter 1145: loss 0.38154. : 100%|██| 1145/1145 [00:04<00:00, 231.78it/s]\n",
      "Epoch 9 Iter 35: loss 0.22910. :   2%|      | 20/1145 [00:00<00:05, 190.98it/s]"
     ]
    },
    {
     "name": "stdout",
     "output_type": "stream",
     "text": [
      "Classification accuracy: 86.19%\n"
     ]
    },
    {
     "name": "stderr",
     "output_type": "stream",
     "text": [
      "Epoch 9 Iter 1145: loss 0.44490. : 100%|██| 1145/1145 [00:05<00:00, 215.94it/s]\n",
      "Epoch 10 Iter 37: loss 0.36921. :   2%|     | 20/1145 [00:00<00:05, 192.88it/s]"
     ]
    },
    {
     "name": "stdout",
     "output_type": "stream",
     "text": [
      "Classification accuracy: 86.15%\n"
     ]
    },
    {
     "name": "stderr",
     "output_type": "stream",
     "text": [
      "Epoch 10 Iter 1145: loss 0.41186. : 100%|█| 1145/1145 [00:04<00:00, 230.73it/s]\n",
      "Epoch 11 Iter 34: loss 0.17140. :   2%|     | 18/1145 [00:00<00:06, 178.69it/s]"
     ]
    },
    {
     "name": "stdout",
     "output_type": "stream",
     "text": [
      "Classification accuracy: 86.82%\n"
     ]
    },
    {
     "name": "stderr",
     "output_type": "stream",
     "text": [
      "Epoch 11 Iter 1145: loss 0.17686. : 100%|█| 1145/1145 [00:04<00:00, 230.00it/s]\n",
      "Epoch 12 Iter 36: loss 0.12581. :   2%|     | 21/1145 [00:00<00:05, 198.64it/s]"
     ]
    },
    {
     "name": "stdout",
     "output_type": "stream",
     "text": [
      "Classification accuracy: 87.02%\n"
     ]
    },
    {
     "name": "stderr",
     "output_type": "stream",
     "text": [
      "Epoch 12 Iter 1145: loss 0.22902. : 100%|█| 1145/1145 [00:04<00:00, 229.93it/s]\n",
      "Epoch 13 Iter 38: loss 0.45435. :   2%|     | 21/1145 [00:00<00:05, 208.47it/s]"
     ]
    },
    {
     "name": "stdout",
     "output_type": "stream",
     "text": [
      "Classification accuracy: 86.89%\n"
     ]
    },
    {
     "name": "stderr",
     "output_type": "stream",
     "text": [
      "Epoch 13 Iter 1145: loss 0.39593. : 100%|█| 1145/1145 [00:05<00:00, 218.12it/s]\n",
      "Epoch 14 Iter 37: loss 0.13393. :   2%|     | 21/1145 [00:00<00:05, 204.49it/s]"
     ]
    },
    {
     "name": "stdout",
     "output_type": "stream",
     "text": [
      "Classification accuracy: 87.38%\n"
     ]
    },
    {
     "name": "stderr",
     "output_type": "stream",
     "text": [
      "Epoch 14 Iter 1145: loss 0.24421. : 100%|█| 1145/1145 [00:05<00:00, 222.98it/s]\n",
      "Epoch 15 Iter 36: loss 0.22654. :   2%|     | 20/1145 [00:00<00:05, 194.73it/s]"
     ]
    },
    {
     "name": "stdout",
     "output_type": "stream",
     "text": [
      "Classification accuracy: 87.31%\n"
     ]
    },
    {
     "name": "stderr",
     "output_type": "stream",
     "text": [
      "Epoch 15 Iter 1145: loss 0.26649. : 100%|█| 1145/1145 [00:04<00:00, 229.52it/s]\n",
      "Epoch 16 Iter 37: loss 0.45358. :   2%|     | 21/1145 [00:00<00:05, 204.49it/s]"
     ]
    },
    {
     "name": "stdout",
     "output_type": "stream",
     "text": [
      "Classification accuracy: 87.22%\n"
     ]
    },
    {
     "name": "stderr",
     "output_type": "stream",
     "text": [
      "Epoch 16 Iter 1145: loss 0.18826. : 100%|█| 1145/1145 [00:04<00:00, 230.95it/s]\n",
      "Epoch 17 Iter 36: loss 0.16658. :   2%|     | 20/1145 [00:00<00:05, 194.69it/s]"
     ]
    },
    {
     "name": "stdout",
     "output_type": "stream",
     "text": [
      "Classification accuracy: 86.97%\n"
     ]
    },
    {
     "name": "stderr",
     "output_type": "stream",
     "text": [
      "Epoch 17 Iter 1145: loss 0.40142. : 100%|█| 1145/1145 [00:05<00:00, 228.76it/s]\n",
      "Epoch 18 Iter 43: loss 0.33426. :   2%|     | 24/1145 [00:00<00:04, 233.66it/s]"
     ]
    },
    {
     "name": "stdout",
     "output_type": "stream",
     "text": [
      "Classification accuracy: 87.55%\n"
     ]
    },
    {
     "name": "stderr",
     "output_type": "stream",
     "text": [
      "Epoch 18 Iter 1145: loss 0.20711. : 100%|█| 1145/1145 [00:05<00:00, 217.94it/s]\n",
      "Epoch 19 Iter 36: loss 0.20922. :   2%|     | 19/1145 [00:00<00:06, 184.95it/s]"
     ]
    },
    {
     "name": "stdout",
     "output_type": "stream",
     "text": [
      "Classification accuracy: 87.22%\n"
     ]
    },
    {
     "name": "stderr",
     "output_type": "stream",
     "text": [
      "Epoch 19 Iter 1145: loss 0.17766. : 100%|█| 1145/1145 [00:04<00:00, 229.70it/s]\n",
      "Epoch 20 Iter 34: loss 0.25058. :   2%|     | 18/1145 [00:00<00:06, 178.69it/s]"
     ]
    },
    {
     "name": "stdout",
     "output_type": "stream",
     "text": [
      "Classification accuracy: 87.87%\n"
     ]
    },
    {
     "name": "stderr",
     "output_type": "stream",
     "text": [
      "Epoch 20 Iter 1145: loss 0.17795. : 100%|█| 1145/1145 [00:04<00:00, 229.52it/s]\n",
      "Epoch 21 Iter 38: loss 0.09861. :   2%|     | 20/1145 [00:00<00:05, 190.98it/s]"
     ]
    },
    {
     "name": "stdout",
     "output_type": "stream",
     "text": [
      "Classification accuracy: 87.51%\n"
     ]
    },
    {
     "name": "stderr",
     "output_type": "stream",
     "text": [
      "Epoch 21 Iter 1145: loss 0.22483. : 100%|█| 1145/1145 [00:04<00:00, 231.38it/s]\n",
      "Epoch 22 Iter 36: loss 0.12605. :   2%|     | 20/1145 [00:00<00:05, 191.04it/s]"
     ]
    },
    {
     "name": "stdout",
     "output_type": "stream",
     "text": [
      "Classification accuracy: 87.47%\n"
     ]
    },
    {
     "name": "stderr",
     "output_type": "stream",
     "text": [
      "Epoch 22 Iter 1145: loss 0.40572. : 100%|█| 1145/1145 [00:04<00:00, 229.80it/s]\n",
      "Epoch 23 Iter 36: loss 0.14584. :   2%|     | 19/1145 [00:00<00:05, 188.62it/s]"
     ]
    },
    {
     "name": "stdout",
     "output_type": "stream",
     "text": [
      "Classification accuracy: 87.4%\n"
     ]
    },
    {
     "name": "stderr",
     "output_type": "stream",
     "text": [
      "Epoch 23 Iter 1145: loss 0.38113. : 100%|█| 1145/1145 [00:05<00:00, 228.87it/s]\n",
      "Epoch 24 Iter 37: loss 0.04769. :   2%|     | 20/1145 [00:00<00:05, 194.75it/s]"
     ]
    },
    {
     "name": "stdout",
     "output_type": "stream",
     "text": [
      "Classification accuracy: 87.17%\n"
     ]
    },
    {
     "name": "stderr",
     "output_type": "stream",
     "text": [
      "Epoch 24 Iter 1145: loss 0.12684. : 100%|█| 1145/1145 [00:04<00:00, 232.44it/s]\n",
      "Epoch 25 Iter 37: loss 0.13978. :   2%|     | 21/1145 [00:00<00:05, 200.61it/s]"
     ]
    },
    {
     "name": "stdout",
     "output_type": "stream",
     "text": [
      "Classification accuracy: 87.07%\n"
     ]
    },
    {
     "name": "stderr",
     "output_type": "stream",
     "text": [
      "Epoch 25 Iter 1145: loss 0.06906. : 100%|█| 1145/1145 [00:04<00:00, 230.01it/s]\n",
      "Epoch 1 Iter 29: loss 2.01823. :   3%|▏      | 17/573 [00:00<00:03, 160.85it/s]"
     ]
    },
    {
     "name": "stdout",
     "output_type": "stream",
     "text": [
      "Classification accuracy: 87.42%\n",
      "Batch size of  128  with Learning Rate of  0.001  !\n",
      "Model has 122626 learnable parameters\n"
     ]
    },
    {
     "name": "stderr",
     "output_type": "stream",
     "text": [
      "Epoch 1 Iter 573: loss 0.72134. : 100%|█████| 573/573 [00:03<00:00, 179.93it/s]\n",
      "Epoch 2 Iter 26: loss 0.70517. :   3%|▏      | 15/573 [00:00<00:03, 147.45it/s]"
     ]
    },
    {
     "name": "stdout",
     "output_type": "stream",
     "text": [
      "Classification accuracy: 80.54%\n"
     ]
    },
    {
     "name": "stderr",
     "output_type": "stream",
     "text": [
      "Epoch 2 Iter 573: loss 0.67234. : 100%|█████| 573/573 [00:03<00:00, 171.19it/s]\n",
      "Epoch 3 Iter 31: loss 0.44868. :   3%|▏      | 16/573 [00:00<00:03, 158.89it/s]"
     ]
    },
    {
     "name": "stdout",
     "output_type": "stream",
     "text": [
      "Classification accuracy: 84.08%\n"
     ]
    },
    {
     "name": "stderr",
     "output_type": "stream",
     "text": [
      "Epoch 3 Iter 573: loss 0.34018. : 100%|█████| 573/573 [00:03<00:00, 181.70it/s]\n",
      "Epoch 4 Iter 29: loss 0.36893. :   3%|▏      | 15/573 [00:00<00:03, 147.45it/s]"
     ]
    },
    {
     "name": "stdout",
     "output_type": "stream",
     "text": [
      "Classification accuracy: 84.96%\n"
     ]
    },
    {
     "name": "stderr",
     "output_type": "stream",
     "text": [
      "Epoch 4 Iter 573: loss 0.42263. : 100%|█████| 573/573 [00:03<00:00, 180.66it/s]\n",
      "Epoch 5 Iter 28: loss 0.35233. :   3%|▏      | 15/573 [00:00<00:03, 148.96it/s]"
     ]
    },
    {
     "name": "stdout",
     "output_type": "stream",
     "text": [
      "Classification accuracy: 86.25%\n"
     ]
    },
    {
     "name": "stderr",
     "output_type": "stream",
     "text": [
      "Epoch 5 Iter 573: loss 0.53329. : 100%|█████| 573/573 [00:03<00:00, 179.26it/s]\n",
      "Epoch 6 Iter 29: loss 0.16836. :   3%|▏      | 17/573 [00:00<00:03, 165.51it/s]"
     ]
    },
    {
     "name": "stdout",
     "output_type": "stream",
     "text": [
      "Classification accuracy: 85.89%\n"
     ]
    },
    {
     "name": "stderr",
     "output_type": "stream",
     "text": [
      "Epoch 6 Iter 573: loss 0.14503. : 100%|█████| 573/573 [00:03<00:00, 181.13it/s]\n",
      "Epoch 7 Iter 29: loss 0.19226. :   3%|▏      | 17/573 [00:00<00:03, 162.39it/s]"
     ]
    },
    {
     "name": "stdout",
     "output_type": "stream",
     "text": [
      "Classification accuracy: 86.44%\n"
     ]
    },
    {
     "name": "stderr",
     "output_type": "stream",
     "text": [
      "Epoch 7 Iter 573: loss 0.17512. : 100%|█████| 573/573 [00:03<00:00, 179.60it/s]\n",
      "Epoch 8 Iter 30: loss 0.25964. :   3%|▏      | 16/573 [00:00<00:03, 151.39it/s]"
     ]
    },
    {
     "name": "stdout",
     "output_type": "stream",
     "text": [
      "Classification accuracy: 86.82%\n"
     ]
    },
    {
     "name": "stderr",
     "output_type": "stream",
     "text": [
      "Epoch 8 Iter 573: loss 0.23896. : 100%|█████| 573/573 [00:03<00:00, 179.04it/s]\n",
      "Epoch 9 Iter 29: loss 0.16624. :   3%|▏      | 16/573 [00:00<00:03, 152.83it/s]"
     ]
    },
    {
     "name": "stdout",
     "output_type": "stream",
     "text": [
      "Classification accuracy: 87.23%\n"
     ]
    },
    {
     "name": "stderr",
     "output_type": "stream",
     "text": [
      "Epoch 9 Iter 573: loss 0.37093. : 100%|█████| 573/573 [00:03<00:00, 180.10it/s]\n",
      "Epoch 10 Iter 27: loss 0.18642. :   3%|▏     | 16/573 [00:00<00:03, 152.83it/s]"
     ]
    },
    {
     "name": "stdout",
     "output_type": "stream",
     "text": [
      "Classification accuracy: 86.99%\n"
     ]
    },
    {
     "name": "stderr",
     "output_type": "stream",
     "text": [
      "Epoch 10 Iter 573: loss 0.18264. : 100%|████| 573/573 [00:03<00:00, 180.14it/s]\n",
      "Epoch 11 Iter 32: loss 0.18431. :   3%|▏     | 18/573 [00:00<00:03, 171.93it/s]"
     ]
    },
    {
     "name": "stdout",
     "output_type": "stream",
     "text": [
      "Classification accuracy: 86.99%\n"
     ]
    },
    {
     "name": "stderr",
     "output_type": "stream",
     "text": [
      "Epoch 11 Iter 573: loss 0.32717. : 100%|████| 573/573 [00:03<00:00, 179.96it/s]\n",
      "Epoch 12 Iter 29: loss 0.07276. :   3%|▏     | 16/573 [00:00<00:03, 152.83it/s]"
     ]
    },
    {
     "name": "stdout",
     "output_type": "stream",
     "text": [
      "Classification accuracy: 86.96%\n"
     ]
    },
    {
     "name": "stderr",
     "output_type": "stream",
     "text": [
      "Epoch 12 Iter 573: loss 0.08534. : 100%|████| 573/573 [00:03<00:00, 178.91it/s]\n",
      "Epoch 13 Iter 29: loss 0.23707. :   3%|▏     | 17/573 [00:00<00:03, 163.90it/s]"
     ]
    },
    {
     "name": "stdout",
     "output_type": "stream",
     "text": [
      "Classification accuracy: 87.1%\n"
     ]
    },
    {
     "name": "stderr",
     "output_type": "stream",
     "text": [
      "Epoch 13 Iter 573: loss 0.45716. : 100%|████| 573/573 [00:03<00:00, 179.79it/s]\n",
      "Epoch 14 Iter 30: loss 0.10249. :   3%|▏     | 17/573 [00:00<00:03, 162.33it/s]"
     ]
    },
    {
     "name": "stdout",
     "output_type": "stream",
     "text": [
      "Classification accuracy: 86.61%\n"
     ]
    },
    {
     "name": "stderr",
     "output_type": "stream",
     "text": [
      "Epoch 14 Iter 573: loss 0.10905. : 100%|████| 573/573 [00:03<00:00, 181.29it/s]\n",
      "Epoch 15 Iter 30: loss 0.05850. :   3%|▏     | 16/573 [00:00<00:03, 158.88it/s]"
     ]
    },
    {
     "name": "stdout",
     "output_type": "stream",
     "text": [
      "Classification accuracy: 87.01%\n"
     ]
    },
    {
     "name": "stderr",
     "output_type": "stream",
     "text": [
      "Epoch 15 Iter 573: loss 0.11104. : 100%|████| 573/573 [00:03<00:00, 181.06it/s]\n",
      "Epoch 16 Iter 29: loss 0.13996. :   3%|▏     | 16/573 [00:00<00:03, 157.33it/s]"
     ]
    },
    {
     "name": "stdout",
     "output_type": "stream",
     "text": [
      "Classification accuracy: 86.5%\n"
     ]
    },
    {
     "name": "stderr",
     "output_type": "stream",
     "text": [
      "Epoch 16 Iter 573: loss 0.14117. : 100%|████| 573/573 [00:03<00:00, 179.49it/s]\n",
      "Epoch 17 Iter 29: loss 0.13857. :   3%|▏     | 17/573 [00:00<00:03, 167.16it/s]"
     ]
    },
    {
     "name": "stdout",
     "output_type": "stream",
     "text": [
      "Classification accuracy: 86.01%\n"
     ]
    },
    {
     "name": "stderr",
     "output_type": "stream",
     "text": [
      "Epoch 17 Iter 573: loss 0.07678. : 100%|████| 573/573 [00:03<00:00, 180.16it/s]\n",
      "Epoch 18 Iter 30: loss 0.07705. :   3%|▏     | 17/573 [00:00<00:03, 160.85it/s]"
     ]
    },
    {
     "name": "stdout",
     "output_type": "stream",
     "text": [
      "Classification accuracy: 86.48%\n"
     ]
    },
    {
     "name": "stderr",
     "output_type": "stream",
     "text": [
      "Epoch 18 Iter 573: loss 0.11608. : 100%|████| 573/573 [00:03<00:00, 180.43it/s]\n",
      "Epoch 19 Iter 32: loss 0.17000. :   3%|▏     | 18/573 [00:00<00:03, 173.53it/s]"
     ]
    },
    {
     "name": "stdout",
     "output_type": "stream",
     "text": [
      "Classification accuracy: 86.37%\n"
     ]
    },
    {
     "name": "stderr",
     "output_type": "stream",
     "text": [
      "Epoch 19 Iter 573: loss 0.03652. : 100%|████| 573/573 [00:03<00:00, 182.98it/s]\n",
      "Epoch 20 Iter 32: loss 0.08414. :   3%|▏     | 17/573 [00:00<00:03, 167.11it/s]"
     ]
    },
    {
     "name": "stdout",
     "output_type": "stream",
     "text": [
      "Classification accuracy: 86.32%\n"
     ]
    },
    {
     "name": "stderr",
     "output_type": "stream",
     "text": [
      "Epoch 20 Iter 573: loss 0.15266. : 100%|████| 573/573 [00:03<00:00, 181.49it/s]\n",
      "Epoch 21 Iter 29: loss 0.11866. :   3%|▏     | 16/573 [00:00<00:03, 158.84it/s]"
     ]
    },
    {
     "name": "stdout",
     "output_type": "stream",
     "text": [
      "Classification accuracy: 86.45%\n"
     ]
    },
    {
     "name": "stderr",
     "output_type": "stream",
     "text": [
      "Epoch 21 Iter 573: loss 0.50883. : 100%|████| 573/573 [00:03<00:00, 188.51it/s]\n",
      "Epoch 22 Iter 29: loss 0.06197. :   3%|▏     | 16/573 [00:00<00:03, 157.28it/s]"
     ]
    },
    {
     "name": "stdout",
     "output_type": "stream",
     "text": [
      "Classification accuracy: 86.41%\n"
     ]
    },
    {
     "name": "stderr",
     "output_type": "stream",
     "text": [
      "Epoch 22 Iter 573: loss 0.13057. : 100%|████| 573/573 [00:03<00:00, 179.56it/s]\n",
      "Epoch 23 Iter 30: loss 0.08974. :   3%|▏     | 17/573 [00:00<00:03, 162.39it/s]"
     ]
    },
    {
     "name": "stdout",
     "output_type": "stream",
     "text": [
      "Classification accuracy: 86.51%\n"
     ]
    },
    {
     "name": "stderr",
     "output_type": "stream",
     "text": [
      "Epoch 23 Iter 573: loss 0.04941. : 100%|████| 573/573 [00:03<00:00, 179.42it/s]\n",
      "Epoch 24 Iter 29: loss 0.07567. :   3%|▏     | 17/573 [00:00<00:03, 167.11it/s]"
     ]
    },
    {
     "name": "stdout",
     "output_type": "stream",
     "text": [
      "Classification accuracy: 85.89%\n"
     ]
    },
    {
     "name": "stderr",
     "output_type": "stream",
     "text": [
      "Epoch 24 Iter 573: loss 0.39518. : 100%|████| 573/573 [00:03<00:00, 179.48it/s]\n",
      "Epoch 25 Iter 25: loss 0.05862. :   3%|▏     | 15/573 [00:00<00:03, 140.58it/s]"
     ]
    },
    {
     "name": "stdout",
     "output_type": "stream",
     "text": [
      "Classification accuracy: 85.97%\n"
     ]
    },
    {
     "name": "stderr",
     "output_type": "stream",
     "text": [
      "Epoch 25 Iter 573: loss 0.04363. : 100%|████| 573/573 [00:03<00:00, 178.10it/s]\n",
      "Epoch 1 Iter 30: loss 2.10309. :   3%|▏      | 16/573 [00:00<00:03, 155.80it/s]"
     ]
    },
    {
     "name": "stdout",
     "output_type": "stream",
     "text": [
      "Classification accuracy: 84.96%\n",
      "Batch size of  128  with Learning Rate of  0.0003  !\n",
      "Model has 122626 learnable parameters\n"
     ]
    },
    {
     "name": "stderr",
     "output_type": "stream",
     "text": [
      "Epoch 1 Iter 573: loss 0.51625. : 100%|█████| 573/573 [00:03<00:00, 179.48it/s]\n",
      "Epoch 2 Iter 29: loss 0.74244. :   3%|▏      | 17/573 [00:00<00:03, 162.38it/s]"
     ]
    },
    {
     "name": "stdout",
     "output_type": "stream",
     "text": [
      "Classification accuracy: 80.21%\n"
     ]
    },
    {
     "name": "stderr",
     "output_type": "stream",
     "text": [
      "Epoch 2 Iter 573: loss 0.55669. : 100%|█████| 573/573 [00:03<00:00, 179.71it/s]\n",
      "Epoch 3 Iter 30: loss 0.46108. :   3%|▏      | 16/573 [00:00<00:03, 152.84it/s]"
     ]
    },
    {
     "name": "stdout",
     "output_type": "stream",
     "text": [
      "Classification accuracy: 83.89%\n"
     ]
    },
    {
     "name": "stderr",
     "output_type": "stream",
     "text": [
      "Epoch 3 Iter 573: loss 0.56371. : 100%|█████| 573/573 [00:03<00:00, 180.68it/s]\n",
      "Epoch 4 Iter 28: loss 0.40764. :   3%|▏      | 16/573 [00:00<00:03, 151.34it/s]"
     ]
    },
    {
     "name": "stdout",
     "output_type": "stream",
     "text": [
      "Classification accuracy: 85.15%\n"
     ]
    },
    {
     "name": "stderr",
     "output_type": "stream",
     "text": [
      "Epoch 4 Iter 573: loss 0.25676. : 100%|█████| 573/573 [00:03<00:00, 178.46it/s]\n",
      "Epoch 5 Iter 29: loss 0.32940. :   3%|▏      | 16/573 [00:00<00:03, 158.89it/s]"
     ]
    },
    {
     "name": "stdout",
     "output_type": "stream",
     "text": [
      "Classification accuracy: 85.62%\n"
     ]
    },
    {
     "name": "stderr",
     "output_type": "stream",
     "text": [
      "Epoch 5 Iter 573: loss 0.36961. : 100%|█████| 573/573 [00:03<00:00, 180.19it/s]\n",
      "Epoch 6 Iter 29: loss 0.44552. :   3%|▏      | 17/573 [00:00<00:03, 165.49it/s]"
     ]
    },
    {
     "name": "stdout",
     "output_type": "stream",
     "text": [
      "Classification accuracy: 86.37%\n"
     ]
    },
    {
     "name": "stderr",
     "output_type": "stream",
     "text": [
      "Epoch 6 Iter 573: loss 0.29308. : 100%|█████| 573/573 [00:03<00:00, 180.87it/s]\n",
      "Epoch 7 Iter 30: loss 0.20900. :   3%|▏      | 17/573 [00:00<00:03, 160.85it/s]"
     ]
    },
    {
     "name": "stdout",
     "output_type": "stream",
     "text": [
      "Classification accuracy: 87.08%\n"
     ]
    },
    {
     "name": "stderr",
     "output_type": "stream",
     "text": [
      "Epoch 7 Iter 573: loss 0.35785. : 100%|█████| 573/573 [00:03<00:00, 179.87it/s]\n",
      "Epoch 8 Iter 29: loss 0.36456. :   3%|▏      | 16/573 [00:00<00:03, 158.83it/s]"
     ]
    },
    {
     "name": "stdout",
     "output_type": "stream",
     "text": [
      "Classification accuracy: 87.28%\n"
     ]
    },
    {
     "name": "stderr",
     "output_type": "stream",
     "text": [
      "Epoch 8 Iter 573: loss 0.69761. : 100%|█████| 573/573 [00:03<00:00, 178.42it/s]\n",
      "Epoch 9 Iter 29: loss 0.23312. :   3%|▏      | 16/573 [00:00<00:03, 151.34it/s]"
     ]
    },
    {
     "name": "stdout",
     "output_type": "stream",
     "text": [
      "Classification accuracy: 86.97%\n"
     ]
    },
    {
     "name": "stderr",
     "output_type": "stream",
     "text": [
      "Epoch 9 Iter 573: loss 0.43366. : 100%|█████| 573/573 [00:03<00:00, 178.98it/s]\n",
      "Epoch 10 Iter 29: loss 0.26595. :   3%|▏     | 16/573 [00:00<00:03, 152.78it/s]"
     ]
    },
    {
     "name": "stdout",
     "output_type": "stream",
     "text": [
      "Classification accuracy: 87.68%\n"
     ]
    },
    {
     "name": "stderr",
     "output_type": "stream",
     "text": [
      "Epoch 10 Iter 573: loss 0.18368. : 100%|████| 573/573 [00:03<00:00, 179.51it/s]\n",
      "Epoch 11 Iter 30: loss 0.18746. :   3%|▏     | 17/573 [00:00<00:03, 162.38it/s]"
     ]
    },
    {
     "name": "stdout",
     "output_type": "stream",
     "text": [
      "Classification accuracy: 87.14%\n"
     ]
    },
    {
     "name": "stderr",
     "output_type": "stream",
     "text": [
      "Epoch 11 Iter 573: loss 0.17888. : 100%|████| 573/573 [00:03<00:00, 178.52it/s]\n",
      "Epoch 12 Iter 28: loss 0.14630. :   3%|▏     | 17/573 [00:00<00:03, 160.80it/s]"
     ]
    },
    {
     "name": "stdout",
     "output_type": "stream",
     "text": [
      "Classification accuracy: 87.81%\n"
     ]
    },
    {
     "name": "stderr",
     "output_type": "stream",
     "text": [
      "Epoch 12 Iter 573: loss 0.17097. : 100%|████| 573/573 [00:03<00:00, 180.53it/s]\n",
      "Epoch 13 Iter 30: loss 0.22305. :   3%|▏     | 16/573 [00:00<00:03, 155.75it/s]"
     ]
    },
    {
     "name": "stdout",
     "output_type": "stream",
     "text": [
      "Classification accuracy: 87.19%\n"
     ]
    },
    {
     "name": "stderr",
     "output_type": "stream",
     "text": [
      "Epoch 13 Iter 573: loss 0.23969. : 100%|████| 573/573 [00:03<00:00, 180.16it/s]\n",
      "Epoch 14 Iter 28: loss 0.07863. :   3%|▏     | 16/573 [00:00<00:03, 154.25it/s]"
     ]
    },
    {
     "name": "stdout",
     "output_type": "stream",
     "text": [
      "Classification accuracy: 87.03%\n"
     ]
    },
    {
     "name": "stderr",
     "output_type": "stream",
     "text": [
      "Epoch 14 Iter 573: loss 0.17287. : 100%|████| 573/573 [00:03<00:00, 180.80it/s]\n",
      "Epoch 15 Iter 31: loss 0.15750. :   3%|▏     | 16/573 [00:00<00:03, 157.28it/s]"
     ]
    },
    {
     "name": "stdout",
     "output_type": "stream",
     "text": [
      "Classification accuracy: 87.78%\n"
     ]
    },
    {
     "name": "stderr",
     "output_type": "stream",
     "text": [
      "Epoch 15 Iter 573: loss 0.33926. : 100%|████| 573/573 [00:03<00:00, 181.96it/s]\n",
      "Epoch 16 Iter 30: loss 0.06718. :   3%|▏     | 15/573 [00:00<00:03, 148.96it/s]"
     ]
    },
    {
     "name": "stdout",
     "output_type": "stream",
     "text": [
      "Classification accuracy: 87.7%\n"
     ]
    },
    {
     "name": "stderr",
     "output_type": "stream",
     "text": [
      "Epoch 16 Iter 573: loss 0.23335. : 100%|████| 573/573 [00:03<00:00, 178.07it/s]\n",
      "Epoch 17 Iter 28: loss 0.15013. :   3%|▏     | 16/573 [00:00<00:03, 157.33it/s]"
     ]
    },
    {
     "name": "stdout",
     "output_type": "stream",
     "text": [
      "Classification accuracy: 87.26%\n"
     ]
    },
    {
     "name": "stderr",
     "output_type": "stream",
     "text": [
      "Epoch 17 Iter 573: loss 0.03574. : 100%|████| 573/573 [00:03<00:00, 180.66it/s]\n",
      "Epoch 18 Iter 27: loss 0.22660. :   3%|▏     | 15/573 [00:00<00:03, 148.91it/s]"
     ]
    },
    {
     "name": "stdout",
     "output_type": "stream",
     "text": [
      "Classification accuracy: 87.26%\n"
     ]
    },
    {
     "name": "stderr",
     "output_type": "stream",
     "text": [
      "Epoch 18 Iter 573: loss 0.02460. : 100%|████| 573/573 [00:03<00:00, 179.90it/s]\n",
      "Epoch 19 Iter 32: loss 0.22104. :   3%|▏     | 17/573 [00:00<00:03, 165.55it/s]"
     ]
    },
    {
     "name": "stdout",
     "output_type": "stream",
     "text": [
      "Classification accuracy: 87.09%\n"
     ]
    },
    {
     "name": "stderr",
     "output_type": "stream",
     "text": [
      "Epoch 19 Iter 573: loss 0.13534. : 100%|████| 573/573 [00:03<00:00, 179.90it/s]\n",
      "Epoch 20 Iter 30: loss 0.07383. :   3%|▏     | 16/573 [00:00<00:03, 158.80it/s]"
     ]
    },
    {
     "name": "stdout",
     "output_type": "stream",
     "text": [
      "Classification accuracy: 86.21%\n"
     ]
    },
    {
     "name": "stderr",
     "output_type": "stream",
     "text": [
      "Epoch 20 Iter 573: loss 0.04725. : 100%|████| 573/573 [00:03<00:00, 180.15it/s]\n",
      "Epoch 21 Iter 29: loss 0.11735. :   3%|▏     | 16/573 [00:00<00:03, 158.89it/s]"
     ]
    },
    {
     "name": "stdout",
     "output_type": "stream",
     "text": [
      "Classification accuracy: 87.42%\n"
     ]
    },
    {
     "name": "stderr",
     "output_type": "stream",
     "text": [
      "Epoch 21 Iter 573: loss 0.06360. : 100%|████| 573/573 [00:03<00:00, 178.92it/s]\n",
      "Epoch 22 Iter 31: loss 0.09194. :   3%|▏     | 17/573 [00:00<00:03, 163.84it/s]"
     ]
    },
    {
     "name": "stdout",
     "output_type": "stream",
     "text": [
      "Classification accuracy: 87.2%\n"
     ]
    },
    {
     "name": "stderr",
     "output_type": "stream",
     "text": [
      "Epoch 22 Iter 573: loss 0.01865. : 100%|████| 573/573 [00:03<00:00, 179.91it/s]\n",
      "Epoch 23 Iter 28: loss 0.10716. :   3%|▏     | 16/573 [00:00<00:03, 152.79it/s]"
     ]
    },
    {
     "name": "stdout",
     "output_type": "stream",
     "text": [
      "Classification accuracy: 86.73%\n"
     ]
    },
    {
     "name": "stderr",
     "output_type": "stream",
     "text": [
      "Epoch 23 Iter 573: loss 0.01390. : 100%|████| 573/573 [00:03<00:00, 179.65it/s]\n",
      "Epoch 24 Iter 30: loss 0.03836. :   3%|▏     | 16/573 [00:00<00:03, 155.77it/s]"
     ]
    },
    {
     "name": "stdout",
     "output_type": "stream",
     "text": [
      "Classification accuracy: 86.47%\n"
     ]
    },
    {
     "name": "stderr",
     "output_type": "stream",
     "text": [
      "Epoch 24 Iter 573: loss 0.14504. : 100%|████| 573/573 [00:03<00:00, 179.40it/s]\n",
      "Epoch 25 Iter 28: loss 0.03592. :   3%|▏     | 16/573 [00:00<00:03, 151.34it/s]"
     ]
    },
    {
     "name": "stdout",
     "output_type": "stream",
     "text": [
      "Classification accuracy: 87.14%\n"
     ]
    },
    {
     "name": "stderr",
     "output_type": "stream",
     "text": [
      "Epoch 25 Iter 573: loss 0.04549. : 100%|████| 573/573 [00:03<00:00, 180.38it/s]\n",
      "Epoch 1 Iter 31: loss 2.10689. :   3%|▏      | 17/573 [00:00<00:03, 160.85it/s]"
     ]
    },
    {
     "name": "stdout",
     "output_type": "stream",
     "text": [
      "Classification accuracy: 87.29%\n",
      "Batch size of  128  with Learning Rate of  0.0005  !\n",
      "Model has 122626 learnable parameters\n"
     ]
    },
    {
     "name": "stderr",
     "output_type": "stream",
     "text": [
      "Epoch 1 Iter 573: loss 0.41050. : 100%|█████| 573/573 [00:03<00:00, 180.21it/s]\n",
      "Epoch 2 Iter 31: loss 0.54879. :   3%|▏      | 16/573 [00:00<00:03, 158.88it/s]"
     ]
    },
    {
     "name": "stdout",
     "output_type": "stream",
     "text": [
      "Classification accuracy: 81.94%\n"
     ]
    },
    {
     "name": "stderr",
     "output_type": "stream",
     "text": [
      "Epoch 2 Iter 573: loss 0.34354. : 100%|█████| 573/573 [00:03<00:00, 181.01it/s]\n",
      "Epoch 3 Iter 30: loss 0.29727. :   3%|▏      | 16/573 [00:00<00:03, 154.30it/s]"
     ]
    },
    {
     "name": "stdout",
     "output_type": "stream",
     "text": [
      "Classification accuracy: 84.26%\n"
     ]
    },
    {
     "name": "stderr",
     "output_type": "stream",
     "text": [
      "Epoch 3 Iter 573: loss 0.18508. : 100%|█████| 573/573 [00:03<00:00, 179.34it/s]\n",
      "Epoch 4 Iter 35: loss 0.48229. :   3%|▏      | 19/573 [00:00<00:03, 183.24it/s]"
     ]
    },
    {
     "name": "stdout",
     "output_type": "stream",
     "text": [
      "Classification accuracy: 86.42%\n"
     ]
    },
    {
     "name": "stderr",
     "output_type": "stream",
     "text": [
      "Epoch 4 Iter 573: loss 0.62905. : 100%|█████| 573/573 [00:03<00:00, 185.24it/s]\n",
      "Epoch 5 Iter 29: loss 0.23100. :   3%|▏      | 16/573 [00:00<00:03, 158.89it/s]"
     ]
    },
    {
     "name": "stdout",
     "output_type": "stream",
     "text": [
      "Classification accuracy: 87.23%\n"
     ]
    },
    {
     "name": "stderr",
     "output_type": "stream",
     "text": [
      "Epoch 5 Iter 573: loss 0.16929. : 100%|█████| 573/573 [00:03<00:00, 181.22it/s]\n",
      "Epoch 6 Iter 30: loss 0.42924. :   3%|▏      | 17/573 [00:00<00:03, 168.78it/s]"
     ]
    },
    {
     "name": "stdout",
     "output_type": "stream",
     "text": [
      "Classification accuracy: 87.25%\n"
     ]
    },
    {
     "name": "stderr",
     "output_type": "stream",
     "text": [
      "Epoch 6 Iter 573: loss 0.53387. : 100%|█████| 573/573 [00:03<00:00, 180.72it/s]\n",
      "Epoch 7 Iter 28: loss 0.18354. :   3%|▏      | 16/573 [00:00<00:03, 151.34it/s]"
     ]
    },
    {
     "name": "stdout",
     "output_type": "stream",
     "text": [
      "Classification accuracy: 87.12%\n"
     ]
    },
    {
     "name": "stderr",
     "output_type": "stream",
     "text": [
      "Epoch 7 Iter 573: loss 0.22985. : 100%|█████| 573/573 [00:03<00:00, 180.61it/s]\n",
      "Epoch 8 Iter 31: loss 0.11637. :   3%|▏      | 17/573 [00:00<00:03, 165.49it/s]"
     ]
    },
    {
     "name": "stdout",
     "output_type": "stream",
     "text": [
      "Classification accuracy: 87.4%\n"
     ]
    },
    {
     "name": "stderr",
     "output_type": "stream",
     "text": [
      "Epoch 8 Iter 573: loss 0.10167. : 100%|█████| 573/573 [00:03<00:00, 180.13it/s]\n",
      "Epoch 9 Iter 30: loss 0.17500. :   3%|▏      | 16/573 [00:00<00:03, 158.83it/s]"
     ]
    },
    {
     "name": "stdout",
     "output_type": "stream",
     "text": [
      "Classification accuracy: 88.23%\n"
     ]
    },
    {
     "name": "stderr",
     "output_type": "stream",
     "text": [
      "Epoch 9 Iter 573: loss 0.24436. : 100%|█████| 573/573 [00:03<00:00, 180.38it/s]\n",
      "Epoch 10 Iter 30: loss 0.18352. :   3%|▏     | 16/573 [00:00<00:03, 157.33it/s]"
     ]
    },
    {
     "name": "stdout",
     "output_type": "stream",
     "text": [
      "Classification accuracy: 87.26%\n"
     ]
    },
    {
     "name": "stderr",
     "output_type": "stream",
     "text": [
      "Epoch 10 Iter 573: loss 0.12241. : 100%|████| 573/573 [00:03<00:00, 180.24it/s]\n",
      "Epoch 11 Iter 30: loss 0.11625. :   3%|▏     | 16/573 [00:00<00:03, 155.80it/s]"
     ]
    },
    {
     "name": "stdout",
     "output_type": "stream",
     "text": [
      "Classification accuracy: 87.38%\n"
     ]
    },
    {
     "name": "stderr",
     "output_type": "stream",
     "text": [
      "Epoch 11 Iter 573: loss 0.25189. : 100%|████| 573/573 [00:03<00:00, 179.00it/s]\n",
      "Epoch 12 Iter 30: loss 0.14977. :   3%|▏     | 17/573 [00:00<00:03, 160.85it/s]"
     ]
    },
    {
     "name": "stdout",
     "output_type": "stream",
     "text": [
      "Classification accuracy: 87.53%\n"
     ]
    },
    {
     "name": "stderr",
     "output_type": "stream",
     "text": [
      "Epoch 12 Iter 573: loss 0.09067. : 100%|████| 573/573 [00:03<00:00, 180.61it/s]\n",
      "Epoch 13 Iter 27: loss 0.14606. :   3%|▏     | 15/573 [00:00<00:03, 141.93it/s]"
     ]
    },
    {
     "name": "stdout",
     "output_type": "stream",
     "text": [
      "Classification accuracy: 87.23%\n"
     ]
    },
    {
     "name": "stderr",
     "output_type": "stream",
     "text": [
      "Epoch 13 Iter 573: loss 0.08173. : 100%|████| 573/573 [00:03<00:00, 178.86it/s]\n",
      "Epoch 14 Iter 28: loss 0.10565. :   3%|▏     | 16/573 [00:00<00:03, 154.31it/s]"
     ]
    },
    {
     "name": "stdout",
     "output_type": "stream",
     "text": [
      "Classification accuracy: 87.52%\n"
     ]
    },
    {
     "name": "stderr",
     "output_type": "stream",
     "text": [
      "Epoch 14 Iter 573: loss 0.24112. : 100%|████| 573/573 [00:03<00:00, 178.81it/s]\n",
      "Epoch 15 Iter 28: loss 0.04091. :   3%|▏     | 15/573 [00:00<00:03, 143.11it/s]"
     ]
    },
    {
     "name": "stdout",
     "output_type": "stream",
     "text": [
      "Classification accuracy: 86.77%\n"
     ]
    },
    {
     "name": "stderr",
     "output_type": "stream",
     "text": [
      "Epoch 15 Iter 573: loss 0.34989. : 100%|████| 573/573 [00:03<00:00, 180.60it/s]\n",
      "Epoch 16 Iter 28: loss 0.14396. :   3%|▏     | 17/573 [00:00<00:03, 160.80it/s]"
     ]
    },
    {
     "name": "stdout",
     "output_type": "stream",
     "text": [
      "Classification accuracy: 86.61%\n"
     ]
    },
    {
     "name": "stderr",
     "output_type": "stream",
     "text": [
      "Epoch 16 Iter 573: loss 0.18512. : 100%|████| 573/573 [00:03<00:00, 180.97it/s]\n",
      "Epoch 17 Iter 30: loss 0.11858. :   3%|▏     | 16/573 [00:00<00:03, 155.80it/s]"
     ]
    },
    {
     "name": "stdout",
     "output_type": "stream",
     "text": [
      "Classification accuracy: 87.42%\n"
     ]
    },
    {
     "name": "stderr",
     "output_type": "stream",
     "text": [
      "Epoch 17 Iter 573: loss 0.15696. : 100%|████| 573/573 [00:03<00:00, 179.54it/s]\n",
      "Epoch 18 Iter 27: loss 0.11575. :   3%|▏     | 15/573 [00:00<00:03, 143.28it/s]"
     ]
    },
    {
     "name": "stdout",
     "output_type": "stream",
     "text": [
      "Classification accuracy: 86.89%\n"
     ]
    },
    {
     "name": "stderr",
     "output_type": "stream",
     "text": [
      "Epoch 18 Iter 573: loss 0.20934. : 100%|████| 573/573 [00:03<00:00, 176.78it/s]\n",
      "Epoch 19 Iter 31: loss 0.08844. :   3%|▏     | 17/573 [00:00<00:03, 168.81it/s]"
     ]
    },
    {
     "name": "stdout",
     "output_type": "stream",
     "text": [
      "Classification accuracy: 86.95%\n"
     ]
    },
    {
     "name": "stderr",
     "output_type": "stream",
     "text": [
      "Epoch 19 Iter 573: loss 0.07525. : 100%|████| 573/573 [00:03<00:00, 181.18it/s]\n",
      "Epoch 20 Iter 31: loss 0.04158. :   3%|▏     | 17/573 [00:00<00:03, 167.11it/s]"
     ]
    },
    {
     "name": "stdout",
     "output_type": "stream",
     "text": [
      "Classification accuracy: 86.89%\n"
     ]
    },
    {
     "name": "stderr",
     "output_type": "stream",
     "text": [
      "Epoch 20 Iter 573: loss 0.08267. : 100%|████| 573/573 [00:03<00:00, 181.58it/s]\n",
      "Epoch 21 Iter 30: loss 0.05444. :   3%|▏     | 16/573 [00:00<00:03, 157.28it/s]"
     ]
    },
    {
     "name": "stdout",
     "output_type": "stream",
     "text": [
      "Classification accuracy: 86.56%\n"
     ]
    },
    {
     "name": "stderr",
     "output_type": "stream",
     "text": [
      "Epoch 21 Iter 573: loss 0.11827. : 100%|████| 573/573 [00:03<00:00, 181.06it/s]\n",
      "Epoch 22 Iter 29: loss 0.03667. :   3%|▏     | 16/573 [00:00<00:03, 154.30it/s]"
     ]
    },
    {
     "name": "stdout",
     "output_type": "stream",
     "text": [
      "Classification accuracy: 86.76%\n"
     ]
    },
    {
     "name": "stderr",
     "output_type": "stream",
     "text": [
      "Epoch 22 Iter 573: loss 0.02589. : 100%|████| 573/573 [00:03<00:00, 178.96it/s]\n",
      "Epoch 23 Iter 29: loss 0.05838. :   3%|▏     | 17/573 [00:00<00:03, 162.33it/s]"
     ]
    },
    {
     "name": "stdout",
     "output_type": "stream",
     "text": [
      "Classification accuracy: 87.02%\n"
     ]
    },
    {
     "name": "stderr",
     "output_type": "stream",
     "text": [
      "Epoch 23 Iter 573: loss 0.00779. : 100%|████| 573/573 [00:03<00:00, 179.22it/s]\n",
      "Epoch 24 Iter 27: loss 0.02338. :   3%|▏     | 15/573 [00:00<00:03, 146.02it/s]"
     ]
    },
    {
     "name": "stdout",
     "output_type": "stream",
     "text": [
      "Classification accuracy: 87.16%\n"
     ]
    },
    {
     "name": "stderr",
     "output_type": "stream",
     "text": [
      "Epoch 24 Iter 573: loss 0.06519. : 100%|████| 573/573 [00:03<00:00, 180.03it/s]\n",
      "Epoch 25 Iter 30: loss 0.06846. :   3%|▏     | 17/573 [00:00<00:03, 160.80it/s]"
     ]
    },
    {
     "name": "stdout",
     "output_type": "stream",
     "text": [
      "Classification accuracy: 87.2%\n"
     ]
    },
    {
     "name": "stderr",
     "output_type": "stream",
     "text": [
      "Epoch 25 Iter 573: loss 0.14746. : 100%|████| 573/573 [00:03<00:00, 178.42it/s]\n",
      "Epoch 1 Iter 29: loss 2.20970. :   3%|▏      | 16/573 [00:00<00:03, 151.39it/s]"
     ]
    },
    {
     "name": "stdout",
     "output_type": "stream",
     "text": [
      "Classification accuracy: 87.59%\n",
      "Batch size of  128  with Learning Rate of  0.0001  !\n",
      "Model has 122626 learnable parameters\n"
     ]
    },
    {
     "name": "stderr",
     "output_type": "stream",
     "text": [
      "Epoch 1 Iter 573: loss 0.74527. : 100%|█████| 573/573 [00:03<00:00, 180.50it/s]\n",
      "Epoch 2 Iter 29: loss 0.96129. :   3%|▏      | 17/573 [00:00<00:03, 159.35it/s]"
     ]
    },
    {
     "name": "stdout",
     "output_type": "stream",
     "text": [
      "Classification accuracy: 74.41%\n"
     ]
    },
    {
     "name": "stderr",
     "output_type": "stream",
     "text": [
      "Epoch 2 Iter 573: loss 0.45002. : 100%|█████| 573/573 [00:03<00:00, 181.55it/s]\n",
      "Epoch 3 Iter 29: loss 0.63426. :   3%|▏      | 16/573 [00:00<00:03, 154.25it/s]"
     ]
    },
    {
     "name": "stdout",
     "output_type": "stream",
     "text": [
      "Classification accuracy: 80.63%\n"
     ]
    },
    {
     "name": "stderr",
     "output_type": "stream",
     "text": [
      "Epoch 3 Iter 573: loss 0.62726. : 100%|█████| 573/573 [00:03<00:00, 179.95it/s]\n",
      "Epoch 4 Iter 29: loss 0.39818. :   3%|▏      | 16/573 [00:00<00:03, 154.30it/s]"
     ]
    },
    {
     "name": "stdout",
     "output_type": "stream",
     "text": [
      "Classification accuracy: 82.42%\n"
     ]
    },
    {
     "name": "stderr",
     "output_type": "stream",
     "text": [
      "Epoch 4 Iter 573: loss 0.24804. : 100%|█████| 573/573 [00:03<00:00, 179.54it/s]\n",
      "Epoch 5 Iter 31: loss 0.50246. :   3%|▏      | 17/573 [00:00<00:03, 165.54it/s]"
     ]
    },
    {
     "name": "stdout",
     "output_type": "stream",
     "text": [
      "Classification accuracy: 83.31%\n"
     ]
    },
    {
     "name": "stderr",
     "output_type": "stream",
     "text": [
      "Epoch 5 Iter 573: loss 0.39961. : 100%|█████| 573/573 [00:03<00:00, 181.63it/s]\n",
      "Epoch 6 Iter 30: loss 0.48347. :   3%|▏      | 17/573 [00:00<00:03, 167.16it/s]"
     ]
    },
    {
     "name": "stdout",
     "output_type": "stream",
     "text": [
      "Classification accuracy: 84.2%\n"
     ]
    },
    {
     "name": "stderr",
     "output_type": "stream",
     "text": [
      "Epoch 6 Iter 573: loss 0.31865. : 100%|█████| 573/573 [00:03<00:00, 179.51it/s]\n",
      "Epoch 7 Iter 32: loss 0.53254. :   3%|▏      | 17/573 [00:00<00:03, 168.76it/s]"
     ]
    },
    {
     "name": "stdout",
     "output_type": "stream",
     "text": [
      "Classification accuracy: 84.26%\n"
     ]
    },
    {
     "name": "stderr",
     "output_type": "stream",
     "text": [
      "Epoch 7 Iter 573: loss 0.40423. : 100%|█████| 573/573 [00:03<00:00, 178.21it/s]\n",
      "Epoch 8 Iter 27: loss 0.31362. :   3%|▏      | 16/573 [00:00<00:03, 148.54it/s]"
     ]
    },
    {
     "name": "stdout",
     "output_type": "stream",
     "text": [
      "Classification accuracy: 84.93%\n"
     ]
    },
    {
     "name": "stderr",
     "output_type": "stream",
     "text": [
      "Epoch 8 Iter 573: loss 0.38593. : 100%|█████| 573/573 [00:03<00:00, 178.93it/s]\n",
      "Epoch 9 Iter 29: loss 0.60215. :   3%|▏      | 16/573 [00:00<00:03, 155.71it/s]"
     ]
    },
    {
     "name": "stdout",
     "output_type": "stream",
     "text": [
      "Classification accuracy: 85.34%\n"
     ]
    },
    {
     "name": "stderr",
     "output_type": "stream",
     "text": [
      "Epoch 9 Iter 573: loss 0.47415. : 100%|█████| 573/573 [00:03<00:00, 180.61it/s]\n",
      "Epoch 10 Iter 30: loss 0.59714. :   3%|▏     | 16/573 [00:00<00:03, 157.23it/s]"
     ]
    },
    {
     "name": "stdout",
     "output_type": "stream",
     "text": [
      "Classification accuracy: 84.93%\n"
     ]
    },
    {
     "name": "stderr",
     "output_type": "stream",
     "text": [
      "Epoch 10 Iter 573: loss 0.41275. : 100%|████| 573/573 [00:03<00:00, 179.11it/s]\n",
      "Epoch 11 Iter 30: loss 0.44610. :   3%|▏     | 17/573 [00:00<00:03, 160.85it/s]"
     ]
    },
    {
     "name": "stdout",
     "output_type": "stream",
     "text": [
      "Classification accuracy: 85.19%\n"
     ]
    },
    {
     "name": "stderr",
     "output_type": "stream",
     "text": [
      "Epoch 11 Iter 573: loss 0.41004. : 100%|████| 573/573 [00:03<00:00, 189.88it/s]\n",
      "Epoch 12 Iter 30: loss 0.43158. :   3%|▏     | 15/573 [00:00<00:03, 146.01it/s]"
     ]
    },
    {
     "name": "stdout",
     "output_type": "stream",
     "text": [
      "Classification accuracy: 86.05%\n"
     ]
    },
    {
     "name": "stderr",
     "output_type": "stream",
     "text": [
      "Epoch 12 Iter 573: loss 0.34357. : 100%|████| 573/573 [00:03<00:00, 178.70it/s]\n",
      "Epoch 13 Iter 28: loss 0.24481. :   3%|▏     | 16/573 [00:00<00:03, 158.84it/s]"
     ]
    },
    {
     "name": "stdout",
     "output_type": "stream",
     "text": [
      "Classification accuracy: 85.81%\n"
     ]
    },
    {
     "name": "stderr",
     "output_type": "stream",
     "text": [
      "Epoch 13 Iter 573: loss 0.24217. : 100%|████| 573/573 [00:03<00:00, 177.59it/s]\n",
      "Epoch 14 Iter 30: loss 0.36488. :   3%|▏     | 16/573 [00:00<00:03, 157.28it/s]"
     ]
    },
    {
     "name": "stdout",
     "output_type": "stream",
     "text": [
      "Classification accuracy: 84.81%\n"
     ]
    },
    {
     "name": "stderr",
     "output_type": "stream",
     "text": [
      "Epoch 14 Iter 573: loss 0.69394. : 100%|████| 573/573 [00:03<00:00, 178.73it/s]\n",
      "Epoch 15 Iter 30: loss 0.33647. :   3%|▏     | 16/573 [00:00<00:03, 151.39it/s]"
     ]
    },
    {
     "name": "stdout",
     "output_type": "stream",
     "text": [
      "Classification accuracy: 86.01%\n"
     ]
    },
    {
     "name": "stderr",
     "output_type": "stream",
     "text": [
      "Epoch 15 Iter 573: loss 0.99198. : 100%|████| 573/573 [00:03<00:00, 179.66it/s]\n",
      "Epoch 16 Iter 30: loss 0.46234. :   3%|▏     | 17/573 [00:00<00:03, 160.80it/s]"
     ]
    },
    {
     "name": "stdout",
     "output_type": "stream",
     "text": [
      "Classification accuracy: 86.01%\n"
     ]
    },
    {
     "name": "stderr",
     "output_type": "stream",
     "text": [
      "Epoch 16 Iter 573: loss 0.21223. : 100%|████| 573/573 [00:03<00:00, 178.03it/s]\n",
      "Epoch 17 Iter 29: loss 0.22470. :   3%|▏     | 16/573 [00:00<00:03, 155.80it/s]"
     ]
    },
    {
     "name": "stdout",
     "output_type": "stream",
     "text": [
      "Classification accuracy: 86.41%\n"
     ]
    },
    {
     "name": "stderr",
     "output_type": "stream",
     "text": [
      "Epoch 17 Iter 573: loss 0.18154. : 100%|████| 573/573 [00:03<00:00, 180.15it/s]\n",
      "Epoch 18 Iter 29: loss 0.37901. :   3%|▏     | 16/573 [00:00<00:03, 155.75it/s]"
     ]
    },
    {
     "name": "stdout",
     "output_type": "stream",
     "text": [
      "Classification accuracy: 86.45%\n"
     ]
    },
    {
     "name": "stderr",
     "output_type": "stream",
     "text": [
      "Epoch 18 Iter 573: loss 0.26893. : 100%|████| 573/573 [00:03<00:00, 179.74it/s]\n",
      "Epoch 19 Iter 30: loss 0.26781. :   3%|▏     | 16/573 [00:00<00:03, 154.30it/s]"
     ]
    },
    {
     "name": "stdout",
     "output_type": "stream",
     "text": [
      "Classification accuracy: 86.31%\n"
     ]
    },
    {
     "name": "stderr",
     "output_type": "stream",
     "text": [
      "Epoch 19 Iter 573: loss 0.09657. : 100%|████| 573/573 [00:03<00:00, 180.17it/s]\n",
      "Epoch 20 Iter 30: loss 0.36611. :   3%|▏     | 15/573 [00:00<00:03, 147.45it/s]"
     ]
    },
    {
     "name": "stdout",
     "output_type": "stream",
     "text": [
      "Classification accuracy: 86.22%\n"
     ]
    },
    {
     "name": "stderr",
     "output_type": "stream",
     "text": [
      "Epoch 20 Iter 573: loss 0.18943. : 100%|████| 573/573 [00:03<00:00, 178.03it/s]\n",
      "Epoch 21 Iter 28: loss 0.40541. :   3%|▏     | 16/573 [00:00<00:03, 151.34it/s]"
     ]
    },
    {
     "name": "stdout",
     "output_type": "stream",
     "text": [
      "Classification accuracy: 86.43%\n"
     ]
    },
    {
     "name": "stderr",
     "output_type": "stream",
     "text": [
      "Epoch 21 Iter 573: loss 0.23475. : 100%|████| 573/573 [00:03<00:00, 179.17it/s]\n",
      "Epoch 22 Iter 30: loss 0.21403. :   3%|▏     | 16/573 [00:00<00:03, 149.97it/s]"
     ]
    },
    {
     "name": "stdout",
     "output_type": "stream",
     "text": [
      "Classification accuracy: 86.52%\n"
     ]
    },
    {
     "name": "stderr",
     "output_type": "stream",
     "text": [
      "Epoch 22 Iter 573: loss 0.35302. : 100%|████| 573/573 [00:03<00:00, 179.36it/s]\n",
      "Epoch 23 Iter 31: loss 0.23780. :   3%|▏     | 17/573 [00:00<00:03, 162.18it/s]"
     ]
    },
    {
     "name": "stdout",
     "output_type": "stream",
     "text": [
      "Classification accuracy: 86.36%\n"
     ]
    },
    {
     "name": "stderr",
     "output_type": "stream",
     "text": [
      "Epoch 23 Iter 573: loss 0.18214. : 100%|████| 573/573 [00:03<00:00, 181.33it/s]\n",
      "Epoch 24 Iter 30: loss 0.22065. :   3%|▏     | 16/573 [00:00<00:03, 158.89it/s]"
     ]
    },
    {
     "name": "stdout",
     "output_type": "stream",
     "text": [
      "Classification accuracy: 86.83%\n"
     ]
    },
    {
     "name": "stderr",
     "output_type": "stream",
     "text": [
      "Epoch 24 Iter 573: loss 0.07884. : 100%|████| 573/573 [00:03<00:00, 176.99it/s]\n",
      "Epoch 25 Iter 31: loss 0.19263. :   3%|▏     | 17/573 [00:00<00:03, 163.94it/s]"
     ]
    },
    {
     "name": "stdout",
     "output_type": "stream",
     "text": [
      "Classification accuracy: 86.31%\n"
     ]
    },
    {
     "name": "stderr",
     "output_type": "stream",
     "text": [
      "Epoch 25 Iter 573: loss 0.11629. : 100%|████| 573/573 [00:03<00:00, 181.96it/s]\n",
      "Epoch 1 Iter 18: loss 2.20506. :   3%|▎       | 10/287 [00:00<00:02, 95.93it/s]"
     ]
    },
    {
     "name": "stdout",
     "output_type": "stream",
     "text": [
      "Classification accuracy: 86.58%\n",
      "Batch size of  256  with Learning Rate of  0.001  !\n",
      "Model has 122626 learnable parameters\n"
     ]
    },
    {
     "name": "stderr",
     "output_type": "stream",
     "text": [
      "Epoch 1 Iter 287: loss 0.70561. : 100%|█████| 287/287 [00:02<00:00, 120.59it/s]\n",
      "Epoch 2 Iter 19: loss 0.64183. :   4%|▎      | 11/287 [00:00<00:02, 100.26it/s]"
     ]
    },
    {
     "name": "stdout",
     "output_type": "stream",
     "text": [
      "Classification accuracy: 80.29%\n"
     ]
    },
    {
     "name": "stderr",
     "output_type": "stream",
     "text": [
      "Epoch 2 Iter 287: loss 0.66313. : 100%|█████| 287/287 [00:02<00:00, 120.58it/s]\n",
      "Epoch 3 Iter 20: loss 0.44782. :   4%|▎      | 11/287 [00:00<00:02, 104.05it/s]"
     ]
    },
    {
     "name": "stdout",
     "output_type": "stream",
     "text": [
      "Classification accuracy: 83.34%\n"
     ]
    },
    {
     "name": "stderr",
     "output_type": "stream",
     "text": [
      "Epoch 3 Iter 287: loss 0.59860. : 100%|█████| 287/287 [00:02<00:00, 126.41it/s]\n",
      "Epoch 4 Iter 21: loss 0.31187. :   4%|▎      | 11/287 [00:00<00:02, 104.08it/s]"
     ]
    },
    {
     "name": "stdout",
     "output_type": "stream",
     "text": [
      "Classification accuracy: 83.84%\n"
     ]
    },
    {
     "name": "stderr",
     "output_type": "stream",
     "text": [
      "Epoch 4 Iter 287: loss 0.52675. : 100%|█████| 287/287 [00:02<00:00, 122.16it/s]\n",
      "Epoch 5 Iter 19: loss 0.44221. :   4%|▎      | 11/287 [00:00<00:02, 104.05it/s]"
     ]
    },
    {
     "name": "stdout",
     "output_type": "stream",
     "text": [
      "Classification accuracy: 84.55%\n"
     ]
    },
    {
     "name": "stderr",
     "output_type": "stream",
     "text": [
      "Epoch 5 Iter 287: loss 0.41673. : 100%|█████| 287/287 [00:02<00:00, 119.80it/s]\n",
      "Epoch 6 Iter 21: loss 0.28710. :   4%|▎      | 12/287 [00:00<00:02, 113.51it/s]"
     ]
    },
    {
     "name": "stdout",
     "output_type": "stream",
     "text": [
      "Classification accuracy: 86.2%\n"
     ]
    },
    {
     "name": "stderr",
     "output_type": "stream",
     "text": [
      "Epoch 6 Iter 287: loss 0.21254. : 100%|█████| 287/287 [00:02<00:00, 121.59it/s]\n",
      "Epoch 7 Iter 20: loss 0.30821. :   4%|▎      | 11/287 [00:00<00:02, 109.20it/s]"
     ]
    },
    {
     "name": "stdout",
     "output_type": "stream",
     "text": [
      "Classification accuracy: 86.5%\n"
     ]
    },
    {
     "name": "stderr",
     "output_type": "stream",
     "text": [
      "Epoch 7 Iter 287: loss 0.51414. : 100%|█████| 287/287 [00:02<00:00, 125.06it/s]\n",
      "Epoch 8 Iter 21: loss 0.37308. :   4%|▎      | 12/287 [00:00<00:02, 113.50it/s]"
     ]
    },
    {
     "name": "stdout",
     "output_type": "stream",
     "text": [
      "Classification accuracy: 86.69%\n"
     ]
    },
    {
     "name": "stderr",
     "output_type": "stream",
     "text": [
      "Epoch 8 Iter 287: loss 0.38209. : 100%|█████| 287/287 [00:02<00:00, 123.66it/s]\n",
      "Epoch 9 Iter 20: loss 0.32308. :   4%|▎      | 11/287 [00:00<00:02, 104.05it/s]"
     ]
    },
    {
     "name": "stdout",
     "output_type": "stream",
     "text": [
      "Classification accuracy: 86.26%\n"
     ]
    },
    {
     "name": "stderr",
     "output_type": "stream",
     "text": [
      "Epoch 9 Iter 287: loss 0.35140. : 100%|█████| 287/287 [00:02<00:00, 123.34it/s]\n",
      "Epoch 10 Iter 19: loss 0.17959. :   4%|▏     | 11/287 [00:00<00:02, 107.08it/s]"
     ]
    },
    {
     "name": "stdout",
     "output_type": "stream",
     "text": [
      "Classification accuracy: 86.79%\n"
     ]
    },
    {
     "name": "stderr",
     "output_type": "stream",
     "text": [
      "Epoch 10 Iter 287: loss 0.50522. : 100%|████| 287/287 [00:02<00:00, 121.11it/s]\n",
      "Epoch 11 Iter 21: loss 0.33689. :   4%|▎     | 12/287 [00:00<00:02, 112.48it/s]"
     ]
    },
    {
     "name": "stdout",
     "output_type": "stream",
     "text": [
      "Classification accuracy: 87.38%\n"
     ]
    },
    {
     "name": "stderr",
     "output_type": "stream",
     "text": [
      "Epoch 11 Iter 287: loss 0.17480. : 100%|████| 287/287 [00:02<00:00, 124.98it/s]\n",
      "Epoch 12 Iter 21: loss 0.26558. :   4%|▏     | 11/287 [00:00<00:02, 109.20it/s]"
     ]
    },
    {
     "name": "stdout",
     "output_type": "stream",
     "text": [
      "Classification accuracy: 86.63%\n"
     ]
    },
    {
     "name": "stderr",
     "output_type": "stream",
     "text": [
      "Epoch 12 Iter 287: loss 0.68576. : 100%|████| 287/287 [00:02<00:00, 119.79it/s]\n",
      "Epoch 13 Iter 21: loss 0.13143. :   4%|▏     | 11/287 [00:00<00:02, 108.13it/s]"
     ]
    },
    {
     "name": "stdout",
     "output_type": "stream",
     "text": [
      "Classification accuracy: 86.63%\n"
     ]
    },
    {
     "name": "stderr",
     "output_type": "stream",
     "text": [
      "Epoch 13 Iter 287: loss 0.19665. : 100%|████| 287/287 [00:02<00:00, 124.98it/s]\n",
      "Epoch 14 Iter 20: loss 0.23206. :   4%|▏     | 11/287 [00:00<00:02, 102.09it/s]"
     ]
    },
    {
     "name": "stdout",
     "output_type": "stream",
     "text": [
      "Classification accuracy: 85.65%\n"
     ]
    },
    {
     "name": "stderr",
     "output_type": "stream",
     "text": [
      "Epoch 14 Iter 287: loss 0.18543. : 100%|████| 287/287 [00:02<00:00, 120.42it/s]\n",
      "Epoch 15 Iter 21: loss 0.21455. :   4%|▎     | 12/287 [00:00<00:02, 119.13it/s]"
     ]
    },
    {
     "name": "stdout",
     "output_type": "stream",
     "text": [
      "Classification accuracy: 85.75%\n"
     ]
    },
    {
     "name": "stderr",
     "output_type": "stream",
     "text": [
      "Epoch 15 Iter 287: loss 0.10637. : 100%|████| 287/287 [00:02<00:00, 125.53it/s]\n",
      "Epoch 16 Iter 20: loss 0.14026. :   4%|▏     | 11/287 [00:00<00:02, 105.04it/s]"
     ]
    },
    {
     "name": "stdout",
     "output_type": "stream",
     "text": [
      "Classification accuracy: 86.31%\n"
     ]
    },
    {
     "name": "stderr",
     "output_type": "stream",
     "text": [
      "Epoch 16 Iter 287: loss 0.03656. : 100%|████| 287/287 [00:02<00:00, 120.24it/s]\n",
      "Epoch 17 Iter 20: loss 0.18167. :   4%|▏     | 11/287 [00:00<00:02, 109.23it/s]"
     ]
    },
    {
     "name": "stdout",
     "output_type": "stream",
     "text": [
      "Classification accuracy: 86.42%\n"
     ]
    },
    {
     "name": "stderr",
     "output_type": "stream",
     "text": [
      "Epoch 17 Iter 287: loss 0.07883. : 100%|████| 287/287 [00:02<00:00, 125.07it/s]\n",
      "Epoch 18 Iter 20: loss 0.16392. :   4%|▏     | 11/287 [00:00<00:02, 105.54it/s]"
     ]
    },
    {
     "name": "stdout",
     "output_type": "stream",
     "text": [
      "Classification accuracy: 85.99%\n"
     ]
    },
    {
     "name": "stderr",
     "output_type": "stream",
     "text": [
      "Epoch 18 Iter 287: loss 0.09338. : 100%|████| 287/287 [00:02<00:00, 121.30it/s]\n",
      "Epoch 19 Iter 22: loss 0.12031. :   4%|▎     | 12/287 [00:00<00:02, 112.45it/s]"
     ]
    },
    {
     "name": "stdout",
     "output_type": "stream",
     "text": [
      "Classification accuracy: 85.72%\n"
     ]
    },
    {
     "name": "stderr",
     "output_type": "stream",
     "text": [
      "Epoch 19 Iter 287: loss 0.27247. : 100%|████| 287/287 [00:02<00:00, 123.31it/s]\n",
      "Epoch 20 Iter 19: loss 0.21495. :   4%|▏     | 11/287 [00:00<00:02, 101.67it/s]"
     ]
    },
    {
     "name": "stdout",
     "output_type": "stream",
     "text": [
      "Classification accuracy: 86.2%\n"
     ]
    },
    {
     "name": "stderr",
     "output_type": "stream",
     "text": [
      "Epoch 20 Iter 287: loss 0.11441. : 100%|████| 287/287 [00:02<00:00, 119.47it/s]\n",
      "Epoch 21 Iter 18: loss 0.09806. :   3%|▏      | 10/287 [00:00<00:02, 98.33it/s]"
     ]
    },
    {
     "name": "stdout",
     "output_type": "stream",
     "text": [
      "Classification accuracy: 86.19%\n"
     ]
    },
    {
     "name": "stderr",
     "output_type": "stream",
     "text": [
      "Epoch 21 Iter 287: loss 0.17025. : 100%|████| 287/287 [00:02<00:00, 122.10it/s]\n",
      "Epoch 22 Iter 20: loss 0.05865. :   4%|▏     | 11/287 [00:00<00:02, 105.04it/s]"
     ]
    },
    {
     "name": "stdout",
     "output_type": "stream",
     "text": [
      "Classification accuracy: 85.4%\n"
     ]
    },
    {
     "name": "stderr",
     "output_type": "stream",
     "text": [
      "Epoch 22 Iter 287: loss 0.07492. : 100%|████| 287/287 [00:02<00:00, 122.02it/s]\n",
      "Epoch 23 Iter 19: loss 0.06852. :   4%|▏     | 11/287 [00:00<00:02, 108.13it/s]"
     ]
    },
    {
     "name": "stdout",
     "output_type": "stream",
     "text": [
      "Classification accuracy: 86.47%\n"
     ]
    },
    {
     "name": "stderr",
     "output_type": "stream",
     "text": [
      "Epoch 23 Iter 287: loss 0.14415. : 100%|████| 287/287 [00:02<00:00, 121.62it/s]\n",
      "Epoch 24 Iter 18: loss 0.08920. :   3%|▏      | 10/287 [00:00<00:02, 94.59it/s]"
     ]
    },
    {
     "name": "stdout",
     "output_type": "stream",
     "text": [
      "Classification accuracy: 85.49%\n"
     ]
    },
    {
     "name": "stderr",
     "output_type": "stream",
     "text": [
      "Epoch 24 Iter 287: loss 0.08405. : 100%|████| 287/287 [00:02<00:00, 120.70it/s]\n",
      "Epoch 25 Iter 23: loss 0.03820. :   5%|▎     | 14/287 [00:00<00:02, 129.97it/s]"
     ]
    },
    {
     "name": "stdout",
     "output_type": "stream",
     "text": [
      "Classification accuracy: 85.89%\n"
     ]
    },
    {
     "name": "stderr",
     "output_type": "stream",
     "text": [
      "Epoch 25 Iter 287: loss 0.03054. : 100%|████| 287/287 [00:02<00:00, 125.85it/s]\n",
      "Epoch 1 Iter 15: loss 2.19674. :   3%|▎       | 10/287 [00:00<00:03, 74.27it/s]"
     ]
    },
    {
     "name": "stdout",
     "output_type": "stream",
     "text": [
      "Classification accuracy: 85.36%\n",
      "Batch size of  256  with Learning Rate of  0.0003  !\n",
      "Model has 122626 learnable parameters\n"
     ]
    },
    {
     "name": "stderr",
     "output_type": "stream",
     "text": [
      "Epoch 1 Iter 287: loss 0.81784. : 100%|█████| 287/287 [00:02<00:00, 121.20it/s]\n",
      "Epoch 2 Iter 22: loss 0.81909. :   4%|▎      | 12/287 [00:00<00:02, 116.81it/s]"
     ]
    },
    {
     "name": "stdout",
     "output_type": "stream",
     "text": [
      "Classification accuracy: 78.37%\n"
     ]
    },
    {
     "name": "stderr",
     "output_type": "stream",
     "text": [
      "Epoch 2 Iter 287: loss 0.56321. : 100%|█████| 287/287 [00:02<00:00, 123.44it/s]\n",
      "Epoch 3 Iter 20: loss 0.64215. :   4%|▎      | 11/287 [00:00<00:02, 104.05it/s]"
     ]
    },
    {
     "name": "stdout",
     "output_type": "stream",
     "text": [
      "Classification accuracy: 82.48%\n"
     ]
    },
    {
     "name": "stderr",
     "output_type": "stream",
     "text": [
      "Epoch 3 Iter 287: loss 0.26855. : 100%|█████| 287/287 [00:02<00:00, 122.22it/s]\n",
      "Epoch 4 Iter 20: loss 0.51013. :   4%|▎      | 11/287 [00:00<00:02, 109.23it/s]"
     ]
    },
    {
     "name": "stdout",
     "output_type": "stream",
     "text": [
      "Classification accuracy: 83.6%\n"
     ]
    },
    {
     "name": "stderr",
     "output_type": "stream",
     "text": [
      "Epoch 4 Iter 287: loss 0.39952. : 100%|█████| 287/287 [00:02<00:00, 123.59it/s]\n",
      "Epoch 5 Iter 20: loss 0.42206. :   4%|▎      | 11/287 [00:00<00:02, 107.08it/s]"
     ]
    },
    {
     "name": "stdout",
     "output_type": "stream",
     "text": [
      "Classification accuracy: 84.36%\n"
     ]
    },
    {
     "name": "stderr",
     "output_type": "stream",
     "text": [
      "Epoch 5 Iter 287: loss 0.38588. : 100%|█████| 287/287 [00:02<00:00, 123.70it/s]\n",
      "Epoch 6 Iter 21: loss 0.45610. :   4%|▎      | 11/287 [00:00<00:02, 105.04it/s]"
     ]
    },
    {
     "name": "stdout",
     "output_type": "stream",
     "text": [
      "Classification accuracy: 84.73%\n"
     ]
    },
    {
     "name": "stderr",
     "output_type": "stream",
     "text": [
      "Epoch 6 Iter 287: loss 0.33839. : 100%|█████| 287/287 [00:02<00:00, 124.26it/s]\n",
      "Epoch 7 Iter 21: loss 0.39380. :   4%|▎      | 11/287 [00:00<00:02, 107.11it/s]"
     ]
    },
    {
     "name": "stdout",
     "output_type": "stream",
     "text": [
      "Classification accuracy: 86.06%\n"
     ]
    },
    {
     "name": "stderr",
     "output_type": "stream",
     "text": [
      "Epoch 7 Iter 287: loss 0.26083. : 100%|█████| 287/287 [00:02<00:00, 122.98it/s]\n",
      "Epoch 8 Iter 19: loss 0.31159. :   4%|▎      | 11/287 [00:00<00:02, 104.08it/s]"
     ]
    },
    {
     "name": "stdout",
     "output_type": "stream",
     "text": [
      "Classification accuracy: 85.43%\n"
     ]
    },
    {
     "name": "stderr",
     "output_type": "stream",
     "text": [
      "Epoch 8 Iter 287: loss 0.33569. : 100%|█████| 287/287 [00:02<00:00, 124.24it/s]\n",
      "Epoch 9 Iter 20: loss 0.25480. :   4%|▎      | 11/287 [00:00<00:02, 103.08it/s]"
     ]
    },
    {
     "name": "stdout",
     "output_type": "stream",
     "text": [
      "Classification accuracy: 86.35%\n"
     ]
    },
    {
     "name": "stderr",
     "output_type": "stream",
     "text": [
      "Epoch 9 Iter 287: loss 0.18525. : 100%|█████| 287/287 [00:02<00:00, 122.89it/s]\n",
      "Epoch 10 Iter 20: loss 0.27001. :   4%|▏     | 11/287 [00:00<00:02, 106.05it/s]"
     ]
    },
    {
     "name": "stdout",
     "output_type": "stream",
     "text": [
      "Classification accuracy: 86.64%\n"
     ]
    },
    {
     "name": "stderr",
     "output_type": "stream",
     "text": [
      "Epoch 10 Iter 287: loss 0.25338. : 100%|████| 287/287 [00:02<00:00, 122.02it/s]\n",
      "Epoch 11 Iter 19: loss 0.39584. :   4%|▏     | 11/287 [00:00<00:02, 101.20it/s]"
     ]
    },
    {
     "name": "stdout",
     "output_type": "stream",
     "text": [
      "Classification accuracy: 86.41%\n"
     ]
    },
    {
     "name": "stderr",
     "output_type": "stream",
     "text": [
      "Epoch 11 Iter 287: loss 0.10603. : 100%|████| 287/287 [00:02<00:00, 124.15it/s]\n",
      "Epoch 12 Iter 20: loss 0.27488. :   4%|▏     | 11/287 [00:00<00:02, 105.07it/s]"
     ]
    },
    {
     "name": "stdout",
     "output_type": "stream",
     "text": [
      "Classification accuracy: 86.87%\n"
     ]
    },
    {
     "name": "stderr",
     "output_type": "stream",
     "text": [
      "Epoch 12 Iter 287: loss 0.34396. : 100%|████| 287/287 [00:02<00:00, 121.76it/s]\n",
      "Epoch 13 Iter 19: loss 0.24564. :   4%|▏     | 11/287 [00:00<00:02, 101.21it/s]"
     ]
    },
    {
     "name": "stdout",
     "output_type": "stream",
     "text": [
      "Classification accuracy: 87.02%\n"
     ]
    },
    {
     "name": "stderr",
     "output_type": "stream",
     "text": [
      "Epoch 13 Iter 287: loss 0.72984. : 100%|████| 287/287 [00:02<00:00, 122.40it/s]\n",
      "Epoch 14 Iter 19: loss 0.21828. :   4%|▏     | 11/287 [00:00<00:02, 102.12it/s]"
     ]
    },
    {
     "name": "stdout",
     "output_type": "stream",
     "text": [
      "Classification accuracy: 87.31%\n"
     ]
    },
    {
     "name": "stderr",
     "output_type": "stream",
     "text": [
      "Epoch 14 Iter 287: loss 0.28704. : 100%|████| 287/287 [00:02<00:00, 121.25it/s]\n",
      "Epoch 15 Iter 20: loss 0.23879. :   4%|▏     | 11/287 [00:00<00:02, 106.05it/s]"
     ]
    },
    {
     "name": "stdout",
     "output_type": "stream",
     "text": [
      "Classification accuracy: 87.0%\n"
     ]
    },
    {
     "name": "stderr",
     "output_type": "stream",
     "text": [
      "Epoch 15 Iter 287: loss 0.14852. : 100%|████| 287/287 [00:02<00:00, 124.04it/s]\n",
      "Epoch 16 Iter 20: loss 0.19701. :   4%|▏     | 11/287 [00:00<00:02, 107.08it/s]"
     ]
    },
    {
     "name": "stdout",
     "output_type": "stream",
     "text": [
      "Classification accuracy: 87.41%\n"
     ]
    },
    {
     "name": "stderr",
     "output_type": "stream",
     "text": [
      "Epoch 16 Iter 287: loss 0.13184. : 100%|████| 287/287 [00:02<00:00, 119.77it/s]\n",
      "Epoch 17 Iter 20: loss 0.21548. :   4%|▏     | 11/287 [00:00<00:02, 104.05it/s]"
     ]
    },
    {
     "name": "stdout",
     "output_type": "stream",
     "text": [
      "Classification accuracy: 87.07%\n"
     ]
    },
    {
     "name": "stderr",
     "output_type": "stream",
     "text": [
      "Epoch 17 Iter 287: loss 0.22141. : 100%|████| 287/287 [00:02<00:00, 123.20it/s]\n",
      "Epoch 18 Iter 19: loss 0.10911. :   4%|▏     | 11/287 [00:00<00:02, 102.16it/s]"
     ]
    },
    {
     "name": "stdout",
     "output_type": "stream",
     "text": [
      "Classification accuracy: 86.84%\n"
     ]
    },
    {
     "name": "stderr",
     "output_type": "stream",
     "text": [
      "Epoch 18 Iter 287: loss 0.20162. : 100%|████| 287/287 [00:02<00:00, 120.01it/s]\n",
      "Epoch 19 Iter 20: loss 0.16232. :   4%|▏     | 11/287 [00:00<00:02, 105.06it/s]"
     ]
    },
    {
     "name": "stdout",
     "output_type": "stream",
     "text": [
      "Classification accuracy: 87.3%\n"
     ]
    },
    {
     "name": "stderr",
     "output_type": "stream",
     "text": [
      "Epoch 19 Iter 287: loss 0.41235. : 100%|████| 287/287 [00:02<00:00, 123.73it/s]\n",
      "Epoch 20 Iter 20: loss 0.15904. :   4%|▏     | 11/287 [00:00<00:02, 109.20it/s]"
     ]
    },
    {
     "name": "stdout",
     "output_type": "stream",
     "text": [
      "Classification accuracy: 86.97%\n"
     ]
    },
    {
     "name": "stderr",
     "output_type": "stream",
     "text": [
      "Epoch 20 Iter 287: loss 0.14416. : 100%|████| 287/287 [00:02<00:00, 122.10it/s]\n",
      "Epoch 21 Iter 19: loss 0.13303. :   4%|▏     | 11/287 [00:00<00:02, 107.11it/s]"
     ]
    },
    {
     "name": "stdout",
     "output_type": "stream",
     "text": [
      "Classification accuracy: 86.97%\n"
     ]
    },
    {
     "name": "stderr",
     "output_type": "stream",
     "text": [
      "Epoch 21 Iter 287: loss 0.10144. : 100%|████| 287/287 [00:02<00:00, 123.21it/s]\n",
      "Epoch 22 Iter 20: loss 0.19430. :   4%|▏     | 11/287 [00:00<00:02, 109.20it/s]"
     ]
    },
    {
     "name": "stdout",
     "output_type": "stream",
     "text": [
      "Classification accuracy: 87.0%\n"
     ]
    },
    {
     "name": "stderr",
     "output_type": "stream",
     "text": [
      "Epoch 22 Iter 287: loss 0.14090. : 100%|████| 287/287 [00:02<00:00, 122.93it/s]\n",
      "Epoch 23 Iter 20: loss 0.14386. :   4%|▏     | 11/287 [00:00<00:02, 108.16it/s]"
     ]
    },
    {
     "name": "stdout",
     "output_type": "stream",
     "text": [
      "Classification accuracy: 86.67%\n"
     ]
    },
    {
     "name": "stderr",
     "output_type": "stream",
     "text": [
      "Epoch 23 Iter 287: loss 0.13038. : 100%|████| 287/287 [00:02<00:00, 123.27it/s]\n",
      "Epoch 24 Iter 20: loss 0.06455. :   4%|▏     | 11/287 [00:00<00:02, 106.08it/s]"
     ]
    },
    {
     "name": "stdout",
     "output_type": "stream",
     "text": [
      "Classification accuracy: 87.07%\n"
     ]
    },
    {
     "name": "stderr",
     "output_type": "stream",
     "text": [
      "Epoch 24 Iter 287: loss 0.04391. : 100%|████| 287/287 [00:02<00:00, 120.32it/s]\n",
      "Epoch 25 Iter 20: loss 0.11763. :   4%|▏     | 11/287 [00:00<00:02, 107.11it/s]"
     ]
    },
    {
     "name": "stdout",
     "output_type": "stream",
     "text": [
      "Classification accuracy: 87.28%\n"
     ]
    },
    {
     "name": "stderr",
     "output_type": "stream",
     "text": [
      "Epoch 25 Iter 287: loss 0.07877. : 100%|████| 287/287 [00:02<00:00, 125.33it/s]\n",
      "Epoch 1 Iter 19: loss 2.22282. :   4%|▎      | 11/287 [00:00<00:02, 103.08it/s]"
     ]
    },
    {
     "name": "stdout",
     "output_type": "stream",
     "text": [
      "Classification accuracy: 86.84%\n",
      "Batch size of  256  with Learning Rate of  0.0005  !\n",
      "Model has 122626 learnable parameters\n"
     ]
    },
    {
     "name": "stderr",
     "output_type": "stream",
     "text": [
      "Epoch 1 Iter 287: loss 0.66295. : 100%|█████| 287/287 [00:02<00:00, 120.59it/s]\n",
      "Epoch 2 Iter 20: loss 0.66113. :   4%|▎      | 11/287 [00:00<00:02, 107.08it/s]"
     ]
    },
    {
     "name": "stdout",
     "output_type": "stream",
     "text": [
      "Classification accuracy: 81.61%\n"
     ]
    },
    {
     "name": "stderr",
     "output_type": "stream",
     "text": [
      "Epoch 2 Iter 287: loss 0.53705. : 100%|█████| 287/287 [00:02<00:00, 122.74it/s]\n",
      "Epoch 3 Iter 20: loss 0.48286. :   3%|▎       | 10/287 [00:00<00:02, 98.30it/s]"
     ]
    },
    {
     "name": "stdout",
     "output_type": "stream",
     "text": [
      "Classification accuracy: 84.39%\n"
     ]
    },
    {
     "name": "stderr",
     "output_type": "stream",
     "text": [
      "Epoch 3 Iter 287: loss 0.20337. : 100%|█████| 287/287 [00:02<00:00, 120.38it/s]\n",
      "Epoch 4 Iter 20: loss 0.42205. :   4%|▎      | 11/287 [00:00<00:02, 104.08it/s]"
     ]
    },
    {
     "name": "stdout",
     "output_type": "stream",
     "text": [
      "Classification accuracy: 85.17%\n"
     ]
    },
    {
     "name": "stderr",
     "output_type": "stream",
     "text": [
      "Epoch 4 Iter 287: loss 0.29144. : 100%|█████| 287/287 [00:02<00:00, 122.96it/s]\n",
      "Epoch 5 Iter 21: loss 0.38987. :   4%|▎      | 12/287 [00:00<00:02, 113.51it/s]"
     ]
    },
    {
     "name": "stdout",
     "output_type": "stream",
     "text": [
      "Classification accuracy: 86.16%\n"
     ]
    },
    {
     "name": "stderr",
     "output_type": "stream",
     "text": [
      "Epoch 5 Iter 287: loss 0.38884. : 100%|█████| 287/287 [00:02<00:00, 120.62it/s]\n",
      "Epoch 6 Iter 19: loss 0.27378. :   4%|▎      | 11/287 [00:00<00:02, 102.12it/s]"
     ]
    },
    {
     "name": "stdout",
     "output_type": "stream",
     "text": [
      "Classification accuracy: 86.63%\n"
     ]
    },
    {
     "name": "stderr",
     "output_type": "stream",
     "text": [
      "Epoch 6 Iter 287: loss 0.26427. : 100%|█████| 287/287 [00:02<00:00, 121.14it/s]\n",
      "Epoch 7 Iter 20: loss 0.38999. :   4%|▎      | 12/287 [00:00<00:02, 112.45it/s]"
     ]
    },
    {
     "name": "stdout",
     "output_type": "stream",
     "text": [
      "Classification accuracy: 87.0%\n"
     ]
    },
    {
     "name": "stderr",
     "output_type": "stream",
     "text": [
      "Epoch 7 Iter 287: loss 0.26786. : 100%|█████| 287/287 [00:02<00:00, 121.83it/s]\n",
      "Epoch 8 Iter 20: loss 0.34826. :   4%|▎      | 11/287 [00:00<00:02, 106.05it/s]"
     ]
    },
    {
     "name": "stdout",
     "output_type": "stream",
     "text": [
      "Classification accuracy: 87.12%\n"
     ]
    },
    {
     "name": "stderr",
     "output_type": "stream",
     "text": [
      "Epoch 8 Iter 287: loss 0.20345. : 100%|█████| 287/287 [00:02<00:00, 122.19it/s]\n",
      "Epoch 9 Iter 20: loss 0.16517. :   4%|▎      | 12/287 [00:00<00:02, 111.41it/s]"
     ]
    },
    {
     "name": "stdout",
     "output_type": "stream",
     "text": [
      "Classification accuracy: 87.59%\n"
     ]
    },
    {
     "name": "stderr",
     "output_type": "stream",
     "text": [
      "Epoch 9 Iter 287: loss 0.20756. : 100%|█████| 287/287 [00:02<00:00, 121.14it/s]\n",
      "Epoch 10 Iter 20: loss 0.26849. :   4%|▏     | 11/287 [00:00<00:02, 106.05it/s]"
     ]
    },
    {
     "name": "stdout",
     "output_type": "stream",
     "text": [
      "Classification accuracy: 87.9%\n"
     ]
    },
    {
     "name": "stderr",
     "output_type": "stream",
     "text": [
      "Epoch 10 Iter 287: loss 0.40377. : 100%|████| 287/287 [00:02<00:00, 123.78it/s]\n",
      "Epoch 11 Iter 20: loss 0.21811. :   4%|▏     | 11/287 [00:00<00:02, 108.13it/s]"
     ]
    },
    {
     "name": "stdout",
     "output_type": "stream",
     "text": [
      "Classification accuracy: 87.59%\n"
     ]
    },
    {
     "name": "stderr",
     "output_type": "stream",
     "text": [
      "Epoch 11 Iter 287: loss 0.27194. : 100%|████| 287/287 [00:02<00:00, 119.57it/s]\n",
      "Epoch 12 Iter 20: loss 0.22966. :   4%|▏     | 11/287 [00:00<00:02, 109.23it/s]"
     ]
    },
    {
     "name": "stdout",
     "output_type": "stream",
     "text": [
      "Classification accuracy: 87.35%\n"
     ]
    },
    {
     "name": "stderr",
     "output_type": "stream",
     "text": [
      "Epoch 12 Iter 287: loss 0.28990. : 100%|████| 287/287 [00:02<00:00, 124.46it/s]\n",
      "Epoch 13 Iter 20: loss 0.14859. :   4%|▏     | 11/287 [00:00<00:02, 107.12it/s]"
     ]
    },
    {
     "name": "stdout",
     "output_type": "stream",
     "text": [
      "Classification accuracy: 87.57%\n"
     ]
    },
    {
     "name": "stderr",
     "output_type": "stream",
     "text": [
      "Epoch 13 Iter 287: loss 0.10203. : 100%|████| 287/287 [00:02<00:00, 119.48it/s]\n",
      "Epoch 14 Iter 21: loss 0.12731. :   4%|▎     | 12/287 [00:00<00:02, 113.51it/s]"
     ]
    },
    {
     "name": "stdout",
     "output_type": "stream",
     "text": [
      "Classification accuracy: 88.44%\n"
     ]
    },
    {
     "name": "stderr",
     "output_type": "stream",
     "text": [
      "Epoch 14 Iter 287: loss 0.03188. : 100%|████| 287/287 [00:02<00:00, 123.80it/s]\n",
      "Epoch 15 Iter 17: loss 0.12603. :   4%|▏     | 11/287 [00:00<00:02, 106.10it/s]"
     ]
    },
    {
     "name": "stdout",
     "output_type": "stream",
     "text": [
      "Classification accuracy: 87.69%\n"
     ]
    },
    {
     "name": "stderr",
     "output_type": "stream",
     "text": [
      "Epoch 15 Iter 287: loss 0.12050. : 100%|████| 287/287 [00:02<00:00, 119.01it/s]\n",
      "Epoch 16 Iter 20: loss 0.09065. :   4%|▏     | 11/287 [00:00<00:02, 104.08it/s]"
     ]
    },
    {
     "name": "stdout",
     "output_type": "stream",
     "text": [
      "Classification accuracy: 87.54%\n"
     ]
    },
    {
     "name": "stderr",
     "output_type": "stream",
     "text": [
      "Epoch 16 Iter 287: loss 0.09999. : 100%|████| 287/287 [00:02<00:00, 123.88it/s]\n",
      "Epoch 17 Iter 20: loss 0.12286. :   4%|▏     | 11/287 [00:00<00:02, 108.13it/s]"
     ]
    },
    {
     "name": "stdout",
     "output_type": "stream",
     "text": [
      "Classification accuracy: 87.47%\n"
     ]
    },
    {
     "name": "stderr",
     "output_type": "stream",
     "text": [
      "Epoch 17 Iter 287: loss 0.12650. : 100%|████| 287/287 [00:02<00:00, 123.93it/s]\n",
      "Epoch 18 Iter 23: loss 0.08998. :   4%|▎     | 12/287 [00:00<00:02, 119.18it/s]"
     ]
    },
    {
     "name": "stdout",
     "output_type": "stream",
     "text": [
      "Classification accuracy: 87.35%\n"
     ]
    },
    {
     "name": "stderr",
     "output_type": "stream",
     "text": [
      "Epoch 18 Iter 287: loss 0.12247. : 100%|████| 287/287 [00:02<00:00, 125.38it/s]\n",
      "Epoch 19 Iter 19: loss 0.09307. :   4%|▏     | 11/287 [00:00<00:02, 102.12it/s]"
     ]
    },
    {
     "name": "stdout",
     "output_type": "stream",
     "text": [
      "Classification accuracy: 87.02%\n"
     ]
    },
    {
     "name": "stderr",
     "output_type": "stream",
     "text": [
      "Epoch 19 Iter 287: loss 0.20486. : 100%|████| 287/287 [00:02<00:00, 121.67it/s]\n",
      "Epoch 20 Iter 18: loss 0.07941. :   3%|▏      | 10/287 [00:00<00:02, 96.43it/s]"
     ]
    },
    {
     "name": "stdout",
     "output_type": "stream",
     "text": [
      "Classification accuracy: 87.76%\n"
     ]
    },
    {
     "name": "stderr",
     "output_type": "stream",
     "text": [
      "Epoch 20 Iter 287: loss 0.05773. : 100%|████| 287/287 [00:02<00:00, 122.78it/s]\n",
      "Epoch 21 Iter 20: loss 0.12850. :   4%|▏     | 11/287 [00:00<00:02, 103.09it/s]"
     ]
    },
    {
     "name": "stdout",
     "output_type": "stream",
     "text": [
      "Classification accuracy: 87.66%\n"
     ]
    },
    {
     "name": "stderr",
     "output_type": "stream",
     "text": [
      "Epoch 21 Iter 287: loss 0.09586. : 100%|████| 287/287 [00:02<00:00, 121.07it/s]\n",
      "Epoch 22 Iter 20: loss 0.06937. :   4%|▏     | 11/287 [00:00<00:02, 108.17it/s]"
     ]
    },
    {
     "name": "stdout",
     "output_type": "stream",
     "text": [
      "Classification accuracy: 87.05%\n"
     ]
    },
    {
     "name": "stderr",
     "output_type": "stream",
     "text": [
      "Epoch 22 Iter 287: loss 0.06886. : 100%|████| 287/287 [00:02<00:00, 124.09it/s]\n",
      "Epoch 23 Iter 20: loss 0.04763. :   4%|▏     | 11/287 [00:00<00:02, 106.05it/s]"
     ]
    },
    {
     "name": "stdout",
     "output_type": "stream",
     "text": [
      "Classification accuracy: 87.44%\n"
     ]
    },
    {
     "name": "stderr",
     "output_type": "stream",
     "text": [
      "Epoch 23 Iter 287: loss 0.10580. : 100%|████| 287/287 [00:02<00:00, 122.96it/s]\n",
      "Epoch 24 Iter 20: loss 0.08107. :   4%|▏     | 11/287 [00:00<00:02, 102.12it/s]"
     ]
    },
    {
     "name": "stdout",
     "output_type": "stream",
     "text": [
      "Classification accuracy: 87.14%\n"
     ]
    },
    {
     "name": "stderr",
     "output_type": "stream",
     "text": [
      "Epoch 24 Iter 287: loss 0.04151. : 100%|████| 287/287 [00:02<00:00, 121.87it/s]\n",
      "Epoch 25 Iter 20: loss 0.06079. :   4%|▏     | 11/287 [00:00<00:02, 103.10it/s]"
     ]
    },
    {
     "name": "stdout",
     "output_type": "stream",
     "text": [
      "Classification accuracy: 87.25%\n"
     ]
    },
    {
     "name": "stderr",
     "output_type": "stream",
     "text": [
      "Epoch 25 Iter 287: loss 0.08389. : 100%|████| 287/287 [00:02<00:00, 121.88it/s]\n",
      "Epoch 1 Iter 19: loss 2.25433. :   4%|▎      | 11/287 [00:00<00:02, 103.07it/s]"
     ]
    },
    {
     "name": "stdout",
     "output_type": "stream",
     "text": [
      "Classification accuracy: 86.76%\n",
      "Batch size of  256  with Learning Rate of  0.0001  !\n",
      "Model has 122626 learnable parameters\n"
     ]
    },
    {
     "name": "stderr",
     "output_type": "stream",
     "text": [
      "Epoch 1 Iter 287: loss 1.02310. : 100%|█████| 287/287 [00:02<00:00, 119.25it/s]\n",
      "Epoch 2 Iter 20: loss 1.05388. :   4%|▎      | 11/287 [00:00<00:02, 104.05it/s]"
     ]
    },
    {
     "name": "stdout",
     "output_type": "stream",
     "text": [
      "Classification accuracy: 65.77%\n"
     ]
    },
    {
     "name": "stderr",
     "output_type": "stream",
     "text": [
      "Epoch 2 Iter 287: loss 1.12729. : 100%|█████| 287/287 [00:02<00:00, 121.23it/s]\n",
      "Epoch 3 Iter 20: loss 0.89763. :   4%|▎      | 11/287 [00:00<00:02, 104.05it/s]"
     ]
    },
    {
     "name": "stdout",
     "output_type": "stream",
     "text": [
      "Classification accuracy: 74.49%\n"
     ]
    },
    {
     "name": "stderr",
     "output_type": "stream",
     "text": [
      "Epoch 3 Iter 287: loss 0.57206. : 100%|█████| 287/287 [00:02<00:00, 119.45it/s]\n",
      "Epoch 4 Iter 19: loss 0.75165. :   4%|▎      | 11/287 [00:00<00:02, 107.08it/s]"
     ]
    },
    {
     "name": "stdout",
     "output_type": "stream",
     "text": [
      "Classification accuracy: 77.54%\n"
     ]
    },
    {
     "name": "stderr",
     "output_type": "stream",
     "text": [
      "Epoch 4 Iter 287: loss 0.65466. : 100%|█████| 287/287 [00:02<00:00, 121.35it/s]\n",
      "Epoch 5 Iter 20: loss 0.77655. :   4%|▎      | 11/287 [00:00<00:02, 108.16it/s]"
     ]
    },
    {
     "name": "stdout",
     "output_type": "stream",
     "text": [
      "Classification accuracy: 79.28%\n"
     ]
    },
    {
     "name": "stderr",
     "output_type": "stream",
     "text": [
      "Epoch 5 Iter 287: loss 0.76109. : 100%|█████| 287/287 [00:02<00:00, 119.32it/s]\n",
      "Epoch 6 Iter 20: loss 0.57333. :   4%|▎      | 11/287 [00:00<00:02, 103.07it/s]"
     ]
    },
    {
     "name": "stdout",
     "output_type": "stream",
     "text": [
      "Classification accuracy: 79.46%\n"
     ]
    },
    {
     "name": "stderr",
     "output_type": "stream",
     "text": [
      "Epoch 6 Iter 287: loss 0.52395. : 100%|█████| 287/287 [00:02<00:00, 123.23it/s]\n",
      "Epoch 7 Iter 19: loss 0.57201. :   3%|▎       | 10/287 [00:00<00:02, 99.31it/s]"
     ]
    },
    {
     "name": "stdout",
     "output_type": "stream",
     "text": [
      "Classification accuracy: 81.6%\n"
     ]
    },
    {
     "name": "stderr",
     "output_type": "stream",
     "text": [
      "Epoch 7 Iter 287: loss 0.32537. : 100%|█████| 287/287 [00:02<00:00, 120.24it/s]\n",
      "Epoch 8 Iter 19: loss 0.42288. :   4%|▎      | 11/287 [00:00<00:02, 104.08it/s]"
     ]
    },
    {
     "name": "stdout",
     "output_type": "stream",
     "text": [
      "Classification accuracy: 81.88%\n"
     ]
    },
    {
     "name": "stderr",
     "output_type": "stream",
     "text": [
      "Epoch 8 Iter 287: loss 0.52979. : 100%|█████| 287/287 [00:02<00:00, 121.82it/s]\n",
      "Epoch 9 Iter 19: loss 0.56587. :   4%|▎      | 11/287 [00:00<00:02, 104.05it/s]"
     ]
    },
    {
     "name": "stdout",
     "output_type": "stream",
     "text": [
      "Classification accuracy: 82.34%\n"
     ]
    },
    {
     "name": "stderr",
     "output_type": "stream",
     "text": [
      "Epoch 9 Iter 287: loss 0.71004. : 100%|█████| 287/287 [00:02<00:00, 121.19it/s]\n",
      "Epoch 10 Iter 19: loss 0.41345. :   4%|▏     | 11/287 [00:00<00:02, 102.13it/s]"
     ]
    },
    {
     "name": "stdout",
     "output_type": "stream",
     "text": [
      "Classification accuracy: 81.98%\n"
     ]
    },
    {
     "name": "stderr",
     "output_type": "stream",
     "text": [
      "Epoch 10 Iter 287: loss 0.36745. : 100%|████| 287/287 [00:02<00:00, 122.37it/s]\n",
      "Epoch 11 Iter 18: loss 0.45546. :   3%|▏      | 10/287 [00:00<00:02, 98.30it/s]"
     ]
    },
    {
     "name": "stdout",
     "output_type": "stream",
     "text": [
      "Classification accuracy: 82.97%\n"
     ]
    },
    {
     "name": "stderr",
     "output_type": "stream",
     "text": [
      "Epoch 11 Iter 287: loss 0.47569. : 100%|████| 287/287 [00:02<00:00, 119.03it/s]\n",
      "Epoch 12 Iter 20: loss 0.47927. :   4%|▏     | 11/287 [00:00<00:02, 105.05it/s]"
     ]
    },
    {
     "name": "stdout",
     "output_type": "stream",
     "text": [
      "Classification accuracy: 83.49%\n"
     ]
    },
    {
     "name": "stderr",
     "output_type": "stream",
     "text": [
      "Epoch 12 Iter 287: loss 0.56102. : 100%|████| 287/287 [00:02<00:00, 123.23it/s]\n",
      "Epoch 13 Iter 20: loss 0.38212. :   4%|▏     | 11/287 [00:00<00:02, 107.08it/s]"
     ]
    },
    {
     "name": "stdout",
     "output_type": "stream",
     "text": [
      "Classification accuracy: 83.22%\n"
     ]
    },
    {
     "name": "stderr",
     "output_type": "stream",
     "text": [
      "Epoch 13 Iter 287: loss 0.72432. : 100%|████| 287/287 [00:02<00:00, 120.40it/s]\n",
      "Epoch 14 Iter 19: loss 0.36488. :   4%|▏     | 11/287 [00:00<00:02, 102.12it/s]"
     ]
    },
    {
     "name": "stdout",
     "output_type": "stream",
     "text": [
      "Classification accuracy: 83.99%\n"
     ]
    },
    {
     "name": "stderr",
     "output_type": "stream",
     "text": [
      "Epoch 14 Iter 287: loss 0.25799. : 100%|████| 287/287 [00:02<00:00, 121.98it/s]\n",
      "Epoch 15 Iter 20: loss 0.43226. :   4%|▏     | 11/287 [00:00<00:02, 104.10it/s]"
     ]
    },
    {
     "name": "stdout",
     "output_type": "stream",
     "text": [
      "Classification accuracy: 84.1%\n"
     ]
    },
    {
     "name": "stderr",
     "output_type": "stream",
     "text": [
      "Epoch 15 Iter 287: loss 0.57108. : 100%|████| 287/287 [00:02<00:00, 120.57it/s]\n",
      "Epoch 16 Iter 19: loss 0.53303. :   4%|▏     | 11/287 [00:00<00:02, 105.04it/s]"
     ]
    },
    {
     "name": "stdout",
     "output_type": "stream",
     "text": [
      "Classification accuracy: 83.72%\n"
     ]
    },
    {
     "name": "stderr",
     "output_type": "stream",
     "text": [
      "Epoch 16 Iter 287: loss 0.62112. : 100%|████| 287/287 [00:02<00:00, 122.02it/s]\n",
      "Epoch 17 Iter 18: loss 0.43215. :   3%|▏      | 10/287 [00:00<00:02, 99.30it/s]"
     ]
    },
    {
     "name": "stdout",
     "output_type": "stream",
     "text": [
      "Classification accuracy: 84.24%\n"
     ]
    },
    {
     "name": "stderr",
     "output_type": "stream",
     "text": [
      "Epoch 17 Iter 287: loss 0.38260. : 100%|████| 287/287 [00:02<00:00, 120.09it/s]\n",
      "Epoch 18 Iter 20: loss 0.41467. :   4%|▏     | 11/287 [00:00<00:02, 106.07it/s]"
     ]
    },
    {
     "name": "stdout",
     "output_type": "stream",
     "text": [
      "Classification accuracy: 84.52%\n"
     ]
    },
    {
     "name": "stderr",
     "output_type": "stream",
     "text": [
      "Epoch 18 Iter 287: loss 0.39117. : 100%|████| 287/287 [00:02<00:00, 122.04it/s]\n",
      "Epoch 19 Iter 20: loss 0.46049. :   4%|▏     | 11/287 [00:00<00:02, 105.04it/s]"
     ]
    },
    {
     "name": "stdout",
     "output_type": "stream",
     "text": [
      "Classification accuracy: 84.48%\n"
     ]
    },
    {
     "name": "stderr",
     "output_type": "stream",
     "text": [
      "Epoch 19 Iter 287: loss 0.14734. : 100%|████| 287/287 [00:02<00:00, 120.60it/s]\n",
      "Epoch 20 Iter 18: loss 0.39405. :   3%|▏      | 10/287 [00:00<00:02, 99.30it/s]"
     ]
    },
    {
     "name": "stdout",
     "output_type": "stream",
     "text": [
      "Classification accuracy: 84.66%\n"
     ]
    },
    {
     "name": "stderr",
     "output_type": "stream",
     "text": [
      "Epoch 20 Iter 287: loss 0.16847. : 100%|████| 287/287 [00:02<00:00, 121.94it/s]\n",
      "Epoch 21 Iter 19: loss 0.33943. :   4%|▏     | 11/287 [00:00<00:02, 102.13it/s]"
     ]
    },
    {
     "name": "stdout",
     "output_type": "stream",
     "text": [
      "Classification accuracy: 84.42%\n"
     ]
    },
    {
     "name": "stderr",
     "output_type": "stream",
     "text": [
      "Epoch 21 Iter 287: loss 0.49100. : 100%|████| 287/287 [00:02<00:00, 119.64it/s]\n",
      "Epoch 22 Iter 20: loss 0.30353. :   4%|▏     | 11/287 [00:00<00:02, 108.16it/s]"
     ]
    },
    {
     "name": "stdout",
     "output_type": "stream",
     "text": [
      "Classification accuracy: 84.48%\n"
     ]
    },
    {
     "name": "stderr",
     "output_type": "stream",
     "text": [
      "Epoch 22 Iter 287: loss 0.24512. : 100%|████| 287/287 [00:02<00:00, 122.10it/s]\n",
      "Epoch 23 Iter 18: loss 0.28922. :   3%|▏      | 10/287 [00:00<00:02, 98.30it/s]"
     ]
    },
    {
     "name": "stdout",
     "output_type": "stream",
     "text": [
      "Classification accuracy: 84.85%\n"
     ]
    },
    {
     "name": "stderr",
     "output_type": "stream",
     "text": [
      "Epoch 23 Iter 287: loss 0.22839. : 100%|████| 287/287 [00:02<00:00, 120.15it/s]\n",
      "Epoch 24 Iter 19: loss 0.29716. :   4%|▏     | 11/287 [00:00<00:02, 106.05it/s]"
     ]
    },
    {
     "name": "stdout",
     "output_type": "stream",
     "text": [
      "Classification accuracy: 84.96%\n"
     ]
    },
    {
     "name": "stderr",
     "output_type": "stream",
     "text": [
      "Epoch 24 Iter 287: loss 0.15239. : 100%|████| 287/287 [00:02<00:00, 122.74it/s]\n",
      "Epoch 25 Iter 20: loss 0.38813. :   3%|▏      | 10/287 [00:00<00:02, 97.38it/s]"
     ]
    },
    {
     "name": "stdout",
     "output_type": "stream",
     "text": [
      "Classification accuracy: 85.18%\n"
     ]
    },
    {
     "name": "stderr",
     "output_type": "stream",
     "text": [
      "Epoch 25 Iter 287: loss 0.27415. : 100%|████| 287/287 [00:02<00:00, 119.50it/s]\n",
      "Epoch 1 Iter 12: loss 2.15785. :   5%|▍        | 7/144 [00:00<00:02, 64.39it/s]"
     ]
    },
    {
     "name": "stdout",
     "output_type": "stream",
     "text": [
      "Classification accuracy: 85.31%\n",
      "Batch size of  512  with Learning Rate of  0.001  !\n",
      "Model has 122626 learnable parameters\n"
     ]
    },
    {
     "name": "stderr",
     "output_type": "stream",
     "text": [
      "Epoch 1 Iter 144: loss 0.91425. : 100%|██████| 144/144 [00:01<00:00, 74.89it/s]\n",
      "Epoch 2 Iter 10: loss 0.68896. :   5%|▍        | 7/144 [00:00<00:02, 67.51it/s]"
     ]
    },
    {
     "name": "stdout",
     "output_type": "stream",
     "text": [
      "Classification accuracy: 79.09%\n"
     ]
    },
    {
     "name": "stderr",
     "output_type": "stream",
     "text": [
      "Epoch 2 Iter 144: loss 0.52607. : 100%|██████| 144/144 [00:01<00:00, 76.41it/s]\n",
      "Epoch 3 Iter 12: loss 0.46522. :   5%|▍        | 7/144 [00:00<00:02, 66.84it/s]"
     ]
    },
    {
     "name": "stdout",
     "output_type": "stream",
     "text": [
      "Classification accuracy: 83.31%\n"
     ]
    },
    {
     "name": "stderr",
     "output_type": "stream",
     "text": [
      "Epoch 3 Iter 144: loss 0.38589. : 100%|██████| 144/144 [00:01<00:00, 74.88it/s]\n",
      "Epoch 4 Iter 12: loss 0.36131. :   5%|▍        | 7/144 [00:00<00:02, 68.16it/s]"
     ]
    },
    {
     "name": "stdout",
     "output_type": "stream",
     "text": [
      "Classification accuracy: 84.34%\n"
     ]
    },
    {
     "name": "stderr",
     "output_type": "stream",
     "text": [
      "Epoch 4 Iter 144: loss 0.57776. : 100%|██████| 144/144 [00:01<00:00, 77.62it/s]\n",
      "Epoch 5 Iter 12: loss 0.37439. :   6%|▌        | 8/144 [00:00<00:01, 71.62it/s]"
     ]
    },
    {
     "name": "stdout",
     "output_type": "stream",
     "text": [
      "Classification accuracy: 83.6%\n"
     ]
    },
    {
     "name": "stderr",
     "output_type": "stream",
     "text": [
      "Epoch 5 Iter 144: loss 0.23997. : 100%|██████| 144/144 [00:01<00:00, 76.99it/s]\n",
      "Epoch 6 Iter 13: loss 0.42935. :   5%|▍        | 7/144 [00:00<00:02, 68.14it/s]"
     ]
    },
    {
     "name": "stdout",
     "output_type": "stream",
     "text": [
      "Classification accuracy: 86.15%\n"
     ]
    },
    {
     "name": "stderr",
     "output_type": "stream",
     "text": [
      "Epoch 6 Iter 144: loss 0.19293. : 100%|██████| 144/144 [00:01<00:00, 77.86it/s]\n",
      "Epoch 7 Iter 13: loss 0.34969. :   5%|▍        | 7/144 [00:00<00:02, 66.23it/s]"
     ]
    },
    {
     "name": "stdout",
     "output_type": "stream",
     "text": [
      "Classification accuracy: 86.76%\n"
     ]
    },
    {
     "name": "stderr",
     "output_type": "stream",
     "text": [
      "Epoch 7 Iter 144: loss 0.33723. : 100%|██████| 144/144 [00:01<00:00, 77.89it/s]\n",
      "Epoch 8 Iter 12: loss 0.34804. :   5%|▍        | 7/144 [00:00<00:01, 68.83it/s]"
     ]
    },
    {
     "name": "stdout",
     "output_type": "stream",
     "text": [
      "Classification accuracy: 85.94%\n"
     ]
    },
    {
     "name": "stderr",
     "output_type": "stream",
     "text": [
      "Epoch 8 Iter 144: loss 0.15371. : 100%|██████| 144/144 [00:01<00:00, 75.38it/s]\n",
      "Epoch 9 Iter 14: loss 0.22654. :   6%|▌        | 8/144 [00:00<00:01, 72.92it/s]"
     ]
    },
    {
     "name": "stdout",
     "output_type": "stream",
     "text": [
      "Classification accuracy: 86.31%\n"
     ]
    },
    {
     "name": "stderr",
     "output_type": "stream",
     "text": [
      "Epoch 9 Iter 144: loss 0.23677. : 100%|██████| 144/144 [00:01<00:00, 75.91it/s]\n",
      "Epoch 10 Iter 12: loss 0.28024. :   5%|▍       | 7/144 [00:00<00:02, 64.39it/s]"
     ]
    },
    {
     "name": "stdout",
     "output_type": "stream",
     "text": [
      "Classification accuracy: 86.09%\n"
     ]
    },
    {
     "name": "stderr",
     "output_type": "stream",
     "text": [
      "Epoch 10 Iter 144: loss 0.20621. : 100%|█████| 144/144 [00:01<00:00, 74.71it/s]\n",
      "Epoch 11 Iter 12: loss 0.21432. :   5%|▍       | 7/144 [00:00<00:02, 67.48it/s]"
     ]
    },
    {
     "name": "stdout",
     "output_type": "stream",
     "text": [
      "Classification accuracy: 87.14%\n"
     ]
    },
    {
     "name": "stderr",
     "output_type": "stream",
     "text": [
      "Epoch 11 Iter 144: loss 0.23288. : 100%|█████| 144/144 [00:01<00:00, 76.24it/s]\n",
      "Epoch 12 Iter 13: loss 0.19371. :   5%|▍       | 7/144 [00:00<00:02, 66.21it/s]"
     ]
    },
    {
     "name": "stdout",
     "output_type": "stream",
     "text": [
      "Classification accuracy: 86.81%\n"
     ]
    },
    {
     "name": "stderr",
     "output_type": "stream",
     "text": [
      "Epoch 12 Iter 144: loss 0.04400. : 100%|█████| 144/144 [00:01<00:00, 75.93it/s]\n",
      "Epoch 13 Iter 14: loss 0.13987. :   6%|▍       | 8/144 [00:00<00:01, 74.30it/s]"
     ]
    },
    {
     "name": "stdout",
     "output_type": "stream",
     "text": [
      "Classification accuracy: 87.37%\n"
     ]
    },
    {
     "name": "stderr",
     "output_type": "stream",
     "text": [
      "Epoch 13 Iter 144: loss 0.25560. : 100%|█████| 144/144 [00:01<00:00, 77.70it/s]\n",
      "Epoch 14 Iter 12: loss 0.10023. :   5%|▍       | 7/144 [00:00<00:02, 65.59it/s]"
     ]
    },
    {
     "name": "stdout",
     "output_type": "stream",
     "text": [
      "Classification accuracy: 87.2%\n"
     ]
    },
    {
     "name": "stderr",
     "output_type": "stream",
     "text": [
      "Epoch 14 Iter 144: loss 0.12648. : 100%|█████| 144/144 [00:01<00:00, 76.31it/s]\n",
      "Epoch 15 Iter 14: loss 0.17848. :   6%|▍       | 8/144 [00:00<00:01, 71.65it/s]"
     ]
    },
    {
     "name": "stdout",
     "output_type": "stream",
     "text": [
      "Classification accuracy: 86.78%\n"
     ]
    },
    {
     "name": "stderr",
     "output_type": "stream",
     "text": [
      "Epoch 15 Iter 144: loss 0.14566. : 100%|█████| 144/144 [00:01<00:00, 75.63it/s]\n",
      "Epoch 16 Iter 13: loss 0.11385. :   5%|▍       | 7/144 [00:00<00:01, 68.84it/s]"
     ]
    },
    {
     "name": "stdout",
     "output_type": "stream",
     "text": [
      "Classification accuracy: 86.98%\n"
     ]
    },
    {
     "name": "stderr",
     "output_type": "stream",
     "text": [
      "Epoch 16 Iter 144: loss 0.04503. : 100%|█████| 144/144 [00:01<00:00, 74.54it/s]\n",
      "Epoch 17 Iter 13: loss 0.17342. :   5%|▍       | 7/144 [00:00<00:01, 68.81it/s]"
     ]
    },
    {
     "name": "stdout",
     "output_type": "stream",
     "text": [
      "Classification accuracy: 86.39%\n"
     ]
    },
    {
     "name": "stderr",
     "output_type": "stream",
     "text": [
      "Epoch 17 Iter 144: loss 0.18002. : 100%|█████| 144/144 [00:01<00:00, 76.64it/s]\n",
      "Epoch 18 Iter 13: loss 0.14666. :   5%|▍       | 7/144 [00:00<00:02, 66.84it/s]"
     ]
    },
    {
     "name": "stdout",
     "output_type": "stream",
     "text": [
      "Classification accuracy: 86.77%\n"
     ]
    },
    {
     "name": "stderr",
     "output_type": "stream",
     "text": [
      "Epoch 18 Iter 144: loss 0.32918. : 100%|█████| 144/144 [00:01<00:00, 75.83it/s]\n",
      "Epoch 19 Iter 13: loss 0.16789. :   5%|▍       | 7/144 [00:00<00:02, 67.52it/s]"
     ]
    },
    {
     "name": "stdout",
     "output_type": "stream",
     "text": [
      "Classification accuracy: 86.77%\n"
     ]
    },
    {
     "name": "stderr",
     "output_type": "stream",
     "text": [
      "Epoch 19 Iter 144: loss 0.24161. : 100%|█████| 144/144 [00:01<00:00, 75.58it/s]\n",
      "Epoch 20 Iter 13: loss 0.10683. :   5%|▍       | 7/144 [00:00<00:01, 69.49it/s]"
     ]
    },
    {
     "name": "stdout",
     "output_type": "stream",
     "text": [
      "Classification accuracy: 85.94%\n"
     ]
    },
    {
     "name": "stderr",
     "output_type": "stream",
     "text": [
      "Epoch 20 Iter 144: loss 0.06619. : 100%|█████| 144/144 [00:01<00:00, 76.90it/s]\n",
      "Epoch 21 Iter 13: loss 0.09391. :   6%|▍       | 8/144 [00:00<00:01, 71.62it/s]"
     ]
    },
    {
     "name": "stdout",
     "output_type": "stream",
     "text": [
      "Classification accuracy: 87.0%\n"
     ]
    },
    {
     "name": "stderr",
     "output_type": "stream",
     "text": [
      "Epoch 21 Iter 144: loss 0.12909. : 100%|█████| 144/144 [00:01<00:00, 74.95it/s]\n",
      "Epoch 22 Iter 13: loss 0.15998. :   5%|▍       | 7/144 [00:00<00:02, 66.84it/s]"
     ]
    },
    {
     "name": "stdout",
     "output_type": "stream",
     "text": [
      "Classification accuracy: 85.33%\n"
     ]
    },
    {
     "name": "stderr",
     "output_type": "stream",
     "text": [
      "Epoch 22 Iter 144: loss 0.07234. : 100%|█████| 144/144 [00:01<00:00, 76.14it/s]\n",
      "Epoch 23 Iter 12: loss 0.09990. :   5%|▍       | 7/144 [00:00<00:02, 67.49it/s]"
     ]
    },
    {
     "name": "stdout",
     "output_type": "stream",
     "text": [
      "Classification accuracy: 86.65%\n"
     ]
    },
    {
     "name": "stderr",
     "output_type": "stream",
     "text": [
      "Epoch 23 Iter 144: loss 0.18252. : 100%|█████| 144/144 [00:01<00:00, 75.82it/s]\n",
      "Epoch 24 Iter 13: loss 0.07432. :   5%|▍       | 7/144 [00:00<00:01, 68.81it/s]"
     ]
    },
    {
     "name": "stdout",
     "output_type": "stream",
     "text": [
      "Classification accuracy: 86.52%\n"
     ]
    },
    {
     "name": "stderr",
     "output_type": "stream",
     "text": [
      "Epoch 24 Iter 144: loss 0.04157. : 100%|█████| 144/144 [00:01<00:00, 77.42it/s]\n",
      "Epoch 25 Iter 12: loss 0.04262. :   5%|▍       | 7/144 [00:00<00:02, 65.59it/s]"
     ]
    },
    {
     "name": "stdout",
     "output_type": "stream",
     "text": [
      "Classification accuracy: 86.62%\n"
     ]
    },
    {
     "name": "stderr",
     "output_type": "stream",
     "text": [
      "Epoch 25 Iter 144: loss 0.01852. : 100%|█████| 144/144 [00:01<00:00, 76.88it/s]\n",
      "Epoch 1 Iter 10: loss 2.27986. :   3%|▎        | 5/144 [00:00<00:02, 46.87it/s]"
     ]
    },
    {
     "name": "stdout",
     "output_type": "stream",
     "text": [
      "Classification accuracy: 86.29%\n",
      "Batch size of  512  with Learning Rate of  0.0003  !\n",
      "Model has 122626 learnable parameters\n"
     ]
    },
    {
     "name": "stderr",
     "output_type": "stream",
     "text": [
      "Epoch 1 Iter 144: loss 1.17365. : 100%|██████| 144/144 [00:01<00:00, 74.25it/s]\n",
      "Epoch 2 Iter 13: loss 0.97429. :   5%|▍        | 7/144 [00:00<00:02, 66.21it/s]"
     ]
    },
    {
     "name": "stdout",
     "output_type": "stream",
     "text": [
      "Classification accuracy: 69.8%\n"
     ]
    },
    {
     "name": "stderr",
     "output_type": "stream",
     "text": [
      "Epoch 2 Iter 144: loss 0.58725. : 100%|██████| 144/144 [00:01<00:00, 75.57it/s]\n",
      "Epoch 3 Iter 12: loss 0.63349. :   5%|▍        | 7/144 [00:00<00:02, 62.13it/s]"
     ]
    },
    {
     "name": "stdout",
     "output_type": "stream",
     "text": [
      "Classification accuracy: 76.13%\n"
     ]
    },
    {
     "name": "stderr",
     "output_type": "stream",
     "text": [
      "Epoch 3 Iter 144: loss 0.44912. : 100%|██████| 144/144 [00:01<00:00, 74.15it/s]\n",
      "Epoch 4 Iter 13: loss 0.49509. :   5%|▍        | 7/144 [00:00<00:01, 68.81it/s]"
     ]
    },
    {
     "name": "stdout",
     "output_type": "stream",
     "text": [
      "Classification accuracy: 81.78%\n"
     ]
    },
    {
     "name": "stderr",
     "output_type": "stream",
     "text": [
      "Epoch 4 Iter 144: loss 0.45685. : 100%|██████| 144/144 [00:01<00:00, 77.36it/s]\n",
      "Epoch 5 Iter 13: loss 0.52129. :   6%|▌        | 8/144 [00:00<00:01, 70.98it/s]"
     ]
    },
    {
     "name": "stdout",
     "output_type": "stream",
     "text": [
      "Classification accuracy: 83.28%\n"
     ]
    },
    {
     "name": "stderr",
     "output_type": "stream",
     "text": [
      "Epoch 5 Iter 144: loss 0.34388. : 100%|██████| 144/144 [00:01<00:00, 76.71it/s]\n",
      "Epoch 6 Iter 13: loss 0.47211. :   5%|▍        | 7/144 [00:00<00:02, 67.49it/s]"
     ]
    },
    {
     "name": "stdout",
     "output_type": "stream",
     "text": [
      "Classification accuracy: 83.31%\n"
     ]
    },
    {
     "name": "stderr",
     "output_type": "stream",
     "text": [
      "Epoch 6 Iter 144: loss 0.39424. : 100%|██████| 144/144 [00:01<00:00, 77.44it/s]\n",
      "Epoch 7 Iter 10: loss 0.45609. :   5%|▍        | 7/144 [00:00<00:02, 65.59it/s]"
     ]
    },
    {
     "name": "stdout",
     "output_type": "stream",
     "text": [
      "Classification accuracy: 84.02%\n"
     ]
    },
    {
     "name": "stderr",
     "output_type": "stream",
     "text": [
      "Epoch 7 Iter 144: loss 0.34476. : 100%|██████| 144/144 [00:01<00:00, 75.24it/s]\n",
      "Epoch 8 Iter 12: loss 0.48746. :   5%|▍        | 7/144 [00:00<00:02, 64.99it/s]"
     ]
    },
    {
     "name": "stdout",
     "output_type": "stream",
     "text": [
      "Classification accuracy: 83.84%\n"
     ]
    },
    {
     "name": "stderr",
     "output_type": "stream",
     "text": [
      "Epoch 8 Iter 144: loss 0.43001. : 100%|██████| 144/144 [00:01<00:00, 74.92it/s]\n",
      "Epoch 9 Iter 13: loss 0.38110. :   5%|▍        | 7/144 [00:00<00:01, 69.50it/s]"
     ]
    },
    {
     "name": "stdout",
     "output_type": "stream",
     "text": [
      "Classification accuracy: 84.35%\n"
     ]
    },
    {
     "name": "stderr",
     "output_type": "stream",
     "text": [
      "Epoch 9 Iter 144: loss 0.26218. : 100%|██████| 144/144 [00:01<00:00, 75.86it/s]\n",
      "Epoch 10 Iter 13: loss 0.33572. :   5%|▍       | 7/144 [00:00<00:02, 64.39it/s]"
     ]
    },
    {
     "name": "stdout",
     "output_type": "stream",
     "text": [
      "Classification accuracy: 84.67%\n"
     ]
    },
    {
     "name": "stderr",
     "output_type": "stream",
     "text": [
      "Epoch 10 Iter 144: loss 0.22297. : 100%|█████| 144/144 [00:01<00:00, 75.90it/s]\n",
      "Epoch 11 Iter 9: loss 0.40489. :   3%|▎        | 4/144 [00:00<00:03, 38.56it/s]"
     ]
    },
    {
     "name": "stdout",
     "output_type": "stream",
     "text": [
      "Classification accuracy: 85.36%\n"
     ]
    },
    {
     "name": "stderr",
     "output_type": "stream",
     "text": [
      "Epoch 11 Iter 144: loss 0.16288. : 100%|█████| 144/144 [00:01<00:00, 74.09it/s]\n",
      "Epoch 12 Iter 13: loss 0.33670. :   5%|▍       | 7/144 [00:00<00:02, 65.01it/s]"
     ]
    },
    {
     "name": "stdout",
     "output_type": "stream",
     "text": [
      "Classification accuracy: 85.47%\n"
     ]
    },
    {
     "name": "stderr",
     "output_type": "stream",
     "text": [
      "Epoch 12 Iter 144: loss 0.97176. : 100%|█████| 144/144 [00:01<00:00, 75.52it/s]\n",
      "Epoch 13 Iter 13: loss 0.35127. :   5%|▍       | 7/144 [00:00<00:02, 68.16it/s]"
     ]
    },
    {
     "name": "stdout",
     "output_type": "stream",
     "text": [
      "Classification accuracy: 85.68%\n"
     ]
    },
    {
     "name": "stderr",
     "output_type": "stream",
     "text": [
      "Epoch 13 Iter 144: loss 0.18390. : 100%|█████| 144/144 [00:01<00:00, 75.00it/s]\n",
      "Epoch 14 Iter 13: loss 0.26874. :   6%|▍       | 8/144 [00:00<00:01, 70.98it/s]"
     ]
    },
    {
     "name": "stdout",
     "output_type": "stream",
     "text": [
      "Classification accuracy: 85.66%\n"
     ]
    },
    {
     "name": "stderr",
     "output_type": "stream",
     "text": [
      "Epoch 14 Iter 144: loss 0.60672. : 100%|█████| 144/144 [00:01<00:00, 77.25it/s]\n",
      "Epoch 15 Iter 12: loss 0.30715. :   5%|▍       | 7/144 [00:00<00:02, 65.62it/s]"
     ]
    },
    {
     "name": "stdout",
     "output_type": "stream",
     "text": [
      "Classification accuracy: 85.88%\n"
     ]
    },
    {
     "name": "stderr",
     "output_type": "stream",
     "text": [
      "Epoch 15 Iter 144: loss 0.59546. : 100%|█████| 144/144 [00:01<00:00, 75.75it/s]\n",
      "Epoch 16 Iter 13: loss 0.30133. :   5%|▍       | 7/144 [00:00<00:01, 69.49it/s]"
     ]
    },
    {
     "name": "stdout",
     "output_type": "stream",
     "text": [
      "Classification accuracy: 86.31%\n"
     ]
    },
    {
     "name": "stderr",
     "output_type": "stream",
     "text": [
      "Epoch 16 Iter 144: loss 0.08033. : 100%|█████| 144/144 [00:01<00:00, 75.09it/s]\n",
      "Epoch 17 Iter 12: loss 0.29855. :   5%|▍       | 7/144 [00:00<00:02, 64.99it/s]"
     ]
    },
    {
     "name": "stdout",
     "output_type": "stream",
     "text": [
      "Classification accuracy: 86.52%\n"
     ]
    },
    {
     "name": "stderr",
     "output_type": "stream",
     "text": [
      "Epoch 17 Iter 144: loss 0.27243. : 100%|█████| 144/144 [00:01<00:00, 77.35it/s]\n",
      "Epoch 18 Iter 9: loss 0.23448. :   3%|▎        | 4/144 [00:00<00:03, 36.79it/s]"
     ]
    },
    {
     "name": "stdout",
     "output_type": "stream",
     "text": [
      "Classification accuracy: 86.72%\n"
     ]
    },
    {
     "name": "stderr",
     "output_type": "stream",
     "text": [
      "Epoch 18 Iter 144: loss 0.18325. : 100%|█████| 144/144 [00:01<00:00, 74.30it/s]\n",
      "Epoch 19 Iter 13: loss 0.23114. :   5%|▍       | 7/144 [00:00<00:02, 68.14it/s]"
     ]
    },
    {
     "name": "stdout",
     "output_type": "stream",
     "text": [
      "Classification accuracy: 86.18%\n"
     ]
    },
    {
     "name": "stderr",
     "output_type": "stream",
     "text": [
      "Epoch 19 Iter 144: loss 0.42508. : 100%|█████| 144/144 [00:01<00:00, 76.11it/s]\n",
      "Epoch 20 Iter 12: loss 0.22844. :   5%|▍       | 7/144 [00:00<00:02, 68.16it/s]"
     ]
    },
    {
     "name": "stdout",
     "output_type": "stream",
     "text": [
      "Classification accuracy: 86.77%\n"
     ]
    },
    {
     "name": "stderr",
     "output_type": "stream",
     "text": [
      "Epoch 20 Iter 144: loss 0.23260. : 100%|█████| 144/144 [00:01<00:00, 74.68it/s]\n",
      "Epoch 21 Iter 12: loss 0.20471. :   5%|▍       | 7/144 [00:00<00:02, 66.22it/s]"
     ]
    },
    {
     "name": "stdout",
     "output_type": "stream",
     "text": [
      "Classification accuracy: 85.39%\n"
     ]
    },
    {
     "name": "stderr",
     "output_type": "stream",
     "text": [
      "Epoch 21 Iter 144: loss 0.19626. : 100%|█████| 144/144 [00:01<00:00, 76.80it/s]\n",
      "Epoch 22 Iter 13: loss 0.22913. :   6%|▍       | 8/144 [00:00<00:01, 70.36it/s]"
     ]
    },
    {
     "name": "stdout",
     "output_type": "stream",
     "text": [
      "Classification accuracy: 87.03%\n"
     ]
    },
    {
     "name": "stderr",
     "output_type": "stream",
     "text": [
      "Epoch 22 Iter 144: loss 0.31155. : 100%|█████| 144/144 [00:01<00:00, 77.80it/s]\n",
      "Epoch 23 Iter 13: loss 0.28477. :   6%|▍       | 8/144 [00:00<00:01, 71.62it/s]"
     ]
    },
    {
     "name": "stdout",
     "output_type": "stream",
     "text": [
      "Classification accuracy: 86.66%\n"
     ]
    },
    {
     "name": "stderr",
     "output_type": "stream",
     "text": [
      "Epoch 23 Iter 144: loss 0.20449. : 100%|█████| 144/144 [00:01<00:00, 75.59it/s]\n",
      "Epoch 24 Iter 12: loss 0.22779. :   5%|▍       | 7/144 [00:00<00:01, 68.81it/s]"
     ]
    },
    {
     "name": "stdout",
     "output_type": "stream",
     "text": [
      "Classification accuracy: 86.56%\n"
     ]
    },
    {
     "name": "stderr",
     "output_type": "stream",
     "text": [
      "Epoch 24 Iter 144: loss 0.20482. : 100%|█████| 144/144 [00:01<00:00, 74.11it/s]\n",
      "Epoch 25 Iter 13: loss 0.21402. :   6%|▍       | 8/144 [00:00<00:01, 70.98it/s]"
     ]
    },
    {
     "name": "stdout",
     "output_type": "stream",
     "text": [
      "Classification accuracy: 86.54%\n"
     ]
    },
    {
     "name": "stderr",
     "output_type": "stream",
     "text": [
      "Epoch 25 Iter 144: loss 0.25037. : 100%|█████| 144/144 [00:01<00:00, 76.87it/s]\n",
      "Epoch 1 Iter 12: loss 2.19983. :   5%|▍        | 7/144 [00:00<00:02, 65.72it/s]"
     ]
    },
    {
     "name": "stdout",
     "output_type": "stream",
     "text": [
      "Classification accuracy: 86.27%\n",
      "Batch size of  512  with Learning Rate of  0.0005  !\n",
      "Model has 122626 learnable parameters\n"
     ]
    },
    {
     "name": "stderr",
     "output_type": "stream",
     "text": [
      "Epoch 1 Iter 144: loss 0.56270. : 100%|██████| 144/144 [00:01<00:00, 75.66it/s]\n",
      "Epoch 2 Iter 12: loss 0.67238. :   5%|▍        | 7/144 [00:00<00:02, 68.14it/s]"
     ]
    },
    {
     "name": "stdout",
     "output_type": "stream",
     "text": [
      "Classification accuracy: 80.22%\n"
     ]
    },
    {
     "name": "stderr",
     "output_type": "stream",
     "text": [
      "Epoch 2 Iter 144: loss 0.45514. : 100%|██████| 144/144 [00:01<00:00, 74.44it/s]\n",
      "Epoch 3 Iter 12: loss 0.57329. :   5%|▍        | 7/144 [00:00<00:02, 66.84it/s]"
     ]
    },
    {
     "name": "stdout",
     "output_type": "stream",
     "text": [
      "Classification accuracy: 83.34%\n"
     ]
    },
    {
     "name": "stderr",
     "output_type": "stream",
     "text": [
      "Epoch 3 Iter 144: loss 0.59322. : 100%|██████| 144/144 [00:01<00:00, 77.33it/s]\n",
      "Epoch 4 Iter 12: loss 0.42484. :   5%|▍        | 7/144 [00:00<00:02, 63.23it/s]"
     ]
    },
    {
     "name": "stdout",
     "output_type": "stream",
     "text": [
      "Classification accuracy: 84.83%\n"
     ]
    },
    {
     "name": "stderr",
     "output_type": "stream",
     "text": [
      "Epoch 4 Iter 144: loss 0.50402. : 100%|██████| 144/144 [00:01<00:00, 75.91it/s]\n",
      "Epoch 5 Iter 13: loss 0.34879. :   5%|▍        | 7/144 [00:00<00:02, 67.49it/s]"
     ]
    },
    {
     "name": "stdout",
     "output_type": "stream",
     "text": [
      "Classification accuracy: 84.65%\n"
     ]
    },
    {
     "name": "stderr",
     "output_type": "stream",
     "text": [
      "Epoch 5 Iter 144: loss 0.56544. : 100%|██████| 144/144 [00:01<00:00, 77.58it/s]\n",
      "Epoch 6 Iter 13: loss 0.42349. :   5%|▍        | 7/144 [00:00<00:01, 68.81it/s]"
     ]
    },
    {
     "name": "stdout",
     "output_type": "stream",
     "text": [
      "Classification accuracy: 84.98%\n"
     ]
    },
    {
     "name": "stderr",
     "output_type": "stream",
     "text": [
      "Epoch 6 Iter 144: loss 0.24823. : 100%|██████| 144/144 [00:01<00:00, 74.71it/s]\n",
      "Epoch 7 Iter 12: loss 0.40793. :   5%|▍        | 7/144 [00:00<00:02, 64.97it/s]"
     ]
    },
    {
     "name": "stdout",
     "output_type": "stream",
     "text": [
      "Classification accuracy: 84.47%\n"
     ]
    },
    {
     "name": "stderr",
     "output_type": "stream",
     "text": [
      "Epoch 7 Iter 144: loss 0.35784. : 100%|██████| 144/144 [00:01<00:00, 75.48it/s]\n",
      "Epoch 8 Iter 13: loss 0.36095. :   5%|▍        | 7/144 [00:00<00:02, 65.89it/s]"
     ]
    },
    {
     "name": "stdout",
     "output_type": "stream",
     "text": [
      "Classification accuracy: 86.24%\n"
     ]
    },
    {
     "name": "stderr",
     "output_type": "stream",
     "text": [
      "Epoch 8 Iter 144: loss 0.38336. : 100%|██████| 144/144 [00:01<00:00, 75.79it/s]\n",
      "Epoch 9 Iter 12: loss 0.29867. :   5%|▍        | 7/144 [00:00<00:02, 65.62it/s]"
     ]
    },
    {
     "name": "stdout",
     "output_type": "stream",
     "text": [
      "Classification accuracy: 85.9%\n"
     ]
    },
    {
     "name": "stderr",
     "output_type": "stream",
     "text": [
      "Epoch 9 Iter 144: loss 0.33515. : 100%|██████| 144/144 [00:01<00:00, 76.17it/s]\n",
      "Epoch 10 Iter 12: loss 0.24148. :   5%|▍       | 7/144 [00:00<00:02, 67.49it/s]"
     ]
    },
    {
     "name": "stdout",
     "output_type": "stream",
     "text": [
      "Classification accuracy: 86.19%\n"
     ]
    },
    {
     "name": "stderr",
     "output_type": "stream",
     "text": [
      "Epoch 10 Iter 144: loss 0.25093. : 100%|█████| 144/144 [00:01<00:00, 77.30it/s]\n",
      "Epoch 11 Iter 14: loss 0.19844. :   6%|▍       | 8/144 [00:00<00:01, 71.64it/s]"
     ]
    },
    {
     "name": "stdout",
     "output_type": "stream",
     "text": [
      "Classification accuracy: 87.43%\n"
     ]
    },
    {
     "name": "stderr",
     "output_type": "stream",
     "text": [
      "Epoch 11 Iter 144: loss 0.37959. : 100%|█████| 144/144 [00:01<00:00, 77.88it/s]\n",
      "Epoch 12 Iter 10: loss 0.26628. :   5%|▍       | 7/144 [00:00<00:02, 66.21it/s]"
     ]
    },
    {
     "name": "stdout",
     "output_type": "stream",
     "text": [
      "Classification accuracy: 86.93%\n"
     ]
    },
    {
     "name": "stderr",
     "output_type": "stream",
     "text": [
      "Epoch 12 Iter 144: loss 0.12303. : 100%|█████| 144/144 [00:01<00:00, 74.90it/s]\n",
      "Epoch 13 Iter 12: loss 0.21951. :   5%|▍       | 7/144 [00:00<00:02, 64.99it/s]"
     ]
    },
    {
     "name": "stdout",
     "output_type": "stream",
     "text": [
      "Classification accuracy: 87.75%\n"
     ]
    },
    {
     "name": "stderr",
     "output_type": "stream",
     "text": [
      "Epoch 13 Iter 144: loss 0.44116. : 100%|█████| 144/144 [00:01<00:00, 75.05it/s]\n",
      "Epoch 14 Iter 13: loss 0.20824. :   5%|▍       | 7/144 [00:00<00:01, 68.81it/s]"
     ]
    },
    {
     "name": "stdout",
     "output_type": "stream",
     "text": [
      "Classification accuracy: 86.26%\n"
     ]
    },
    {
     "name": "stderr",
     "output_type": "stream",
     "text": [
      "Epoch 14 Iter 144: loss 0.25906. : 100%|█████| 144/144 [00:01<00:00, 77.40it/s]\n",
      "Epoch 15 Iter 14: loss 0.25668. :   6%|▍       | 8/144 [00:00<00:01, 77.13it/s]"
     ]
    },
    {
     "name": "stdout",
     "output_type": "stream",
     "text": [
      "Classification accuracy: 87.17%\n"
     ]
    },
    {
     "name": "stderr",
     "output_type": "stream",
     "text": [
      "Epoch 15 Iter 144: loss 0.11706. : 100%|█████| 144/144 [00:01<00:00, 76.37it/s]\n",
      "Epoch 16 Iter 11: loss 0.11187. :   5%|▍       | 7/144 [00:00<00:02, 64.99it/s]"
     ]
    },
    {
     "name": "stdout",
     "output_type": "stream",
     "text": [
      "Classification accuracy: 86.46%\n"
     ]
    },
    {
     "name": "stderr",
     "output_type": "stream",
     "text": [
      "Epoch 16 Iter 144: loss 0.14068. : 100%|█████| 144/144 [00:01<00:00, 75.97it/s]\n",
      "Epoch 17 Iter 14: loss 0.21384. :   6%|▍       | 8/144 [00:00<00:01, 71.00it/s]"
     ]
    },
    {
     "name": "stdout",
     "output_type": "stream",
     "text": [
      "Classification accuracy: 87.6%\n"
     ]
    },
    {
     "name": "stderr",
     "output_type": "stream",
     "text": [
      "Epoch 17 Iter 144: loss 0.22875. : 100%|█████| 144/144 [00:01<00:00, 76.90it/s]\n",
      "Epoch 18 Iter 13: loss 0.14063. :   5%|▍       | 7/144 [00:00<00:02, 66.84it/s]"
     ]
    },
    {
     "name": "stdout",
     "output_type": "stream",
     "text": [
      "Classification accuracy: 87.25%\n"
     ]
    },
    {
     "name": "stderr",
     "output_type": "stream",
     "text": [
      "Epoch 18 Iter 144: loss 0.34119. : 100%|█████| 144/144 [00:01<00:00, 77.66it/s]\n",
      "Epoch 19 Iter 13: loss 0.16829. :   5%|▍       | 7/144 [00:00<00:02, 66.86it/s]"
     ]
    },
    {
     "name": "stdout",
     "output_type": "stream",
     "text": [
      "Classification accuracy: 86.43%\n"
     ]
    },
    {
     "name": "stderr",
     "output_type": "stream",
     "text": [
      "Epoch 19 Iter 144: loss 0.27859. : 100%|█████| 144/144 [00:01<00:00, 76.72it/s]\n",
      "Epoch 20 Iter 11: loss 0.16940. :   6%|▍       | 8/144 [00:00<00:01, 74.96it/s]"
     ]
    },
    {
     "name": "stdout",
     "output_type": "stream",
     "text": [
      "Classification accuracy: 87.38%\n"
     ]
    },
    {
     "name": "stderr",
     "output_type": "stream",
     "text": [
      "Epoch 20 Iter 144: loss 0.11577. : 100%|█████| 144/144 [00:01<00:00, 75.87it/s]\n",
      "Epoch 21 Iter 13: loss 0.09545. :   6%|▍       | 8/144 [00:00<00:01, 72.26it/s]"
     ]
    },
    {
     "name": "stdout",
     "output_type": "stream",
     "text": [
      "Classification accuracy: 87.07%\n"
     ]
    },
    {
     "name": "stderr",
     "output_type": "stream",
     "text": [
      "Epoch 21 Iter 144: loss 0.20463. : 100%|█████| 144/144 [00:01<00:00, 74.91it/s]\n",
      "Epoch 22 Iter 12: loss 0.16863. :   5%|▍       | 7/144 [00:00<00:02, 65.59it/s]"
     ]
    },
    {
     "name": "stdout",
     "output_type": "stream",
     "text": [
      "Classification accuracy: 86.88%\n"
     ]
    },
    {
     "name": "stderr",
     "output_type": "stream",
     "text": [
      "Epoch 22 Iter 144: loss 0.19603. : 100%|█████| 144/144 [00:01<00:00, 75.36it/s]\n",
      "Epoch 23 Iter 12: loss 0.09838. :   5%|▍       | 7/144 [00:00<00:02, 65.59it/s]"
     ]
    },
    {
     "name": "stdout",
     "output_type": "stream",
     "text": [
      "Classification accuracy: 86.63%\n"
     ]
    },
    {
     "name": "stderr",
     "output_type": "stream",
     "text": [
      "Epoch 23 Iter 144: loss 0.08708. : 100%|█████| 144/144 [00:01<00:00, 76.47it/s]\n",
      "Epoch 24 Iter 11: loss 0.11996. :   3%|▏       | 4/144 [00:00<00:03, 39.72it/s]"
     ]
    },
    {
     "name": "stdout",
     "output_type": "stream",
     "text": [
      "Classification accuracy: 86.98%\n"
     ]
    },
    {
     "name": "stderr",
     "output_type": "stream",
     "text": [
      "Epoch 24 Iter 144: loss 0.08737. : 100%|█████| 144/144 [00:01<00:00, 75.12it/s]\n",
      "Epoch 25 Iter 13: loss 0.07028. :   5%|▍       | 7/144 [00:00<00:02, 67.49it/s]"
     ]
    },
    {
     "name": "stdout",
     "output_type": "stream",
     "text": [
      "Classification accuracy: 87.05%\n"
     ]
    },
    {
     "name": "stderr",
     "output_type": "stream",
     "text": [
      "Epoch 25 Iter 144: loss 0.07841. : 100%|█████| 144/144 [00:01<00:00, 74.12it/s]\n",
      "Epoch 1 Iter 13: loss 2.19121. :   5%|▍        | 7/144 [00:00<00:01, 68.81it/s]"
     ]
    },
    {
     "name": "stdout",
     "output_type": "stream",
     "text": [
      "Classification accuracy: 87.03%\n",
      "Batch size of  512  with Learning Rate of  0.0001  !\n",
      "Model has 122626 learnable parameters\n"
     ]
    },
    {
     "name": "stderr",
     "output_type": "stream",
     "text": [
      "Epoch 1 Iter 144: loss 1.09837. : 100%|██████| 144/144 [00:01<00:00, 74.51it/s]\n",
      "Epoch 2 Iter 12: loss 1.13179. :   5%|▍        | 7/144 [00:00<00:02, 67.49it/s]"
     ]
    },
    {
     "name": "stdout",
     "output_type": "stream",
     "text": [
      "Classification accuracy: 61.61%\n"
     ]
    },
    {
     "name": "stderr",
     "output_type": "stream",
     "text": [
      "Epoch 2 Iter 144: loss 0.73485. : 100%|██████| 144/144 [00:01<00:00, 75.93it/s]\n",
      "Epoch 3 Iter 13: loss 0.94255. :   6%|▌        | 8/144 [00:00<00:01, 70.36it/s]"
     ]
    },
    {
     "name": "stdout",
     "output_type": "stream",
     "text": [
      "Classification accuracy: 73.69%\n"
     ]
    },
    {
     "name": "stderr",
     "output_type": "stream",
     "text": [
      "Epoch 3 Iter 144: loss 0.88336. : 100%|██████| 144/144 [00:01<00:00, 76.83it/s]\n",
      "Epoch 4 Iter 13: loss 0.79002. :   5%|▍        | 7/144 [00:00<00:02, 66.84it/s]"
     ]
    },
    {
     "name": "stdout",
     "output_type": "stream",
     "text": [
      "Classification accuracy: 77.89%\n"
     ]
    },
    {
     "name": "stderr",
     "output_type": "stream",
     "text": [
      "Epoch 4 Iter 144: loss 0.36883. : 100%|██████| 144/144 [00:01<00:00, 74.24it/s]\n",
      "Epoch 5 Iter 14: loss 0.68738. :   6%|▌        | 8/144 [00:00<00:01, 74.97it/s]"
     ]
    },
    {
     "name": "stdout",
     "output_type": "stream",
     "text": [
      "Classification accuracy: 79.66%\n"
     ]
    },
    {
     "name": "stderr",
     "output_type": "stream",
     "text": [
      "Epoch 5 Iter 144: loss 0.53705. : 100%|██████| 144/144 [00:01<00:00, 76.38it/s]\n",
      "Epoch 6 Iter 12: loss 0.52188. :   5%|▍        | 7/144 [00:00<00:01, 68.83it/s]"
     ]
    },
    {
     "name": "stdout",
     "output_type": "stream",
     "text": [
      "Classification accuracy: 81.18%\n"
     ]
    },
    {
     "name": "stderr",
     "output_type": "stream",
     "text": [
      "Epoch 6 Iter 144: loss 0.53502. : 100%|██████| 144/144 [00:01<00:00, 76.01it/s]\n",
      "Epoch 7 Iter 13: loss 0.60043. :   5%|▍        | 7/144 [00:00<00:02, 68.14it/s]"
     ]
    },
    {
     "name": "stdout",
     "output_type": "stream",
     "text": [
      "Classification accuracy: 81.7%\n"
     ]
    },
    {
     "name": "stderr",
     "output_type": "stream",
     "text": [
      "Epoch 7 Iter 144: loss 0.81138. : 100%|██████| 144/144 [00:01<00:00, 76.78it/s]\n",
      "Epoch 8 Iter 12: loss 0.68916. :   5%|▍        | 7/144 [00:00<00:02, 66.23it/s]"
     ]
    },
    {
     "name": "stdout",
     "output_type": "stream",
     "text": [
      "Classification accuracy: 82.69%\n"
     ]
    },
    {
     "name": "stderr",
     "output_type": "stream",
     "text": [
      "Epoch 8 Iter 144: loss 0.54095. : 100%|██████| 144/144 [00:01<00:00, 76.07it/s]\n",
      "Epoch 9 Iter 10: loss 0.49084. :   5%|▍        | 7/144 [00:00<00:02, 67.48it/s]"
     ]
    },
    {
     "name": "stdout",
     "output_type": "stream",
     "text": [
      "Classification accuracy: 83.06%\n"
     ]
    },
    {
     "name": "stderr",
     "output_type": "stream",
     "text": [
      "Epoch 9 Iter 144: loss 0.76559. : 100%|██████| 144/144 [00:01<00:00, 74.68it/s]\n",
      "Epoch 10 Iter 13: loss 0.46168. :   6%|▍       | 8/144 [00:00<00:01, 70.36it/s]"
     ]
    },
    {
     "name": "stdout",
     "output_type": "stream",
     "text": [
      "Classification accuracy: 83.37%\n"
     ]
    },
    {
     "name": "stderr",
     "output_type": "stream",
     "text": [
      "Epoch 10 Iter 144: loss 0.86120. : 100%|█████| 144/144 [00:01<00:00, 75.49it/s]\n",
      "Epoch 11 Iter 12: loss 0.54666. :   5%|▍       | 7/144 [00:00<00:02, 63.82it/s]"
     ]
    },
    {
     "name": "stdout",
     "output_type": "stream",
     "text": [
      "Classification accuracy: 83.7%\n"
     ]
    },
    {
     "name": "stderr",
     "output_type": "stream",
     "text": [
      "Epoch 11 Iter 144: loss 0.57206. : 100%|█████| 144/144 [00:01<00:00, 75.89it/s]\n",
      "Epoch 12 Iter 13: loss 0.57404. :   6%|▍       | 8/144 [00:00<00:01, 70.98it/s]"
     ]
    },
    {
     "name": "stdout",
     "output_type": "stream",
     "text": [
      "Classification accuracy: 84.36%\n"
     ]
    },
    {
     "name": "stderr",
     "output_type": "stream",
     "text": [
      "Epoch 12 Iter 144: loss 0.46838. : 100%|█████| 144/144 [00:01<00:00, 77.98it/s]\n",
      "Epoch 13 Iter 12: loss 0.54093. :   5%|▍       | 7/144 [00:00<00:02, 65.59it/s]"
     ]
    },
    {
     "name": "stdout",
     "output_type": "stream",
     "text": [
      "Classification accuracy: 84.22%\n"
     ]
    },
    {
     "name": "stderr",
     "output_type": "stream",
     "text": [
      "Epoch 13 Iter 144: loss 0.64686. : 100%|█████| 144/144 [00:01<00:00, 75.23it/s]\n",
      "Epoch 14 Iter 12: loss 0.40927. :   6%|▍       | 8/144 [00:00<00:01, 70.35it/s]"
     ]
    },
    {
     "name": "stdout",
     "output_type": "stream",
     "text": [
      "Classification accuracy: 84.48%\n"
     ]
    },
    {
     "name": "stderr",
     "output_type": "stream",
     "text": [
      "Epoch 14 Iter 144: loss 0.55329. : 100%|█████| 144/144 [00:01<00:00, 74.57it/s]\n",
      "Epoch 15 Iter 13: loss 0.44423. :   5%|▍       | 7/144 [00:00<00:02, 67.51it/s]"
     ]
    },
    {
     "name": "stdout",
     "output_type": "stream",
     "text": [
      "Classification accuracy: 84.64%\n"
     ]
    },
    {
     "name": "stderr",
     "output_type": "stream",
     "text": [
      "Epoch 15 Iter 144: loss 0.57913. : 100%|█████| 144/144 [00:01<00:00, 76.11it/s]\n",
      "Epoch 16 Iter 12: loss 0.41656. :   5%|▍       | 7/144 [00:00<00:02, 66.22it/s]"
     ]
    },
    {
     "name": "stdout",
     "output_type": "stream",
     "text": [
      "Classification accuracy: 85.36%\n"
     ]
    },
    {
     "name": "stderr",
     "output_type": "stream",
     "text": [
      "Epoch 16 Iter 144: loss 0.42473. : 100%|█████| 144/144 [00:01<00:00, 76.39it/s]\n",
      "Epoch 17 Iter 14: loss 0.40251. :   6%|▍       | 8/144 [00:00<00:01, 71.62it/s]"
     ]
    },
    {
     "name": "stdout",
     "output_type": "stream",
     "text": [
      "Classification accuracy: 85.01%\n"
     ]
    },
    {
     "name": "stderr",
     "output_type": "stream",
     "text": [
      "Epoch 17 Iter 144: loss 0.50351. : 100%|█████| 144/144 [00:01<00:00, 77.33it/s]\n",
      "Epoch 18 Iter 12: loss 0.38281. :   5%|▍       | 7/144 [00:00<00:02, 61.57it/s]"
     ]
    },
    {
     "name": "stdout",
     "output_type": "stream",
     "text": [
      "Classification accuracy: 85.61%\n"
     ]
    },
    {
     "name": "stderr",
     "output_type": "stream",
     "text": [
      "Epoch 18 Iter 144: loss 0.26370. : 100%|█████| 144/144 [00:01<00:00, 75.50it/s]\n",
      "Epoch 19 Iter 10: loss 0.47539. :   3%|▎       | 5/144 [00:00<00:03, 43.98it/s]"
     ]
    },
    {
     "name": "stdout",
     "output_type": "stream",
     "text": [
      "Classification accuracy: 85.57%\n"
     ]
    },
    {
     "name": "stderr",
     "output_type": "stream",
     "text": [
      "Epoch 19 Iter 144: loss 0.30535. : 100%|█████| 144/144 [00:01<00:00, 75.23it/s]\n",
      "Epoch 20 Iter 13: loss 0.40946. :   5%|▍       | 7/144 [00:00<00:02, 65.59it/s]"
     ]
    },
    {
     "name": "stdout",
     "output_type": "stream",
     "text": [
      "Classification accuracy: 85.82%\n"
     ]
    },
    {
     "name": "stderr",
     "output_type": "stream",
     "text": [
      "Epoch 20 Iter 144: loss 0.43690. : 100%|█████| 144/144 [00:01<00:00, 74.87it/s]\n",
      "Epoch 21 Iter 13: loss 0.43964. :   5%|▍       | 7/144 [00:00<00:02, 64.39it/s]"
     ]
    },
    {
     "name": "stdout",
     "output_type": "stream",
     "text": [
      "Classification accuracy: 85.57%\n"
     ]
    },
    {
     "name": "stderr",
     "output_type": "stream",
     "text": [
      "Epoch 21 Iter 144: loss 0.10338. : 100%|█████| 144/144 [00:01<00:00, 76.76it/s]\n",
      "Epoch 22 Iter 13: loss 0.37144. :   5%|▍       | 7/144 [00:00<00:02, 68.14it/s]"
     ]
    },
    {
     "name": "stdout",
     "output_type": "stream",
     "text": [
      "Classification accuracy: 85.47%\n"
     ]
    },
    {
     "name": "stderr",
     "output_type": "stream",
     "text": [
      "Epoch 22 Iter 144: loss 0.37321. : 100%|█████| 144/144 [00:01<00:00, 77.14it/s]\n",
      "Epoch 23 Iter 12: loss 0.35344. :   5%|▍       | 7/144 [00:00<00:02, 66.84it/s]"
     ]
    },
    {
     "name": "stdout",
     "output_type": "stream",
     "text": [
      "Classification accuracy: 86.01%\n"
     ]
    },
    {
     "name": "stderr",
     "output_type": "stream",
     "text": [
      "Epoch 23 Iter 144: loss 0.69016. : 100%|█████| 144/144 [00:01<00:00, 78.00it/s]\n",
      "Epoch 24 Iter 10: loss 0.30688. :   4%|▎       | 6/144 [00:00<00:02, 47.01it/s]"
     ]
    },
    {
     "name": "stdout",
     "output_type": "stream",
     "text": [
      "Classification accuracy: 86.06%\n"
     ]
    },
    {
     "name": "stderr",
     "output_type": "stream",
     "text": [
      "Epoch 24 Iter 144: loss 0.16842. : 100%|█████| 144/144 [00:01<00:00, 75.56it/s]\n",
      "Epoch 25 Iter 12: loss 0.29708. :   5%|▍       | 7/144 [00:00<00:02, 64.99it/s]"
     ]
    },
    {
     "name": "stdout",
     "output_type": "stream",
     "text": [
      "Classification accuracy: 86.17%\n"
     ]
    },
    {
     "name": "stderr",
     "output_type": "stream",
     "text": [
      "Epoch 25 Iter 144: loss 0.32423. : 100%|█████| 144/144 [00:01<00:00, 75.81it/s]\n"
     ]
    },
    {
     "name": "stdout",
     "output_type": "stream",
     "text": [
      "Classification accuracy: 86.06%\n"
     ]
    }
   ],
   "source": [
    "batches_list = [64, 128, 256, 512]\n",
    "rate_list = [0.001, 0.0003, 0.0005, 0.0001]\n",
    "\n",
    "for batchsize in batches_list:\n",
    "    for lr in rate_list:\n",
    "        \n",
    "        print(\"Batch size of \", batchsize, \" with Learning Rate of \",lr,\" !\")\n",
    "        \n",
    "        # Fitting data loaders for iterating\n",
    "        B_SIZE = batchsize\n",
    "        train_loader = torch.utils.data.DataLoader(dataset=train_data, \n",
    "                                                   batch_size=B_SIZE, \n",
    "                                                   shuffle=True) \n",
    "        test_loader = torch.utils.data.DataLoader(dataset=test_data, \n",
    "                                                   batch_size=B_SIZE, \n",
    "                                                   shuffle=False) \n",
    "\n",
    "        \n",
    "        model = CNN().to(device)   \n",
    "\n",
    "        params = count_model_params(model)\n",
    "        print(f\"Model has {params} learnable parameters\")\n",
    "\n",
    "        EPOCHS = 25\n",
    "        LR = lr\n",
    "        criterion = nn.CrossEntropyLoss().to(device)\n",
    "        optimizer = torch.optim.Adam(params=model.parameters(), lr=LR)\n",
    "        \n",
    "        loss_hist = []\n",
    "        acc_hist = []\n",
    "        for epoch in range( EPOCHS):\n",
    "            loss_list = []\n",
    "            progress_bar = tqdm(enumerate(train_loader), total=len(train_loader))\n",
    "            for i, (images, labels) in progress_bar:\n",
    "                images = images.to(device)\n",
    "                labels = labels.to(device)\n",
    "\n",
    "                # Clear gradients w.r.t. parameters\n",
    "                optimizer.zero_grad()\n",
    "\n",
    "                # Forward pass to get output/logits\n",
    "                outputs = model(images)\n",
    "\n",
    "                # Calculate Loss: softmax --> cross entropy loss\n",
    "                loss = criterion(outputs, labels)\n",
    "                loss_list.append(loss.item())\n",
    "\n",
    "                # Getting gradients w.r.t. parameters\n",
    "                loss.backward()\n",
    "\n",
    "                # Updating parameters\n",
    "                optimizer.step()\n",
    "                progress_bar.set_description(f\"Epoch {epoch+1} Iter {i+1}: loss {loss.item():.5f}. \")\n",
    "\n",
    "            loss_hist.append(np.mean(loss_list))\n",
    "            accuracy, _ = eval_model(model)\n",
    "            acc_hist.append(accuracy)\n",
    "            print(f\"Classification accuracy: {round(accuracy, 2)}%\")\n",
    "            \n",
    "        loss_batch_rate.append(loss_hist)\n",
    "        acc_batch_rate.append(acc_hist)"
   ]
  },
  {
   "cell_type": "code",
   "execution_count": 150,
   "id": "8b12fdb5",
   "metadata": {},
   "outputs": [
    {
     "data": {
      "text/html": [
       "<div>\n",
       "<style scoped>\n",
       "    .dataframe tbody tr th:only-of-type {\n",
       "        vertical-align: middle;\n",
       "    }\n",
       "\n",
       "    .dataframe tbody tr th {\n",
       "        vertical-align: top;\n",
       "    }\n",
       "\n",
       "    .dataframe thead th {\n",
       "        text-align: right;\n",
       "    }\n",
       "</style>\n",
       "<table border=\"1\" class=\"dataframe\">\n",
       "  <thead>\n",
       "    <tr style=\"text-align: right;\">\n",
       "      <th></th>\n",
       "      <th>Epochs</th>\n",
       "      <th>0</th>\n",
       "      <th>1</th>\n",
       "      <th>2</th>\n",
       "      <th>3</th>\n",
       "      <th>4</th>\n",
       "      <th>5</th>\n",
       "      <th>6</th>\n",
       "      <th>7</th>\n",
       "      <th>8</th>\n",
       "      <th>9</th>\n",
       "      <th>10</th>\n",
       "      <th>11</th>\n",
       "      <th>12</th>\n",
       "      <th>13</th>\n",
       "      <th>14</th>\n",
       "      <th>15</th>\n",
       "    </tr>\n",
       "  </thead>\n",
       "  <tbody>\n",
       "    <tr>\n",
       "      <th>0</th>\n",
       "      <td>0</td>\n",
       "      <td>0.755508</td>\n",
       "      <td>1.048086</td>\n",
       "      <td>0.825379</td>\n",
       "      <td>1.192161</td>\n",
       "      <td>0.939975</td>\n",
       "      <td>0.985744</td>\n",
       "      <td>0.872708</td>\n",
       "      <td>1.408235</td>\n",
       "      <td>1.151286</td>\n",
       "      <td>1.349665</td>\n",
       "      <td>1.197042</td>\n",
       "      <td>1.662906</td>\n",
       "      <td>1.095347</td>\n",
       "      <td>1.666572</td>\n",
       "      <td>1.253493</td>\n",
       "      <td>1.752224</td>\n",
       "    </tr>\n",
       "    <tr>\n",
       "      <th>1</th>\n",
       "      <td>1</td>\n",
       "      <td>0.472593</td>\n",
       "      <td>0.567494</td>\n",
       "      <td>0.468756</td>\n",
       "      <td>0.633001</td>\n",
       "      <td>0.531859</td>\n",
       "      <td>0.547222</td>\n",
       "      <td>0.502415</td>\n",
       "      <td>0.741956</td>\n",
       "      <td>0.569922</td>\n",
       "      <td>0.661413</td>\n",
       "      <td>0.563753</td>\n",
       "      <td>0.991070</td>\n",
       "      <td>0.573230</td>\n",
       "      <td>0.773251</td>\n",
       "      <td>0.598930</td>\n",
       "      <td>1.019080</td>\n",
       "    </tr>\n",
       "    <tr>\n",
       "      <th>2</th>\n",
       "      <td>2</td>\n",
       "      <td>0.401508</td>\n",
       "      <td>0.476698</td>\n",
       "      <td>0.389546</td>\n",
       "      <td>0.540367</td>\n",
       "      <td>0.442716</td>\n",
       "      <td>0.465057</td>\n",
       "      <td>0.422268</td>\n",
       "      <td>0.621224</td>\n",
       "      <td>0.471061</td>\n",
       "      <td>0.550772</td>\n",
       "      <td>0.481376</td>\n",
       "      <td>0.816037</td>\n",
       "      <td>0.471692</td>\n",
       "      <td>0.617946</td>\n",
       "      <td>0.509230</td>\n",
       "      <td>0.816498</td>\n",
       "    </tr>\n",
       "    <tr>\n",
       "      <th>3</th>\n",
       "      <td>3</td>\n",
       "      <td>0.361308</td>\n",
       "      <td>0.424258</td>\n",
       "      <td>0.339427</td>\n",
       "      <td>0.484835</td>\n",
       "      <td>0.389946</td>\n",
       "      <td>0.414011</td>\n",
       "      <td>0.367753</td>\n",
       "      <td>0.560736</td>\n",
       "      <td>0.409886</td>\n",
       "      <td>0.494688</td>\n",
       "      <td>0.422745</td>\n",
       "      <td>0.727526</td>\n",
       "      <td>0.414853</td>\n",
       "      <td>0.545061</td>\n",
       "      <td>0.449838</td>\n",
       "      <td>0.718998</td>\n",
       "    </tr>\n",
       "    <tr>\n",
       "      <th>4</th>\n",
       "      <td>4</td>\n",
       "      <td>0.327843</td>\n",
       "      <td>0.376820</td>\n",
       "      <td>0.297348</td>\n",
       "      <td>0.441103</td>\n",
       "      <td>0.349912</td>\n",
       "      <td>0.374118</td>\n",
       "      <td>0.328426</td>\n",
       "      <td>0.523228</td>\n",
       "      <td>0.367176</td>\n",
       "      <td>0.449735</td>\n",
       "      <td>0.386494</td>\n",
       "      <td>0.667096</td>\n",
       "      <td>0.370300</td>\n",
       "      <td>0.503953</td>\n",
       "      <td>0.413698</td>\n",
       "      <td>0.654789</td>\n",
       "    </tr>\n",
       "  </tbody>\n",
       "</table>\n",
       "</div>"
      ],
      "text/plain": [
       "   Epochs         0         1         2         3         4         5  \\\n",
       "0       0  0.755508  1.048086  0.825379  1.192161  0.939975  0.985744   \n",
       "1       1  0.472593  0.567494  0.468756  0.633001  0.531859  0.547222   \n",
       "2       2  0.401508  0.476698  0.389546  0.540367  0.442716  0.465057   \n",
       "3       3  0.361308  0.424258  0.339427  0.484835  0.389946  0.414011   \n",
       "4       4  0.327843  0.376820  0.297348  0.441103  0.349912  0.374118   \n",
       "\n",
       "          6         7         8         9        10        11        12  \\\n",
       "0  0.872708  1.408235  1.151286  1.349665  1.197042  1.662906  1.095347   \n",
       "1  0.502415  0.741956  0.569922  0.661413  0.563753  0.991070  0.573230   \n",
       "2  0.422268  0.621224  0.471061  0.550772  0.481376  0.816037  0.471692   \n",
       "3  0.367753  0.560736  0.409886  0.494688  0.422745  0.727526  0.414853   \n",
       "4  0.328426  0.523228  0.367176  0.449735  0.386494  0.667096  0.370300   \n",
       "\n",
       "         13        14        15  \n",
       "0  1.666572  1.253493  1.752224  \n",
       "1  0.773251  0.598930  1.019080  \n",
       "2  0.617946  0.509230  0.816498  \n",
       "3  0.545061  0.449838  0.718998  \n",
       "4  0.503953  0.413698  0.654789  "
      ]
     },
     "execution_count": 150,
     "metadata": {},
     "output_type": "execute_result"
    }
   ],
   "source": [
    "num = range(0,25)\n",
    "df_loss = pd.DataFrame(num,columns = ['Epochs'])\n",
    "df_acc = pd.DataFrame(num,columns = ['Epochs'])\n",
    "for i in range(16):\n",
    "    df_loss[i] = pd.DataFrame(loss_batch_rate[i], columns = ['loss'])\n",
    "    df_acc[i] = pd.DataFrame(acc_batch_rate[i], columns = ['accuracy'])\n",
    "df_loss.to_csv('cnn_batch_rate_losses.csv', sep=',',index = False)   \n",
    "df_loss.head()"
   ]
  },
  {
   "cell_type": "code",
   "execution_count": 151,
   "id": "75ff92ab",
   "metadata": {},
   "outputs": [
    {
     "data": {
      "text/html": [
       "<div>\n",
       "<style scoped>\n",
       "    .dataframe tbody tr th:only-of-type {\n",
       "        vertical-align: middle;\n",
       "    }\n",
       "\n",
       "    .dataframe tbody tr th {\n",
       "        vertical-align: top;\n",
       "    }\n",
       "\n",
       "    .dataframe thead th {\n",
       "        text-align: right;\n",
       "    }\n",
       "</style>\n",
       "<table border=\"1\" class=\"dataframe\">\n",
       "  <thead>\n",
       "    <tr style=\"text-align: right;\">\n",
       "      <th></th>\n",
       "      <th>Epochs</th>\n",
       "      <th>0</th>\n",
       "      <th>1</th>\n",
       "      <th>2</th>\n",
       "      <th>3</th>\n",
       "      <th>4</th>\n",
       "      <th>5</th>\n",
       "      <th>6</th>\n",
       "      <th>7</th>\n",
       "      <th>8</th>\n",
       "      <th>9</th>\n",
       "      <th>10</th>\n",
       "      <th>11</th>\n",
       "      <th>12</th>\n",
       "      <th>13</th>\n",
       "      <th>14</th>\n",
       "      <th>15</th>\n",
       "    </tr>\n",
       "  </thead>\n",
       "  <tbody>\n",
       "    <tr>\n",
       "      <th>0</th>\n",
       "      <td>0</td>\n",
       "      <td>81.830055</td>\n",
       "      <td>81.269207</td>\n",
       "      <td>83.451137</td>\n",
       "      <td>78.653196</td>\n",
       "      <td>80.539336</td>\n",
       "      <td>80.208974</td>\n",
       "      <td>81.941457</td>\n",
       "      <td>74.412262</td>\n",
       "      <td>80.293485</td>\n",
       "      <td>78.372772</td>\n",
       "      <td>81.614935</td>\n",
       "      <td>65.769053</td>\n",
       "      <td>79.087277</td>\n",
       "      <td>69.802551</td>\n",
       "      <td>80.220498</td>\n",
       "      <td>61.608789</td>\n",
       "    </tr>\n",
       "    <tr>\n",
       "      <th>1</th>\n",
       "      <td>1</td>\n",
       "      <td>84.046558</td>\n",
       "      <td>83.520283</td>\n",
       "      <td>86.508912</td>\n",
       "      <td>82.394745</td>\n",
       "      <td>84.077289</td>\n",
       "      <td>83.885218</td>\n",
       "      <td>84.261678</td>\n",
       "      <td>80.631530</td>\n",
       "      <td>83.335894</td>\n",
       "      <td>82.479256</td>\n",
       "      <td>84.392286</td>\n",
       "      <td>74.485249</td>\n",
       "      <td>83.312846</td>\n",
       "      <td>76.129379</td>\n",
       "      <td>83.343577</td>\n",
       "      <td>73.693915</td>\n",
       "    </tr>\n",
       "    <tr>\n",
       "      <th>2</th>\n",
       "      <td>2</td>\n",
       "      <td>86.677935</td>\n",
       "      <td>85.586970</td>\n",
       "      <td>86.336048</td>\n",
       "      <td>83.285956</td>\n",
       "      <td>84.960817</td>\n",
       "      <td>85.152889</td>\n",
       "      <td>86.420559</td>\n",
       "      <td>82.417793</td>\n",
       "      <td>83.839121</td>\n",
       "      <td>83.604794</td>\n",
       "      <td>85.172096</td>\n",
       "      <td>77.539183</td>\n",
       "      <td>84.338506</td>\n",
       "      <td>81.783958</td>\n",
       "      <td>84.834050</td>\n",
       "      <td>77.892594</td>\n",
       "    </tr>\n",
       "    <tr>\n",
       "      <th>3</th>\n",
       "      <td>3</td>\n",
       "      <td>87.480793</td>\n",
       "      <td>85.598494</td>\n",
       "      <td>87.588353</td>\n",
       "      <td>84.645821</td>\n",
       "      <td>86.251537</td>\n",
       "      <td>85.621543</td>\n",
       "      <td>87.231100</td>\n",
       "      <td>83.305163</td>\n",
       "      <td>84.545943</td>\n",
       "      <td>84.361555</td>\n",
       "      <td>86.159342</td>\n",
       "      <td>79.275507</td>\n",
       "      <td>83.597111</td>\n",
       "      <td>83.278273</td>\n",
       "      <td>84.649662</td>\n",
       "      <td>79.663491</td>\n",
       "    </tr>\n",
       "    <tr>\n",
       "      <th>4</th>\n",
       "      <td>4</td>\n",
       "      <td>86.762446</td>\n",
       "      <td>85.713737</td>\n",
       "      <td>87.519207</td>\n",
       "      <td>85.237400</td>\n",
       "      <td>85.886601</td>\n",
       "      <td>86.370621</td>\n",
       "      <td>87.246466</td>\n",
       "      <td>84.200215</td>\n",
       "      <td>86.197757</td>\n",
       "      <td>84.726490</td>\n",
       "      <td>86.631838</td>\n",
       "      <td>79.456054</td>\n",
       "      <td>86.151659</td>\n",
       "      <td>83.305163</td>\n",
       "      <td>84.983866</td>\n",
       "      <td>81.177013</td>\n",
       "    </tr>\n",
       "  </tbody>\n",
       "</table>\n",
       "</div>"
      ],
      "text/plain": [
       "   Epochs          0          1          2          3          4          5  \\\n",
       "0       0  81.830055  81.269207  83.451137  78.653196  80.539336  80.208974   \n",
       "1       1  84.046558  83.520283  86.508912  82.394745  84.077289  83.885218   \n",
       "2       2  86.677935  85.586970  86.336048  83.285956  84.960817  85.152889   \n",
       "3       3  87.480793  85.598494  87.588353  84.645821  86.251537  85.621543   \n",
       "4       4  86.762446  85.713737  87.519207  85.237400  85.886601  86.370621   \n",
       "\n",
       "           6          7          8          9         10         11  \\\n",
       "0  81.941457  74.412262  80.293485  78.372772  81.614935  65.769053   \n",
       "1  84.261678  80.631530  83.335894  82.479256  84.392286  74.485249   \n",
       "2  86.420559  82.417793  83.839121  83.604794  85.172096  77.539183   \n",
       "3  87.231100  83.305163  84.545943  84.361555  86.159342  79.275507   \n",
       "4  87.246466  84.200215  86.197757  84.726490  86.631838  79.456054   \n",
       "\n",
       "          12         13         14         15  \n",
       "0  79.087277  69.802551  80.220498  61.608789  \n",
       "1  83.312846  76.129379  83.343577  73.693915  \n",
       "2  84.338506  81.783958  84.834050  77.892594  \n",
       "3  83.597111  83.278273  84.649662  79.663491  \n",
       "4  86.151659  83.305163  84.983866  81.177013  "
      ]
     },
     "execution_count": 151,
     "metadata": {},
     "output_type": "execute_result"
    }
   ],
   "source": [
    "df_acc.to_csv('cnn_batch_rate_acc.csv', sep=',',index = False)   \n",
    "df_acc.head()"
   ]
  },
  {
   "cell_type": "code",
   "execution_count": 143,
   "id": "73eca422",
   "metadata": {},
   "outputs": [
    {
     "name": "stdout",
     "output_type": "stream",
     "text": [
      "<class 'pandas.core.frame.DataFrame'>\n"
     ]
    },
    {
     "data": {
      "text/html": [
       "<div>\n",
       "<style scoped>\n",
       "    .dataframe tbody tr th:only-of-type {\n",
       "        vertical-align: middle;\n",
       "    }\n",
       "\n",
       "    .dataframe tbody tr th {\n",
       "        vertical-align: top;\n",
       "    }\n",
       "\n",
       "    .dataframe thead th {\n",
       "        text-align: right;\n",
       "    }\n",
       "</style>\n",
       "<table border=\"1\" class=\"dataframe\">\n",
       "  <thead>\n",
       "    <tr style=\"text-align: right;\">\n",
       "      <th></th>\n",
       "      <th>Batch Size</th>\n",
       "      <th>Learning Rate</th>\n",
       "    </tr>\n",
       "  </thead>\n",
       "  <tbody>\n",
       "    <tr>\n",
       "      <th>0</th>\n",
       "      <td>64.0</td>\n",
       "      <td>0.0010</td>\n",
       "    </tr>\n",
       "    <tr>\n",
       "      <th>1</th>\n",
       "      <td>64.0</td>\n",
       "      <td>0.0003</td>\n",
       "    </tr>\n",
       "    <tr>\n",
       "      <th>2</th>\n",
       "      <td>64.0</td>\n",
       "      <td>0.0005</td>\n",
       "    </tr>\n",
       "    <tr>\n",
       "      <th>3</th>\n",
       "      <td>64.0</td>\n",
       "      <td>0.0001</td>\n",
       "    </tr>\n",
       "    <tr>\n",
       "      <th>4</th>\n",
       "      <td>128.0</td>\n",
       "      <td>0.0010</td>\n",
       "    </tr>\n",
       "  </tbody>\n",
       "</table>\n",
       "</div>"
      ],
      "text/plain": [
       "   Batch Size  Learning Rate\n",
       "0        64.0         0.0010\n",
       "1        64.0         0.0003\n",
       "2        64.0         0.0005\n",
       "3        64.0         0.0001\n",
       "4       128.0         0.0010"
      ]
     },
     "execution_count": 143,
     "metadata": {},
     "output_type": "execute_result"
    }
   ],
   "source": [
    "batches_list = [64, 128, 256, 512]\n",
    "rate_list = [0.001, 0.0003, 0.0005, 0.0001]\n",
    "model_params = []\n",
    "for batchsize in batches_list:\n",
    "    for lr in rate_list:\n",
    "        model_try = []\n",
    "        model_try.append(batchsize)\n",
    "        model_try.append(lr)\n",
    "\n",
    "        model_params.append(model_try)\n",
    "        \n",
    "        \n",
    "cols=['Batch Size','Learning Rate']\n",
    "\n",
    "df_model = pd.DataFrame(model_params[0])\n",
    "df_model = df_model.T\n",
    "df_model.columns = cols\n",
    "\n",
    "print(type(df_model))\n",
    "\n",
    "\n",
    "for i in range(15):\n",
    "    temp_df = pd.DataFrame(model_params[i+1])\n",
    "    temp_df = temp_df.T\n",
    "    temp_df.columns = cols\n",
    "    df_model = pd.concat([df_model,temp_df],ignore_index =True)        \n",
    "    \n",
    "df_model.head()    "
   ]
  },
  {
   "cell_type": "code",
   "execution_count": null,
   "id": "28cf26e4",
   "metadata": {},
   "outputs": [],
   "source": []
  },
  {
   "cell_type": "code",
   "execution_count": null,
   "id": "d5a332b3",
   "metadata": {},
   "outputs": [],
   "source": []
  },
  {
   "cell_type": "markdown",
   "id": "1cae4555",
   "metadata": {},
   "source": [
    "# Changing Activation Functions"
   ]
  },
  {
   "cell_type": "markdown",
   "id": "ab4eaa01",
   "metadata": {},
   "source": [
    "### logsigmoid, softplus, relu, sigmoid, leakyrelu. However Relu gave the best results."
   ]
  },
  {
   "cell_type": "code",
   "execution_count": 146,
   "id": "40e0df59",
   "metadata": {},
   "outputs": [],
   "source": [
    "B_SIZE = 128\n",
    "train_loader = torch.utils.data.DataLoader(dataset=train_data, \n",
    "                                                   batch_size=B_SIZE, \n",
    "                                                   shuffle=True) \n",
    "test_loader = torch.utils.data.DataLoader(dataset=test_data, \n",
    "                                                   batch_size=B_SIZE, \n",
    "                                                   shuffle=False) "
   ]
  },
  {
   "cell_type": "code",
   "execution_count": 147,
   "id": "6f6c9a35",
   "metadata": {},
   "outputs": [],
   "source": [
    "device = \"cuda\"\n",
    "class CNN(nn.Module):\n",
    "    def __init__(self):\n",
    "        super(CNN, self).__init__()\n",
    "        \n",
    "        #https://www.youtube.com/watch?v=pDdP0TFzsoQ&list=PLqnslRFeH2UrcDBWF5mfPGpqQDSta6VK4&index=14\n",
    "        self.conv_layer1 = nn.Conv2d(3, 6, 5)  #\n",
    "        self.maxpool1 = nn.MaxPool2d(2,2)\n",
    "        self.conv_layer2 = nn.Conv2d(6, 16, 5)  #\n",
    "        self.maxpool2 = nn.MaxPool2d(2,2)\n",
    "        \n",
    "        #n_size = self._get_conv_output(input_shape)\n",
    "        #self.fc1 = nn.Linear(n_size, 512)\n",
    "        \n",
    "        self.fc1 = nn.Linear(16*5*5, 256)   # this 16*5*5 must be changed \n",
    "        self.fc2 = nn.Linear(256,64)\n",
    "        self.fc3 = nn.Linear(64,10)\n",
    "        \n",
    "    def forward(self,x):\n",
    "        x = self.maxpool1(F.sigmoid(self.conv_layer1(x)))\n",
    "        x = self.maxpool2(F.sigmoid(self.conv_layer2(x)))\n",
    "        x = x.view(-1,16*5*5)  # this 16*5*5 must be changed \n",
    "        x = F.relu(self.fc1(x))\n",
    "        x = F.relu(self.fc2(x))\n",
    "        x = self.fc3(x)\n",
    "        return x\n",
    "    \n"
   ]
  },
  {
   "cell_type": "code",
   "execution_count": 148,
   "id": "c07993f6",
   "metadata": {},
   "outputs": [
    {
     "name": "stdout",
     "output_type": "stream",
     "text": [
      "Model has 122626 learnable parameters\n"
     ]
    }
   ],
   "source": [
    "model = CNN().to(device)   \n",
    "\n",
    "params = count_model_params(model)\n",
    "print(f\"Model has {params} learnable parameters\")\n",
    "\n",
    "EPOCHS = 25\n",
    "LR = 0.0003\n",
    "criterion = nn.CrossEntropyLoss().to(device)\n",
    "optimizer = torch.optim.Adam(params=model.parameters(), lr=LR)"
   ]
  },
  {
   "cell_type": "code",
   "execution_count": 149,
   "id": "6582897e",
   "metadata": {},
   "outputs": [
    {
     "name": "stderr",
     "output_type": "stream",
     "text": [
      "  0%|                                                  | 0/573 [00:00<?, ?it/s]C:\\Users\\Pahul\\anaconda3\\envs\\cudalab\\lib\\site-packages\\torch\\nn\\functional.py:1709: UserWarning: nn.functional.sigmoid is deprecated. Use torch.sigmoid instead.\n",
      "  warnings.warn(\"nn.functional.sigmoid is deprecated. Use torch.sigmoid instead.\")\n",
      "Epoch 1 Iter 573: loss 2.24569. : 100%|█████| 573/573 [00:03<00:00, 165.49it/s]\n",
      "Epoch 2 Iter 28: loss 2.28439. :   3%|▏      | 16/573 [00:00<00:03, 157.28it/s]"
     ]
    },
    {
     "name": "stdout",
     "output_type": "stream",
     "text": [
      "Classification accuracy: 19.59%\n"
     ]
    },
    {
     "name": "stderr",
     "output_type": "stream",
     "text": [
      "Epoch 2 Iter 573: loss 2.03583. : 100%|█████| 573/573 [00:03<00:00, 177.88it/s]\n",
      "Epoch 3 Iter 26: loss 2.17045. :   3%|▏      | 15/573 [00:00<00:03, 144.61it/s]"
     ]
    },
    {
     "name": "stdout",
     "output_type": "stream",
     "text": [
      "Classification accuracy: 19.66%\n"
     ]
    },
    {
     "name": "stderr",
     "output_type": "stream",
     "text": [
      "Epoch 3 Iter 573: loss 1.81049. : 100%|█████| 573/573 [00:03<00:00, 178.75it/s]\n",
      "Epoch 4 Iter 29: loss 1.66612. :   3%|▏      | 16/573 [00:00<00:03, 158.84it/s]"
     ]
    },
    {
     "name": "stdout",
     "output_type": "stream",
     "text": [
      "Classification accuracy: 37.53%\n"
     ]
    },
    {
     "name": "stderr",
     "output_type": "stream",
     "text": [
      "Epoch 4 Iter 573: loss 1.39410. : 100%|█████| 573/573 [00:03<00:00, 176.07it/s]\n",
      "Epoch 5 Iter 28: loss 1.34652. :   3%|▏      | 16/573 [00:00<00:03, 152.85it/s]"
     ]
    },
    {
     "name": "stdout",
     "output_type": "stream",
     "text": [
      "Classification accuracy: 54.2%\n"
     ]
    },
    {
     "name": "stderr",
     "output_type": "stream",
     "text": [
      "Epoch 5 Iter 573: loss 1.44282. : 100%|█████| 573/573 [00:03<00:00, 178.16it/s]\n",
      "Epoch 6 Iter 30: loss 1.17117. :   3%|▏      | 17/573 [00:00<00:03, 159.30it/s]"
     ]
    },
    {
     "name": "stdout",
     "output_type": "stream",
     "text": [
      "Classification accuracy: 59.02%\n"
     ]
    },
    {
     "name": "stderr",
     "output_type": "stream",
     "text": [
      "Epoch 6 Iter 573: loss 1.52380. : 100%|█████| 573/573 [00:03<00:00, 174.73it/s]\n",
      "Epoch 7 Iter 30: loss 0.90059. :   3%|▏      | 17/573 [00:00<00:03, 162.38it/s]"
     ]
    },
    {
     "name": "stdout",
     "output_type": "stream",
     "text": [
      "Classification accuracy: 62.15%\n"
     ]
    },
    {
     "name": "stderr",
     "output_type": "stream",
     "text": [
      "Epoch 7 Iter 573: loss 0.80105. : 100%|█████| 573/573 [00:03<00:00, 178.18it/s]\n",
      "Epoch 8 Iter 30: loss 1.02057. :   3%|▏      | 16/573 [00:00<00:03, 157.28it/s]"
     ]
    },
    {
     "name": "stdout",
     "output_type": "stream",
     "text": [
      "Classification accuracy: 66.21%\n"
     ]
    },
    {
     "name": "stderr",
     "output_type": "stream",
     "text": [
      "Epoch 8 Iter 573: loss 0.85321. : 100%|█████| 573/573 [00:03<00:00, 177.05it/s]\n",
      "Epoch 9 Iter 29: loss 1.02249. :   3%|▏      | 17/573 [00:00<00:03, 160.80it/s]"
     ]
    },
    {
     "name": "stdout",
     "output_type": "stream",
     "text": [
      "Classification accuracy: 70.43%\n"
     ]
    },
    {
     "name": "stderr",
     "output_type": "stream",
     "text": [
      "Epoch 9 Iter 573: loss 0.71032. : 100%|█████| 573/573 [00:03<00:00, 177.70it/s]\n",
      "Epoch 10 Iter 28: loss 0.86008. :   3%|▏     | 15/573 [00:00<00:03, 144.66it/s]"
     ]
    },
    {
     "name": "stdout",
     "output_type": "stream",
     "text": [
      "Classification accuracy: 73.71%\n"
     ]
    },
    {
     "name": "stderr",
     "output_type": "stream",
     "text": [
      "Epoch 10 Iter 573: loss 0.71865. : 100%|████| 573/573 [00:03<00:00, 177.24it/s]\n",
      "Epoch 11 Iter 29: loss 0.62021. :   3%|▏     | 15/573 [00:00<00:03, 148.96it/s]"
     ]
    },
    {
     "name": "stdout",
     "output_type": "stream",
     "text": [
      "Classification accuracy: 75.95%\n"
     ]
    },
    {
     "name": "stderr",
     "output_type": "stream",
     "text": [
      "Epoch 11 Iter 573: loss 0.81469. : 100%|████| 573/573 [00:03<00:00, 174.52it/s]\n",
      "Epoch 12 Iter 27: loss 0.85114. :   3%|▏     | 15/573 [00:00<00:03, 147.47it/s]"
     ]
    },
    {
     "name": "stdout",
     "output_type": "stream",
     "text": [
      "Classification accuracy: 76.86%\n"
     ]
    },
    {
     "name": "stderr",
     "output_type": "stream",
     "text": [
      "Epoch 12 Iter 573: loss 0.53560. : 100%|████| 573/573 [00:03<00:00, 177.10it/s]\n",
      "Epoch 13 Iter 25: loss 0.60794. :   3%|▏     | 16/573 [00:00<00:03, 152.79it/s]"
     ]
    },
    {
     "name": "stdout",
     "output_type": "stream",
     "text": [
      "Classification accuracy: 77.61%\n"
     ]
    },
    {
     "name": "stderr",
     "output_type": "stream",
     "text": [
      "Epoch 13 Iter 573: loss 0.35932. : 100%|████| 573/573 [00:03<00:00, 179.59it/s]\n",
      "Epoch 14 Iter 31: loss 0.48567. :   3%|▏     | 16/573 [00:00<00:03, 158.08it/s]"
     ]
    },
    {
     "name": "stdout",
     "output_type": "stream",
     "text": [
      "Classification accuracy: 78.68%\n"
     ]
    },
    {
     "name": "stderr",
     "output_type": "stream",
     "text": [
      "Epoch 14 Iter 573: loss 1.37014. : 100%|████| 573/573 [00:03<00:00, 176.37it/s]\n",
      "Epoch 15 Iter 30: loss 0.57245. :   3%|▏     | 17/573 [00:00<00:03, 162.39it/s]"
     ]
    },
    {
     "name": "stdout",
     "output_type": "stream",
     "text": [
      "Classification accuracy: 79.21%\n"
     ]
    },
    {
     "name": "stderr",
     "output_type": "stream",
     "text": [
      "Epoch 15 Iter 573: loss 0.60652. : 100%|████| 573/573 [00:03<00:00, 177.21it/s]\n",
      "Epoch 16 Iter 32: loss 0.53609. :   3%|▏     | 17/573 [00:00<00:03, 167.11it/s]"
     ]
    },
    {
     "name": "stdout",
     "output_type": "stream",
     "text": [
      "Classification accuracy: 79.62%\n"
     ]
    },
    {
     "name": "stderr",
     "output_type": "stream",
     "text": [
      "Epoch 16 Iter 573: loss 0.64757. : 100%|████| 573/573 [00:03<00:00, 186.83it/s]\n",
      "Epoch 17 Iter 30: loss 0.36941. :   3%|▏     | 16/573 [00:00<00:03, 155.80it/s]"
     ]
    },
    {
     "name": "stdout",
     "output_type": "stream",
     "text": [
      "Classification accuracy: 80.75%\n"
     ]
    },
    {
     "name": "stderr",
     "output_type": "stream",
     "text": [
      "Epoch 17 Iter 573: loss 0.62699. : 100%|████| 573/573 [00:03<00:00, 176.67it/s]\n",
      "Epoch 18 Iter 30: loss 0.47444. :   3%|▏     | 18/573 [00:00<00:03, 174.10it/s]"
     ]
    },
    {
     "name": "stdout",
     "output_type": "stream",
     "text": [
      "Classification accuracy: 81.15%\n"
     ]
    },
    {
     "name": "stderr",
     "output_type": "stream",
     "text": [
      "Epoch 18 Iter 573: loss 0.49674. : 100%|████| 573/573 [00:03<00:00, 181.14it/s]\n",
      "Epoch 19 Iter 25: loss 0.44369. :   3%|▏     | 16/573 [00:00<00:03, 151.34it/s]"
     ]
    },
    {
     "name": "stdout",
     "output_type": "stream",
     "text": [
      "Classification accuracy: 81.35%\n"
     ]
    },
    {
     "name": "stderr",
     "output_type": "stream",
     "text": [
      "Epoch 19 Iter 573: loss 0.47783. : 100%|████| 573/573 [00:03<00:00, 175.16it/s]\n",
      "Epoch 20 Iter 31: loss 0.58231. :   3%|▏     | 17/573 [00:00<00:03, 168.81it/s]"
     ]
    },
    {
     "name": "stdout",
     "output_type": "stream",
     "text": [
      "Classification accuracy: 81.79%\n"
     ]
    },
    {
     "name": "stderr",
     "output_type": "stream",
     "text": [
      "Epoch 20 Iter 573: loss 0.46336. : 100%|████| 573/573 [00:03<00:00, 178.98it/s]\n",
      "Epoch 21 Iter 27: loss 0.48720. :   3%|▏     | 15/573 [00:00<00:03, 141.93it/s]"
     ]
    },
    {
     "name": "stdout",
     "output_type": "stream",
     "text": [
      "Classification accuracy: 82.14%\n"
     ]
    },
    {
     "name": "stderr",
     "output_type": "stream",
     "text": [
      "Epoch 21 Iter 573: loss 0.66019. : 100%|████| 573/573 [00:03<00:00, 174.50it/s]\n",
      "Epoch 22 Iter 27: loss 0.50234. :   3%|▏     | 15/573 [00:00<00:03, 147.50it/s]"
     ]
    },
    {
     "name": "stdout",
     "output_type": "stream",
     "text": [
      "Classification accuracy: 82.46%\n"
     ]
    },
    {
     "name": "stderr",
     "output_type": "stream",
     "text": [
      "Epoch 22 Iter 573: loss 0.81084. : 100%|████| 573/573 [00:03<00:00, 173.47it/s]\n",
      "Epoch 23 Iter 28: loss 0.45573. :   3%|▏     | 15/573 [00:00<00:03, 146.07it/s]"
     ]
    },
    {
     "name": "stdout",
     "output_type": "stream",
     "text": [
      "Classification accuracy: 82.43%\n"
     ]
    },
    {
     "name": "stderr",
     "output_type": "stream",
     "text": [
      "Epoch 23 Iter 573: loss 0.57648. : 100%|████| 573/573 [00:03<00:00, 175.53it/s]\n",
      "Epoch 24 Iter 30: loss 0.47073. :   3%|▏     | 17/573 [00:00<00:03, 163.94it/s]"
     ]
    },
    {
     "name": "stdout",
     "output_type": "stream",
     "text": [
      "Classification accuracy: 82.79%\n"
     ]
    },
    {
     "name": "stderr",
     "output_type": "stream",
     "text": [
      "Epoch 24 Iter 573: loss 0.83504. : 100%|████| 573/573 [00:03<00:00, 176.85it/s]\n",
      "Epoch 25 Iter 29: loss 0.36191. :   3%|▏     | 17/573 [00:00<00:03, 163.90it/s]"
     ]
    },
    {
     "name": "stdout",
     "output_type": "stream",
     "text": [
      "Classification accuracy: 82.66%\n"
     ]
    },
    {
     "name": "stderr",
     "output_type": "stream",
     "text": [
      "Epoch 25 Iter 573: loss 0.36540. : 100%|████| 573/573 [00:03<00:00, 182.44it/s]\n"
     ]
    },
    {
     "name": "stdout",
     "output_type": "stream",
     "text": [
      "Classification accuracy: 83.31%\n"
     ]
    }
   ],
   "source": [
    "loss_hist = []\n",
    "acc_hist = []\n",
    "\n",
    "for epoch in range( EPOCHS):\n",
    "    loss_list = []\n",
    "    progress_bar = tqdm(enumerate(train_loader), total=len(train_loader))\n",
    "    for i, (images, labels) in progress_bar:\n",
    "        images = images.to(device)\n",
    "        labels = labels.to(device)\n",
    "        \n",
    "        # Clear gradients w.r.t. parameters\n",
    "        optimizer.zero_grad()\n",
    "         \n",
    "        # Forward pass to get output/logits\n",
    "        outputs = model(images)\n",
    "        \n",
    "        # Calculate Loss: softmax --> cross entropy loss\n",
    "        loss = criterion(outputs, labels)\n",
    "        loss_list.append(loss.item())\n",
    "         \n",
    "        # Getting gradients w.r.t. parameters\n",
    "        loss.backward()\n",
    "         \n",
    "        # Updating parameters\n",
    "        optimizer.step()\n",
    "        progress_bar.set_description(f\"Epoch {epoch+1} Iter {i+1}: loss {loss.item():.5f}. \")\n",
    "             \n",
    "    loss_hist.append(np.mean(loss_list))\n",
    "    accuracy, _ = eval_model(model) \n",
    "    acc_hist.append(accuracy)\n",
    "    print(f\"Classification accuracy: {round(accuracy, 2)}%\")"
   ]
  },
  {
   "cell_type": "code",
   "execution_count": null,
   "id": "f01142f6",
   "metadata": {},
   "outputs": [],
   "source": []
  },
  {
   "cell_type": "markdown",
   "id": "e9f1916e",
   "metadata": {},
   "source": [
    "# Batch Normalisation"
   ]
  },
  {
   "cell_type": "code",
   "execution_count": 94,
   "id": "4fc03d52",
   "metadata": {},
   "outputs": [],
   "source": [
    "device = \"cuda\"\n",
    "class CNN(nn.Module):\n",
    "    def __init__(self):\n",
    "        super(CNN, self).__init__()\n",
    "        \n",
    "        #https://www.youtube.com/watch?v=pDdP0TFzsoQ&list=PLqnslRFeH2UrcDBWF5mfPGpqQDSta6VK4&index=14\n",
    "        self.conv_layer1 = nn.Conv2d(3, 6, 5)  #\n",
    "        self.maxpool1 = nn.MaxPool2d(2,2)\n",
    "        self.conv2_bn1 = nn.BatchNorm2d(6)\n",
    "        self.conv_layer2 = nn.Conv2d(6, 16, 5)  #\n",
    "        self.maxpool2 = nn.MaxPool2d(2,2)\n",
    "        self.conv2_bn2 = nn.BatchNorm2d(16)\n",
    "        #n_size = self._get_conv_output(input_shape)\n",
    "        #self.fc1 = nn.Linear(n_size, 512)\n",
    "        self.dropout = nn.Dropout(0.2)\n",
    "        \n",
    "        self.fc1 = nn.Linear(16*5*5, 256)   # this 16*5*5 must be changed \n",
    "        #self.bn1 = nn.BatchNorm1d(num_features=256)\n",
    "        self.fc2 = nn.Linear(256,64)\n",
    "        #self.bn2 = nn.BatchNorm1d(num_features=64)\n",
    "        self.fc3 = nn.Linear(64,10)\n",
    "        \n",
    "    def forward(self,x):\n",
    "        x = self.maxpool1(self.conv2_bn1(F.relu(self.conv_layer1(x))))\n",
    "        x = self.maxpool2(self.conv2_bn2(F.relu(self.conv_layer2(x))))     \n",
    "        x = x.view(-1,16*5*5)  # this 16*5*5 must be changed \n",
    "        x = F.relu(self.fc1(x))\n",
    "        #x = self.dropout(x)\n",
    "        x = F.relu(self.fc2(x))\n",
    "        x = self.fc3(x)\n",
    "        return x\n",
    "    \n"
   ]
  },
  {
   "cell_type": "code",
   "execution_count": 97,
   "id": "14ab60de",
   "metadata": {},
   "outputs": [
    {
     "name": "stdout",
     "output_type": "stream",
     "text": [
      "Model has 122670 learnable parameters\n"
     ]
    }
   ],
   "source": [
    "model = CNN().to(device)   \n",
    "\n",
    "params = count_model_params(model)\n",
    "print(f\"Model has {params} learnable parameters\")\n",
    "\n",
    "EPOCHS = 25\n",
    "LR = 0.0001\n",
    "criterion = nn.CrossEntropyLoss().to(device)\n",
    "optimizer = torch.optim.Adam(params=model.parameters(), lr=LR)"
   ]
  },
  {
   "cell_type": "code",
   "execution_count": 98,
   "id": "8f17bcba",
   "metadata": {},
   "outputs": [
    {
     "name": "stderr",
     "output_type": "stream",
     "text": [
      "Epoch 1 Iter 573: loss 0.66840. : 100%|█████| 573/573 [00:03<00:00, 161.17it/s]\n",
      "Epoch 2 Iter 27: loss 0.58271. :   3%|▏      | 15/573 [00:00<00:03, 141.88it/s]"
     ]
    },
    {
     "name": "stdout",
     "output_type": "stream",
     "text": [
      "Classification accuracy: 79.13%\n"
     ]
    },
    {
     "name": "stderr",
     "output_type": "stream",
     "text": [
      "Epoch 2 Iter 573: loss 0.64996. : 100%|█████| 573/573 [00:03<00:00, 163.63it/s]\n",
      "Epoch 3 Iter 26: loss 0.43546. :   3%|▏      | 15/573 [00:00<00:03, 141.93it/s]"
     ]
    },
    {
     "name": "stdout",
     "output_type": "stream",
     "text": [
      "Classification accuracy: 82.95%\n"
     ]
    },
    {
     "name": "stderr",
     "output_type": "stream",
     "text": [
      "Epoch 3 Iter 573: loss 0.57568. : 100%|█████| 573/573 [00:03<00:00, 162.11it/s]\n",
      "Epoch 4 Iter 27: loss 0.38941. :   2%|▏      | 14/573 [00:00<00:04, 137.62it/s]"
     ]
    },
    {
     "name": "stdout",
     "output_type": "stream",
     "text": [
      "Classification accuracy: 84.66%\n"
     ]
    },
    {
     "name": "stderr",
     "output_type": "stream",
     "text": [
      "Epoch 4 Iter 573: loss 0.49357. : 100%|█████| 573/573 [00:03<00:00, 165.00it/s]\n",
      "Epoch 5 Iter 26: loss 0.44400. :   3%|▏      | 15/573 [00:00<00:03, 144.66it/s]"
     ]
    },
    {
     "name": "stdout",
     "output_type": "stream",
     "text": [
      "Classification accuracy: 85.33%\n"
     ]
    },
    {
     "name": "stderr",
     "output_type": "stream",
     "text": [
      "Epoch 5 Iter 573: loss 0.40287. : 100%|█████| 573/573 [00:03<00:00, 163.25it/s]\n",
      "Epoch 6 Iter 27: loss 0.42800. :   3%|▏      | 15/573 [00:00<00:03, 146.06it/s]"
     ]
    },
    {
     "name": "stdout",
     "output_type": "stream",
     "text": [
      "Classification accuracy: 86.1%\n"
     ]
    },
    {
     "name": "stderr",
     "output_type": "stream",
     "text": [
      "Epoch 6 Iter 573: loss 0.54684. : 100%|█████| 573/573 [00:03<00:00, 162.66it/s]\n",
      "Epoch 7 Iter 26: loss 0.43431. :   2%|▏      | 13/573 [00:00<00:04, 127.80it/s]"
     ]
    },
    {
     "name": "stdout",
     "output_type": "stream",
     "text": [
      "Classification accuracy: 86.48%\n"
     ]
    },
    {
     "name": "stderr",
     "output_type": "stream",
     "text": [
      "Epoch 7 Iter 573: loss 0.41474. : 100%|█████| 573/573 [00:03<00:00, 161.63it/s]\n",
      "Epoch 8 Iter 25: loss 0.45599. :   3%|▏      | 15/573 [00:00<00:03, 141.88it/s]"
     ]
    },
    {
     "name": "stdout",
     "output_type": "stream",
     "text": [
      "Classification accuracy: 86.73%\n"
     ]
    },
    {
     "name": "stderr",
     "output_type": "stream",
     "text": [
      "Epoch 8 Iter 573: loss 0.43727. : 100%|█████| 573/573 [00:03<00:00, 163.35it/s]\n",
      "Epoch 9 Iter 27: loss 0.43564. :   3%|▏      | 15/573 [00:00<00:03, 143.24it/s]"
     ]
    },
    {
     "name": "stdout",
     "output_type": "stream",
     "text": [
      "Classification accuracy: 87.0%\n"
     ]
    },
    {
     "name": "stderr",
     "output_type": "stream",
     "text": [
      "Epoch 9 Iter 573: loss 0.23769. : 100%|█████| 573/573 [00:03<00:00, 162.71it/s]\n",
      "Epoch 10 Iter 26: loss 0.25681. :   2%|▏     | 14/573 [00:00<00:04, 137.62it/s]"
     ]
    },
    {
     "name": "stdout",
     "output_type": "stream",
     "text": [
      "Classification accuracy: 87.19%\n"
     ]
    },
    {
     "name": "stderr",
     "output_type": "stream",
     "text": [
      "Epoch 10 Iter 573: loss 0.15730. : 100%|████| 573/573 [00:03<00:00, 161.70it/s]\n",
      "Epoch 11 Iter 26: loss 0.38965. :   3%|▏     | 15/573 [00:00<00:03, 140.56it/s]"
     ]
    },
    {
     "name": "stdout",
     "output_type": "stream",
     "text": [
      "Classification accuracy: 87.52%\n"
     ]
    },
    {
     "name": "stderr",
     "output_type": "stream",
     "text": [
      "Epoch 11 Iter 573: loss 0.19165. : 100%|████| 573/573 [00:03<00:00, 162.13it/s]\n",
      "Epoch 12 Iter 26: loss 0.25843. :   2%|▏     | 14/573 [00:00<00:04, 131.19it/s]"
     ]
    },
    {
     "name": "stdout",
     "output_type": "stream",
     "text": [
      "Classification accuracy: 87.53%\n"
     ]
    },
    {
     "name": "stderr",
     "output_type": "stream",
     "text": [
      "Epoch 12 Iter 573: loss 0.24709. : 100%|████| 573/573 [00:03<00:00, 163.06it/s]\n",
      "Epoch 13 Iter 26: loss 0.25032. :   3%|▏     | 16/573 [00:00<00:03, 149.67it/s]"
     ]
    },
    {
     "name": "stdout",
     "output_type": "stream",
     "text": [
      "Classification accuracy: 87.95%\n"
     ]
    },
    {
     "name": "stderr",
     "output_type": "stream",
     "text": [
      "Epoch 13 Iter 573: loss 0.34878. : 100%|████| 573/573 [00:03<00:00, 164.79it/s]\n",
      "Epoch 14 Iter 25: loss 0.22028. :   3%|▏     | 15/573 [00:00<00:04, 139.30it/s]"
     ]
    },
    {
     "name": "stdout",
     "output_type": "stream",
     "text": [
      "Classification accuracy: 87.66%\n"
     ]
    },
    {
     "name": "stderr",
     "output_type": "stream",
     "text": [
      "Epoch 14 Iter 573: loss 0.40274. : 100%|████| 573/573 [00:03<00:00, 162.67it/s]\n",
      "Epoch 15 Iter 27: loss 0.26311. :   3%|▏     | 15/573 [00:00<00:03, 145.97it/s]"
     ]
    },
    {
     "name": "stdout",
     "output_type": "stream",
     "text": [
      "Classification accuracy: 88.19%\n"
     ]
    },
    {
     "name": "stderr",
     "output_type": "stream",
     "text": [
      "Epoch 15 Iter 573: loss 0.13094. : 100%|████| 573/573 [00:03<00:00, 163.59it/s]\n",
      "Epoch 16 Iter 28: loss 0.27053. :   3%|▏     | 15/573 [00:00<00:03, 148.91it/s]"
     ]
    },
    {
     "name": "stdout",
     "output_type": "stream",
     "text": [
      "Classification accuracy: 87.83%\n"
     ]
    },
    {
     "name": "stderr",
     "output_type": "stream",
     "text": [
      "Epoch 16 Iter 573: loss 0.12691. : 100%|████| 573/573 [00:03<00:00, 162.43it/s]\n",
      "Epoch 17 Iter 24: loss 0.12017. :   2%|▏     | 13/573 [00:00<00:04, 126.59it/s]"
     ]
    },
    {
     "name": "stdout",
     "output_type": "stream",
     "text": [
      "Classification accuracy: 88.23%\n"
     ]
    },
    {
     "name": "stderr",
     "output_type": "stream",
     "text": [
      "Epoch 17 Iter 573: loss 0.14727. : 100%|████| 573/573 [00:03<00:00, 162.16it/s]\n",
      "Epoch 18 Iter 26: loss 0.12923. :   2%|▏     | 14/573 [00:00<00:04, 135.01it/s]"
     ]
    },
    {
     "name": "stdout",
     "output_type": "stream",
     "text": [
      "Classification accuracy: 88.46%\n"
     ]
    },
    {
     "name": "stderr",
     "output_type": "stream",
     "text": [
      "Epoch 18 Iter 573: loss 0.22702. : 100%|████| 573/573 [00:03<00:00, 162.92it/s]\n",
      "Epoch 19 Iter 26: loss 0.15260. :   2%|▏     | 14/573 [00:00<00:04, 135.01it/s]"
     ]
    },
    {
     "name": "stdout",
     "output_type": "stream",
     "text": [
      "Classification accuracy: 88.3%\n"
     ]
    },
    {
     "name": "stderr",
     "output_type": "stream",
     "text": [
      "Epoch 19 Iter 573: loss 0.25136. : 100%|████| 573/573 [00:03<00:00, 164.35it/s]\n",
      "Epoch 20 Iter 26: loss 0.16512. :   2%|▏     | 14/573 [00:00<00:04, 139.02it/s]"
     ]
    },
    {
     "name": "stdout",
     "output_type": "stream",
     "text": [
      "Classification accuracy: 88.41%\n"
     ]
    },
    {
     "name": "stderr",
     "output_type": "stream",
     "text": [
      "Epoch 20 Iter 573: loss 0.06486. : 100%|████| 573/573 [00:03<00:00, 165.11it/s]\n",
      "Epoch 21 Iter 26: loss 0.28416. :   3%|▏     | 15/573 [00:00<00:03, 147.45it/s]"
     ]
    },
    {
     "name": "stdout",
     "output_type": "stream",
     "text": [
      "Classification accuracy: 88.68%\n"
     ]
    },
    {
     "name": "stderr",
     "output_type": "stream",
     "text": [
      "Epoch 21 Iter 573: loss 0.11199. : 100%|████| 573/573 [00:03<00:00, 170.25it/s]\n",
      "Epoch 22 Iter 27: loss 0.10374. :   3%|▏     | 15/573 [00:00<00:03, 144.62it/s]"
     ]
    },
    {
     "name": "stdout",
     "output_type": "stream",
     "text": [
      "Classification accuracy: 88.6%\n"
     ]
    },
    {
     "name": "stderr",
     "output_type": "stream",
     "text": [
      "Epoch 22 Iter 573: loss 0.10503. : 100%|████| 573/573 [00:03<00:00, 168.61it/s]\n",
      "Epoch 23 Iter 28: loss 0.24888. :   3%|▏     | 15/573 [00:00<00:03, 143.28it/s]"
     ]
    },
    {
     "name": "stdout",
     "output_type": "stream",
     "text": [
      "Classification accuracy: 88.62%\n"
     ]
    },
    {
     "name": "stderr",
     "output_type": "stream",
     "text": [
      "Epoch 23 Iter 573: loss 0.10742. : 100%|████| 573/573 [00:03<00:00, 160.78it/s]\n",
      "Epoch 24 Iter 28: loss 0.19477. :   3%|▏     | 15/573 [00:00<00:03, 147.45it/s]"
     ]
    },
    {
     "name": "stdout",
     "output_type": "stream",
     "text": [
      "Classification accuracy: 88.81%\n"
     ]
    },
    {
     "name": "stderr",
     "output_type": "stream",
     "text": [
      "Epoch 24 Iter 573: loss 0.06018. : 100%|████| 573/573 [00:03<00:00, 167.94it/s]\n",
      "Epoch 25 Iter 31: loss 0.14680. :   3%|▏     | 15/573 [00:00<00:03, 148.94it/s]"
     ]
    },
    {
     "name": "stdout",
     "output_type": "stream",
     "text": [
      "Classification accuracy: 88.55%\n"
     ]
    },
    {
     "name": "stderr",
     "output_type": "stream",
     "text": [
      "Epoch 25 Iter 573: loss 0.30518. : 100%|████| 573/573 [00:03<00:00, 176.62it/s]\n"
     ]
    },
    {
     "name": "stdout",
     "output_type": "stream",
     "text": [
      "Classification accuracy: 88.78%\n"
     ]
    }
   ],
   "source": [
    "loss_hist = []\n",
    "acc_hist = []\n",
    "\n",
    "for epoch in range( EPOCHS):\n",
    "    loss_list = []\n",
    "    progress_bar = tqdm(enumerate(train_loader), total=len(train_loader))\n",
    "    for i, (images, labels) in progress_bar:\n",
    "        images = images.to(device)\n",
    "        labels = labels.to(device)\n",
    "        \n",
    "        # Clear gradients w.r.t. parameters\n",
    "        optimizer.zero_grad()\n",
    "         \n",
    "        # Forward pass to get output/logits\n",
    "        outputs = model(images)\n",
    "        \n",
    "        # Calculate Loss: softmax --> cross entropy loss\n",
    "        loss = criterion(outputs, labels)\n",
    "        loss_list.append(loss.item())\n",
    "         \n",
    "        # Getting gradients w.r.t. parameters\n",
    "        loss.backward()\n",
    "         \n",
    "        # Updating parameters\n",
    "        optimizer.step()\n",
    "        progress_bar.set_description(f\"Epoch {epoch+1} Iter {i+1}: loss {loss.item():.5f}. \")\n",
    "             \n",
    "    loss_hist.append(np.mean(loss_list))\n",
    "    accuracy, _ = eval_model(model) \n",
    "    acc_hist.append(accuracy)\n",
    "    print(f\"Classification accuracy: {round(accuracy, 2)}%\")"
   ]
  },
  {
   "cell_type": "markdown",
   "id": "abb50970",
   "metadata": {},
   "source": [
    "# Batch Normalisation gave the best accuracy and at times it reached 89 percent."
   ]
  },
  {
   "cell_type": "markdown",
   "id": "159c58e9",
   "metadata": {},
   "source": [
    "### ------------------"
   ]
  },
  {
   "cell_type": "markdown",
   "id": "400973ce",
   "metadata": {},
   "source": [
    "# Increasing Convolutional Layers"
   ]
  },
  {
   "cell_type": "code",
   "execution_count": 95,
   "id": "e13eedda",
   "metadata": {},
   "outputs": [
    {
     "name": "stdout",
     "output_type": "stream",
     "text": [
      "Model has 156215 learnable parameters\n"
     ]
    }
   ],
   "source": [
    "device = \"cuda\"\n",
    "class CNN(nn.Module):\n",
    "    def __init__(self):\n",
    "        super(CNN, self).__init__()\n",
    "        self.conv_layer1 = nn.Conv2d(3, 20, 7)  #\n",
    "        self.maxpool1 = nn.MaxPool2d(2,1)\n",
    "        self.conv_layer2 = nn.Conv2d(20, 16, 5)  #\n",
    "        self.maxpool2 = nn.MaxPool2d(2,1)\n",
    "        self.conv_layer3 = nn.Conv2d(16, 10, 3)  #\n",
    "        self.maxpool3 = nn.MaxPool2d(2,1)\n",
    "        self.conv_layer4 = nn.Conv2d(10, 5, 7)  #\n",
    "        self.maxpool4 = nn.MaxPool2d(2,1)\n",
    "        self.n_size = 100\n",
    "        #self.fc1 = nn.Linear(n_size, 512)\n",
    "        \n",
    "        self.fc1 = nn.Linear(5*10*10, 240)   # this 16*5*5 must be changed \n",
    "        self.fc2 = nn.Linear(240,84)\n",
    "        self.fc3 = nn.Linear(84,10)\n",
    "        \n",
    "    def forward(self,x):\n",
    "        x = self.maxpool1(F.relu(self.conv_layer1(x)))\n",
    "        x = self.maxpool2(F.relu(self.conv_layer2(x)))\n",
    "        x = self.maxpool3(F.relu(self.conv_layer3(x)))\n",
    "        x = self.maxpool4(F.relu(self.conv_layer4(x)))\n",
    "        #print(x.size())\n",
    "        x = x.view(-1,5*10*10)  # this 16*5*5 must be changed \n",
    "        x = F.relu(self.fc1(x))\n",
    "        x = F.relu(self.fc2(x))\n",
    "        x = self.fc3(x)\n",
    "        return x\n",
    "    \n",
    "    \n",
    "    \n",
    "model = CNN().to(device)   \n",
    "\n",
    "params = count_model_params(model)\n",
    "print(f\"Model has {params} learnable parameters\")\n",
    "\n",
    "EPOCHS = 20\n",
    "LR = 0.0003\n",
    "criterion = nn.CrossEntropyLoss().to(device)\n",
    "optimizer = torch.optim.Adam(params=model.parameters(), lr=LR)"
   ]
  },
  {
   "cell_type": "code",
   "execution_count": 96,
   "id": "54528a8e",
   "metadata": {},
   "outputs": [
    {
     "name": "stderr",
     "output_type": "stream",
     "text": [
      "Epoch 1 Iter 573: loss 1.18354. : 100%|█████| 573/573 [00:05<00:00, 114.30it/s]\n",
      "Epoch 2 Iter 19: loss 0.71561. :   2%|▏       | 10/573 [00:00<00:05, 94.26it/s]"
     ]
    },
    {
     "name": "stdout",
     "output_type": "stream",
     "text": [
      "Classification accuracy: 74.82%\n"
     ]
    },
    {
     "name": "stderr",
     "output_type": "stream",
     "text": [
      "Epoch 2 Iter 573: loss 0.57815. : 100%|█████| 573/573 [00:04<00:00, 115.07it/s]\n",
      "Epoch 3 Iter 19: loss 0.53580. :   2%|▏       | 10/573 [00:00<00:05, 98.50it/s]"
     ]
    },
    {
     "name": "stdout",
     "output_type": "stream",
     "text": [
      "Classification accuracy: 79.22%\n"
     ]
    },
    {
     "name": "stderr",
     "output_type": "stream",
     "text": [
      "Epoch 3 Iter 573: loss 0.41211. : 100%|█████| 573/573 [00:04<00:00, 114.61it/s]\n",
      "Epoch 4 Iter 18: loss 0.39088. :   2%|▏       | 10/573 [00:00<00:05, 97.84it/s]"
     ]
    },
    {
     "name": "stdout",
     "output_type": "stream",
     "text": [
      "Classification accuracy: 82.07%\n"
     ]
    },
    {
     "name": "stderr",
     "output_type": "stream",
     "text": [
      "Epoch 4 Iter 573: loss 0.68503. : 100%|█████| 573/573 [00:05<00:00, 114.35it/s]\n",
      "Epoch 5 Iter 20: loss 0.56408. :   2%|▏      | 11/573 [00:00<00:05, 104.05it/s]"
     ]
    },
    {
     "name": "stdout",
     "output_type": "stream",
     "text": [
      "Classification accuracy: 82.63%\n"
     ]
    },
    {
     "name": "stderr",
     "output_type": "stream",
     "text": [
      "Epoch 5 Iter 573: loss 0.53647. : 100%|█████| 573/573 [00:04<00:00, 117.33it/s]\n",
      "Epoch 6 Iter 21: loss 0.42998. :   2%|▏      | 12/573 [00:00<00:04, 117.19it/s]"
     ]
    },
    {
     "name": "stdout",
     "output_type": "stream",
     "text": [
      "Classification accuracy: 84.02%\n"
     ]
    },
    {
     "name": "stderr",
     "output_type": "stream",
     "text": [
      "Epoch 6 Iter 573: loss 0.30111. : 100%|█████| 573/573 [00:04<00:00, 119.43it/s]\n",
      "Epoch 7 Iter 19: loss 0.40664. :   2%|▏      | 12/573 [00:00<00:05, 111.03it/s]"
     ]
    },
    {
     "name": "stdout",
     "output_type": "stream",
     "text": [
      "Classification accuracy: 84.56%\n"
     ]
    },
    {
     "name": "stderr",
     "output_type": "stream",
     "text": [
      "Epoch 7 Iter 573: loss 0.57429. : 100%|█████| 573/573 [00:04<00:00, 120.08it/s]\n",
      "Epoch 8 Iter 21: loss 0.44464. :   2%|▏      | 12/573 [00:00<00:04, 112.50it/s]"
     ]
    },
    {
     "name": "stdout",
     "output_type": "stream",
     "text": [
      "Classification accuracy: 84.5%\n"
     ]
    },
    {
     "name": "stderr",
     "output_type": "stream",
     "text": [
      "Epoch 8 Iter 573: loss 0.22891. : 100%|█████| 573/573 [00:04<00:00, 125.68it/s]\n",
      "Epoch 9 Iter 20: loss 0.34396. :   2%|▏      | 12/573 [00:00<00:04, 112.45it/s]"
     ]
    },
    {
     "name": "stdout",
     "output_type": "stream",
     "text": [
      "Classification accuracy: 84.91%\n"
     ]
    },
    {
     "name": "stderr",
     "output_type": "stream",
     "text": [
      "Epoch 9 Iter 573: loss 0.28249. : 100%|█████| 573/573 [00:04<00:00, 123.92it/s]\n",
      "Epoch 10 Iter 23: loss 0.42605. :   2%|▏     | 13/573 [00:00<00:04, 122.97it/s]"
     ]
    },
    {
     "name": "stdout",
     "output_type": "stream",
     "text": [
      "Classification accuracy: 85.53%\n"
     ]
    },
    {
     "name": "stderr",
     "output_type": "stream",
     "text": [
      "Epoch 10 Iter 573: loss 0.30849. : 100%|████| 573/573 [00:04<00:00, 126.65it/s]\n",
      "Epoch 11 Iter 22: loss 0.29943. :   2%|▏     | 13/573 [00:00<00:04, 122.97it/s]"
     ]
    },
    {
     "name": "stdout",
     "output_type": "stream",
     "text": [
      "Classification accuracy: 85.67%\n"
     ]
    },
    {
     "name": "stderr",
     "output_type": "stream",
     "text": [
      "Epoch 11 Iter 573: loss 0.36292. : 100%|████| 573/573 [00:04<00:00, 122.89it/s]\n",
      "Epoch 12 Iter 20: loss 0.29827. :   2%|      | 11/573 [00:00<00:05, 103.89it/s]"
     ]
    },
    {
     "name": "stdout",
     "output_type": "stream",
     "text": [
      "Classification accuracy: 86.05%\n"
     ]
    },
    {
     "name": "stderr",
     "output_type": "stream",
     "text": [
      "Epoch 12 Iter 573: loss 0.17474. : 100%|████| 573/573 [00:04<00:00, 120.48it/s]\n",
      "Epoch 13 Iter 20: loss 0.28716. :   2%|      | 11/573 [00:00<00:05, 104.05it/s]"
     ]
    },
    {
     "name": "stdout",
     "output_type": "stream",
     "text": [
      "Classification accuracy: 86.2%\n"
     ]
    },
    {
     "name": "stderr",
     "output_type": "stream",
     "text": [
      "Epoch 13 Iter 573: loss 0.32918. : 100%|████| 573/573 [00:05<00:00, 114.15it/s]\n",
      "Epoch 14 Iter 19: loss 0.39817. :   2%|      | 11/573 [00:00<00:05, 102.12it/s]"
     ]
    },
    {
     "name": "stdout",
     "output_type": "stream",
     "text": [
      "Classification accuracy: 86.11%\n"
     ]
    },
    {
     "name": "stderr",
     "output_type": "stream",
     "text": [
      "Epoch 14 Iter 573: loss 0.17644. : 100%|████| 573/573 [00:05<00:00, 114.11it/s]\n",
      "Epoch 15 Iter 19: loss 0.23029. :   2%|      | 11/573 [00:00<00:05, 101.22it/s]"
     ]
    },
    {
     "name": "stdout",
     "output_type": "stream",
     "text": [
      "Classification accuracy: 85.8%\n"
     ]
    },
    {
     "name": "stderr",
     "output_type": "stream",
     "text": [
      "Epoch 15 Iter 573: loss 0.29270. : 100%|████| 573/573 [00:05<00:00, 113.18it/s]\n",
      "Epoch 16 Iter 19: loss 0.34543. :   2%|      | 11/573 [00:00<00:05, 108.13it/s]"
     ]
    },
    {
     "name": "stdout",
     "output_type": "stream",
     "text": [
      "Classification accuracy: 86.03%\n"
     ]
    },
    {
     "name": "stderr",
     "output_type": "stream",
     "text": [
      "Epoch 16 Iter 573: loss 0.14251. : 100%|████| 573/573 [00:05<00:00, 114.14it/s]\n",
      "Epoch 17 Iter 19: loss 0.21565. :   2%|      | 11/573 [00:00<00:05, 108.13it/s]"
     ]
    },
    {
     "name": "stdout",
     "output_type": "stream",
     "text": [
      "Classification accuracy: 86.59%\n"
     ]
    },
    {
     "name": "stderr",
     "output_type": "stream",
     "text": [
      "Epoch 17 Iter 573: loss 0.27289. : 100%|████| 573/573 [00:05<00:00, 114.06it/s]\n",
      "Epoch 18 Iter 20: loss 0.18261. :   2%|      | 11/573 [00:00<00:05, 109.20it/s]"
     ]
    },
    {
     "name": "stdout",
     "output_type": "stream",
     "text": [
      "Classification accuracy: 86.05%\n"
     ]
    },
    {
     "name": "stderr",
     "output_type": "stream",
     "text": [
      "Epoch 18 Iter 573: loss 0.29854. : 100%|████| 573/573 [00:05<00:00, 111.17it/s]\n",
      "Epoch 19 Iter 19: loss 0.24892. :   2%|      | 11/573 [00:00<00:05, 104.05it/s]"
     ]
    },
    {
     "name": "stdout",
     "output_type": "stream",
     "text": [
      "Classification accuracy: 87.02%\n"
     ]
    },
    {
     "name": "stderr",
     "output_type": "stream",
     "text": [
      "Epoch 19 Iter 573: loss 0.18352. : 100%|████| 573/573 [00:05<00:00, 113.32it/s]\n",
      "Epoch 20 Iter 19: loss 0.41696. :   2%|      | 11/573 [00:00<00:05, 109.20it/s]"
     ]
    },
    {
     "name": "stdout",
     "output_type": "stream",
     "text": [
      "Classification accuracy: 86.28%\n"
     ]
    },
    {
     "name": "stderr",
     "output_type": "stream",
     "text": [
      "Epoch 20 Iter 573: loss 0.14660. : 100%|████| 573/573 [00:05<00:00, 112.14it/s]\n"
     ]
    },
    {
     "name": "stdout",
     "output_type": "stream",
     "text": [
      "Classification accuracy: 85.6%\n"
     ]
    }
   ],
   "source": [
    "loss_hist = []\n",
    "\n",
    "for epoch in range( EPOCHS):\n",
    "    loss_list = []\n",
    "    progress_bar = tqdm(enumerate(train_loader), total=len(train_loader))\n",
    "    for i, (images, labels) in progress_bar:\n",
    "        images = images.to(device)\n",
    "        labels = labels.to(device)\n",
    "        \n",
    "        # Clear gradients w.r.t. parameters\n",
    "        optimizer.zero_grad()\n",
    "         \n",
    "        # Forward pass to get output/logits\n",
    "        outputs = model(images)\n",
    "         \n",
    "        # Calculate Loss: softmax --> cross entropy loss\n",
    "        loss = criterion(outputs, labels)\n",
    "        loss_list.append(loss.item())\n",
    "         \n",
    "        # Getting gradients w.r.t. parameters\n",
    "        loss.backward()\n",
    "         \n",
    "        # Updating parameters\n",
    "        optimizer.step()\n",
    "        progress_bar.set_description(f\"Epoch {epoch+1} Iter {i+1}: loss {loss.item():.5f}. \")\n",
    "             \n",
    "    loss_hist.append(np.mean(loss_list))\n",
    "    accuracy, _ = eval_model(model)  \n",
    "    print(f\"Classification accuracy: {round(accuracy, 2)}%\")   \n",
    "    \n"
   ]
  },
  {
   "cell_type": "markdown",
   "id": "0c4b879d",
   "metadata": {},
   "source": [
    "# End of File"
   ]
  }
 ],
 "metadata": {
  "kernelspec": {
   "display_name": "Python 3",
   "language": "python",
   "name": "python3"
  },
  "language_info": {
   "codemirror_mode": {
    "name": "ipython",
    "version": 3
   },
   "file_extension": ".py",
   "mimetype": "text/x-python",
   "name": "python",
   "nbconvert_exporter": "python",
   "pygments_lexer": "ipython3",
   "version": "3.8.8"
  }
 },
 "nbformat": 4,
 "nbformat_minor": 5
}
